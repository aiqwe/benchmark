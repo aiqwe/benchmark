from benchmark import HFDatasets, show, Benchmark


from benchmark import HFDatasets, Benchmark, show
from textwrap import shorten


hf_conf = HFDatasets() # 인스턴스 생성


shorten(str(help(hf_conf)), 10)


hf_conf.get_all_names() # 모든 벤치마크의 이름을 호출


hf_conf.get_all_values("url") # 모든 벤치마크의 특정 키만 호출


hf_conf.get_benchmark("mmlu") # 특정 벤치마크의 모든 정보 출력


shorten(str(hf_conf.config), 200) # 모든 벤치마크 정보 출력


show(hf_conf.get_benchmark("mmlu")) # show를 쓰면 indent와 colored를 처리해줌


# tasks/<benchmark_name> 폴더를 생성하고
# tasks/<benchmark_name>/README.md 폴더를 template.py의 README_TEMPLATE 기반으로 생성해준다
hf_conf.make_folder_tree(overwrite = True)


help(Benchmark)


benchmark = Benchmark("mmlu", name = "all") # benchmark 인스턴스 생성


benchmark.show() # 샘플 데이터를 보여준다


benchmark.sample()[0] # 데이터 샘플링, 카테고리 미지정시 20개를 샘플링한다. show()는 sample()을 기반으로 수행된다


benchmark.sample(category="subject")[0] # category마다 샘플링하려면 argument를 전달해준다


benchmark.save(category="subject") # 샘플링 결과를 저장한다


from benchmark import GithubReader

github = GithubReader(user="rowanz", repo="hellaswag")


github.show("data/hellaswag_train.jsonl")
