{
 "cells": [
  {
   "cell_type": "code",
   "execution_count": 1,
   "id": "236fb509-67fe-45da-b20b-59d58d87fbc3",
   "metadata": {
    "execution": {
     "iopub.execute_input": "2024-09-07T07:19:21.328630Z",
     "iopub.status.busy": "2024-09-07T07:19:21.327944Z",
     "iopub.status.idle": "2024-09-07T07:19:21.889541Z",
     "shell.execute_reply": "2024-09-07T07:19:21.889282Z",
     "shell.execute_reply.started": "2024-09-07T07:19:21.328577Z"
    },
    "tags": []
   },
   "outputs": [],
   "source": [
    "from benchmark import HFDatasets, show, Benchmark"
   ]
  },
  {
   "cell_type": "markdown",
   "id": "4dd3e79a-5cd9-4128-b115-4ade844640d9",
   "metadata": {},
   "source": [
    "# benchmark 모듈 사용 예제"
   ]
  },
  {
   "cell_type": "markdown",
   "id": "ab149982-e471-47f8-bf99-5191f925671c",
   "metadata": {
    "execution": {
     "iopub.execute_input": "2024-09-07T07:19:21.890441Z",
     "iopub.status.busy": "2024-09-07T07:19:21.890297Z",
     "iopub.status.idle": "2024-09-07T07:19:21.892430Z",
     "shell.execute_reply": "2024-09-07T07:19:21.892244Z",
     "shell.execute_reply.started": "2024-09-07T07:19:21.890430Z"
    },
    "tags": []
   },
   "source": [
    "+ `benchmark.py`\n",
    "    + `Benchmark`: Benchmark config를 불러오고, 샘플링, 저장등의 작업을 한다\n",
    "    + `HFDatasets`: `hfdatasets.yaml`에 정의된 벤치마크 데이터셋을 `datasets.load_dataset`로 불러오고, 폴더 트리 등을 만든다"
   ]
  },
  {
   "cell_type": "code",
   "execution_count": 20,
   "id": "ea9c98e0-f951-4a60-bd77-2f57bb7d3000",
   "metadata": {
    "execution": {
     "iopub.execute_input": "2024-09-07T11:42:13.988028Z",
     "iopub.status.busy": "2024-09-07T11:42:13.987447Z",
     "iopub.status.idle": "2024-09-07T11:42:13.992897Z",
     "shell.execute_reply": "2024-09-07T11:42:13.991960Z",
     "shell.execute_reply.started": "2024-09-07T11:42:13.987991Z"
    },
    "tags": []
   },
   "outputs": [],
   "source": [
    "from benchmark import HFDatasets, Benchmark, show\n",
    "from textwrap import shorten"
   ]
  },
  {
   "cell_type": "markdown",
   "id": "7aadc30d-def7-4c1c-9a99-7d586f8c43bd",
   "metadata": {},
   "source": [
    "## HFDataset"
   ]
  },
  {
   "cell_type": "code",
   "execution_count": 8,
   "id": "10229c6b-8b2b-4f25-b117-f4bcfb318557",
   "metadata": {
    "execution": {
     "iopub.execute_input": "2024-09-07T11:39:15.692918Z",
     "iopub.status.busy": "2024-09-07T11:39:15.692366Z",
     "iopub.status.idle": "2024-09-07T11:39:15.699918Z",
     "shell.execute_reply": "2024-09-07T11:39:15.699065Z",
     "shell.execute_reply.started": "2024-09-07T11:39:15.692881Z"
    },
    "tags": []
   },
   "outputs": [],
   "source": [
    "hf_conf = HFDatasets() # 인스턴스 생성"
   ]
  },
  {
   "cell_type": "code",
   "execution_count": 23,
   "id": "61e4d942-3e61-4d70-a28a-7a98e4eaa6ee",
   "metadata": {
    "execution": {
     "iopub.execute_input": "2024-09-07T11:42:46.217482Z",
     "iopub.status.busy": "2024-09-07T11:42:46.216800Z",
     "iopub.status.idle": "2024-09-07T11:42:46.232595Z",
     "shell.execute_reply": "2024-09-07T11:42:46.232000Z",
     "shell.execute_reply.started": "2024-09-07T11:42:46.217444Z"
    },
    "tags": []
   },
   "outputs": [
    {
     "name": "stdout",
     "output_type": "stream",
     "text": [
      "Help on HFDatasets in module benchmark object:\n",
      "\n",
      "class HFDatasets(builtins.object)\n",
      " |  HFDatasets(path: str = 'hfdatasets.yaml')\n",
      " |  \n",
      " |  Methods defined here:\n",
      " |  \n",
      " |  __init__(self, path: str = 'hfdatasets.yaml')\n",
      " |      Initialize self.  See help(type(self)) for accurate signature.\n",
      " |  \n",
      " |  __repr__(self)\n",
      " |      Return repr(self).\n",
      " |  \n",
      " |  get_all_names(self)\n",
      " |      yaml내 벤치마크들의 전체 이름 출력\n",
      " |  \n",
      " |  get_all_values(self, key: str)\n",
      " |      벤치마크들의 key로 전달된 값의 value들만 출력\n",
      " |  \n",
      " |  get_benchmark(self, name: str)\n",
      " |      벤치마크의 전체 정보 출력\n",
      " |  \n",
      " |  make_folder_tree(self, key: Union[list, str] = None, overwrite: bool = False)\n",
      " |  \n",
      " |  ----------------------------------------------------------------------\n",
      " |  Readonly properties defined here:\n",
      " |  \n",
      " |  all_names\n",
      " |  \n",
      " |  ----------------------------------------------------------------------\n",
      " |  Data descriptors defined here:\n",
      " |  \n",
      " |  __dict__\n",
      " |      dictionary for instance variables (if defined)\n",
      " |  \n",
      " |  __weakref__\n",
      " |      list of weak references to the object (if defined)\n",
      "\n"
     ]
    },
    {
     "data": {
      "text/plain": [
       "'None'"
      ]
     },
     "execution_count": 23,
     "metadata": {},
     "output_type": "execute_result"
    }
   ],
   "source": [
    "shorten(str(help(hf_conf)), 10)"
   ]
  },
  {
   "cell_type": "code",
   "execution_count": 14,
   "id": "85436f6e-bcff-4c6d-91a8-bfd588664f6d",
   "metadata": {
    "execution": {
     "iopub.execute_input": "2024-09-07T11:40:24.196772Z",
     "iopub.status.busy": "2024-09-07T11:40:24.195773Z",
     "iopub.status.idle": "2024-09-07T11:40:24.203164Z",
     "shell.execute_reply": "2024-09-07T11:40:24.202298Z",
     "shell.execute_reply.started": "2024-09-07T11:40:24.196736Z"
    },
    "tags": []
   },
   "outputs": [
    {
     "data": {
      "text/plain": [
       "['mmlu',\n",
       " 'mmlu_pro',\n",
       " 'agi_eval',\n",
       " 'commonsense_qa',\n",
       " 'winogrande',\n",
       " 'bigbenchhard',\n",
       " 'arc',\n",
       " 'trivia_qa']"
      ]
     },
     "execution_count": 14,
     "metadata": {},
     "output_type": "execute_result"
    }
   ],
   "source": [
    "hf_conf.get_all_names() # 모든 벤치마크의 이름을 호출"
   ]
  },
  {
   "cell_type": "code",
   "execution_count": 16,
   "id": "8dd4861b-25a4-4e42-bcb8-684a0e51a2b1",
   "metadata": {
    "execution": {
     "iopub.execute_input": "2024-09-07T11:40:49.072028Z",
     "iopub.status.busy": "2024-09-07T11:40:49.071461Z",
     "iopub.status.idle": "2024-09-07T11:40:49.078220Z",
     "shell.execute_reply": "2024-09-07T11:40:49.077439Z",
     "shell.execute_reply.started": "2024-09-07T11:40:49.071993Z"
    },
    "tags": []
   },
   "outputs": [
    {
     "data": {
      "text/plain": [
       "{'mmlu': 'https://huggingface.co/datasets/cais/mmlu',\n",
       " 'mmlu_pro': 'https://huggingface.co/datasets/TIGER-Lab/MMLU-Pro',\n",
       " 'agi_eval': 'https://huggingface.co/hails',\n",
       " 'commonsense_qa': 'https://huggingface.co/datasets/tau/commonsense_qa',\n",
       " 'winogrande': 'https://huggingface.co/datasets/allenai/winogrande',\n",
       " 'bigbenchhard': 'https://huggingface.co/datasets/maveriq/bigbenchhard',\n",
       " 'arc': 'https://huggingface.co/datasets/allenai/ai2_arc',\n",
       " 'trivia_qa': 'https://huggingface.co/datasets/mandarjoshi/trivia_qa'}"
      ]
     },
     "execution_count": 16,
     "metadata": {},
     "output_type": "execute_result"
    }
   ],
   "source": [
    "hf_conf.get_all_values(\"url\") # 모든 벤치마크의 특정 키만 호출"
   ]
  },
  {
   "cell_type": "code",
   "execution_count": 18,
   "id": "5a444ade-ffbd-4b7f-94bd-2cc6d5655b26",
   "metadata": {
    "execution": {
     "iopub.execute_input": "2024-09-07T11:41:12.806974Z",
     "iopub.status.busy": "2024-09-07T11:41:12.806266Z",
     "iopub.status.idle": "2024-09-07T11:41:12.814047Z",
     "shell.execute_reply": "2024-09-07T11:41:12.813238Z",
     "shell.execute_reply.started": "2024-09-07T11:41:12.806920Z"
    },
    "tags": []
   },
   "outputs": [
    {
     "data": {
      "text/plain": [
       "{'path': 'cais/mmlu',\n",
       " 'name': 'all',\n",
       " 'url': 'https://huggingface.co/datasets/cais/mmlu',\n",
       " 'paper': 'https://arxiv.org/pdf/2009.03300',\n",
       " 'annotation': None}"
      ]
     },
     "execution_count": 18,
     "metadata": {},
     "output_type": "execute_result"
    }
   ],
   "source": [
    "hf_conf.get_benchmark(\"mmlu\") # 특정 벤치마크의 모든 정보 출력"
   ]
  },
  {
   "cell_type": "code",
   "execution_count": 27,
   "id": "9ae4b0fc-a28e-4585-814c-3fc55bf03792",
   "metadata": {
    "execution": {
     "iopub.execute_input": "2024-09-07T11:43:32.328537Z",
     "iopub.status.busy": "2024-09-07T11:43:32.327732Z",
     "iopub.status.idle": "2024-09-07T11:43:32.336973Z",
     "shell.execute_reply": "2024-09-07T11:43:32.335925Z",
     "shell.execute_reply.started": "2024-09-07T11:43:32.328470Z"
    },
    "tags": []
   },
   "outputs": [
    {
     "data": {
      "text/plain": [
       "\"{'mmlu': {'path': 'cais/mmlu', 'name': 'all', 'url': 'https://huggingface.co/datasets/cais/mmlu', 'paper': 'https://arxiv.org/pdf/2009.03300', 'annotation': None}, 'mmlu_pro': {'path': 'TIGER- [...]\""
      ]
     },
     "execution_count": 27,
     "metadata": {},
     "output_type": "execute_result"
    }
   ],
   "source": [
    "shorten(str(hf_conf.config), 200) # 모든 벤치마크 정보 출력"
   ]
  },
  {
   "cell_type": "code",
   "execution_count": 29,
   "id": "38cef045-8adf-4cf2-b38c-f780bd75008a",
   "metadata": {
    "execution": {
     "iopub.execute_input": "2024-09-07T11:44:02.855052Z",
     "iopub.status.busy": "2024-09-07T11:44:02.854548Z",
     "iopub.status.idle": "2024-09-07T11:44:02.861291Z",
     "shell.execute_reply": "2024-09-07T11:44:02.860161Z",
     "shell.execute_reply.started": "2024-09-07T11:44:02.855023Z"
    },
    "tags": []
   },
   "outputs": [
    {
     "name": "stdout",
     "output_type": "stream",
     "text": [
      "\u001b[38;5;249m{\u001b[39m\n",
      "\u001b[38;5;249m    \u001b[39m\u001b[38;5;168m\"path\"\u001b[39m\u001b[38;5;249m:\u001b[39m\u001b[38;5;249m \u001b[39m\u001b[38;5;108m\"cais/mmlu\"\u001b[39m\u001b[38;5;249m,\u001b[39m\n",
      "\u001b[38;5;249m    \u001b[39m\u001b[38;5;168m\"name\"\u001b[39m\u001b[38;5;249m:\u001b[39m\u001b[38;5;249m \u001b[39m\u001b[38;5;108m\"all\"\u001b[39m\u001b[38;5;249m,\u001b[39m\n",
      "\u001b[38;5;249m    \u001b[39m\u001b[38;5;168m\"url\"\u001b[39m\u001b[38;5;249m:\u001b[39m\u001b[38;5;249m \u001b[39m\u001b[38;5;108m\"https://huggingface.co/datasets/cais/mmlu\"\u001b[39m\u001b[38;5;249m,\u001b[39m\n",
      "\u001b[38;5;249m    \u001b[39m\u001b[38;5;168m\"paper\"\u001b[39m\u001b[38;5;249m:\u001b[39m\u001b[38;5;249m \u001b[39m\u001b[38;5;108m\"https://arxiv.org/pdf/2009.03300\"\u001b[39m\u001b[38;5;249m,\u001b[39m\n",
      "\u001b[38;5;249m    \u001b[39m\u001b[38;5;168m\"annotation\"\u001b[39m\u001b[38;5;249m:\u001b[39m\u001b[38;5;249m \u001b[39m\u001b[38;5;180mnull\u001b[39m\n",
      "\u001b[38;5;249m}\u001b[39m\n",
      "\n"
     ]
    }
   ],
   "source": [
    "show(hf_conf.get_benchmark(\"mmlu\")) # show를 쓰면 indent와 colored를 처리해줌"
   ]
  },
  {
   "cell_type": "code",
   "execution_count": 31,
   "id": "4434c687-8851-45ff-a62f-b01b11988909",
   "metadata": {
    "execution": {
     "iopub.execute_input": "2024-09-07T11:44:54.358115Z",
     "iopub.status.busy": "2024-09-07T11:44:54.357525Z",
     "iopub.status.idle": "2024-09-07T11:44:54.373811Z",
     "shell.execute_reply": "2024-09-07T11:44:54.373150Z",
     "shell.execute_reply.started": "2024-09-07T11:44:54.358079Z"
    },
    "tags": []
   },
   "outputs": [
    {
     "name": "stderr",
     "output_type": "stream",
     "text": [
      "\u001b[32m2024-09-07 20:44:54.361\u001b[0m | \u001b[1mINFO    \u001b[0m | \u001b[36mbenchmark\u001b[0m:\u001b[36mmake_folder_tree\u001b[0m:\u001b[36m245\u001b[0m - \u001b[1mtasks/mmlu/README.md을 초기화합니다\u001b[0m\n",
      "\u001b[32m2024-09-07 20:44:54.362\u001b[0m | \u001b[1mINFO    \u001b[0m | \u001b[36mbenchmark\u001b[0m:\u001b[36mmake_folder_tree\u001b[0m:\u001b[36m245\u001b[0m - \u001b[1mtasks/mmlu_pro/README.md을 초기화합니다\u001b[0m\n",
      "\u001b[32m2024-09-07 20:44:54.364\u001b[0m | \u001b[1mINFO    \u001b[0m | \u001b[36mbenchmark\u001b[0m:\u001b[36mmake_folder_tree\u001b[0m:\u001b[36m245\u001b[0m - \u001b[1mtasks/agi_eval/README.md을 초기화합니다\u001b[0m\n",
      "\u001b[32m2024-09-07 20:44:54.365\u001b[0m | \u001b[1mINFO    \u001b[0m | \u001b[36mbenchmark\u001b[0m:\u001b[36mmake_folder_tree\u001b[0m:\u001b[36m245\u001b[0m - \u001b[1mtasks/commonsense_qa/README.md을 초기화합니다\u001b[0m\n",
      "\u001b[32m2024-09-07 20:44:54.366\u001b[0m | \u001b[1mINFO    \u001b[0m | \u001b[36mbenchmark\u001b[0m:\u001b[36mmake_folder_tree\u001b[0m:\u001b[36m245\u001b[0m - \u001b[1mtasks/winogrande/README.md을 초기화합니다\u001b[0m\n",
      "\u001b[32m2024-09-07 20:44:54.368\u001b[0m | \u001b[1mINFO    \u001b[0m | \u001b[36mbenchmark\u001b[0m:\u001b[36mmake_folder_tree\u001b[0m:\u001b[36m245\u001b[0m - \u001b[1mtasks/bigbenchhard/README.md을 초기화합니다\u001b[0m\n",
      "\u001b[32m2024-09-07 20:44:54.369\u001b[0m | \u001b[1mINFO    \u001b[0m | \u001b[36mbenchmark\u001b[0m:\u001b[36mmake_folder_tree\u001b[0m:\u001b[36m245\u001b[0m - \u001b[1mtasks/arc/README.md을 초기화합니다\u001b[0m\n",
      "\u001b[32m2024-09-07 20:44:54.370\u001b[0m | \u001b[1mINFO    \u001b[0m | \u001b[36mbenchmark\u001b[0m:\u001b[36mmake_folder_tree\u001b[0m:\u001b[36m245\u001b[0m - \u001b[1mtasks/trivia_qa/README.md을 초기화합니다\u001b[0m\n"
     ]
    }
   ],
   "source": [
    "# tasks/<benchmark_name> 폴더를 생성하고\n",
    "# tasks/<benchmark_name>/README.md 폴더를 template.py의 README_TEMPLATE 기반으로 생성해준다\n",
    "hf_conf.make_folder_tree(overwrite = True)"
   ]
  },
  {
   "cell_type": "markdown",
   "id": "22bb72d0-e570-4e62-b550-bdc78723637a",
   "metadata": {},
   "source": [
    "## Benchmark"
   ]
  },
  {
   "cell_type": "code",
   "execution_count": 33,
   "id": "b91d410c-413c-4633-b521-19165a588a07",
   "metadata": {
    "execution": {
     "iopub.execute_input": "2024-09-07T11:47:46.568605Z",
     "iopub.status.busy": "2024-09-07T11:47:46.567845Z",
     "iopub.status.idle": "2024-09-07T11:47:46.579802Z",
     "shell.execute_reply": "2024-09-07T11:47:46.579237Z",
     "shell.execute_reply.started": "2024-09-07T11:47:46.568546Z"
    },
    "tags": []
   },
   "outputs": [
    {
     "name": "stdout",
     "output_type": "stream",
     "text": [
      "Help on class Benchmark in module benchmark:\n",
      "\n",
      "class Benchmark(builtins.object)\n",
      " |  Benchmark(benchmark_name: str, path: str = None, name: str = None, num_proc: int = 6, dataset=None, dataset_option: dict = None)\n",
      " |  \n",
      " |  Methods defined here:\n",
      " |  \n",
      " |  __init__(self, benchmark_name: str, path: str = None, name: str = None, num_proc: int = 6, dataset=None, dataset_option: dict = None)\n",
      " |      Benchmark를 EDA하는 클래스\n",
      " |      \n",
      " |      Args:\n",
      " |          path: dataset의 path(hf)\n",
      " |          name: config로 전달되는 path값, ARC-Challenge, ARC-easy, logiqa-en ... 등\n",
      " |          num_proc: 작업 프로세스 수\n",
      " |  \n",
      " |  __repr__(self)\n",
      " |      Return repr(self).\n",
      " |  \n",
      " |  sample(self, split: str = None, dataset=None, category: str = None)\n",
      " |      dataset에서 sampling하기, 카테고리가 있으면 카테고리마다 1개씩 샘플링함\n",
      " |      Args:\n",
      " |          dataset: 샘플링할 데이터셋\n",
      " |          category: 구분하려는 카테고리\n",
      " |  \n",
      " |  save(self, split: str = None, samples: list = None, path: str = None, category: str = None)\n",
      " |      samples를 저장함\n",
      " |      Args:\n",
      " |          split: 'train', 'test', 'validation'...\n",
      " |          samples: 저장하려는 samples\n",
      " |          path: 저장 path\n",
      " |  \n",
      " |  show(self, split: str = None, sample: dict = None, category: str = None, idx: int = None, colored=True)\n",
      " |      Sample 1개를 JSON indent = 4로 보여줌\n",
      " |      Args:\n",
      " |          split: 'train', 'test', 'validation'...\n",
      " |          sample: 보려는 샘플\n",
      " |          category: task를 나누는 카테고리, pass되면 카테고리마다 샘플링하는 list samples에서 sample로 뽑음\n",
      " |          idx: 보려는 samples의 index\n",
      " |  \n",
      " |  ----------------------------------------------------------------------\n",
      " |  Data descriptors defined here:\n",
      " |  \n",
      " |  __dict__\n",
      " |      dictionary for instance variables (if defined)\n",
      " |  \n",
      " |  __weakref__\n",
      " |      list of weak references to the object (if defined)\n",
      "\n"
     ]
    }
   ],
   "source": [
    "help(Benchmark)"
   ]
  },
  {
   "cell_type": "code",
   "execution_count": 32,
   "id": "4ad9a720-1ebe-4462-be92-e1a5c648606d",
   "metadata": {
    "execution": {
     "iopub.execute_input": "2024-09-07T11:45:07.618250Z",
     "iopub.status.busy": "2024-09-07T11:45:07.617678Z",
     "iopub.status.idle": "2024-09-07T11:45:51.753941Z",
     "shell.execute_reply": "2024-09-07T11:45:51.753581Z",
     "shell.execute_reply.started": "2024-09-07T11:45:07.618214Z"
    },
    "tags": []
   },
   "outputs": [
    {
     "name": "stderr",
     "output_type": "stream",
     "text": [
      "Using the latest cached version of the dataset since cais/mmlu couldn't be found on the Hugging Face Hub\n",
      "Found the latest cached dataset configuration 'all' at /Users/user/.cache/huggingface/datasets/cais___mmlu/all/0.0.0/c30699e8356da336a370243923dbaf21066bb9fe (last modified on Tue Sep  3 10:42:30 2024).\n",
      "\u001b[32m2024-09-07 20:45:51.751\u001b[0m | \u001b[1mINFO    \u001b[0m | \u001b[36mbenchmark\u001b[0m:\u001b[36m__init__\u001b[0m:\u001b[36m74\u001b[0m - \u001b[1m\n",
      "path: cais/mmlu\n",
      "name: all\n",
      "total_split: ['test', 'validation', 'dev', 'auxiliary_train']\n",
      "prior_split: test\n",
      "test: 14042\n",
      "validation: 1531\n",
      "dev: 285\n",
      "auxiliary_train: 99842\n",
      "\u001b[0m\n"
     ]
    }
   ],
   "source": [
    "benchmark = Benchmark(\"mmlu\", name = \"all\") # benchmark 인스턴스 생성"
   ]
  },
  {
   "cell_type": "code",
   "execution_count": 35,
   "id": "03b9cad1-2d98-4387-9b67-26bcdec52c7f",
   "metadata": {
    "execution": {
     "iopub.execute_input": "2024-09-07T11:48:08.260187Z",
     "iopub.status.busy": "2024-09-07T11:48:08.259508Z",
     "iopub.status.idle": "2024-09-07T11:48:08.268630Z",
     "shell.execute_reply": "2024-09-07T11:48:08.267873Z",
     "shell.execute_reply.started": "2024-09-07T11:48:08.260132Z"
    },
    "tags": []
   },
   "outputs": [
    {
     "name": "stdout",
     "output_type": "stream",
     "text": [
      "\u001b[38;5;249m{\u001b[39m\n",
      "\u001b[38;5;249m    \u001b[39m\u001b[38;5;168m\"question\"\u001b[39m\u001b[38;5;249m:\u001b[39m\u001b[38;5;249m \u001b[39m\u001b[38;5;108m\"This question refers to the following information.\\n\\\"As a means of effecting this end I suggest for your consideration the propriety of setting apart an ample district west of the Mississippi, and without the limit of any State or Territory now formed, to be guaranteed to the Indian tribes as long as they shall occupy it. . . . There they may be secured in the enjoyment of governments of their own choice, subject to no other control from the United States than such as may be necessary to preserve peace on the frontier and between the several tribes. There the benevolent may endeavor to teach them the arts of civilization. . . .\\n\\\"This emigration would be voluntary, for it would be as cruel and unjust to compel the aborigines to abandon the graves of their fathers and seek a home in a distant land. But they should be distinctly informed that if they remain within the limits of the States they must be subject to their laws. . . .\\\"\\n—President Andrew Jackson, 1829\\nBased on this quotation, what can you infer about the efforts of Martin Luther King and others in the civil rights movement of the 1950s?\"\u001b[39m\u001b[38;5;249m,\u001b[39m\n",
      "\u001b[38;5;249m    \u001b[39m\u001b[38;5;168m\"subject\"\u001b[39m\u001b[38;5;249m:\u001b[39m\u001b[38;5;249m \u001b[39m\u001b[38;5;108m\"college_medicine\"\u001b[39m\u001b[38;5;249m,\u001b[39m\n",
      "\u001b[38;5;249m    \u001b[39m\u001b[38;5;168m\"choices\"\u001b[39m\u001b[38;5;249m:\u001b[39m\u001b[38;5;249m \u001b[39m\u001b[38;5;249m[\u001b[39m\n",
      "\u001b[38;5;249m        \u001b[39m\u001b[38;5;108m\"demand characteristics\"\u001b[39m\u001b[38;5;249m,\u001b[39m\n",
      "\u001b[38;5;249m        \u001b[39m\u001b[38;5;108m\"double blind study\"\u001b[39m\u001b[38;5;249m,\u001b[39m\n",
      "\u001b[38;5;249m        \u001b[39m\u001b[38;5;108m\"single blind study\"\u001b[39m\u001b[38;5;249m,\u001b[39m\n",
      "\u001b[38;5;249m        \u001b[39m\u001b[38;5;108m\"Hawthorne effect\"\u001b[39m\n",
      "\u001b[38;5;249m    \u001b[39m\u001b[38;5;249m],\u001b[39m\n",
      "\u001b[38;5;249m    \u001b[39m\u001b[38;5;168m\"answer\"\u001b[39m\u001b[38;5;249m:\u001b[39m\u001b[38;5;249m \u001b[39m\u001b[38;5;173m0\u001b[39m\n",
      "\u001b[38;5;249m}\u001b[39m\n",
      "\n"
     ]
    }
   ],
   "source": [
    "benchmark.show() # 샘플 데이터를 보여준다"
   ]
  },
  {
   "cell_type": "code",
   "execution_count": 39,
   "id": "da963dbf-4041-4ebf-9dc6-4de0092ab805",
   "metadata": {
    "execution": {
     "iopub.execute_input": "2024-09-07T11:48:57.200054Z",
     "iopub.status.busy": "2024-09-07T11:48:57.199284Z",
     "iopub.status.idle": "2024-09-07T11:48:57.206214Z",
     "shell.execute_reply": "2024-09-07T11:48:57.205523Z",
     "shell.execute_reply.started": "2024-09-07T11:48:57.199993Z"
    },
    "tags": []
   },
   "outputs": [
    {
     "data": {
      "text/plain": [
       "{'question': 'A 31-year-old woman, gravida 3, para 2, who is at 32 weeks\\' gestation, is admitted to the hospital because of a 1-week history of progressive dyspnea and wheezing. She says her heart is \"racing\" and she is coughing up a small amount of bloodstreaked sputum. Medical history is significant for hypothyroidism, for which she takes levothyroxine. An intravenous catheter is placed. Vital signs are temperature 36.9°C (98.4°F), pulse 132/min, respirations 32/min, and blood pressure 135/78 mm Hg. Pulse oximetry on 100% oxygen via nasal cannula shows an oxygen saturation of 92%. Auscultation of the lungs discloses decreased breath sounds at the bases with expiratory crackles bilaterally. Cardiac examination discloses an irregularly irregular rhythm, an indistinct point of maximal impulse, and a loud S1. A grade 3/6, low-pitched, diastolic, rumbling murmur is audible at the apex; a distinct snapping sound precedes the murmur. Fetal heart rate is 144/min. Which of the following is the most likely cause of the findings in this patient?',\n",
       " 'subject': 'moral_disputes',\n",
       " 'choices': ['Character traits',\n",
       "  'Personal values',\n",
       "  'Personal attitudes',\n",
       "  'Personal traits'],\n",
       " 'answer': 0}"
      ]
     },
     "execution_count": 39,
     "metadata": {},
     "output_type": "execute_result"
    }
   ],
   "source": [
    "benchmark.sample()[0] # 데이터 샘플링, 카테고리 미지정시 20개를 샘플링한다. show()는 sample()을 기반으로 수행된다"
   ]
  },
  {
   "cell_type": "code",
   "execution_count": 42,
   "id": "7a47b641-9250-4510-a151-14ae14aba739",
   "metadata": {
    "execution": {
     "iopub.execute_input": "2024-09-07T11:49:27.557310Z",
     "iopub.status.busy": "2024-09-07T11:49:27.556754Z",
     "iopub.status.idle": "2024-09-07T11:49:27.564654Z",
     "shell.execute_reply": "2024-09-07T11:49:27.563710Z",
     "shell.execute_reply.started": "2024-09-07T11:49:27.557277Z"
    },
    "tags": []
   },
   "outputs": [
    {
     "data": {
      "text/plain": [
       "{'question': 'Statement 1 | Every integral domain with characteristic 0 is infinite. Statement 2 | Every integral domain with prime characteristic is finite.',\n",
       " 'subject': 'abstract_algebra',\n",
       " 'choices': ['True, True', 'False, False', 'True, False', 'False, True'],\n",
       " 'answer': 1}"
      ]
     },
     "execution_count": 42,
     "metadata": {},
     "output_type": "execute_result"
    }
   ],
   "source": [
    "benchmark.sample(category=\"subject\")[0] # category마다 샘플링하려면 argument를 전달해준다"
   ]
  },
  {
   "cell_type": "code",
   "execution_count": 43,
   "id": "7ce1fed5-cb86-4a05-b9c3-d482a210bfa4",
   "metadata": {
    "execution": {
     "iopub.execute_input": "2024-09-07T11:49:43.512795Z",
     "iopub.status.busy": "2024-09-07T11:49:43.512165Z",
     "iopub.status.idle": "2024-09-07T11:49:43.616325Z",
     "shell.execute_reply": "2024-09-07T11:49:43.615829Z",
     "shell.execute_reply.started": "2024-09-07T11:49:43.512755Z"
    },
    "tags": []
   },
   "outputs": [
    {
     "name": "stderr",
     "output_type": "stream",
     "text": [
      "\u001b[32m2024-09-07 20:49:43.514\u001b[0m | \u001b[1mINFO    \u001b[0m | \u001b[36mbenchmark\u001b[0m:\u001b[36msample\u001b[0m:\u001b[36m153\u001b[0m - \u001b[1m카테고리가 있어서 카테고리마다 3개씩 샘플링합니다\u001b[0m\n",
      "\u001b[32m2024-09-07 20:49:43.612\u001b[0m | \u001b[1mINFO    \u001b[0m | \u001b[36mbenchmark\u001b[0m:\u001b[36msample\u001b[0m:\u001b[36m176\u001b[0m - \u001b[1m총 171개의 샘플이 있습니다.\u001b[0m\n",
      "\u001b[32m2024-09-07 20:49:43.612\u001b[0m | \u001b[1mINFO    \u001b[0m | \u001b[36mbenchmark\u001b[0m:\u001b[36msave\u001b[0m:\u001b[36m131\u001b[0m - \u001b[1m./tasks/mmlu/mmlu-all.json에 저장합니다.\u001b[0m\n",
      "\u001b[32m2024-09-07 20:49:43.612\u001b[0m | \u001b[1mINFO    \u001b[0m | \u001b[36mbenchmark\u001b[0m:\u001b[36msave\u001b[0m:\u001b[36m132\u001b[0m - \u001b[1m171의 샘플이 저장됩니다.\u001b[0m\n"
     ]
    }
   ],
   "source": [
    "benchmark.save(category=\"subject\") # 샘플링 결과를 저장한다"
   ]
  },
  {
   "cell_type": "markdown",
   "id": "e29e6881-aa96-4ab5-9c99-8fd4445e32a4",
   "metadata": {
    "execution": {
     "iopub.execute_input": "2024-09-13T05:31:52.586105Z",
     "iopub.status.busy": "2024-09-13T05:31:52.584376Z",
     "iopub.status.idle": "2024-09-13T05:31:52.598202Z",
     "shell.execute_reply": "2024-09-13T05:31:52.596922Z",
     "shell.execute_reply.started": "2024-09-13T05:31:52.586040Z"
    },
    "tags": []
   },
   "source": [
    "## GithubReader\n",
    "+ jsonl 읽어오기"
   ]
  },
  {
   "cell_type": "code",
   "execution_count": 5,
   "id": "40a84343-21b7-444c-a1cb-4a4c7091d1c9",
   "metadata": {
    "execution": {
     "iopub.execute_input": "2024-09-13T05:33:19.249619Z",
     "iopub.status.busy": "2024-09-13T05:33:19.247134Z",
     "iopub.status.idle": "2024-09-13T05:33:19.260482Z",
     "shell.execute_reply": "2024-09-13T05:33:19.259593Z",
     "shell.execute_reply.started": "2024-09-13T05:33:19.249398Z"
    },
    "tags": []
   },
   "outputs": [],
   "source": [
    "from benchmark import GithubReader\n",
    "\n",
    "github = GithubReader(user=\"rowanz\", repo=\"hellaswag\")"
   ]
  },
  {
   "cell_type": "code",
   "execution_count": 12,
   "id": "be9999ec-4f78-4418-a78d-3a37dbcd135f",
   "metadata": {
    "execution": {
     "iopub.execute_input": "2024-09-13T05:35:00.295837Z",
     "iopub.status.busy": "2024-09-13T05:35:00.295176Z",
     "iopub.status.idle": "2024-09-13T05:35:01.919419Z",
     "shell.execute_reply": "2024-09-13T05:35:01.919135Z",
     "shell.execute_reply.started": "2024-09-13T05:35:00.295783Z"
    },
    "tags": []
   },
   "outputs": [
    {
     "name": "stderr",
     "output_type": "stream",
     "text": [
      "\u001b[32m2024-09-13 14:35:00.297\u001b[0m | \u001b[1mINFO    \u001b[0m | \u001b[36mbenchmark\u001b[0m:\u001b[36mget_jsonl\u001b[0m:\u001b[36m300\u001b[0m - \u001b[1mdata/hellaswag-train.jsonl will be overwritten by data/hellaswag_train.jsonl\u001b[0m\n"
     ]
    },
    {
     "name": "stdout",
     "output_type": "stream",
     "text": [
      "\u001b[38;5;249m{\u001b[39m\n",
      "\u001b[38;5;249m    \u001b[39m\u001b[38;5;168m\"ind\"\u001b[39m\u001b[38;5;249m:\u001b[39m\u001b[38;5;249m \u001b[39m\u001b[38;5;173m3176\u001b[39m\u001b[38;5;249m,\u001b[39m\n",
      "\u001b[38;5;249m    \u001b[39m\u001b[38;5;168m\"activity_label\"\u001b[39m\u001b[38;5;249m:\u001b[39m\u001b[38;5;249m \u001b[39m\u001b[38;5;108m\"Capoeira\"\u001b[39m\u001b[38;5;249m,\u001b[39m\n",
      "\u001b[38;5;249m    \u001b[39m\u001b[38;5;168m\"ctx_a\"\u001b[39m\u001b[38;5;249m:\u001b[39m\u001b[38;5;249m \u001b[39m\u001b[38;5;108m\"A group of men are holding maracas in the their hands and playing to some reggae music.\"\u001b[39m\u001b[38;5;249m,\u001b[39m\n",
      "\u001b[38;5;249m    \u001b[39m\u001b[38;5;168m\"ctx_b\"\u001b[39m\u001b[38;5;249m:\u001b[39m\u001b[38;5;249m \u001b[39m\u001b[38;5;108m\"one of the men\"\u001b[39m\u001b[38;5;249m,\u001b[39m\n",
      "\u001b[38;5;249m    \u001b[39m\u001b[38;5;168m\"ctx\"\u001b[39m\u001b[38;5;249m:\u001b[39m\u001b[38;5;249m \u001b[39m\u001b[38;5;108m\"A group of men are holding maracas in the their hands and playing to some reggae music. one of the men\"\u001b[39m\u001b[38;5;249m,\u001b[39m\n",
      "\u001b[38;5;249m    \u001b[39m\u001b[38;5;168m\"split\"\u001b[39m\u001b[38;5;249m:\u001b[39m\u001b[38;5;249m \u001b[39m\u001b[38;5;108m\"train\"\u001b[39m\u001b[38;5;249m,\u001b[39m\n",
      "\u001b[38;5;249m    \u001b[39m\u001b[38;5;168m\"split_type\"\u001b[39m\u001b[38;5;249m:\u001b[39m\u001b[38;5;249m \u001b[39m\u001b[38;5;108m\"indomain\"\u001b[39m\u001b[38;5;249m,\u001b[39m\n",
      "\u001b[38;5;249m    \u001b[39m\u001b[38;5;168m\"label\"\u001b[39m\u001b[38;5;249m:\u001b[39m\u001b[38;5;249m \u001b[39m\u001b[38;5;173m3\u001b[39m\u001b[38;5;249m,\u001b[39m\n",
      "\u001b[38;5;249m    \u001b[39m\u001b[38;5;168m\"endings\"\u001b[39m\u001b[38;5;249m:\u001b[39m\u001b[38;5;249m \u001b[39m\u001b[38;5;249m[\u001b[39m\n",
      "\u001b[38;5;249m        \u001b[39m\u001b[38;5;108m\"gives the other man a hard time.\"\u001b[39m\u001b[38;5;249m,\u001b[39m\n",
      "\u001b[38;5;249m        \u001b[39m\u001b[38;5;108m\"is out of his gear and showcases a trimmed razor.\"\u001b[39m\u001b[38;5;249m,\u001b[39m\n",
      "\u001b[38;5;249m        \u001b[39m\u001b[38;5;108m\"kicks the other to the ground.\"\u001b[39m\u001b[38;5;249m,\u001b[39m\n",
      "\u001b[38;5;249m        \u001b[39m\u001b[38;5;108m\"begins singing in the microphone.\"\u001b[39m\n",
      "\u001b[38;5;249m    \u001b[39m\u001b[38;5;249m],\u001b[39m\n",
      "\u001b[38;5;249m    \u001b[39m\u001b[38;5;168m\"source_id\"\u001b[39m\u001b[38;5;249m:\u001b[39m\u001b[38;5;249m \u001b[39m\u001b[38;5;108m\"activitynet~v_b5GrYqt5tRQ\"\u001b[39m\n",
      "\u001b[38;5;249m}\u001b[39m\n",
      "\n"
     ]
    }
   ],
   "source": [
    "github.show(\"data/hellaswag_train.jsonl\")"
   ]
  }
 ],
 "metadata": {
  "kernelspec": {
   "display_name": "Python 3 (ipykernel)",
   "language": "python",
   "name": "python3"
  },
  "language_info": {
   "codemirror_mode": {
    "name": "ipython",
    "version": 3
   },
   "file_extension": ".py",
   "mimetype": "text/x-python",
   "name": "python",
   "nbconvert_exporter": "python",
   "pygments_lexer": "ipython3",
   "version": "3.10.14"
  }
 },
 "nbformat": 4,
 "nbformat_minor": 5
}
