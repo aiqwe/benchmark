{
 "cells": [
  {
   "cell_type": "code",
   "execution_count": 1,
   "id": "236fb509-67fe-45da-b20b-59d58d87fbc3",
   "metadata": {
    "execution": {
     "iopub.execute_input": "2024-09-07T04:49:07.505536Z",
     "iopub.status.busy": "2024-09-07T04:49:07.504873Z",
     "iopub.status.idle": "2024-09-07T04:49:08.004006Z",
     "shell.execute_reply": "2024-09-07T04:49:08.003646Z",
     "shell.execute_reply.started": "2024-09-07T04:49:07.505481Z"
    },
    "tags": []
   },
   "outputs": [],
   "source": [
    "from benchmark import HFDatasets, show, Benchmark"
   ]
  },
  {
   "cell_type": "code",
   "execution_count": 2,
   "id": "bb9226d9-db3d-40c7-8572-de4b1f9988a6",
   "metadata": {
    "execution": {
     "iopub.execute_input": "2024-09-07T04:49:08.004809Z",
     "iopub.status.busy": "2024-09-07T04:49:08.004698Z",
     "iopub.status.idle": "2024-09-07T04:49:08.006838Z",
     "shell.execute_reply": "2024-09-07T04:49:08.006651Z",
     "shell.execute_reply.started": "2024-09-07T04:49:08.004801Z"
    },
    "tags": []
   },
   "outputs": [],
   "source": [
    "hf_conf = HFDatasets()"
   ]
  },
  {
   "cell_type": "code",
   "execution_count": 3,
   "id": "ea9c98e0-f951-4a60-bd77-2f57bb7d3000",
   "metadata": {
    "execution": {
     "iopub.execute_input": "2024-09-07T04:49:11.043011Z",
     "iopub.status.busy": "2024-09-07T04:49:11.042350Z",
     "iopub.status.idle": "2024-09-07T04:49:11.051772Z",
     "shell.execute_reply": "2024-09-07T04:49:11.050851Z",
     "shell.execute_reply.started": "2024-09-07T04:49:11.042953Z"
    },
    "tags": []
   },
   "outputs": [
    {
     "name": "stderr",
     "output_type": "stream",
     "text": [
      "\u001b[32m2024-09-07 13:49:11.047\u001b[0m | \u001b[1mINFO    \u001b[0m | \u001b[36mbenchmark\u001b[0m:\u001b[36mmake_folder_tree\u001b[0m:\u001b[36m202\u001b[0m - \u001b[1mtasks/trivia_qa/README.md을 초기화합니다\u001b[0m\n"
     ]
    }
   ],
   "source": [
    "hf_conf.make_folder_tree()"
   ]
  },
  {
   "cell_type": "code",
   "execution_count": null,
   "id": "9af094c0-4264-4668-a282-5a45c6223728",
   "metadata": {},
   "outputs": [],
   "source": []
  }
 ],
 "metadata": {
  "kernelspec": {
   "display_name": "Python 3 (ipykernel)",
   "language": "python",
   "name": "python3"
  },
  "language_info": {
   "codemirror_mode": {
    "name": "ipython",
    "version": 3
   },
   "file_extension": ".py",
   "mimetype": "text/x-python",
   "name": "python",
   "nbconvert_exporter": "python",
   "pygments_lexer": "ipython3",
   "version": "3.10.14"
  }
 },
 "nbformat": 4,
 "nbformat_minor": 5
}
