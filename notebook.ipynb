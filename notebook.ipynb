{
 "cells": [
  {
   "cell_type": "code",
   "execution_count": 22,
   "id": "236fb509-67fe-45da-b20b-59d58d87fbc3",
   "metadata": {
    "execution": {
     "iopub.execute_input": "2024-09-05T04:35:29.792632Z",
     "iopub.status.busy": "2024-09-05T04:35:29.792491Z",
     "iopub.status.idle": "2024-09-05T04:35:29.794319Z",
     "shell.execute_reply": "2024-09-05T04:35:29.794060Z",
     "shell.execute_reply.started": "2024-09-05T04:35:29.792621Z"
    },
    "tags": []
   },
   "outputs": [],
   "source": [
    "from datasets import load_dataset\n",
    "from setting import show, sample, save"
   ]
  },
  {
   "cell_type": "code",
   "execution_count": 57,
   "id": "37b0bd2b-b4f7-43c5-b7c5-45e552f3f58f",
   "metadata": {
    "execution": {
     "iopub.execute_input": "2024-09-05T04:40:11.314554Z",
     "iopub.status.busy": "2024-09-05T04:40:11.313791Z",
     "iopub.status.idle": "2024-09-05T04:40:21.056304Z",
     "shell.execute_reply": "2024-09-05T04:40:21.056001Z",
     "shell.execute_reply.started": "2024-09-05T04:40:11.314494Z"
    },
    "tags": []
   },
   "outputs": [
    {
     "data": {
      "application/vnd.jupyter.widget-view+json": {
       "model_id": "47ee8e1e07f14c9581e571558790c28f",
       "version_major": 2,
       "version_minor": 0
      },
      "text/plain": [
       "Generating train split:   0%|          | 0/40398 [00:00<?, ? examples/s]"
      ]
     },
     "metadata": {},
     "output_type": "display_data"
    },
    {
     "data": {
      "application/vnd.jupyter.widget-view+json": {
       "model_id": "8684e9dc7758436eae507c7a985be2ee",
       "version_major": 2,
       "version_minor": 0
      },
      "text/plain": [
       "Generating test split:   0%|          | 0/1767 [00:00<?, ? examples/s]"
      ]
     },
     "metadata": {},
     "output_type": "display_data"
    },
    {
     "data": {
      "application/vnd.jupyter.widget-view+json": {
       "model_id": "6ed30a8dc37c4321a678bf0551b2d303",
       "version_major": 2,
       "version_minor": 0
      },
      "text/plain": [
       "Generating validation split:   0%|          | 0/1267 [00:00<?, ? examples/s]"
      ]
     },
     "metadata": {},
     "output_type": "display_data"
    }
   ],
   "source": [
    "path = \"winogrande_xl\"\n",
    "ds = load_dataset(\"allenai/winogrande\", path, num_proc=6)\n",
    "ds = ds['train']\n",
    "samples = sample(ds)\n",
    "save(samples, f\"./samples/{path}.json\")"
   ]
  },
  {
   "cell_type": "code",
   "execution_count": 56,
   "id": "a13b1043-b751-4d8b-a71d-2a35083ecaa5",
   "metadata": {
    "execution": {
     "iopub.execute_input": "2024-09-05T04:40:00.609468Z",
     "iopub.status.busy": "2024-09-05T04:40:00.608810Z",
     "iopub.status.idle": "2024-09-05T04:40:00.617315Z",
     "shell.execute_reply": "2024-09-05T04:40:00.616117Z",
     "shell.execute_reply.started": "2024-09-05T04:40:00.609415Z"
    },
    "tags": []
   },
   "outputs": [
    {
     "data": {
      "text/plain": [
       "{'sentence': \"Ian volunteered to eat Dennis's menudo after already having a bowl because _ despised eating intestine.\",\n",
       " 'option1': 'Ian',\n",
       " 'option2': 'Dennis',\n",
       " 'answer': '2'}"
      ]
     },
     "execution_count": 56,
     "metadata": {},
     "output_type": "execute_result"
    }
   ],
   "source": [
    "ds[0]"
   ]
  }
 ],
 "metadata": {
  "kernelspec": {
   "display_name": "Python 3 (ipykernel)",
   "language": "python",
   "name": "python3"
  },
  "language_info": {
   "codemirror_mode": {
    "name": "ipython",
    "version": 3
   },
   "file_extension": ".py",
   "mimetype": "text/x-python",
   "name": "python",
   "nbconvert_exporter": "python",
   "pygments_lexer": "ipython3",
   "version": "3.10.14"
  }
 },
 "nbformat": 4,
 "nbformat_minor": 5
}
