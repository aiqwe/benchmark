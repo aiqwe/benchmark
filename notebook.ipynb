{
 "cells": [
  {
   "cell_type": "code",
   "execution_count": 1,
   "id": "82e23c2d-8f83-4472-80b8-de048ce4664d",
   "metadata": {
    "execution": {
     "iopub.execute_input": "2024-09-13T13:13:13.593463Z",
     "iopub.status.busy": "2024-09-13T13:13:13.593295Z",
     "iopub.status.idle": "2024-09-13T13:13:14.064945Z",
     "shell.execute_reply": "2024-09-13T13:13:14.064643Z",
     "shell.execute_reply.started": "2024-09-13T13:13:13.593432Z"
    },
    "tags": []
   },
   "outputs": [],
   "source": [
    "from benchmark import HFReader, Config, GithubReader, show\n",
    "from textwrap import dedent, indent"
   ]
  },
  {
   "cell_type": "code",
   "execution_count": 2,
   "id": "c3c84c8c-d961-4e51-b786-87eba3ce9331",
   "metadata": {
    "execution": {
     "iopub.execute_input": "2024-09-13T13:13:14.065941Z",
     "iopub.status.busy": "2024-09-13T13:13:14.065800Z",
     "iopub.status.idle": "2024-09-13T13:13:14.068423Z",
     "shell.execute_reply": "2024-09-13T13:13:14.068226Z",
     "shell.execute_reply.started": "2024-09-13T13:13:14.065931Z"
    },
    "tags": []
   },
   "outputs": [],
   "source": [
    "conf = Config()"
   ]
  },
  {
   "cell_type": "code",
   "execution_count": 3,
   "id": "c12dc99e-e7af-428f-a871-b0385f62ad1a",
   "metadata": {
    "execution": {
     "iopub.execute_input": "2024-09-13T13:13:17.795975Z",
     "iopub.status.busy": "2024-09-13T13:13:17.795144Z",
     "iopub.status.idle": "2024-09-13T13:13:17.826048Z",
     "shell.execute_reply": "2024-09-13T13:13:17.825661Z",
     "shell.execute_reply.started": "2024-09-13T13:13:17.795860Z"
    },
    "tags": []
   },
   "outputs": [
    {
     "name": "stderr",
     "output_type": "stream",
     "text": [
      "\u001b[32m2024-09-13 22:13:17.798\u001b[0m | \u001b[1mINFO    \u001b[0m | \u001b[36mbenchmark\u001b[0m:\u001b[36mmake_folder_tree\u001b[0m:\u001b[36m294\u001b[0m - \u001b[1mtasks/mmlu/README.md을 초기화합니다\u001b[0m\n",
      "\u001b[32m2024-09-13 22:13:17.801\u001b[0m | \u001b[1mINFO    \u001b[0m | \u001b[36mbenchmark\u001b[0m:\u001b[36mmake_folder_tree\u001b[0m:\u001b[36m294\u001b[0m - \u001b[1mtasks/mmlu_pro/README.md을 초기화합니다\u001b[0m\n",
      "\u001b[32m2024-09-13 22:13:17.803\u001b[0m | \u001b[1mINFO    \u001b[0m | \u001b[36mbenchmark\u001b[0m:\u001b[36mmake_folder_tree\u001b[0m:\u001b[36m294\u001b[0m - \u001b[1mtasks/agi_eval/README.md을 초기화합니다\u001b[0m\n",
      "\u001b[32m2024-09-13 22:13:17.804\u001b[0m | \u001b[1mINFO    \u001b[0m | \u001b[36mbenchmark\u001b[0m:\u001b[36mmake_folder_tree\u001b[0m:\u001b[36m294\u001b[0m - \u001b[1mtasks/commonsense_qa/README.md을 초기화합니다\u001b[0m\n",
      "\u001b[32m2024-09-13 22:13:17.805\u001b[0m | \u001b[1mINFO    \u001b[0m | \u001b[36mbenchmark\u001b[0m:\u001b[36mmake_folder_tree\u001b[0m:\u001b[36m294\u001b[0m - \u001b[1mtasks/winogrande/README.md을 초기화합니다\u001b[0m\n",
      "\u001b[32m2024-09-13 22:13:17.807\u001b[0m | \u001b[1mINFO    \u001b[0m | \u001b[36mbenchmark\u001b[0m:\u001b[36mmake_folder_tree\u001b[0m:\u001b[36m294\u001b[0m - \u001b[1mtasks/bigbenchhard/README.md을 초기화합니다\u001b[0m\n",
      "\u001b[32m2024-09-13 22:13:17.810\u001b[0m | \u001b[1mINFO    \u001b[0m | \u001b[36mbenchmark\u001b[0m:\u001b[36mmake_folder_tree\u001b[0m:\u001b[36m294\u001b[0m - \u001b[1mtasks/arc/README.md을 초기화합니다\u001b[0m\n",
      "\u001b[32m2024-09-13 22:13:17.812\u001b[0m | \u001b[1mINFO    \u001b[0m | \u001b[36mbenchmark\u001b[0m:\u001b[36mmake_folder_tree\u001b[0m:\u001b[36m294\u001b[0m - \u001b[1mtasks/trivia_qa/README.md을 초기화합니다\u001b[0m\n",
      "\u001b[32m2024-09-13 22:13:17.813\u001b[0m | \u001b[1mINFO    \u001b[0m | \u001b[36mbenchmark\u001b[0m:\u001b[36mmake_folder_tree\u001b[0m:\u001b[36m294\u001b[0m - \u001b[1mtasks/squad_v2/README.md을 초기화합니다\u001b[0m\n",
      "\u001b[32m2024-09-13 22:13:17.814\u001b[0m | \u001b[1mINFO    \u001b[0m | \u001b[36mbenchmark\u001b[0m:\u001b[36mmake_folder_tree\u001b[0m:\u001b[36m294\u001b[0m - \u001b[1mtasks/quac/README.md을 초기화합니다\u001b[0m\n",
      "\u001b[32m2024-09-13 22:13:17.815\u001b[0m | \u001b[1mINFO    \u001b[0m | \u001b[36mbenchmark\u001b[0m:\u001b[36mmake_folder_tree\u001b[0m:\u001b[36m294\u001b[0m - \u001b[1mtasks/boolq/README.md을 초기화합니다\u001b[0m\n",
      "\u001b[32m2024-09-13 22:13:17.816\u001b[0m | \u001b[1mINFO    \u001b[0m | \u001b[36mbenchmark\u001b[0m:\u001b[36mmake_folder_tree\u001b[0m:\u001b[36m294\u001b[0m - \u001b[1mtasks/drop/README.md을 초기화합니다\u001b[0m\n",
      "\u001b[32m2024-09-13 22:13:17.817\u001b[0m | \u001b[1mINFO    \u001b[0m | \u001b[36mbenchmark\u001b[0m:\u001b[36mmake_folder_tree\u001b[0m:\u001b[36m294\u001b[0m - \u001b[1mtasks/haerae/README.md을 초기화합니다\u001b[0m\n",
      "\u001b[32m2024-09-13 22:13:17.818\u001b[0m | \u001b[1mINFO    \u001b[0m | \u001b[36mbenchmark\u001b[0m:\u001b[36mmake_folder_tree\u001b[0m:\u001b[36m294\u001b[0m - \u001b[1mtasks/kmmlu/README.md을 초기화합니다\u001b[0m\n",
      "\u001b[32m2024-09-13 22:13:17.818\u001b[0m | \u001b[1mINFO    \u001b[0m | \u001b[36mbenchmark\u001b[0m:\u001b[36mmake_folder_tree\u001b[0m:\u001b[36m294\u001b[0m - \u001b[1mtasks/hellaswag/README.md을 초기화합니다\u001b[0m\n",
      "\u001b[32m2024-09-13 22:13:17.819\u001b[0m | \u001b[1mINFO    \u001b[0m | \u001b[36mbenchmark\u001b[0m:\u001b[36mmake_folder_tree\u001b[0m:\u001b[36m294\u001b[0m - \u001b[1mtasks/glue/README.md을 초기화합니다\u001b[0m\n",
      "\u001b[32m2024-09-13 22:13:17.820\u001b[0m | \u001b[1mINFO    \u001b[0m | \u001b[36mbenchmark\u001b[0m:\u001b[36mmake_folder_tree\u001b[0m:\u001b[36m294\u001b[0m - \u001b[1mtasks/bigbench/README.md을 초기화합니다\u001b[0m\n",
      "\u001b[32m2024-09-13 22:13:17.821\u001b[0m | \u001b[1mINFO    \u001b[0m | \u001b[36mbenchmark\u001b[0m:\u001b[36mmake_folder_tree\u001b[0m:\u001b[36m294\u001b[0m - \u001b[1mtasks/logiqa/README.md을 초기화합니다\u001b[0m\n",
      "\u001b[32m2024-09-13 22:13:17.822\u001b[0m | \u001b[1mINFO    \u001b[0m | \u001b[36mbenchmark\u001b[0m:\u001b[36mmake_folder_tree\u001b[0m:\u001b[36m294\u001b[0m - \u001b[1mtasks/lambada/README.md을 초기화합니다\u001b[0m\n",
      "\u001b[32m2024-09-13 22:13:17.823\u001b[0m | \u001b[1mINFO    \u001b[0m | \u001b[36mbenchmark\u001b[0m:\u001b[36mmake_folder_tree\u001b[0m:\u001b[36m294\u001b[0m - \u001b[1mtasks/openbookqa/README.md을 초기화합니다\u001b[0m\n"
     ]
    }
   ],
   "source": [
    "conf.make_folder_tree(overwrite=True)"
   ]
  },
  {
   "cell_type": "code",
   "execution_count": 9,
   "id": "f04103c8-07a1-49aa-bc9b-aeed99f9965b",
   "metadata": {
    "execution": {
     "iopub.execute_input": "2024-09-13T12:51:13.988860Z",
     "iopub.status.busy": "2024-09-13T12:51:13.988507Z",
     "iopub.status.idle": "2024-09-13T12:51:13.991851Z",
     "shell.execute_reply": "2024-09-13T12:51:13.991190Z",
     "shell.execute_reply.started": "2024-09-13T12:51:13.988834Z"
    },
    "tags": []
   },
   "outputs": [],
   "source": [
    "from textwrap import indent, dedent\n",
    "\n",
    "test = \"\"\"\n",
    "hello\n",
    "  world!\n",
    "\"\"\""
   ]
  },
  {
   "cell_type": "code",
   "execution_count": 12,
   "id": "c9d1f63b-05ab-4825-a0ab-88f7aaf0ea29",
   "metadata": {
    "execution": {
     "iopub.execute_input": "2024-09-13T12:51:30.077951Z",
     "iopub.status.busy": "2024-09-13T12:51:30.077402Z",
     "iopub.status.idle": "2024-09-13T12:51:30.083387Z",
     "shell.execute_reply": "2024-09-13T12:51:30.082329Z",
     "shell.execute_reply.started": "2024-09-13T12:51:30.077917Z"
    },
    "tags": []
   },
   "outputs": [
    {
     "name": "stdout",
     "output_type": "stream",
     "text": [
      "\n",
      "1111hello\n",
      "1111  world!\n",
      "\n"
     ]
    }
   ],
   "source": [
    "print(indent(dedent(test), \"1111\"))"
   ]
  },
  {
   "cell_type": "code",
   "execution_count": 13,
   "id": "23d29138-e44b-4952-8c3f-ea90222d557e",
   "metadata": {
    "execution": {
     "iopub.execute_input": "2024-09-13T12:53:38.453694Z",
     "iopub.status.busy": "2024-09-13T12:53:38.453096Z",
     "iopub.status.idle": "2024-09-13T12:53:38.459830Z",
     "shell.execute_reply": "2024-09-13T12:53:38.459027Z",
     "shell.execute_reply.started": "2024-09-13T12:53:38.453653Z"
    },
    "tags": []
   },
   "outputs": [
    {
     "data": {
      "text/plain": [
       "'        '"
      ]
     },
     "execution_count": 13,
     "metadata": {},
     "output_type": "execute_result"
    }
   ],
   "source": [
    "\" \"*8"
   ]
  },
  {
   "cell_type": "code",
   "execution_count": null,
   "id": "561bf787-693c-474a-bd5f-08f16e83643d",
   "metadata": {},
   "outputs": [],
   "source": []
  }
 ],
 "metadata": {
  "kernelspec": {
   "display_name": "Python 3 (ipykernel)",
   "language": "python",
   "name": "python3"
  },
  "language_info": {
   "codemirror_mode": {
    "name": "ipython",
    "version": 3
   },
   "file_extension": ".py",
   "mimetype": "text/x-python",
   "name": "python",
   "nbconvert_exporter": "python",
   "pygments_lexer": "ipython3",
   "version": "3.10.14"
  }
 },
 "nbformat": 4,
 "nbformat_minor": 5
}
