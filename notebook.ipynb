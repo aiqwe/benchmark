{
 "cells": [
  {
   "cell_type": "code",
   "execution_count": 8,
   "id": "f8f8dfd8-ed36-4cd6-bf3e-af70decff366",
   "metadata": {
    "execution": {
     "iopub.execute_input": "2024-09-11T09:49:36.611000Z",
     "iopub.status.busy": "2024-09-11T09:49:36.609775Z",
     "iopub.status.idle": "2024-09-11T09:49:36.623035Z",
     "shell.execute_reply": "2024-09-11T09:49:36.622242Z",
     "shell.execute_reply.started": "2024-09-11T09:49:36.610942Z"
    },
    "tags": []
   },
   "outputs": [],
   "source": [
    "from benchmark import Benchmark, HFDatasets\n",
    "from datasets import load_dataset"
   ]
  },
  {
   "cell_type": "code",
   "execution_count": 13,
   "id": "42bc5f1f-04f1-4bdd-80a4-07adedb8d677",
   "metadata": {
    "execution": {
     "iopub.execute_input": "2024-09-11T09:54:11.750018Z",
     "iopub.status.busy": "2024-09-11T09:54:11.749881Z",
     "iopub.status.idle": "2024-09-11T09:54:11.753076Z",
     "shell.execute_reply": "2024-09-11T09:54:11.752717Z",
     "shell.execute_reply.started": "2024-09-11T09:54:11.750006Z"
    },
    "tags": []
   },
   "outputs": [],
   "source": [
    "hf_conf = HFDatasets()"
   ]
  },
  {
   "cell_type": "code",
   "execution_count": 3,
   "id": "61d4d2d9-5024-4e79-a86c-6fda30a3508f",
   "metadata": {
    "execution": {
     "iopub.execute_input": "2024-09-11T09:48:01.551904Z",
     "iopub.status.busy": "2024-09-11T09:48:01.551833Z",
     "iopub.status.idle": "2024-09-11T09:48:01.554334Z",
     "shell.execute_reply": "2024-09-11T09:48:01.554043Z",
     "shell.execute_reply.started": "2024-09-11T09:48:01.551895Z"
    },
    "tags": []
   },
   "outputs": [],
   "source": [
    "name_list = hf_conf.config['bigbench']['name']"
   ]
  },
  {
   "cell_type": "code",
   "execution_count": 11,
   "id": "e06492c3-86ce-42b2-969a-e054b1f8ead8",
   "metadata": {
    "execution": {
     "iopub.execute_input": "2024-09-11T09:49:46.271529Z",
     "iopub.status.busy": "2024-09-11T09:49:46.270674Z",
     "iopub.status.idle": "2024-09-11T09:49:46.282331Z",
     "shell.execute_reply": "2024-09-11T09:49:46.281449Z",
     "shell.execute_reply.started": "2024-09-11T09:49:46.271450Z"
    },
    "tags": []
   },
   "outputs": [],
   "source": [
    "name_list = name_list[name_list.index(\"simple_arithmetic_multiple_targets_json\") + 1:]"
   ]
  },
  {
   "cell_type": "code",
   "execution_count": 9,
   "id": "fb8db885-9c30-4c0d-8433-7c02532a08a6",
   "metadata": {
    "execution": {
     "iopub.execute_input": "2024-09-11T09:49:38.009642Z",
     "iopub.status.busy": "2024-09-11T09:49:38.008496Z",
     "iopub.status.idle": "2024-09-11T09:49:42.161344Z",
     "shell.execute_reply": "2024-09-11T09:49:42.161019Z",
     "shell.execute_reply.started": "2024-09-11T09:49:38.009601Z"
    },
    "tags": []
   },
   "outputs": [
    {
     "name": "stderr",
     "output_type": "stream",
     "text": [
      "/Users/kakao/.base/lib/python3.11/site-packages/datasets/load.py:1486: FutureWarning: The repository for google/bigbench contains custom code which must be executed to correctly load the dataset. You can inspect the repository content at https://hf.co/datasets/google/bigbench\n",
      "You can avoid this message in future by passing the argument `trust_remote_code=True`.\n",
      "Passing `trust_remote_code=True` will be mandatory to load this dataset from the next major release of `datasets`.\n",
      "  warnings.warn(\n"
     ]
    }
   ],
   "source": [
    "benchmark.dataset = load_dataset(\"google/bigbench\", name= \"simple_arithmetic_multiple_targets_json\", split = \"default\")"
   ]
  },
  {
   "cell_type": "code",
   "execution_count": 10,
   "id": "55da6052-2ae9-4637-aa4f-61c21af073d3",
   "metadata": {
    "execution": {
     "iopub.execute_input": "2024-09-11T09:49:42.165196Z",
     "iopub.status.busy": "2024-09-11T09:49:42.165119Z",
     "iopub.status.idle": "2024-09-11T09:49:42.172353Z",
     "shell.execute_reply": "2024-09-11T09:49:42.172095Z",
     "shell.execute_reply.started": "2024-09-11T09:49:42.165188Z"
    },
    "tags": []
   },
   "outputs": [
    {
     "name": "stderr",
     "output_type": "stream",
     "text": [
      "\u001b[32m2024-09-11 18:49:42.165\u001b[0m | \u001b[1mINFO    \u001b[0m | \u001b[36mbenchmark\u001b[0m:\u001b[36msample\u001b[0m:\u001b[36m174\u001b[0m - \u001b[1m카테고리가 없어서 전체에서 20개를 샘플링합니다\u001b[0m\n",
      "\u001b[32m2024-09-11 18:49:42.170\u001b[0m | \u001b[1mINFO    \u001b[0m | \u001b[36mbenchmark\u001b[0m:\u001b[36msample\u001b[0m:\u001b[36m183\u001b[0m - \u001b[1m총 20개의 샘플이 있습니다.\u001b[0m\n",
      "\u001b[32m2024-09-11 18:49:42.170\u001b[0m | \u001b[1mINFO    \u001b[0m | \u001b[36mbenchmark\u001b[0m:\u001b[36msave\u001b[0m:\u001b[36m138\u001b[0m - \u001b[1m./tasks/bigbench/bigbench-simple_arithmetic_json_subtasks.json에 저장합니다.\u001b[0m\n",
      "\u001b[32m2024-09-11 18:49:42.170\u001b[0m | \u001b[1mINFO    \u001b[0m | \u001b[36mbenchmark\u001b[0m:\u001b[36msave\u001b[0m:\u001b[36m139\u001b[0m - \u001b[1m20의 샘플이 저장됩니다.\u001b[0m\n"
     ]
    }
   ],
   "source": [
    "benchmark.save()"
   ]
  },
  {
   "cell_type": "code",
   "execution_count": 12,
   "id": "24202868-a2d0-4c53-a8df-762d1b1a6e71",
   "metadata": {
    "execution": {
     "iopub.execute_input": "2024-09-11T09:49:48.050604Z",
     "iopub.status.busy": "2024-09-11T09:49:48.049627Z",
     "iopub.status.idle": "2024-09-11T09:54:11.744904Z",
     "shell.execute_reply": "2024-09-11T09:54:11.744596Z",
     "shell.execute_reply.started": "2024-09-11T09:49:48.050549Z"
    },
    "tags": []
   },
   "outputs": [
    {
     "name": "stderr",
     "output_type": "stream",
     "text": [
      "/Users/kakao/.base/lib/python3.11/site-packages/datasets/load.py:1486: FutureWarning: The repository for google/bigbench contains custom code which must be executed to correctly load the dataset. You can inspect the repository content at https://hf.co/datasets/google/bigbench\n",
      "You can avoid this message in future by passing the argument `trust_remote_code=True`.\n",
      "Passing `trust_remote_code=True` will be mandatory to load this dataset from the next major release of `datasets`.\n",
      "  warnings.warn(\n",
      "Setting num_proc from 6 back to 1 for the default split to disable multiprocessing as it only contains one shard.\n"
     ]
    },
    {
     "data": {
      "application/vnd.jupyter.widget-view+json": {
       "model_id": "a876da48549a4a2d92e26cfffefc0386",
       "version_major": 2,
       "version_minor": 0
      },
      "text/plain": [
       "Generating default split:   0%|          | 0/115 [00:00<?, ? examples/s]"
      ]
     },
     "metadata": {},
     "output_type": "display_data"
    },
    {
     "name": "stderr",
     "output_type": "stream",
     "text": [
      "Setting num_proc from 6 back to 1 for the train split to disable multiprocessing as it only contains one shard.\n"
     ]
    },
    {
     "data": {
      "application/vnd.jupyter.widget-view+json": {
       "model_id": "5a28063f410f4ff0b6f0fad44e0f9043",
       "version_major": 2,
       "version_minor": 0
      },
      "text/plain": [
       "Generating train split:   0%|          | 0/92 [00:00<?, ? examples/s]"
      ]
     },
     "metadata": {},
     "output_type": "display_data"
    },
    {
     "name": "stderr",
     "output_type": "stream",
     "text": [
      "Setting num_proc from 6 back to 1 for the validation split to disable multiprocessing as it only contains one shard.\n"
     ]
    },
    {
     "data": {
      "application/vnd.jupyter.widget-view+json": {
       "model_id": "41e51dad0b1747f99323bd0dfeec1076",
       "version_major": 2,
       "version_minor": 0
      },
      "text/plain": [
       "Generating validation split:   0%|          | 0/23 [00:00<?, ? examples/s]"
      ]
     },
     "metadata": {},
     "output_type": "display_data"
    },
    {
     "name": "stderr",
     "output_type": "stream",
     "text": [
      "\u001b[32m2024-09-11 18:49:52.948\u001b[0m | \u001b[1mINFO    \u001b[0m | \u001b[36mbenchmark\u001b[0m:\u001b[36m__init__\u001b[0m:\u001b[36m81\u001b[0m - \u001b[1mpath: google/bigbench\n",
      "name: simple_ethical_questions\n",
      "total_split: ['default', 'train', 'validation']\n",
      "prior_split: default\n",
      "default: 115\n",
      "train: 92\n",
      "validation: 23\n",
      "\u001b[0m\n",
      "\u001b[32m2024-09-11 18:49:52.948\u001b[0m | \u001b[1mINFO    \u001b[0m | \u001b[36mbenchmark\u001b[0m:\u001b[36msample\u001b[0m:\u001b[36m174\u001b[0m - \u001b[1m카테고리가 없어서 전체에서 20개를 샘플링합니다\u001b[0m\n",
      "\u001b[32m2024-09-11 18:49:52.952\u001b[0m | \u001b[1mINFO    \u001b[0m | \u001b[36mbenchmark\u001b[0m:\u001b[36msample\u001b[0m:\u001b[36m183\u001b[0m - \u001b[1m총 20개의 샘플이 있습니다.\u001b[0m\n",
      "\u001b[32m2024-09-11 18:49:52.952\u001b[0m | \u001b[1mINFO    \u001b[0m | \u001b[36mbenchmark\u001b[0m:\u001b[36msave\u001b[0m:\u001b[36m138\u001b[0m - \u001b[1m./tasks/bigbench/bigbench-simple_ethical_questions.json에 저장합니다.\u001b[0m\n",
      "\u001b[32m2024-09-11 18:49:52.953\u001b[0m | \u001b[1mINFO    \u001b[0m | \u001b[36mbenchmark\u001b[0m:\u001b[36msave\u001b[0m:\u001b[36m139\u001b[0m - \u001b[1m20의 샘플이 저장됩니다.\u001b[0m\n",
      "Setting num_proc from 6 back to 1 for the default split to disable multiprocessing as it only contains one shard.\n"
     ]
    },
    {
     "data": {
      "application/vnd.jupyter.widget-view+json": {
       "model_id": "397791a63d3d4fb7ab057485981f35ac",
       "version_major": 2,
       "version_minor": 0
      },
      "text/plain": [
       "Generating default split:   0%|          | 0/47 [00:00<?, ? examples/s]"
      ]
     },
     "metadata": {},
     "output_type": "display_data"
    },
    {
     "name": "stderr",
     "output_type": "stream",
     "text": [
      "Setting num_proc from 6 back to 1 for the train split to disable multiprocessing as it only contains one shard.\n"
     ]
    },
    {
     "data": {
      "application/vnd.jupyter.widget-view+json": {
       "model_id": "6ef451d7e4654cac88a98512b9818373",
       "version_major": 2,
       "version_minor": 0
      },
      "text/plain": [
       "Generating train split:   0%|          | 0/31 [00:00<?, ? examples/s]"
      ]
     },
     "metadata": {},
     "output_type": "display_data"
    },
    {
     "name": "stderr",
     "output_type": "stream",
     "text": [
      "Setting num_proc from 6 back to 1 for the validation split to disable multiprocessing as it only contains one shard.\n"
     ]
    },
    {
     "data": {
      "application/vnd.jupyter.widget-view+json": {
       "model_id": "257d3f1b94a744919920b311897d72fc",
       "version_major": 2,
       "version_minor": 0
      },
      "text/plain": [
       "Generating validation split:   0%|          | 0/16 [00:00<?, ? examples/s]"
      ]
     },
     "metadata": {},
     "output_type": "display_data"
    },
    {
     "name": "stderr",
     "output_type": "stream",
     "text": [
      "\u001b[32m2024-09-11 18:49:57.482\u001b[0m | \u001b[1mINFO    \u001b[0m | \u001b[36mbenchmark\u001b[0m:\u001b[36m__init__\u001b[0m:\u001b[36m81\u001b[0m - \u001b[1mpath: google/bigbench\n",
      "name: simple_text_editing\n",
      "total_split: ['default', 'train', 'validation']\n",
      "prior_split: default\n",
      "default: 47\n",
      "train: 31\n",
      "validation: 16\n",
      "\u001b[0m\n",
      "\u001b[32m2024-09-11 18:49:57.483\u001b[0m | \u001b[1mINFO    \u001b[0m | \u001b[36mbenchmark\u001b[0m:\u001b[36msample\u001b[0m:\u001b[36m174\u001b[0m - \u001b[1m카테고리가 없어서 전체에서 20개를 샘플링합니다\u001b[0m\n",
      "\u001b[32m2024-09-11 18:49:57.486\u001b[0m | \u001b[1mINFO    \u001b[0m | \u001b[36mbenchmark\u001b[0m:\u001b[36msample\u001b[0m:\u001b[36m183\u001b[0m - \u001b[1m총 20개의 샘플이 있습니다.\u001b[0m\n",
      "\u001b[32m2024-09-11 18:49:57.487\u001b[0m | \u001b[1mINFO    \u001b[0m | \u001b[36mbenchmark\u001b[0m:\u001b[36msave\u001b[0m:\u001b[36m138\u001b[0m - \u001b[1m./tasks/bigbench/bigbench-simple_text_editing.json에 저장합니다.\u001b[0m\n",
      "\u001b[32m2024-09-11 18:49:57.487\u001b[0m | \u001b[1mINFO    \u001b[0m | \u001b[36mbenchmark\u001b[0m:\u001b[36msave\u001b[0m:\u001b[36m139\u001b[0m - \u001b[1m20의 샘플이 저장됩니다.\u001b[0m\n",
      "Setting num_proc from 6 back to 1 for the default split to disable multiprocessing as it only contains one shard.\n"
     ]
    },
    {
     "data": {
      "application/vnd.jupyter.widget-view+json": {
       "model_id": "b1ada1820b4d4cb4ad12f88fd60bbb24",
       "version_major": 2,
       "version_minor": 0
      },
      "text/plain": [
       "Generating default split:   0%|          | 0/181 [00:00<?, ? examples/s]"
      ]
     },
     "metadata": {},
     "output_type": "display_data"
    },
    {
     "name": "stderr",
     "output_type": "stream",
     "text": [
      "Setting num_proc from 6 back to 1 for the train split to disable multiprocessing as it only contains one shard.\n"
     ]
    },
    {
     "data": {
      "application/vnd.jupyter.widget-view+json": {
       "model_id": "f11a1175ad8b4966bbabdb90f2e98991",
       "version_major": 2,
       "version_minor": 0
      },
      "text/plain": [
       "Generating train split:   0%|          | 0/145 [00:00<?, ? examples/s]"
      ]
     },
     "metadata": {},
     "output_type": "display_data"
    },
    {
     "name": "stderr",
     "output_type": "stream",
     "text": [
      "Setting num_proc from 6 back to 1 for the validation split to disable multiprocessing as it only contains one shard.\n"
     ]
    },
    {
     "data": {
      "application/vnd.jupyter.widget-view+json": {
       "model_id": "4106187dc53048b991f38dff6ec494d2",
       "version_major": 2,
       "version_minor": 0
      },
      "text/plain": [
       "Generating validation split:   0%|          | 0/36 [00:00<?, ? examples/s]"
      ]
     },
     "metadata": {},
     "output_type": "display_data"
    },
    {
     "name": "stderr",
     "output_type": "stream",
     "text": [
      "\u001b[32m2024-09-11 18:50:01.826\u001b[0m | \u001b[1mINFO    \u001b[0m | \u001b[36mbenchmark\u001b[0m:\u001b[36m__init__\u001b[0m:\u001b[36m81\u001b[0m - \u001b[1mpath: google/bigbench\n",
      "name: snarks\n",
      "total_split: ['default', 'train', 'validation']\n",
      "prior_split: default\n",
      "default: 181\n",
      "train: 145\n",
      "validation: 36\n",
      "\u001b[0m\n",
      "\u001b[32m2024-09-11 18:50:01.826\u001b[0m | \u001b[1mINFO    \u001b[0m | \u001b[36mbenchmark\u001b[0m:\u001b[36msample\u001b[0m:\u001b[36m174\u001b[0m - \u001b[1m카테고리가 없어서 전체에서 20개를 샘플링합니다\u001b[0m\n",
      "\u001b[32m2024-09-11 18:50:01.830\u001b[0m | \u001b[1mINFO    \u001b[0m | \u001b[36mbenchmark\u001b[0m:\u001b[36msample\u001b[0m:\u001b[36m183\u001b[0m - \u001b[1m총 20개의 샘플이 있습니다.\u001b[0m\n",
      "\u001b[32m2024-09-11 18:50:01.830\u001b[0m | \u001b[1mINFO    \u001b[0m | \u001b[36mbenchmark\u001b[0m:\u001b[36msave\u001b[0m:\u001b[36m138\u001b[0m - \u001b[1m./tasks/bigbench/bigbench-snarks.json에 저장합니다.\u001b[0m\n",
      "\u001b[32m2024-09-11 18:50:01.831\u001b[0m | \u001b[1mINFO    \u001b[0m | \u001b[36mbenchmark\u001b[0m:\u001b[36msave\u001b[0m:\u001b[36m139\u001b[0m - \u001b[1m20의 샘플이 저장됩니다.\u001b[0m\n",
      "Setting num_proc from 6 back to 1 for the default split to disable multiprocessing as it only contains one shard.\n"
     ]
    },
    {
     "data": {
      "application/vnd.jupyter.widget-view+json": {
       "model_id": "1467d048d89f4edea88fe4899ab123d6",
       "version_major": 2,
       "version_minor": 0
      },
      "text/plain": [
       "Generating default split:   0%|          | 0/1935 [00:00<?, ? examples/s]"
      ]
     },
     "metadata": {},
     "output_type": "display_data"
    },
    {
     "name": "stdout",
     "output_type": "stream",
     "text": [
      "warning: social_iqa has 19 duplicate examples out of 1954\n"
     ]
    },
    {
     "name": "stderr",
     "output_type": "stream",
     "text": [
      "Setting num_proc from 6 back to 1 for the train split to disable multiprocessing as it only contains one shard.\n"
     ]
    },
    {
     "data": {
      "application/vnd.jupyter.widget-view+json": {
       "model_id": "1eef51504fdc48c79d16fcfca1861c9f",
       "version_major": 2,
       "version_minor": 0
      },
      "text/plain": [
       "Generating train split:   0%|          | 0/1548 [00:00<?, ? examples/s]"
      ]
     },
     "metadata": {},
     "output_type": "display_data"
    },
    {
     "name": "stderr",
     "output_type": "stream",
     "text": [
      "Setting num_proc from 6 back to 1 for the validation split to disable multiprocessing as it only contains one shard.\n"
     ]
    },
    {
     "data": {
      "application/vnd.jupyter.widget-view+json": {
       "model_id": "085ae3bb81ad4c8c92bed935ed44b3d2",
       "version_major": 2,
       "version_minor": 0
      },
      "text/plain": [
       "Generating validation split:   0%|          | 0/387 [00:00<?, ? examples/s]"
      ]
     },
     "metadata": {},
     "output_type": "display_data"
    },
    {
     "name": "stderr",
     "output_type": "stream",
     "text": [
      "\u001b[32m2024-09-11 18:50:07.292\u001b[0m | \u001b[1mINFO    \u001b[0m | \u001b[36mbenchmark\u001b[0m:\u001b[36m__init__\u001b[0m:\u001b[36m81\u001b[0m - \u001b[1mpath: google/bigbench\n",
      "name: social_iqa\n",
      "total_split: ['default', 'train', 'validation']\n",
      "prior_split: default\n",
      "default: 1935\n",
      "train: 1548\n",
      "validation: 387\n",
      "\u001b[0m\n",
      "\u001b[32m2024-09-11 18:50:07.292\u001b[0m | \u001b[1mINFO    \u001b[0m | \u001b[36mbenchmark\u001b[0m:\u001b[36msample\u001b[0m:\u001b[36m174\u001b[0m - \u001b[1m카테고리가 없어서 전체에서 20개를 샘플링합니다\u001b[0m\n",
      "\u001b[32m2024-09-11 18:50:07.296\u001b[0m | \u001b[1mINFO    \u001b[0m | \u001b[36mbenchmark\u001b[0m:\u001b[36msample\u001b[0m:\u001b[36m183\u001b[0m - \u001b[1m총 20개의 샘플이 있습니다.\u001b[0m\n",
      "\u001b[32m2024-09-11 18:50:07.297\u001b[0m | \u001b[1mINFO    \u001b[0m | \u001b[36mbenchmark\u001b[0m:\u001b[36msave\u001b[0m:\u001b[36m138\u001b[0m - \u001b[1m./tasks/bigbench/bigbench-social_iqa.json에 저장합니다.\u001b[0m\n",
      "\u001b[32m2024-09-11 18:50:07.297\u001b[0m | \u001b[1mINFO    \u001b[0m | \u001b[36mbenchmark\u001b[0m:\u001b[36msave\u001b[0m:\u001b[36m139\u001b[0m - \u001b[1m20의 샘플이 저장됩니다.\u001b[0m\n",
      "Setting num_proc from 6 back to 1 for the default split to disable multiprocessing as it only contains one shard.\n"
     ]
    },
    {
     "data": {
      "application/vnd.jupyter.widget-view+json": {
       "model_id": "bec5901ec48e40d9807f9cd20505bf94",
       "version_major": 2,
       "version_minor": 0
      },
      "text/plain": [
       "Generating default split:   0%|          | 0/897 [00:00<?, ? examples/s]"
      ]
     },
     "metadata": {},
     "output_type": "display_data"
    },
    {
     "name": "stderr",
     "output_type": "stream",
     "text": [
      "Setting num_proc from 6 back to 1 for the train split to disable multiprocessing as it only contains one shard.\n"
     ]
    },
    {
     "data": {
      "application/vnd.jupyter.widget-view+json": {
       "model_id": "2143dc330ab647c1899cab91cd214c6d",
       "version_major": 2,
       "version_minor": 0
      },
      "text/plain": [
       "Generating train split:   0%|          | 0/718 [00:00<?, ? examples/s]"
      ]
     },
     "metadata": {},
     "output_type": "display_data"
    },
    {
     "name": "stderr",
     "output_type": "stream",
     "text": [
      "Setting num_proc from 6 back to 1 for the validation split to disable multiprocessing as it only contains one shard.\n"
     ]
    },
    {
     "data": {
      "application/vnd.jupyter.widget-view+json": {
       "model_id": "4b1d2ef5b79845598e117b4d89918fcc",
       "version_major": 2,
       "version_minor": 0
      },
      "text/plain": [
       "Generating validation split:   0%|          | 0/179 [00:00<?, ? examples/s]"
      ]
     },
     "metadata": {},
     "output_type": "display_data"
    },
    {
     "name": "stderr",
     "output_type": "stream",
     "text": [
      "\u001b[32m2024-09-11 18:50:12.546\u001b[0m | \u001b[1mINFO    \u001b[0m | \u001b[36mbenchmark\u001b[0m:\u001b[36m__init__\u001b[0m:\u001b[36m81\u001b[0m - \u001b[1mpath: google/bigbench\n",
      "name: social_support\n",
      "total_split: ['default', 'train', 'validation']\n",
      "prior_split: default\n",
      "default: 897\n",
      "train: 718\n",
      "validation: 179\n",
      "\u001b[0m\n",
      "\u001b[32m2024-09-11 18:50:12.546\u001b[0m | \u001b[1mINFO    \u001b[0m | \u001b[36mbenchmark\u001b[0m:\u001b[36msample\u001b[0m:\u001b[36m174\u001b[0m - \u001b[1m카테고리가 없어서 전체에서 20개를 샘플링합니다\u001b[0m\n",
      "\u001b[32m2024-09-11 18:50:12.550\u001b[0m | \u001b[1mINFO    \u001b[0m | \u001b[36mbenchmark\u001b[0m:\u001b[36msample\u001b[0m:\u001b[36m183\u001b[0m - \u001b[1m총 20개의 샘플이 있습니다.\u001b[0m\n",
      "\u001b[32m2024-09-11 18:50:12.550\u001b[0m | \u001b[1mINFO    \u001b[0m | \u001b[36mbenchmark\u001b[0m:\u001b[36msave\u001b[0m:\u001b[36m138\u001b[0m - \u001b[1m./tasks/bigbench/bigbench-social_support.json에 저장합니다.\u001b[0m\n",
      "\u001b[32m2024-09-11 18:50:12.551\u001b[0m | \u001b[1mINFO    \u001b[0m | \u001b[36mbenchmark\u001b[0m:\u001b[36msave\u001b[0m:\u001b[36m139\u001b[0m - \u001b[1m20의 샘플이 저장됩니다.\u001b[0m\n",
      "Setting num_proc from 6 back to 1 for the default split to disable multiprocessing as it only contains one shard.\n"
     ]
    },
    {
     "data": {
      "application/vnd.jupyter.widget-view+json": {
       "model_id": "27dea5950f954dd1a2eb0edf5ab281c9",
       "version_major": 2,
       "version_minor": 0
      },
      "text/plain": [
       "Generating default split:   0%|          | 0/986 [00:00<?, ? examples/s]"
      ]
     },
     "metadata": {},
     "output_type": "display_data"
    },
    {
     "name": "stdout",
     "output_type": "stream",
     "text": [
      "warning: sports_understanding has 14 duplicate examples out of 1000\n"
     ]
    },
    {
     "name": "stderr",
     "output_type": "stream",
     "text": [
      "Setting num_proc from 6 back to 1 for the train split to disable multiprocessing as it only contains one shard.\n"
     ]
    },
    {
     "data": {
      "application/vnd.jupyter.widget-view+json": {
       "model_id": "9579cefba6d642e0ba8c9978ebd3a867",
       "version_major": 2,
       "version_minor": 0
      },
      "text/plain": [
       "Generating train split:   0%|          | 0/789 [00:00<?, ? examples/s]"
      ]
     },
     "metadata": {},
     "output_type": "display_data"
    },
    {
     "name": "stderr",
     "output_type": "stream",
     "text": [
      "Setting num_proc from 6 back to 1 for the validation split to disable multiprocessing as it only contains one shard.\n"
     ]
    },
    {
     "data": {
      "application/vnd.jupyter.widget-view+json": {
       "model_id": "7a35579839384b228159e96058205ef3",
       "version_major": 2,
       "version_minor": 0
      },
      "text/plain": [
       "Generating validation split:   0%|          | 0/197 [00:00<?, ? examples/s]"
      ]
     },
     "metadata": {},
     "output_type": "display_data"
    },
    {
     "name": "stderr",
     "output_type": "stream",
     "text": [
      "\u001b[32m2024-09-11 18:50:17.337\u001b[0m | \u001b[1mINFO    \u001b[0m | \u001b[36mbenchmark\u001b[0m:\u001b[36m__init__\u001b[0m:\u001b[36m81\u001b[0m - \u001b[1mpath: google/bigbench\n",
      "name: sports_understanding\n",
      "total_split: ['default', 'train', 'validation']\n",
      "prior_split: default\n",
      "default: 986\n",
      "train: 789\n",
      "validation: 197\n",
      "\u001b[0m\n",
      "\u001b[32m2024-09-11 18:50:17.337\u001b[0m | \u001b[1mINFO    \u001b[0m | \u001b[36mbenchmark\u001b[0m:\u001b[36msample\u001b[0m:\u001b[36m174\u001b[0m - \u001b[1m카테고리가 없어서 전체에서 20개를 샘플링합니다\u001b[0m\n",
      "\u001b[32m2024-09-11 18:50:17.341\u001b[0m | \u001b[1mINFO    \u001b[0m | \u001b[36mbenchmark\u001b[0m:\u001b[36msample\u001b[0m:\u001b[36m183\u001b[0m - \u001b[1m총 20개의 샘플이 있습니다.\u001b[0m\n",
      "\u001b[32m2024-09-11 18:50:17.341\u001b[0m | \u001b[1mINFO    \u001b[0m | \u001b[36mbenchmark\u001b[0m:\u001b[36msave\u001b[0m:\u001b[36m138\u001b[0m - \u001b[1m./tasks/bigbench/bigbench-sports_understanding.json에 저장합니다.\u001b[0m\n",
      "\u001b[32m2024-09-11 18:50:17.341\u001b[0m | \u001b[1mINFO    \u001b[0m | \u001b[36mbenchmark\u001b[0m:\u001b[36msave\u001b[0m:\u001b[36m139\u001b[0m - \u001b[1m20의 샘플이 저장됩니다.\u001b[0m\n",
      "Setting num_proc from 6 back to 1 for the default split to disable multiprocessing as it only contains one shard.\n"
     ]
    },
    {
     "data": {
      "application/vnd.jupyter.widget-view+json": {
       "model_id": "06b6fc9398064234a41b757d48878d11",
       "version_major": 2,
       "version_minor": 0
      },
      "text/plain": [
       "Generating default split:   0%|          | 0/174 [00:00<?, ? examples/s]"
      ]
     },
     "metadata": {},
     "output_type": "display_data"
    },
    {
     "name": "stderr",
     "output_type": "stream",
     "text": [
      "Setting num_proc from 6 back to 1 for the train split to disable multiprocessing as it only contains one shard.\n"
     ]
    },
    {
     "data": {
      "application/vnd.jupyter.widget-view+json": {
       "model_id": "15f4630d1cad442dbaf45f9b3e103af8",
       "version_major": 2,
       "version_minor": 0
      },
      "text/plain": [
       "Generating train split:   0%|          | 0/140 [00:00<?, ? examples/s]"
      ]
     },
     "metadata": {},
     "output_type": "display_data"
    },
    {
     "name": "stderr",
     "output_type": "stream",
     "text": [
      "Setting num_proc from 6 back to 1 for the validation split to disable multiprocessing as it only contains one shard.\n"
     ]
    },
    {
     "data": {
      "application/vnd.jupyter.widget-view+json": {
       "model_id": "ff3a7bcee3554daebee3fbb11563e443",
       "version_major": 2,
       "version_minor": 0
      },
      "text/plain": [
       "Generating validation split:   0%|          | 0/34 [00:00<?, ? examples/s]"
      ]
     },
     "metadata": {},
     "output_type": "display_data"
    },
    {
     "name": "stderr",
     "output_type": "stream",
     "text": [
      "\u001b[32m2024-09-11 18:50:21.622\u001b[0m | \u001b[1mINFO    \u001b[0m | \u001b[36mbenchmark\u001b[0m:\u001b[36m__init__\u001b[0m:\u001b[36m81\u001b[0m - \u001b[1mpath: google/bigbench\n",
      "name: strange_stories\n",
      "total_split: ['default', 'train', 'validation']\n",
      "prior_split: default\n",
      "default: 174\n",
      "train: 140\n",
      "validation: 34\n",
      "\u001b[0m\n",
      "\u001b[32m2024-09-11 18:50:21.622\u001b[0m | \u001b[1mINFO    \u001b[0m | \u001b[36mbenchmark\u001b[0m:\u001b[36msample\u001b[0m:\u001b[36m174\u001b[0m - \u001b[1m카테고리가 없어서 전체에서 20개를 샘플링합니다\u001b[0m\n",
      "\u001b[32m2024-09-11 18:50:21.626\u001b[0m | \u001b[1mINFO    \u001b[0m | \u001b[36mbenchmark\u001b[0m:\u001b[36msample\u001b[0m:\u001b[36m183\u001b[0m - \u001b[1m총 20개의 샘플이 있습니다.\u001b[0m\n",
      "\u001b[32m2024-09-11 18:50:21.626\u001b[0m | \u001b[1mINFO    \u001b[0m | \u001b[36mbenchmark\u001b[0m:\u001b[36msave\u001b[0m:\u001b[36m138\u001b[0m - \u001b[1m./tasks/bigbench/bigbench-strange_stories.json에 저장합니다.\u001b[0m\n",
      "\u001b[32m2024-09-11 18:50:21.627\u001b[0m | \u001b[1mINFO    \u001b[0m | \u001b[36mbenchmark\u001b[0m:\u001b[36msave\u001b[0m:\u001b[36m139\u001b[0m - \u001b[1m20의 샘플이 저장됩니다.\u001b[0m\n",
      "Setting num_proc from 6 back to 1 for the default split to disable multiprocessing as it only contains one shard.\n"
     ]
    },
    {
     "data": {
      "application/vnd.jupyter.widget-view+json": {
       "model_id": "c1d2fd81811743b89868c5adb72fbed2",
       "version_major": 2,
       "version_minor": 0
      },
      "text/plain": [
       "Generating default split:   0%|          | 0/2289 [00:00<?, ? examples/s]"
      ]
     },
     "metadata": {},
     "output_type": "display_data"
    },
    {
     "name": "stdout",
     "output_type": "stream",
     "text": [
      "warning: strategyqa has 1 duplicate examples out of 2290\n"
     ]
    },
    {
     "name": "stderr",
     "output_type": "stream",
     "text": [
      "Setting num_proc from 6 back to 1 for the train split to disable multiprocessing as it only contains one shard.\n"
     ]
    },
    {
     "data": {
      "application/vnd.jupyter.widget-view+json": {
       "model_id": "3a86263b90814d78bbe2ed4127a49f61",
       "version_major": 2,
       "version_minor": 0
      },
      "text/plain": [
       "Generating train split:   0%|          | 0/1832 [00:00<?, ? examples/s]"
      ]
     },
     "metadata": {},
     "output_type": "display_data"
    },
    {
     "name": "stderr",
     "output_type": "stream",
     "text": [
      "Setting num_proc from 6 back to 1 for the validation split to disable multiprocessing as it only contains one shard.\n"
     ]
    },
    {
     "data": {
      "application/vnd.jupyter.widget-view+json": {
       "model_id": "06260563458645fd9af72515ea79c641",
       "version_major": 2,
       "version_minor": 0
      },
      "text/plain": [
       "Generating validation split:   0%|          | 0/457 [00:00<?, ? examples/s]"
      ]
     },
     "metadata": {},
     "output_type": "display_data"
    },
    {
     "name": "stderr",
     "output_type": "stream",
     "text": [
      "\u001b[32m2024-09-11 18:50:27.360\u001b[0m | \u001b[1mINFO    \u001b[0m | \u001b[36mbenchmark\u001b[0m:\u001b[36m__init__\u001b[0m:\u001b[36m81\u001b[0m - \u001b[1mpath: google/bigbench\n",
      "name: strategyqa\n",
      "total_split: ['default', 'train', 'validation']\n",
      "prior_split: default\n",
      "default: 2289\n",
      "train: 1832\n",
      "validation: 457\n",
      "\u001b[0m\n",
      "\u001b[32m2024-09-11 18:50:27.361\u001b[0m | \u001b[1mINFO    \u001b[0m | \u001b[36mbenchmark\u001b[0m:\u001b[36msample\u001b[0m:\u001b[36m174\u001b[0m - \u001b[1m카테고리가 없어서 전체에서 20개를 샘플링합니다\u001b[0m\n",
      "\u001b[32m2024-09-11 18:50:27.364\u001b[0m | \u001b[1mINFO    \u001b[0m | \u001b[36mbenchmark\u001b[0m:\u001b[36msample\u001b[0m:\u001b[36m183\u001b[0m - \u001b[1m총 20개의 샘플이 있습니다.\u001b[0m\n",
      "\u001b[32m2024-09-11 18:50:27.365\u001b[0m | \u001b[1mINFO    \u001b[0m | \u001b[36mbenchmark\u001b[0m:\u001b[36msave\u001b[0m:\u001b[36m138\u001b[0m - \u001b[1m./tasks/bigbench/bigbench-strategyqa.json에 저장합니다.\u001b[0m\n",
      "\u001b[32m2024-09-11 18:50:27.365\u001b[0m | \u001b[1mINFO    \u001b[0m | \u001b[36mbenchmark\u001b[0m:\u001b[36msave\u001b[0m:\u001b[36m139\u001b[0m - \u001b[1m20의 샘플이 저장됩니다.\u001b[0m\n",
      "Setting num_proc from 6 back to 1 for the default split to disable multiprocessing as it only contains one shard.\n"
     ]
    },
    {
     "data": {
      "application/vnd.jupyter.widget-view+json": {
       "model_id": "d814305a3988404384ca32aed43c11d9",
       "version_major": 2,
       "version_minor": 0
      },
      "text/plain": [
       "Generating default split:   0%|          | 0/39 [00:00<?, ? examples/s]"
      ]
     },
     "metadata": {},
     "output_type": "display_data"
    },
    {
     "name": "stderr",
     "output_type": "stream",
     "text": [
      "Setting num_proc from 6 back to 1 for the train split to disable multiprocessing as it only contains one shard.\n"
     ]
    },
    {
     "data": {
      "application/vnd.jupyter.widget-view+json": {
       "model_id": "371dbe3b4dcc4de0ad55b403b7fe28b7",
       "version_major": 2,
       "version_minor": 0
      },
      "text/plain": [
       "Generating train split:   0%|          | 0/23 [00:00<?, ? examples/s]"
      ]
     },
     "metadata": {},
     "output_type": "display_data"
    },
    {
     "name": "stderr",
     "output_type": "stream",
     "text": [
      "Setting num_proc from 6 back to 1 for the validation split to disable multiprocessing as it only contains one shard.\n"
     ]
    },
    {
     "data": {
      "application/vnd.jupyter.widget-view+json": {
       "model_id": "9bcb49b7d5ea49b49a76e48820a901b6",
       "version_major": 2,
       "version_minor": 0
      },
      "text/plain": [
       "Generating validation split:   0%|          | 0/16 [00:00<?, ? examples/s]"
      ]
     },
     "metadata": {},
     "output_type": "display_data"
    },
    {
     "name": "stderr",
     "output_type": "stream",
     "text": [
      "\u001b[32m2024-09-11 18:50:31.661\u001b[0m | \u001b[1mINFO    \u001b[0m | \u001b[36mbenchmark\u001b[0m:\u001b[36m__init__\u001b[0m:\u001b[36m81\u001b[0m - \u001b[1mpath: google/bigbench\n",
      "name: sufficient_information\n",
      "total_split: ['default', 'train', 'validation']\n",
      "prior_split: default\n",
      "default: 39\n",
      "train: 23\n",
      "validation: 16\n",
      "\u001b[0m\n",
      "\u001b[32m2024-09-11 18:50:31.661\u001b[0m | \u001b[1mINFO    \u001b[0m | \u001b[36mbenchmark\u001b[0m:\u001b[36msample\u001b[0m:\u001b[36m174\u001b[0m - \u001b[1m카테고리가 없어서 전체에서 20개를 샘플링합니다\u001b[0m\n",
      "\u001b[32m2024-09-11 18:50:31.665\u001b[0m | \u001b[1mINFO    \u001b[0m | \u001b[36mbenchmark\u001b[0m:\u001b[36msample\u001b[0m:\u001b[36m183\u001b[0m - \u001b[1m총 20개의 샘플이 있습니다.\u001b[0m\n",
      "\u001b[32m2024-09-11 18:50:31.665\u001b[0m | \u001b[1mINFO    \u001b[0m | \u001b[36mbenchmark\u001b[0m:\u001b[36msave\u001b[0m:\u001b[36m138\u001b[0m - \u001b[1m./tasks/bigbench/bigbench-sufficient_information.json에 저장합니다.\u001b[0m\n",
      "\u001b[32m2024-09-11 18:50:31.666\u001b[0m | \u001b[1mINFO    \u001b[0m | \u001b[36mbenchmark\u001b[0m:\u001b[36msave\u001b[0m:\u001b[36m139\u001b[0m - \u001b[1m20의 샘플이 저장됩니다.\u001b[0m\n",
      "Setting num_proc from 6 back to 1 for the default split to disable multiprocessing as it only contains one shard.\n"
     ]
    },
    {
     "data": {
      "application/vnd.jupyter.widget-view+json": {
       "model_id": "19cd95c1137c43b6be5d848c70cee6ed",
       "version_major": 2,
       "version_minor": 0
      },
      "text/plain": [
       "Generating default split:   0%|          | 0/40 [00:00<?, ? examples/s]"
      ]
     },
     "metadata": {},
     "output_type": "display_data"
    },
    {
     "name": "stderr",
     "output_type": "stream",
     "text": [
      "Setting num_proc from 6 back to 1 for the train split to disable multiprocessing as it only contains one shard.\n"
     ]
    },
    {
     "data": {
      "application/vnd.jupyter.widget-view+json": {
       "model_id": "b0d483cfa1d342558f78a3b5c232a7b5",
       "version_major": 2,
       "version_minor": 0
      },
      "text/plain": [
       "Generating train split:   0%|          | 0/24 [00:00<?, ? examples/s]"
      ]
     },
     "metadata": {},
     "output_type": "display_data"
    },
    {
     "name": "stderr",
     "output_type": "stream",
     "text": [
      "Setting num_proc from 6 back to 1 for the validation split to disable multiprocessing as it only contains one shard.\n"
     ]
    },
    {
     "data": {
      "application/vnd.jupyter.widget-view+json": {
       "model_id": "a5a552f747b74b63b2c5371719cfa2f3",
       "version_major": 2,
       "version_minor": 0
      },
      "text/plain": [
       "Generating validation split:   0%|          | 0/16 [00:00<?, ? examples/s]"
      ]
     },
     "metadata": {},
     "output_type": "display_data"
    },
    {
     "name": "stderr",
     "output_type": "stream",
     "text": [
      "\u001b[32m2024-09-11 18:50:36.609\u001b[0m | \u001b[1mINFO    \u001b[0m | \u001b[36mbenchmark\u001b[0m:\u001b[36m__init__\u001b[0m:\u001b[36m81\u001b[0m - \u001b[1mpath: google/bigbench\n",
      "name: suicide_risk\n",
      "total_split: ['default', 'train', 'validation']\n",
      "prior_split: default\n",
      "default: 40\n",
      "train: 24\n",
      "validation: 16\n",
      "\u001b[0m\n",
      "\u001b[32m2024-09-11 18:50:36.610\u001b[0m | \u001b[1mINFO    \u001b[0m | \u001b[36mbenchmark\u001b[0m:\u001b[36msample\u001b[0m:\u001b[36m174\u001b[0m - \u001b[1m카테고리가 없어서 전체에서 20개를 샘플링합니다\u001b[0m\n",
      "\u001b[32m2024-09-11 18:50:36.614\u001b[0m | \u001b[1mINFO    \u001b[0m | \u001b[36mbenchmark\u001b[0m:\u001b[36msample\u001b[0m:\u001b[36m183\u001b[0m - \u001b[1m총 20개의 샘플이 있습니다.\u001b[0m\n",
      "\u001b[32m2024-09-11 18:50:36.614\u001b[0m | \u001b[1mINFO    \u001b[0m | \u001b[36mbenchmark\u001b[0m:\u001b[36msave\u001b[0m:\u001b[36m138\u001b[0m - \u001b[1m./tasks/bigbench/bigbench-suicide_risk.json에 저장합니다.\u001b[0m\n",
      "\u001b[32m2024-09-11 18:50:36.615\u001b[0m | \u001b[1mINFO    \u001b[0m | \u001b[36mbenchmark\u001b[0m:\u001b[36msave\u001b[0m:\u001b[36m139\u001b[0m - \u001b[1m20의 샘플이 저장됩니다.\u001b[0m\n",
      "Setting num_proc from 6 back to 1 for the default split to disable multiprocessing as it only contains one shard.\n"
     ]
    },
    {
     "data": {
      "application/vnd.jupyter.widget-view+json": {
       "model_id": "cae5801e4c4e4838b9c98cab4453fec5",
       "version_major": 2,
       "version_minor": 0
      },
      "text/plain": [
       "Generating default split:   0%|          | 0/153 [00:00<?, ? examples/s]"
      ]
     },
     "metadata": {},
     "output_type": "display_data"
    },
    {
     "name": "stderr",
     "output_type": "stream",
     "text": [
      "Setting num_proc from 6 back to 1 for the train split to disable multiprocessing as it only contains one shard.\n"
     ]
    },
    {
     "data": {
      "application/vnd.jupyter.widget-view+json": {
       "model_id": "e1f46fbb75ab437b98759b11c92dddcc",
       "version_major": 2,
       "version_minor": 0
      },
      "text/plain": [
       "Generating train split:   0%|          | 0/123 [00:00<?, ? examples/s]"
      ]
     },
     "metadata": {},
     "output_type": "display_data"
    },
    {
     "name": "stderr",
     "output_type": "stream",
     "text": [
      "Setting num_proc from 6 back to 1 for the validation split to disable multiprocessing as it only contains one shard.\n"
     ]
    },
    {
     "data": {
      "application/vnd.jupyter.widget-view+json": {
       "model_id": "143468c0f8c24600950fa7b4600dfdba",
       "version_major": 2,
       "version_minor": 0
      },
      "text/plain": [
       "Generating validation split:   0%|          | 0/30 [00:00<?, ? examples/s]"
      ]
     },
     "metadata": {},
     "output_type": "display_data"
    },
    {
     "name": "stderr",
     "output_type": "stream",
     "text": [
      "\u001b[32m2024-09-11 18:50:40.881\u001b[0m | \u001b[1mINFO    \u001b[0m | \u001b[36mbenchmark\u001b[0m:\u001b[36m__init__\u001b[0m:\u001b[36m81\u001b[0m - \u001b[1mpath: google/bigbench\n",
      "name: swahili_english_proverbs\n",
      "total_split: ['default', 'train', 'validation']\n",
      "prior_split: default\n",
      "default: 153\n",
      "train: 123\n",
      "validation: 30\n",
      "\u001b[0m\n",
      "\u001b[32m2024-09-11 18:50:40.881\u001b[0m | \u001b[1mINFO    \u001b[0m | \u001b[36mbenchmark\u001b[0m:\u001b[36msample\u001b[0m:\u001b[36m174\u001b[0m - \u001b[1m카테고리가 없어서 전체에서 20개를 샘플링합니다\u001b[0m\n",
      "\u001b[32m2024-09-11 18:50:40.885\u001b[0m | \u001b[1mINFO    \u001b[0m | \u001b[36mbenchmark\u001b[0m:\u001b[36msample\u001b[0m:\u001b[36m183\u001b[0m - \u001b[1m총 20개의 샘플이 있습니다.\u001b[0m\n",
      "\u001b[32m2024-09-11 18:50:40.885\u001b[0m | \u001b[1mINFO    \u001b[0m | \u001b[36mbenchmark\u001b[0m:\u001b[36msave\u001b[0m:\u001b[36m138\u001b[0m - \u001b[1m./tasks/bigbench/bigbench-swahili_english_proverbs.json에 저장합니다.\u001b[0m\n",
      "\u001b[32m2024-09-11 18:50:40.885\u001b[0m | \u001b[1mINFO    \u001b[0m | \u001b[36mbenchmark\u001b[0m:\u001b[36msave\u001b[0m:\u001b[36m139\u001b[0m - \u001b[1m20의 샘플이 저장됩니다.\u001b[0m\n",
      "Setting num_proc from 6 back to 1 for the default split to disable multiprocessing as it only contains one shard.\n"
     ]
    },
    {
     "data": {
      "application/vnd.jupyter.widget-view+json": {
       "model_id": "14a953f1dbd14c178879cb83fbe815d5",
       "version_major": 2,
       "version_minor": 0
      },
      "text/plain": [
       "Generating default split:   0%|          | 0/72 [00:00<?, ? examples/s]"
      ]
     },
     "metadata": {},
     "output_type": "display_data"
    },
    {
     "name": "stderr",
     "output_type": "stream",
     "text": [
      "Setting num_proc from 6 back to 1 for the train split to disable multiprocessing as it only contains one shard.\n"
     ]
    },
    {
     "data": {
      "application/vnd.jupyter.widget-view+json": {
       "model_id": "639ec834836f4ceabf141ab2a72bc1d9",
       "version_major": 2,
       "version_minor": 0
      },
      "text/plain": [
       "Generating train split:   0%|          | 0/56 [00:00<?, ? examples/s]"
      ]
     },
     "metadata": {},
     "output_type": "display_data"
    },
    {
     "name": "stderr",
     "output_type": "stream",
     "text": [
      "Setting num_proc from 6 back to 1 for the validation split to disable multiprocessing as it only contains one shard.\n"
     ]
    },
    {
     "data": {
      "application/vnd.jupyter.widget-view+json": {
       "model_id": "738c1eb0a5734839a3480fd8b5fcdcf8",
       "version_major": 2,
       "version_minor": 0
      },
      "text/plain": [
       "Generating validation split:   0%|          | 0/16 [00:00<?, ? examples/s]"
      ]
     },
     "metadata": {},
     "output_type": "display_data"
    },
    {
     "name": "stderr",
     "output_type": "stream",
     "text": [
      "\u001b[32m2024-09-11 18:50:45.207\u001b[0m | \u001b[1mINFO    \u001b[0m | \u001b[36mbenchmark\u001b[0m:\u001b[36m__init__\u001b[0m:\u001b[36m81\u001b[0m - \u001b[1mpath: google/bigbench\n",
      "name: swedish_to_german_proverbs\n",
      "total_split: ['default', 'train', 'validation']\n",
      "prior_split: default\n",
      "default: 72\n",
      "train: 56\n",
      "validation: 16\n",
      "\u001b[0m\n",
      "\u001b[32m2024-09-11 18:50:45.207\u001b[0m | \u001b[1mINFO    \u001b[0m | \u001b[36mbenchmark\u001b[0m:\u001b[36msample\u001b[0m:\u001b[36m174\u001b[0m - \u001b[1m카테고리가 없어서 전체에서 20개를 샘플링합니다\u001b[0m\n",
      "\u001b[32m2024-09-11 18:50:45.211\u001b[0m | \u001b[1mINFO    \u001b[0m | \u001b[36mbenchmark\u001b[0m:\u001b[36msample\u001b[0m:\u001b[36m183\u001b[0m - \u001b[1m총 20개의 샘플이 있습니다.\u001b[0m\n",
      "\u001b[32m2024-09-11 18:50:45.212\u001b[0m | \u001b[1mINFO    \u001b[0m | \u001b[36mbenchmark\u001b[0m:\u001b[36msave\u001b[0m:\u001b[36m138\u001b[0m - \u001b[1m./tasks/bigbench/bigbench-swedish_to_german_proverbs.json에 저장합니다.\u001b[0m\n",
      "\u001b[32m2024-09-11 18:50:45.212\u001b[0m | \u001b[1mINFO    \u001b[0m | \u001b[36mbenchmark\u001b[0m:\u001b[36msave\u001b[0m:\u001b[36m139\u001b[0m - \u001b[1m20의 샘플이 저장됩니다.\u001b[0m\n",
      "Setting num_proc from 6 back to 1 for the default split to disable multiprocessing as it only contains one shard.\n"
     ]
    },
    {
     "data": {
      "application/vnd.jupyter.widget-view+json": {
       "model_id": "3dd9c6de065f478fa0731fa4a234dcc0",
       "version_major": 2,
       "version_minor": 0
      },
      "text/plain": [
       "Generating default split:   0%|          | 0/990 [00:00<?, ? examples/s]"
      ]
     },
     "metadata": {},
     "output_type": "display_data"
    },
    {
     "name": "stderr",
     "output_type": "stream",
     "text": [
      "Setting num_proc from 6 back to 1 for the train split to disable multiprocessing as it only contains one shard.\n"
     ]
    },
    {
     "data": {
      "application/vnd.jupyter.widget-view+json": {
       "model_id": "f14642e0559b42b3b01a6240bd0c4ad5",
       "version_major": 2,
       "version_minor": 0
      },
      "text/plain": [
       "Generating train split:   0%|          | 0/795 [00:00<?, ? examples/s]"
      ]
     },
     "metadata": {},
     "output_type": "display_data"
    },
    {
     "name": "stderr",
     "output_type": "stream",
     "text": [
      "Setting num_proc from 6 back to 1 for the validation split to disable multiprocessing as it only contains one shard.\n"
     ]
    },
    {
     "data": {
      "application/vnd.jupyter.widget-view+json": {
       "model_id": "6ae9aaf64c4f47bdbff17dd6971812a3",
       "version_major": 2,
       "version_minor": 0
      },
      "text/plain": [
       "Generating validation split:   0%|          | 0/195 [00:00<?, ? examples/s]"
      ]
     },
     "metadata": {},
     "output_type": "display_data"
    },
    {
     "name": "stderr",
     "output_type": "stream",
     "text": [
      "\u001b[32m2024-09-11 18:50:50.341\u001b[0m | \u001b[1mINFO    \u001b[0m | \u001b[36mbenchmark\u001b[0m:\u001b[36m__init__\u001b[0m:\u001b[36m81\u001b[0m - \u001b[1mpath: google/bigbench\n",
      "name: symbol_interpretation\n",
      "total_split: ['default', 'train', 'validation']\n",
      "prior_split: default\n",
      "default: 990\n",
      "train: 795\n",
      "validation: 195\n",
      "\u001b[0m\n",
      "\u001b[32m2024-09-11 18:50:50.341\u001b[0m | \u001b[1mINFO    \u001b[0m | \u001b[36mbenchmark\u001b[0m:\u001b[36msample\u001b[0m:\u001b[36m174\u001b[0m - \u001b[1m카테고리가 없어서 전체에서 20개를 샘플링합니다\u001b[0m\n",
      "\u001b[32m2024-09-11 18:50:50.345\u001b[0m | \u001b[1mINFO    \u001b[0m | \u001b[36mbenchmark\u001b[0m:\u001b[36msample\u001b[0m:\u001b[36m183\u001b[0m - \u001b[1m총 20개의 샘플이 있습니다.\u001b[0m\n",
      "\u001b[32m2024-09-11 18:50:50.345\u001b[0m | \u001b[1mINFO    \u001b[0m | \u001b[36mbenchmark\u001b[0m:\u001b[36msave\u001b[0m:\u001b[36m138\u001b[0m - \u001b[1m./tasks/bigbench/bigbench-symbol_interpretation.json에 저장합니다.\u001b[0m\n",
      "\u001b[32m2024-09-11 18:50:50.346\u001b[0m | \u001b[1mINFO    \u001b[0m | \u001b[36mbenchmark\u001b[0m:\u001b[36msave\u001b[0m:\u001b[36m139\u001b[0m - \u001b[1m20의 샘플이 저장됩니다.\u001b[0m\n",
      "Setting num_proc from 6 back to 1 for the default split to disable multiprocessing as it only contains one shard.\n"
     ]
    },
    {
     "data": {
      "application/vnd.jupyter.widget-view+json": {
       "model_id": "8910393f882e4f06aea69b6d3817393f",
       "version_major": 2,
       "version_minor": 0
      },
      "text/plain": [
       "Generating default split:   0%|          | 0/1000 [00:00<?, ? examples/s]"
      ]
     },
     "metadata": {},
     "output_type": "display_data"
    },
    {
     "name": "stderr",
     "output_type": "stream",
     "text": [
      "Setting num_proc from 6 back to 1 for the train split to disable multiprocessing as it only contains one shard.\n"
     ]
    },
    {
     "data": {
      "application/vnd.jupyter.widget-view+json": {
       "model_id": "b15f29b0870245dd8366d07e4deb5900",
       "version_major": 2,
       "version_minor": 0
      },
      "text/plain": [
       "Generating train split:   0%|          | 0/800 [00:00<?, ? examples/s]"
      ]
     },
     "metadata": {},
     "output_type": "display_data"
    },
    {
     "name": "stderr",
     "output_type": "stream",
     "text": [
      "Setting num_proc from 6 back to 1 for the validation split to disable multiprocessing as it only contains one shard.\n"
     ]
    },
    {
     "data": {
      "application/vnd.jupyter.widget-view+json": {
       "model_id": "96b8b3afde374202ad9440d2ae3bf0f9",
       "version_major": 2,
       "version_minor": 0
      },
      "text/plain": [
       "Generating validation split:   0%|          | 0/200 [00:00<?, ? examples/s]"
      ]
     },
     "metadata": {},
     "output_type": "display_data"
    },
    {
     "name": "stderr",
     "output_type": "stream",
     "text": [
      "\u001b[32m2024-09-11 18:50:55.048\u001b[0m | \u001b[1mINFO    \u001b[0m | \u001b[36mbenchmark\u001b[0m:\u001b[36m__init__\u001b[0m:\u001b[36m81\u001b[0m - \u001b[1mpath: google/bigbench\n",
      "name: temporal_sequences\n",
      "total_split: ['default', 'train', 'validation']\n",
      "prior_split: default\n",
      "default: 1000\n",
      "train: 800\n",
      "validation: 200\n",
      "\u001b[0m\n",
      "\u001b[32m2024-09-11 18:50:55.049\u001b[0m | \u001b[1mINFO    \u001b[0m | \u001b[36mbenchmark\u001b[0m:\u001b[36msample\u001b[0m:\u001b[36m174\u001b[0m - \u001b[1m카테고리가 없어서 전체에서 20개를 샘플링합니다\u001b[0m\n",
      "\u001b[32m2024-09-11 18:50:55.053\u001b[0m | \u001b[1mINFO    \u001b[0m | \u001b[36mbenchmark\u001b[0m:\u001b[36msample\u001b[0m:\u001b[36m183\u001b[0m - \u001b[1m총 20개의 샘플이 있습니다.\u001b[0m\n",
      "\u001b[32m2024-09-11 18:50:55.054\u001b[0m | \u001b[1mINFO    \u001b[0m | \u001b[36mbenchmark\u001b[0m:\u001b[36msave\u001b[0m:\u001b[36m138\u001b[0m - \u001b[1m./tasks/bigbench/bigbench-temporal_sequences.json에 저장합니다.\u001b[0m\n",
      "\u001b[32m2024-09-11 18:50:55.054\u001b[0m | \u001b[1mINFO    \u001b[0m | \u001b[36mbenchmark\u001b[0m:\u001b[36msave\u001b[0m:\u001b[36m139\u001b[0m - \u001b[1m20의 샘플이 저장됩니다.\u001b[0m\n",
      "Setting num_proc from 6 back to 1 for the default split to disable multiprocessing as it only contains one shard.\n"
     ]
    },
    {
     "data": {
      "application/vnd.jupyter.widget-view+json": {
       "model_id": "54a8e23ee60746ebb124a252a218c9bc",
       "version_major": 2,
       "version_minor": 0
      },
      "text/plain": [
       "Generating default split:   0%|          | 0/286 [00:00<?, ? examples/s]"
      ]
     },
     "metadata": {},
     "output_type": "display_data"
    },
    {
     "name": "stderr",
     "output_type": "stream",
     "text": [
      "Setting num_proc from 6 back to 1 for the train split to disable multiprocessing as it only contains one shard.\n"
     ]
    },
    {
     "data": {
      "application/vnd.jupyter.widget-view+json": {
       "model_id": "babdf51e2b8d4b65af691ee3001de86a",
       "version_major": 2,
       "version_minor": 0
      },
      "text/plain": [
       "Generating train split:   0%|          | 0/229 [00:00<?, ? examples/s]"
      ]
     },
     "metadata": {},
     "output_type": "display_data"
    },
    {
     "name": "stderr",
     "output_type": "stream",
     "text": [
      "Setting num_proc from 6 back to 1 for the validation split to disable multiprocessing as it only contains one shard.\n"
     ]
    },
    {
     "data": {
      "application/vnd.jupyter.widget-view+json": {
       "model_id": "7090d5b9b67f4da3ad95aa51b77d1fc2",
       "version_major": 2,
       "version_minor": 0
      },
      "text/plain": [
       "Generating validation split:   0%|          | 0/57 [00:00<?, ? examples/s]"
      ]
     },
     "metadata": {},
     "output_type": "display_data"
    },
    {
     "name": "stderr",
     "output_type": "stream",
     "text": [
      "\u001b[32m2024-09-11 18:50:59.428\u001b[0m | \u001b[1mINFO    \u001b[0m | \u001b[36mbenchmark\u001b[0m:\u001b[36m__init__\u001b[0m:\u001b[36m81\u001b[0m - \u001b[1mpath: google/bigbench\n",
      "name: tense\n",
      "total_split: ['default', 'train', 'validation']\n",
      "prior_split: default\n",
      "default: 286\n",
      "train: 229\n",
      "validation: 57\n",
      "\u001b[0m\n",
      "\u001b[32m2024-09-11 18:50:59.429\u001b[0m | \u001b[1mINFO    \u001b[0m | \u001b[36mbenchmark\u001b[0m:\u001b[36msample\u001b[0m:\u001b[36m174\u001b[0m - \u001b[1m카테고리가 없어서 전체에서 20개를 샘플링합니다\u001b[0m\n",
      "\u001b[32m2024-09-11 18:50:59.432\u001b[0m | \u001b[1mINFO    \u001b[0m | \u001b[36mbenchmark\u001b[0m:\u001b[36msample\u001b[0m:\u001b[36m183\u001b[0m - \u001b[1m총 20개의 샘플이 있습니다.\u001b[0m\n",
      "\u001b[32m2024-09-11 18:50:59.433\u001b[0m | \u001b[1mINFO    \u001b[0m | \u001b[36mbenchmark\u001b[0m:\u001b[36msave\u001b[0m:\u001b[36m138\u001b[0m - \u001b[1m./tasks/bigbench/bigbench-tense.json에 저장합니다.\u001b[0m\n",
      "\u001b[32m2024-09-11 18:50:59.433\u001b[0m | \u001b[1mINFO    \u001b[0m | \u001b[36mbenchmark\u001b[0m:\u001b[36msave\u001b[0m:\u001b[36m139\u001b[0m - \u001b[1m20의 샘플이 저장됩니다.\u001b[0m\n",
      "Setting num_proc from 6 back to 1 for the default split to disable multiprocessing as it only contains one shard.\n"
     ]
    },
    {
     "data": {
      "application/vnd.jupyter.widget-view+json": {
       "model_id": "bda10e713ae743cd80afe8837cb965fd",
       "version_major": 2,
       "version_minor": 0
      },
      "text/plain": [
       "Generating default split:   0%|          | 0/2550 [00:00<?, ? examples/s]"
      ]
     },
     "metadata": {},
     "output_type": "display_data"
    },
    {
     "name": "stderr",
     "output_type": "stream",
     "text": [
      "Setting num_proc from 6 back to 1 for the train split to disable multiprocessing as it only contains one shard.\n"
     ]
    },
    {
     "data": {
      "application/vnd.jupyter.widget-view+json": {
       "model_id": "4751c2d0fded4488850223dec5725dbb",
       "version_major": 2,
       "version_minor": 0
      },
      "text/plain": [
       "Generating train split:   0%|          | 0/2040 [00:00<?, ? examples/s]"
      ]
     },
     "metadata": {},
     "output_type": "display_data"
    },
    {
     "name": "stderr",
     "output_type": "stream",
     "text": [
      "Setting num_proc from 6 back to 1 for the validation split to disable multiprocessing as it only contains one shard.\n"
     ]
    },
    {
     "data": {
      "application/vnd.jupyter.widget-view+json": {
       "model_id": "b0bf5a37e38c443b835ea68afecab9aa",
       "version_major": 2,
       "version_minor": 0
      },
      "text/plain": [
       "Generating validation split:   0%|          | 0/510 [00:00<?, ? examples/s]"
      ]
     },
     "metadata": {},
     "output_type": "display_data"
    },
    {
     "name": "stderr",
     "output_type": "stream",
     "text": [
      "\u001b[32m2024-09-11 18:51:05.327\u001b[0m | \u001b[1mINFO    \u001b[0m | \u001b[36mbenchmark\u001b[0m:\u001b[36m__init__\u001b[0m:\u001b[36m81\u001b[0m - \u001b[1mpath: google/bigbench\n",
      "name: timedial\n",
      "total_split: ['default', 'train', 'validation']\n",
      "prior_split: default\n",
      "default: 2550\n",
      "train: 2040\n",
      "validation: 510\n",
      "\u001b[0m\n",
      "\u001b[32m2024-09-11 18:51:05.327\u001b[0m | \u001b[1mINFO    \u001b[0m | \u001b[36mbenchmark\u001b[0m:\u001b[36msample\u001b[0m:\u001b[36m174\u001b[0m - \u001b[1m카테고리가 없어서 전체에서 20개를 샘플링합니다\u001b[0m\n",
      "\u001b[32m2024-09-11 18:51:05.331\u001b[0m | \u001b[1mINFO    \u001b[0m | \u001b[36mbenchmark\u001b[0m:\u001b[36msample\u001b[0m:\u001b[36m183\u001b[0m - \u001b[1m총 20개의 샘플이 있습니다.\u001b[0m\n",
      "\u001b[32m2024-09-11 18:51:05.332\u001b[0m | \u001b[1mINFO    \u001b[0m | \u001b[36mbenchmark\u001b[0m:\u001b[36msave\u001b[0m:\u001b[36m138\u001b[0m - \u001b[1m./tasks/bigbench/bigbench-timedial.json에 저장합니다.\u001b[0m\n",
      "\u001b[32m2024-09-11 18:51:05.332\u001b[0m | \u001b[1mINFO    \u001b[0m | \u001b[36mbenchmark\u001b[0m:\u001b[36msave\u001b[0m:\u001b[36m139\u001b[0m - \u001b[1m20의 샘플이 저장됩니다.\u001b[0m\n",
      "Setting num_proc from 6 back to 1 for the default split to disable multiprocessing as it only contains one shard.\n"
     ]
    },
    {
     "data": {
      "application/vnd.jupyter.widget-view+json": {
       "model_id": "c1e1283c6f644bbe8d6e834bc9bafaf4",
       "version_major": 2,
       "version_minor": 0
      },
      "text/plain": [
       "Generating default split:   0%|          | 0/22295 [00:00<?, ? examples/s]"
      ]
     },
     "metadata": {},
     "output_type": "display_data"
    },
    {
     "name": "stderr",
     "output_type": "stream",
     "text": [
      "Setting num_proc from 6 back to 1 for the train split to disable multiprocessing as it only contains one shard.\n"
     ]
    },
    {
     "data": {
      "application/vnd.jupyter.widget-view+json": {
       "model_id": "a6bf7694c6a44b9d863e17a1a3b17d3e",
       "version_major": 2,
       "version_minor": 0
      },
      "text/plain": [
       "Generating train split:   0%|          | 0/17836 [00:00<?, ? examples/s]"
      ]
     },
     "metadata": {},
     "output_type": "display_data"
    },
    {
     "name": "stderr",
     "output_type": "stream",
     "text": [
      "Setting num_proc from 6 back to 1 for the validation split to disable multiprocessing as it only contains one shard.\n"
     ]
    },
    {
     "data": {
      "application/vnd.jupyter.widget-view+json": {
       "model_id": "65f1828d167a4481ba46c7addc18fd01",
       "version_major": 2,
       "version_minor": 0
      },
      "text/plain": [
       "Generating validation split:   0%|          | 0/4459 [00:00<?, ? examples/s]"
      ]
     },
     "metadata": {},
     "output_type": "display_data"
    },
    {
     "name": "stderr",
     "output_type": "stream",
     "text": [
      "\u001b[32m2024-09-11 18:51:24.354\u001b[0m | \u001b[1mINFO    \u001b[0m | \u001b[36mbenchmark\u001b[0m:\u001b[36m__init__\u001b[0m:\u001b[36m81\u001b[0m - \u001b[1mpath: google/bigbench\n",
      "name: topical_chat\n",
      "total_split: ['default', 'train', 'validation']\n",
      "prior_split: default\n",
      "default: 22295\n",
      "train: 17836\n",
      "validation: 4459\n",
      "\u001b[0m\n",
      "\u001b[32m2024-09-11 18:51:24.354\u001b[0m | \u001b[1mINFO    \u001b[0m | \u001b[36mbenchmark\u001b[0m:\u001b[36msample\u001b[0m:\u001b[36m174\u001b[0m - \u001b[1m카테고리가 없어서 전체에서 20개를 샘플링합니다\u001b[0m\n",
      "\u001b[32m2024-09-11 18:51:24.358\u001b[0m | \u001b[1mINFO    \u001b[0m | \u001b[36mbenchmark\u001b[0m:\u001b[36msample\u001b[0m:\u001b[36m183\u001b[0m - \u001b[1m총 20개의 샘플이 있습니다.\u001b[0m\n",
      "\u001b[32m2024-09-11 18:51:24.359\u001b[0m | \u001b[1mINFO    \u001b[0m | \u001b[36mbenchmark\u001b[0m:\u001b[36msave\u001b[0m:\u001b[36m138\u001b[0m - \u001b[1m./tasks/bigbench/bigbench-topical_chat.json에 저장합니다.\u001b[0m\n",
      "\u001b[32m2024-09-11 18:51:24.359\u001b[0m | \u001b[1mINFO    \u001b[0m | \u001b[36mbenchmark\u001b[0m:\u001b[36msave\u001b[0m:\u001b[36m139\u001b[0m - \u001b[1m20의 샘플이 저장됩니다.\u001b[0m\n",
      "Setting num_proc from 6 back to 1 for the default split to disable multiprocessing as it only contains one shard.\n"
     ]
    },
    {
     "data": {
      "application/vnd.jupyter.widget-view+json": {
       "model_id": "aaab82cc998a4ba1808edfe4951b8e0d",
       "version_major": 2,
       "version_minor": 0
      },
      "text/plain": [
       "Generating default split:   0%|          | 0/3750 [00:00<?, ? examples/s]"
      ]
     },
     "metadata": {},
     "output_type": "display_data"
    },
    {
     "name": "stderr",
     "output_type": "stream",
     "text": [
      "Setting num_proc from 6 back to 1 for the train split to disable multiprocessing as it only contains one shard.\n"
     ]
    },
    {
     "data": {
      "application/vnd.jupyter.widget-view+json": {
       "model_id": "a0d10d67b53049ea933cab087ffe0ca2",
       "version_major": 2,
       "version_minor": 0
      },
      "text/plain": [
       "Generating train split:   0%|          | 0/3000 [00:00<?, ? examples/s]"
      ]
     },
     "metadata": {},
     "output_type": "display_data"
    },
    {
     "name": "stderr",
     "output_type": "stream",
     "text": [
      "Setting num_proc from 6 back to 1 for the validation split to disable multiprocessing as it only contains one shard.\n"
     ]
    },
    {
     "data": {
      "application/vnd.jupyter.widget-view+json": {
       "model_id": "11bf83cca3c24fedb2ccf4ac7f403612",
       "version_major": 2,
       "version_minor": 0
      },
      "text/plain": [
       "Generating validation split:   0%|          | 0/750 [00:00<?, ? examples/s]"
      ]
     },
     "metadata": {},
     "output_type": "display_data"
    },
    {
     "name": "stderr",
     "output_type": "stream",
     "text": [
      "\u001b[32m2024-09-11 18:51:31.652\u001b[0m | \u001b[1mINFO    \u001b[0m | \u001b[36mbenchmark\u001b[0m:\u001b[36m__init__\u001b[0m:\u001b[36m81\u001b[0m - \u001b[1mpath: google/bigbench\n",
      "name: tracking_shuffled_objects\n",
      "total_split: ['default', 'train', 'validation']\n",
      "prior_split: default\n",
      "default: 3750\n",
      "train: 3000\n",
      "validation: 750\n",
      "\u001b[0m\n",
      "\u001b[32m2024-09-11 18:51:31.652\u001b[0m | \u001b[1mINFO    \u001b[0m | \u001b[36mbenchmark\u001b[0m:\u001b[36msample\u001b[0m:\u001b[36m174\u001b[0m - \u001b[1m카테고리가 없어서 전체에서 20개를 샘플링합니다\u001b[0m\n",
      "\u001b[32m2024-09-11 18:51:31.656\u001b[0m | \u001b[1mINFO    \u001b[0m | \u001b[36mbenchmark\u001b[0m:\u001b[36msample\u001b[0m:\u001b[36m183\u001b[0m - \u001b[1m총 20개의 샘플이 있습니다.\u001b[0m\n",
      "\u001b[32m2024-09-11 18:51:31.657\u001b[0m | \u001b[1mINFO    \u001b[0m | \u001b[36mbenchmark\u001b[0m:\u001b[36msave\u001b[0m:\u001b[36m138\u001b[0m - \u001b[1m./tasks/bigbench/bigbench-tracking_shuffled_objects.json에 저장합니다.\u001b[0m\n",
      "\u001b[32m2024-09-11 18:51:31.657\u001b[0m | \u001b[1mINFO    \u001b[0m | \u001b[36mbenchmark\u001b[0m:\u001b[36msave\u001b[0m:\u001b[36m139\u001b[0m - \u001b[1m20의 샘플이 저장됩니다.\u001b[0m\n",
      "Setting num_proc from 6 back to 1 for the default split to disable multiprocessing as it only contains one shard.\n"
     ]
    },
    {
     "data": {
      "application/vnd.jupyter.widget-view+json": {
       "model_id": "501b8ad32c1542318d09c5f1ff505a91",
       "version_major": 2,
       "version_minor": 0
      },
      "text/plain": [
       "Generating default split:   0%|          | 0/189 [00:00<?, ? examples/s]"
      ]
     },
     "metadata": {},
     "output_type": "display_data"
    },
    {
     "name": "stderr",
     "output_type": "stream",
     "text": [
      "Setting num_proc from 6 back to 1 for the train split to disable multiprocessing as it only contains one shard.\n"
     ]
    },
    {
     "data": {
      "application/vnd.jupyter.widget-view+json": {
       "model_id": "245c9a883b664b1295a2067d314c28a0",
       "version_major": 2,
       "version_minor": 0
      },
      "text/plain": [
       "Generating train split:   0%|          | 0/152 [00:00<?, ? examples/s]"
      ]
     },
     "metadata": {},
     "output_type": "display_data"
    },
    {
     "name": "stderr",
     "output_type": "stream",
     "text": [
      "Setting num_proc from 6 back to 1 for the validation split to disable multiprocessing as it only contains one shard.\n"
     ]
    },
    {
     "data": {
      "application/vnd.jupyter.widget-view+json": {
       "model_id": "5def767f43a44f149071173b425ea5c1",
       "version_major": 2,
       "version_minor": 0
      },
      "text/plain": [
       "Generating validation split:   0%|          | 0/37 [00:00<?, ? examples/s]"
      ]
     },
     "metadata": {},
     "output_type": "display_data"
    },
    {
     "name": "stderr",
     "output_type": "stream",
     "text": [
      "\u001b[32m2024-09-11 18:51:36.366\u001b[0m | \u001b[1mINFO    \u001b[0m | \u001b[36mbenchmark\u001b[0m:\u001b[36m__init__\u001b[0m:\u001b[36m81\u001b[0m - \u001b[1mpath: google/bigbench\n",
      "name: understanding_fables\n",
      "total_split: ['default', 'train', 'validation']\n",
      "prior_split: default\n",
      "default: 189\n",
      "train: 152\n",
      "validation: 37\n",
      "\u001b[0m\n",
      "\u001b[32m2024-09-11 18:51:36.367\u001b[0m | \u001b[1mINFO    \u001b[0m | \u001b[36mbenchmark\u001b[0m:\u001b[36msample\u001b[0m:\u001b[36m174\u001b[0m - \u001b[1m카테고리가 없어서 전체에서 20개를 샘플링합니다\u001b[0m\n",
      "\u001b[32m2024-09-11 18:51:36.371\u001b[0m | \u001b[1mINFO    \u001b[0m | \u001b[36mbenchmark\u001b[0m:\u001b[36msample\u001b[0m:\u001b[36m183\u001b[0m - \u001b[1m총 20개의 샘플이 있습니다.\u001b[0m\n",
      "\u001b[32m2024-09-11 18:51:36.371\u001b[0m | \u001b[1mINFO    \u001b[0m | \u001b[36mbenchmark\u001b[0m:\u001b[36msave\u001b[0m:\u001b[36m138\u001b[0m - \u001b[1m./tasks/bigbench/bigbench-understanding_fables.json에 저장합니다.\u001b[0m\n",
      "\u001b[32m2024-09-11 18:51:36.372\u001b[0m | \u001b[1mINFO    \u001b[0m | \u001b[36mbenchmark\u001b[0m:\u001b[36msave\u001b[0m:\u001b[36m139\u001b[0m - \u001b[1m20의 샘플이 저장됩니다.\u001b[0m\n",
      "Setting num_proc from 6 back to 1 for the default split to disable multiprocessing as it only contains one shard.\n"
     ]
    },
    {
     "data": {
      "application/vnd.jupyter.widget-view+json": {
       "model_id": "f09ab12267ae49c6b867cde719bf92e0",
       "version_major": 2,
       "version_minor": 0
      },
      "text/plain": [
       "Generating default split:   0%|          | 0/300 [00:00<?, ? examples/s]"
      ]
     },
     "metadata": {},
     "output_type": "display_data"
    },
    {
     "name": "stderr",
     "output_type": "stream",
     "text": [
      "Setting num_proc from 6 back to 1 for the train split to disable multiprocessing as it only contains one shard.\n"
     ]
    },
    {
     "data": {
      "application/vnd.jupyter.widget-view+json": {
       "model_id": "4b512465067448f7a9f542cd991c11b5",
       "version_major": 2,
       "version_minor": 0
      },
      "text/plain": [
       "Generating train split:   0%|          | 0/240 [00:00<?, ? examples/s]"
      ]
     },
     "metadata": {},
     "output_type": "display_data"
    },
    {
     "name": "stderr",
     "output_type": "stream",
     "text": [
      "Setting num_proc from 6 back to 1 for the validation split to disable multiprocessing as it only contains one shard.\n"
     ]
    },
    {
     "data": {
      "application/vnd.jupyter.widget-view+json": {
       "model_id": "e895774cdf114300881b138ff9d0c297",
       "version_major": 2,
       "version_minor": 0
      },
      "text/plain": [
       "Generating validation split:   0%|          | 0/60 [00:00<?, ? examples/s]"
      ]
     },
     "metadata": {},
     "output_type": "display_data"
    },
    {
     "name": "stderr",
     "output_type": "stream",
     "text": [
      "\u001b[32m2024-09-11 18:51:40.462\u001b[0m | \u001b[1mINFO    \u001b[0m | \u001b[36mbenchmark\u001b[0m:\u001b[36m__init__\u001b[0m:\u001b[36m81\u001b[0m - \u001b[1mpath: google/bigbench\n",
      "name: undo_permutation\n",
      "total_split: ['default', 'train', 'validation']\n",
      "prior_split: default\n",
      "default: 300\n",
      "train: 240\n",
      "validation: 60\n",
      "\u001b[0m\n",
      "\u001b[32m2024-09-11 18:51:40.462\u001b[0m | \u001b[1mINFO    \u001b[0m | \u001b[36mbenchmark\u001b[0m:\u001b[36msample\u001b[0m:\u001b[36m174\u001b[0m - \u001b[1m카테고리가 없어서 전체에서 20개를 샘플링합니다\u001b[0m\n",
      "\u001b[32m2024-09-11 18:51:40.466\u001b[0m | \u001b[1mINFO    \u001b[0m | \u001b[36mbenchmark\u001b[0m:\u001b[36msample\u001b[0m:\u001b[36m183\u001b[0m - \u001b[1m총 20개의 샘플이 있습니다.\u001b[0m\n",
      "\u001b[32m2024-09-11 18:51:40.466\u001b[0m | \u001b[1mINFO    \u001b[0m | \u001b[36mbenchmark\u001b[0m:\u001b[36msave\u001b[0m:\u001b[36m138\u001b[0m - \u001b[1m./tasks/bigbench/bigbench-undo_permutation.json에 저장합니다.\u001b[0m\n",
      "\u001b[32m2024-09-11 18:51:40.466\u001b[0m | \u001b[1mINFO    \u001b[0m | \u001b[36mbenchmark\u001b[0m:\u001b[36msave\u001b[0m:\u001b[36m139\u001b[0m - \u001b[1m20의 샘플이 저장됩니다.\u001b[0m\n",
      "Setting num_proc from 6 back to 1 for the default split to disable multiprocessing as it only contains one shard.\n"
     ]
    },
    {
     "data": {
      "application/vnd.jupyter.widget-view+json": {
       "model_id": "12c5f0e3fad94ef187cb68fed98bd26f",
       "version_major": 2,
       "version_minor": 0
      },
      "text/plain": [
       "Generating default split:   0%|          | 0/23936 [00:00<?, ? examples/s]"
      ]
     },
     "metadata": {},
     "output_type": "display_data"
    },
    {
     "name": "stdout",
     "output_type": "stream",
     "text": [
      "warning: unit_conversion:unit_addition_general has 2 duplicate examples out of 3000\n",
      "warning: unit_conversion:unit_addition_same has 1 duplicate examples out of 3000\n",
      "warning: unit_conversion:unit_conversion_with_relative_error has 61 duplicate examples out of 3000\n"
     ]
    },
    {
     "name": "stderr",
     "output_type": "stream",
     "text": [
      "Setting num_proc from 6 back to 1 for the train split to disable multiprocessing as it only contains one shard.\n"
     ]
    },
    {
     "data": {
      "application/vnd.jupyter.widget-view+json": {
       "model_id": "a24535de524c4aee8440e15031099804",
       "version_major": 2,
       "version_minor": 0
      },
      "text/plain": [
       "Generating train split:   0%|          | 0/19151 [00:00<?, ? examples/s]"
      ]
     },
     "metadata": {},
     "output_type": "display_data"
    },
    {
     "name": "stderr",
     "output_type": "stream",
     "text": [
      "Setting num_proc from 6 back to 1 for the validation split to disable multiprocessing as it only contains one shard.\n"
     ]
    },
    {
     "data": {
      "application/vnd.jupyter.widget-view+json": {
       "model_id": "3b1329dc93224e2da0fb9ae2b77b30ff",
       "version_major": 2,
       "version_minor": 0
      },
      "text/plain": [
       "Generating validation split:   0%|          | 0/4785 [00:00<?, ? examples/s]"
      ]
     },
     "metadata": {},
     "output_type": "display_data"
    },
    {
     "name": "stderr",
     "output_type": "stream",
     "text": [
      "\u001b[32m2024-09-11 18:52:01.303\u001b[0m | \u001b[1mINFO    \u001b[0m | \u001b[36mbenchmark\u001b[0m:\u001b[36m__init__\u001b[0m:\u001b[36m81\u001b[0m - \u001b[1mpath: google/bigbench\n",
      "name: unit_conversion\n",
      "total_split: ['default', 'train', 'validation']\n",
      "prior_split: default\n",
      "default: 23936\n",
      "train: 19151\n",
      "validation: 4785\n",
      "\u001b[0m\n",
      "\u001b[32m2024-09-11 18:52:01.303\u001b[0m | \u001b[1mINFO    \u001b[0m | \u001b[36mbenchmark\u001b[0m:\u001b[36msample\u001b[0m:\u001b[36m174\u001b[0m - \u001b[1m카테고리가 없어서 전체에서 20개를 샘플링합니다\u001b[0m\n",
      "\u001b[32m2024-09-11 18:52:01.308\u001b[0m | \u001b[1mINFO    \u001b[0m | \u001b[36mbenchmark\u001b[0m:\u001b[36msample\u001b[0m:\u001b[36m183\u001b[0m - \u001b[1m총 20개의 샘플이 있습니다.\u001b[0m\n",
      "\u001b[32m2024-09-11 18:52:01.308\u001b[0m | \u001b[1mINFO    \u001b[0m | \u001b[36mbenchmark\u001b[0m:\u001b[36msave\u001b[0m:\u001b[36m138\u001b[0m - \u001b[1m./tasks/bigbench/bigbench-unit_conversion.json에 저장합니다.\u001b[0m\n",
      "\u001b[32m2024-09-11 18:52:01.308\u001b[0m | \u001b[1mINFO    \u001b[0m | \u001b[36mbenchmark\u001b[0m:\u001b[36msave\u001b[0m:\u001b[36m139\u001b[0m - \u001b[1m20의 샘플이 저장됩니다.\u001b[0m\n",
      "Setting num_proc from 6 back to 1 for the default split to disable multiprocessing as it only contains one shard.\n"
     ]
    },
    {
     "data": {
      "application/vnd.jupyter.widget-view+json": {
       "model_id": "a8e0fff585b14ae6ae4d674525413718",
       "version_major": 2,
       "version_minor": 0
      },
      "text/plain": [
       "Generating default split:   0%|          | 0/100 [00:00<?, ? examples/s]"
      ]
     },
     "metadata": {},
     "output_type": "display_data"
    },
    {
     "name": "stderr",
     "output_type": "stream",
     "text": [
      "Setting num_proc from 6 back to 1 for the train split to disable multiprocessing as it only contains one shard.\n"
     ]
    },
    {
     "data": {
      "application/vnd.jupyter.widget-view+json": {
       "model_id": "db5b6b4fc45e41a19ea2c2e1611b7e17",
       "version_major": 2,
       "version_minor": 0
      },
      "text/plain": [
       "Generating train split:   0%|          | 0/80 [00:00<?, ? examples/s]"
      ]
     },
     "metadata": {},
     "output_type": "display_data"
    },
    {
     "name": "stderr",
     "output_type": "stream",
     "text": [
      "Setting num_proc from 6 back to 1 for the validation split to disable multiprocessing as it only contains one shard.\n"
     ]
    },
    {
     "data": {
      "application/vnd.jupyter.widget-view+json": {
       "model_id": "2a9596989cb54af58b4d327d0e0d05e3",
       "version_major": 2,
       "version_minor": 0
      },
      "text/plain": [
       "Generating validation split:   0%|          | 0/20 [00:00<?, ? examples/s]"
      ]
     },
     "metadata": {},
     "output_type": "display_data"
    },
    {
     "name": "stderr",
     "output_type": "stream",
     "text": [
      "\u001b[32m2024-09-11 18:52:05.745\u001b[0m | \u001b[1mINFO    \u001b[0m | \u001b[36mbenchmark\u001b[0m:\u001b[36m__init__\u001b[0m:\u001b[36m81\u001b[0m - \u001b[1mpath: google/bigbench\n",
      "name: unit_interpretation\n",
      "total_split: ['default', 'train', 'validation']\n",
      "prior_split: default\n",
      "default: 100\n",
      "train: 80\n",
      "validation: 20\n",
      "\u001b[0m\n",
      "\u001b[32m2024-09-11 18:52:05.746\u001b[0m | \u001b[1mINFO    \u001b[0m | \u001b[36mbenchmark\u001b[0m:\u001b[36msample\u001b[0m:\u001b[36m174\u001b[0m - \u001b[1m카테고리가 없어서 전체에서 20개를 샘플링합니다\u001b[0m\n",
      "\u001b[32m2024-09-11 18:52:05.750\u001b[0m | \u001b[1mINFO    \u001b[0m | \u001b[36mbenchmark\u001b[0m:\u001b[36msample\u001b[0m:\u001b[36m183\u001b[0m - \u001b[1m총 20개의 샘플이 있습니다.\u001b[0m\n",
      "\u001b[32m2024-09-11 18:52:05.750\u001b[0m | \u001b[1mINFO    \u001b[0m | \u001b[36mbenchmark\u001b[0m:\u001b[36msave\u001b[0m:\u001b[36m138\u001b[0m - \u001b[1m./tasks/bigbench/bigbench-unit_interpretation.json에 저장합니다.\u001b[0m\n",
      "\u001b[32m2024-09-11 18:52:05.750\u001b[0m | \u001b[1mINFO    \u001b[0m | \u001b[36mbenchmark\u001b[0m:\u001b[36msave\u001b[0m:\u001b[36m139\u001b[0m - \u001b[1m20의 샘플이 저장됩니다.\u001b[0m\n",
      "Setting num_proc from 6 back to 1 for the default split to disable multiprocessing as it only contains one shard.\n"
     ]
    },
    {
     "data": {
      "application/vnd.jupyter.widget-view+json": {
       "model_id": "a6ad62c7bc06460ca740c5c2987a9160",
       "version_major": 2,
       "version_minor": 0
      },
      "text/plain": [
       "Generating default split:   0%|          | 0/73420 [00:00<?, ? examples/s]"
      ]
     },
     "metadata": {},
     "output_type": "display_data"
    },
    {
     "name": "stderr",
     "output_type": "stream",
     "text": [
      "Setting num_proc from 6 back to 1 for the train split to disable multiprocessing as it only contains one shard.\n"
     ]
    },
    {
     "data": {
      "application/vnd.jupyter.widget-view+json": {
       "model_id": "6e621442ba754d26a434b866a88166e8",
       "version_major": 2,
       "version_minor": 0
      },
      "text/plain": [
       "Generating train split:   0%|          | 0/58736 [00:00<?, ? examples/s]"
      ]
     },
     "metadata": {},
     "output_type": "display_data"
    },
    {
     "name": "stderr",
     "output_type": "stream",
     "text": [
      "Setting num_proc from 6 back to 1 for the validation split to disable multiprocessing as it only contains one shard.\n"
     ]
    },
    {
     "data": {
      "application/vnd.jupyter.widget-view+json": {
       "model_id": "2bcf5a593d6a4a87ba45872523ffa283",
       "version_major": 2,
       "version_minor": 0
      },
      "text/plain": [
       "Generating validation split:   0%|          | 0/14684 [00:00<?, ? examples/s]"
      ]
     },
     "metadata": {},
     "output_type": "display_data"
    },
    {
     "name": "stderr",
     "output_type": "stream",
     "text": [
      "\u001b[32m2024-09-11 18:52:57.528\u001b[0m | \u001b[1mINFO    \u001b[0m | \u001b[36mbenchmark\u001b[0m:\u001b[36m__init__\u001b[0m:\u001b[36m81\u001b[0m - \u001b[1mpath: google/bigbench\n",
      "name: unnatural_in_context_learning\n",
      "total_split: ['default', 'train', 'validation']\n",
      "prior_split: default\n",
      "default: 73420\n",
      "train: 58736\n",
      "validation: 14684\n",
      "\u001b[0m\n",
      "\u001b[32m2024-09-11 18:52:57.528\u001b[0m | \u001b[1mINFO    \u001b[0m | \u001b[36mbenchmark\u001b[0m:\u001b[36msample\u001b[0m:\u001b[36m174\u001b[0m - \u001b[1m카테고리가 없어서 전체에서 20개를 샘플링합니다\u001b[0m\n",
      "\u001b[32m2024-09-11 18:52:57.532\u001b[0m | \u001b[1mINFO    \u001b[0m | \u001b[36mbenchmark\u001b[0m:\u001b[36msample\u001b[0m:\u001b[36m183\u001b[0m - \u001b[1m총 20개의 샘플이 있습니다.\u001b[0m\n",
      "\u001b[32m2024-09-11 18:52:57.532\u001b[0m | \u001b[1mINFO    \u001b[0m | \u001b[36mbenchmark\u001b[0m:\u001b[36msave\u001b[0m:\u001b[36m138\u001b[0m - \u001b[1m./tasks/bigbench/bigbench-unnatural_in_context_learning.json에 저장합니다.\u001b[0m\n",
      "\u001b[32m2024-09-11 18:52:57.532\u001b[0m | \u001b[1mINFO    \u001b[0m | \u001b[36mbenchmark\u001b[0m:\u001b[36msave\u001b[0m:\u001b[36m139\u001b[0m - \u001b[1m20의 샘플이 저장됩니다.\u001b[0m\n",
      "Setting num_proc from 6 back to 1 for the default split to disable multiprocessing as it only contains one shard.\n"
     ]
    },
    {
     "data": {
      "application/vnd.jupyter.widget-view+json": {
       "model_id": "b8bbeafe7a074cd6a8e94f9bf992289d",
       "version_major": 2,
       "version_minor": 0
      },
      "text/plain": [
       "Generating default split:   0%|          | 0/54668 [00:00<?, ? examples/s]"
      ]
     },
     "metadata": {},
     "output_type": "display_data"
    },
    {
     "name": "stderr",
     "output_type": "stream",
     "text": [
      "Setting num_proc from 6 back to 1 for the train split to disable multiprocessing as it only contains one shard.\n"
     ]
    },
    {
     "data": {
      "application/vnd.jupyter.widget-view+json": {
       "model_id": "0da5d72ea9014e39a8df2354d08e2d78",
       "version_major": 2,
       "version_minor": 0
      },
      "text/plain": [
       "Generating train split:   0%|          | 0/43735 [00:00<?, ? examples/s]"
      ]
     },
     "metadata": {},
     "output_type": "display_data"
    },
    {
     "name": "stderr",
     "output_type": "stream",
     "text": [
      "Setting num_proc from 6 back to 1 for the validation split to disable multiprocessing as it only contains one shard.\n"
     ]
    },
    {
     "data": {
      "application/vnd.jupyter.widget-view+json": {
       "model_id": "59241f2de36a4f29bb7e5f2bfc1e4655",
       "version_major": 2,
       "version_minor": 0
      },
      "text/plain": [
       "Generating validation split:   0%|          | 0/10933 [00:00<?, ? examples/s]"
      ]
     },
     "metadata": {},
     "output_type": "display_data"
    },
    {
     "name": "stderr",
     "output_type": "stream",
     "text": [
      "\u001b[32m2024-09-11 18:53:41.569\u001b[0m | \u001b[1mINFO    \u001b[0m | \u001b[36mbenchmark\u001b[0m:\u001b[36m__init__\u001b[0m:\u001b[36m81\u001b[0m - \u001b[1mpath: google/bigbench\n",
      "name: vitaminc_fact_verification\n",
      "total_split: ['default', 'train', 'validation']\n",
      "prior_split: default\n",
      "default: 54668\n",
      "train: 43735\n",
      "validation: 10933\n",
      "\u001b[0m\n",
      "\u001b[32m2024-09-11 18:53:41.569\u001b[0m | \u001b[1mINFO    \u001b[0m | \u001b[36mbenchmark\u001b[0m:\u001b[36msample\u001b[0m:\u001b[36m174\u001b[0m - \u001b[1m카테고리가 없어서 전체에서 20개를 샘플링합니다\u001b[0m\n",
      "\u001b[32m2024-09-11 18:53:41.574\u001b[0m | \u001b[1mINFO    \u001b[0m | \u001b[36mbenchmark\u001b[0m:\u001b[36msample\u001b[0m:\u001b[36m183\u001b[0m - \u001b[1m총 20개의 샘플이 있습니다.\u001b[0m\n",
      "\u001b[32m2024-09-11 18:53:41.574\u001b[0m | \u001b[1mINFO    \u001b[0m | \u001b[36mbenchmark\u001b[0m:\u001b[36msave\u001b[0m:\u001b[36m138\u001b[0m - \u001b[1m./tasks/bigbench/bigbench-vitaminc_fact_verification.json에 저장합니다.\u001b[0m\n",
      "\u001b[32m2024-09-11 18:53:41.575\u001b[0m | \u001b[1mINFO    \u001b[0m | \u001b[36mbenchmark\u001b[0m:\u001b[36msave\u001b[0m:\u001b[36m139\u001b[0m - \u001b[1m20의 샘플이 저장됩니다.\u001b[0m\n",
      "Setting num_proc from 6 back to 1 for the default split to disable multiprocessing as it only contains one shard.\n"
     ]
    },
    {
     "data": {
      "application/vnd.jupyter.widget-view+json": {
       "model_id": "7f6f937cb0a64452b362ad1575e22519",
       "version_major": 2,
       "version_minor": 0
      },
      "text/plain": [
       "Generating default split:   0%|          | 0/36 [00:00<?, ? examples/s]"
      ]
     },
     "metadata": {},
     "output_type": "display_data"
    },
    {
     "name": "stderr",
     "output_type": "stream",
     "text": [
      "Setting num_proc from 6 back to 1 for the train split to disable multiprocessing as it only contains one shard.\n"
     ]
    },
    {
     "data": {
      "application/vnd.jupyter.widget-view+json": {
       "model_id": "f46fd29515db4387b08a0c2035bff1be",
       "version_major": 2,
       "version_minor": 0
      },
      "text/plain": [
       "Generating train split:   0%|          | 0/20 [00:00<?, ? examples/s]"
      ]
     },
     "metadata": {},
     "output_type": "display_data"
    },
    {
     "name": "stderr",
     "output_type": "stream",
     "text": [
      "Setting num_proc from 6 back to 1 for the validation split to disable multiprocessing as it only contains one shard.\n"
     ]
    },
    {
     "data": {
      "application/vnd.jupyter.widget-view+json": {
       "model_id": "5a49591c33094a5dabd38333739acc80",
       "version_major": 2,
       "version_minor": 0
      },
      "text/plain": [
       "Generating validation split:   0%|          | 0/16 [00:00<?, ? examples/s]"
      ]
     },
     "metadata": {},
     "output_type": "display_data"
    },
    {
     "name": "stderr",
     "output_type": "stream",
     "text": [
      "\u001b[32m2024-09-11 18:53:45.566\u001b[0m | \u001b[1mINFO    \u001b[0m | \u001b[36mbenchmark\u001b[0m:\u001b[36m__init__\u001b[0m:\u001b[36m81\u001b[0m - \u001b[1mpath: google/bigbench\n",
      "name: what_is_the_tao\n",
      "total_split: ['default', 'train', 'validation']\n",
      "prior_split: default\n",
      "default: 36\n",
      "train: 20\n",
      "validation: 16\n",
      "\u001b[0m\n",
      "\u001b[32m2024-09-11 18:53:45.566\u001b[0m | \u001b[1mINFO    \u001b[0m | \u001b[36mbenchmark\u001b[0m:\u001b[36msample\u001b[0m:\u001b[36m174\u001b[0m - \u001b[1m카테고리가 없어서 전체에서 20개를 샘플링합니다\u001b[0m\n",
      "\u001b[32m2024-09-11 18:53:45.570\u001b[0m | \u001b[1mINFO    \u001b[0m | \u001b[36mbenchmark\u001b[0m:\u001b[36msample\u001b[0m:\u001b[36m183\u001b[0m - \u001b[1m총 20개의 샘플이 있습니다.\u001b[0m\n",
      "\u001b[32m2024-09-11 18:53:45.570\u001b[0m | \u001b[1mINFO    \u001b[0m | \u001b[36mbenchmark\u001b[0m:\u001b[36msave\u001b[0m:\u001b[36m138\u001b[0m - \u001b[1m./tasks/bigbench/bigbench-what_is_the_tao.json에 저장합니다.\u001b[0m\n",
      "\u001b[32m2024-09-11 18:53:45.570\u001b[0m | \u001b[1mINFO    \u001b[0m | \u001b[36mbenchmark\u001b[0m:\u001b[36msave\u001b[0m:\u001b[36m139\u001b[0m - \u001b[1m20의 샘플이 저장됩니다.\u001b[0m\n",
      "Setting num_proc from 6 back to 1 for the default split to disable multiprocessing as it only contains one shard.\n"
     ]
    },
    {
     "data": {
      "application/vnd.jupyter.widget-view+json": {
       "model_id": "fcb1cb0ba40c41faa41cfe3373e672c1",
       "version_major": 2,
       "version_minor": 0
      },
      "text/plain": [
       "Generating default split:   0%|          | 0/571 [00:00<?, ? examples/s]"
      ]
     },
     "metadata": {},
     "output_type": "display_data"
    },
    {
     "name": "stderr",
     "output_type": "stream",
     "text": [
      "Setting num_proc from 6 back to 1 for the train split to disable multiprocessing as it only contains one shard.\n"
     ]
    },
    {
     "data": {
      "application/vnd.jupyter.widget-view+json": {
       "model_id": "df04e56eb109438391c7de6604fa053f",
       "version_major": 2,
       "version_minor": 0
      },
      "text/plain": [
       "Generating train split:   0%|          | 0/457 [00:00<?, ? examples/s]"
      ]
     },
     "metadata": {},
     "output_type": "display_data"
    },
    {
     "name": "stderr",
     "output_type": "stream",
     "text": [
      "Setting num_proc from 6 back to 1 for the validation split to disable multiprocessing as it only contains one shard.\n"
     ]
    },
    {
     "data": {
      "application/vnd.jupyter.widget-view+json": {
       "model_id": "6133baa38ba84b6f8620bc3aa1b221a5",
       "version_major": 2,
       "version_minor": 0
      },
      "text/plain": [
       "Generating validation split:   0%|          | 0/114 [00:00<?, ? examples/s]"
      ]
     },
     "metadata": {},
     "output_type": "display_data"
    },
    {
     "name": "stderr",
     "output_type": "stream",
     "text": [
      "\u001b[32m2024-09-11 18:53:50.003\u001b[0m | \u001b[1mINFO    \u001b[0m | \u001b[36mbenchmark\u001b[0m:\u001b[36m__init__\u001b[0m:\u001b[36m81\u001b[0m - \u001b[1mpath: google/bigbench\n",
      "name: which_wiki_edit\n",
      "total_split: ['default', 'train', 'validation']\n",
      "prior_split: default\n",
      "default: 571\n",
      "train: 457\n",
      "validation: 114\n",
      "\u001b[0m\n",
      "\u001b[32m2024-09-11 18:53:50.003\u001b[0m | \u001b[1mINFO    \u001b[0m | \u001b[36mbenchmark\u001b[0m:\u001b[36msample\u001b[0m:\u001b[36m174\u001b[0m - \u001b[1m카테고리가 없어서 전체에서 20개를 샘플링합니다\u001b[0m\n",
      "\u001b[32m2024-09-11 18:53:50.008\u001b[0m | \u001b[1mINFO    \u001b[0m | \u001b[36mbenchmark\u001b[0m:\u001b[36msample\u001b[0m:\u001b[36m183\u001b[0m - \u001b[1m총 20개의 샘플이 있습니다.\u001b[0m\n",
      "\u001b[32m2024-09-11 18:53:50.009\u001b[0m | \u001b[1mINFO    \u001b[0m | \u001b[36mbenchmark\u001b[0m:\u001b[36msave\u001b[0m:\u001b[36m138\u001b[0m - \u001b[1m./tasks/bigbench/bigbench-which_wiki_edit.json에 저장합니다.\u001b[0m\n",
      "\u001b[32m2024-09-11 18:53:50.009\u001b[0m | \u001b[1mINFO    \u001b[0m | \u001b[36mbenchmark\u001b[0m:\u001b[36msave\u001b[0m:\u001b[36m139\u001b[0m - \u001b[1m20의 샘플이 저장됩니다.\u001b[0m\n",
      "Setting num_proc from 6 back to 1 for the default split to disable multiprocessing as it only contains one shard.\n"
     ]
    },
    {
     "data": {
      "application/vnd.jupyter.widget-view+json": {
       "model_id": "3fe3f65f7c704ac1b278a8ea514b0994",
       "version_major": 2,
       "version_minor": 0
      },
      "text/plain": [
       "Generating default split:   0%|          | 0/2862 [00:00<?, ? examples/s]"
      ]
     },
     "metadata": {},
     "output_type": "display_data"
    },
    {
     "name": "stdout",
     "output_type": "stream",
     "text": [
      "warning: winowhy has 3 duplicate examples out of 2865\n"
     ]
    },
    {
     "name": "stderr",
     "output_type": "stream",
     "text": [
      "Setting num_proc from 6 back to 1 for the train split to disable multiprocessing as it only contains one shard.\n"
     ]
    },
    {
     "data": {
      "application/vnd.jupyter.widget-view+json": {
       "model_id": "e1df0fbae235461d97fdaba2824a334c",
       "version_major": 2,
       "version_minor": 0
      },
      "text/plain": [
       "Generating train split:   0%|          | 0/2290 [00:00<?, ? examples/s]"
      ]
     },
     "metadata": {},
     "output_type": "display_data"
    },
    {
     "name": "stderr",
     "output_type": "stream",
     "text": [
      "Setting num_proc from 6 back to 1 for the validation split to disable multiprocessing as it only contains one shard.\n"
     ]
    },
    {
     "data": {
      "application/vnd.jupyter.widget-view+json": {
       "model_id": "91fb9127e30e4887b8392e832eb45586",
       "version_major": 2,
       "version_minor": 0
      },
      "text/plain": [
       "Generating validation split:   0%|          | 0/572 [00:00<?, ? examples/s]"
      ]
     },
     "metadata": {},
     "output_type": "display_data"
    },
    {
     "name": "stderr",
     "output_type": "stream",
     "text": [
      "\u001b[32m2024-09-11 18:53:56.229\u001b[0m | \u001b[1mINFO    \u001b[0m | \u001b[36mbenchmark\u001b[0m:\u001b[36m__init__\u001b[0m:\u001b[36m81\u001b[0m - \u001b[1mpath: google/bigbench\n",
      "name: winowhy\n",
      "total_split: ['default', 'train', 'validation']\n",
      "prior_split: default\n",
      "default: 2862\n",
      "train: 2290\n",
      "validation: 572\n",
      "\u001b[0m\n",
      "\u001b[32m2024-09-11 18:53:56.230\u001b[0m | \u001b[1mINFO    \u001b[0m | \u001b[36mbenchmark\u001b[0m:\u001b[36msample\u001b[0m:\u001b[36m174\u001b[0m - \u001b[1m카테고리가 없어서 전체에서 20개를 샘플링합니다\u001b[0m\n",
      "\u001b[32m2024-09-11 18:53:56.234\u001b[0m | \u001b[1mINFO    \u001b[0m | \u001b[36mbenchmark\u001b[0m:\u001b[36msample\u001b[0m:\u001b[36m183\u001b[0m - \u001b[1m총 20개의 샘플이 있습니다.\u001b[0m\n",
      "\u001b[32m2024-09-11 18:53:56.235\u001b[0m | \u001b[1mINFO    \u001b[0m | \u001b[36mbenchmark\u001b[0m:\u001b[36msave\u001b[0m:\u001b[36m138\u001b[0m - \u001b[1m./tasks/bigbench/bigbench-winowhy.json에 저장합니다.\u001b[0m\n",
      "\u001b[32m2024-09-11 18:53:56.235\u001b[0m | \u001b[1mINFO    \u001b[0m | \u001b[36mbenchmark\u001b[0m:\u001b[36msave\u001b[0m:\u001b[36m139\u001b[0m - \u001b[1m20의 샘플이 저장됩니다.\u001b[0m\n",
      "Setting num_proc from 6 back to 1 for the default split to disable multiprocessing as it only contains one shard.\n"
     ]
    },
    {
     "data": {
      "application/vnd.jupyter.widget-view+json": {
       "model_id": "3c45dc2653974995a6a89fcf60ee5951",
       "version_major": 2,
       "version_minor": 0
      },
      "text/plain": [
       "Generating default split:   0%|          | 0/1900 [00:00<?, ? examples/s]"
      ]
     },
     "metadata": {},
     "output_type": "display_data"
    },
    {
     "name": "stderr",
     "output_type": "stream",
     "text": [
      "Setting num_proc from 6 back to 1 for the train split to disable multiprocessing as it only contains one shard.\n"
     ]
    },
    {
     "data": {
      "application/vnd.jupyter.widget-view+json": {
       "model_id": "3d52ed37c1d944548accd6c9fafa1970",
       "version_major": 2,
       "version_minor": 0
      },
      "text/plain": [
       "Generating train split:   0%|          | 0/1520 [00:00<?, ? examples/s]"
      ]
     },
     "metadata": {},
     "output_type": "display_data"
    },
    {
     "name": "stderr",
     "output_type": "stream",
     "text": [
      "Setting num_proc from 6 back to 1 for the validation split to disable multiprocessing as it only contains one shard.\n"
     ]
    },
    {
     "data": {
      "application/vnd.jupyter.widget-view+json": {
       "model_id": "5163842b0d2142819e9ff541cf0cd27f",
       "version_major": 2,
       "version_minor": 0
      },
      "text/plain": [
       "Generating validation split:   0%|          | 0/380 [00:00<?, ? examples/s]"
      ]
     },
     "metadata": {},
     "output_type": "display_data"
    },
    {
     "name": "stderr",
     "output_type": "stream",
     "text": [
      "\u001b[32m2024-09-11 18:54:01.314\u001b[0m | \u001b[1mINFO    \u001b[0m | \u001b[36mbenchmark\u001b[0m:\u001b[36m__init__\u001b[0m:\u001b[36m81\u001b[0m - \u001b[1mpath: google/bigbench\n",
      "name: word_sorting\n",
      "total_split: ['default', 'train', 'validation']\n",
      "prior_split: default\n",
      "default: 1900\n",
      "train: 1520\n",
      "validation: 380\n",
      "\u001b[0m\n",
      "\u001b[32m2024-09-11 18:54:01.314\u001b[0m | \u001b[1mINFO    \u001b[0m | \u001b[36mbenchmark\u001b[0m:\u001b[36msample\u001b[0m:\u001b[36m174\u001b[0m - \u001b[1m카테고리가 없어서 전체에서 20개를 샘플링합니다\u001b[0m\n",
      "\u001b[32m2024-09-11 18:54:01.318\u001b[0m | \u001b[1mINFO    \u001b[0m | \u001b[36mbenchmark\u001b[0m:\u001b[36msample\u001b[0m:\u001b[36m183\u001b[0m - \u001b[1m총 20개의 샘플이 있습니다.\u001b[0m\n",
      "\u001b[32m2024-09-11 18:54:01.318\u001b[0m | \u001b[1mINFO    \u001b[0m | \u001b[36mbenchmark\u001b[0m:\u001b[36msave\u001b[0m:\u001b[36m138\u001b[0m - \u001b[1m./tasks/bigbench/bigbench-word_sorting.json에 저장합니다.\u001b[0m\n",
      "\u001b[32m2024-09-11 18:54:01.319\u001b[0m | \u001b[1mINFO    \u001b[0m | \u001b[36mbenchmark\u001b[0m:\u001b[36msave\u001b[0m:\u001b[36m139\u001b[0m - \u001b[1m20의 샘플이 저장됩니다.\u001b[0m\n",
      "Setting num_proc from 6 back to 1 for the default split to disable multiprocessing as it only contains one shard.\n"
     ]
    },
    {
     "data": {
      "application/vnd.jupyter.widget-view+json": {
       "model_id": "19e007753a304952a7788208c3bb1d0a",
       "version_major": 2,
       "version_minor": 0
      },
      "text/plain": [
       "Generating default split:   0%|          | 0/8917 [00:00<?, ? examples/s]"
      ]
     },
     "metadata": {},
     "output_type": "display_data"
    },
    {
     "name": "stderr",
     "output_type": "stream",
     "text": [
      "Setting num_proc from 6 back to 1 for the train split to disable multiprocessing as it only contains one shard.\n"
     ]
    },
    {
     "data": {
      "application/vnd.jupyter.widget-view+json": {
       "model_id": "8e24aec5f0c4427686631a0a3c8bc5e3",
       "version_major": 2,
       "version_minor": 0
      },
      "text/plain": [
       "Generating train split:   0%|          | 0/7134 [00:00<?, ? examples/s]"
      ]
     },
     "metadata": {},
     "output_type": "display_data"
    },
    {
     "name": "stderr",
     "output_type": "stream",
     "text": [
      "Setting num_proc from 6 back to 1 for the validation split to disable multiprocessing as it only contains one shard.\n"
     ]
    },
    {
     "data": {
      "application/vnd.jupyter.widget-view+json": {
       "model_id": "4086be01a6c7438895c773184a049cf8",
       "version_major": 2,
       "version_minor": 0
      },
      "text/plain": [
       "Generating validation split:   0%|          | 0/1783 [00:00<?, ? examples/s]"
      ]
     },
     "metadata": {},
     "output_type": "display_data"
    },
    {
     "name": "stderr",
     "output_type": "stream",
     "text": [
      "\u001b[32m2024-09-11 18:54:11.738\u001b[0m | \u001b[1mINFO    \u001b[0m | \u001b[36mbenchmark\u001b[0m:\u001b[36m__init__\u001b[0m:\u001b[36m81\u001b[0m - \u001b[1mpath: google/bigbench\n",
      "name: word_unscrambling\n",
      "total_split: ['default', 'train', 'validation']\n",
      "prior_split: default\n",
      "default: 8917\n",
      "train: 7134\n",
      "validation: 1783\n",
      "\u001b[0m\n",
      "\u001b[32m2024-09-11 18:54:11.738\u001b[0m | \u001b[1mINFO    \u001b[0m | \u001b[36mbenchmark\u001b[0m:\u001b[36msample\u001b[0m:\u001b[36m174\u001b[0m - \u001b[1m카테고리가 없어서 전체에서 20개를 샘플링합니다\u001b[0m\n",
      "\u001b[32m2024-09-11 18:54:11.742\u001b[0m | \u001b[1mINFO    \u001b[0m | \u001b[36mbenchmark\u001b[0m:\u001b[36msample\u001b[0m:\u001b[36m183\u001b[0m - \u001b[1m총 20개의 샘플이 있습니다.\u001b[0m\n",
      "\u001b[32m2024-09-11 18:54:11.743\u001b[0m | \u001b[1mINFO    \u001b[0m | \u001b[36mbenchmark\u001b[0m:\u001b[36msave\u001b[0m:\u001b[36m138\u001b[0m - \u001b[1m./tasks/bigbench/bigbench-word_unscrambling.json에 저장합니다.\u001b[0m\n",
      "\u001b[32m2024-09-11 18:54:11.743\u001b[0m | \u001b[1mINFO    \u001b[0m | \u001b[36mbenchmark\u001b[0m:\u001b[36msave\u001b[0m:\u001b[36m139\u001b[0m - \u001b[1m20의 샘플이 저장됩니다.\u001b[0m\n"
     ]
    }
   ],
   "source": [
    "for n in name_list:\n",
    "    benchmark = Benchmark(benchmark_name=\"bigbench\", name=n)\n",
    "    benchmark.save()"
   ]
  },
  {
   "cell_type": "code",
   "execution_count": 18,
   "id": "f390125f-7e54-4749-b9b7-8146f47fb744",
   "metadata": {
    "execution": {
     "iopub.execute_input": "2024-09-11T09:55:07.552340Z",
     "iopub.status.busy": "2024-09-11T09:55:07.551677Z",
     "iopub.status.idle": "2024-09-11T09:55:07.564621Z",
     "shell.execute_reply": "2024-09-11T09:55:07.563944Z",
     "shell.execute_reply.started": "2024-09-11T09:55:07.552299Z"
    },
    "tags": []
   },
   "outputs": [
    {
     "data": {
      "text/plain": [
       "'parsinlu_qa'"
      ]
     },
     "execution_count": 18,
     "metadata": {},
     "output_type": "execute_result"
    }
   ],
   "source": [
    "name_list[randint(0, len(name_list)-1)]"
   ]
  },
  {
   "cell_type": "code",
   "execution_count": 27,
   "id": "9479d225-2ffb-4222-a582-7977f4e6e5e6",
   "metadata": {
    "execution": {
     "iopub.execute_input": "2024-09-11T09:57:49.080210Z",
     "iopub.status.busy": "2024-09-11T09:57:49.079446Z",
     "iopub.status.idle": "2024-09-11T09:57:52.905706Z",
     "shell.execute_reply": "2024-09-11T09:57:52.905459Z",
     "shell.execute_reply.started": "2024-09-11T09:57:49.080154Z"
    },
    "tags": []
   },
   "outputs": [
    {
     "name": "stderr",
     "output_type": "stream",
     "text": [
      "\u001b[32m2024-09-11 18:57:52.904\u001b[0m | \u001b[1mINFO    \u001b[0m | \u001b[36mbenchmark\u001b[0m:\u001b[36m__init__\u001b[0m:\u001b[36m81\u001b[0m - \u001b[1mpath: google/bigbench\n",
      "name: causal_judgment\n",
      "total_split: ['default', 'train', 'validation']\n",
      "prior_split: default\n",
      "default: 190\n",
      "train: 152\n",
      "validation: 38\n",
      "\u001b[0m\n"
     ]
    }
   ],
   "source": [
    "benchmark = Benchmark(\"bigbench\", name = \"causal_judgment\")"
   ]
  },
  {
   "cell_type": "code",
   "execution_count": 28,
   "id": "7935f63e-00ba-4e4e-a5cc-d1270d5b391a",
   "metadata": {
    "execution": {
     "iopub.execute_input": "2024-09-11T09:57:52.906441Z",
     "iopub.status.busy": "2024-09-11T09:57:52.906356Z",
     "iopub.status.idle": "2024-09-11T09:57:52.916062Z",
     "shell.execute_reply": "2024-09-11T09:57:52.915768Z",
     "shell.execute_reply.started": "2024-09-11T09:57:52.906432Z"
    },
    "tags": []
   },
   "outputs": [
    {
     "name": "stderr",
     "output_type": "stream",
     "text": [
      "\u001b[32m2024-09-11 18:57:52.906\u001b[0m | \u001b[1mINFO    \u001b[0m | \u001b[36mbenchmark\u001b[0m:\u001b[36msample\u001b[0m:\u001b[36m174\u001b[0m - \u001b[1m카테고리가 없어서 전체에서 20개를 샘플링합니다\u001b[0m\n",
      "\u001b[32m2024-09-11 18:57:52.913\u001b[0m | \u001b[1mINFO    \u001b[0m | \u001b[36mbenchmark\u001b[0m:\u001b[36msample\u001b[0m:\u001b[36m183\u001b[0m - \u001b[1m총 20개의 샘플이 있습니다.\u001b[0m\n"
     ]
    },
    {
     "name": "stdout",
     "output_type": "stream",
     "text": [
      "\u001b[38;5;249m{\u001b[39m\n",
      "\u001b[38;5;249m    \u001b[39m\u001b[38;5;168m\"idx\"\u001b[39m\u001b[38;5;249m:\u001b[39m\u001b[38;5;249m \u001b[39m\u001b[38;5;173m3\u001b[39m\u001b[38;5;249m,\u001b[39m\n",
      "\u001b[38;5;249m    \u001b[39m\u001b[38;5;168m\"inputs\"\u001b[39m\u001b[38;5;249m:\u001b[39m\u001b[38;5;249m \u001b[39m\u001b[38;5;108m\"How would a typical person answer each of the following questions about causation?\\n\\n\\nQ: George and his sister Lena reunite at their parents' house for Thanksgiving. Whereas George just got into medical school, Lena is unhappy in her marriage and recently lost her job. Over the course of the day, George and Lena get into a number of heated arguments. Later in the afternoon they play a game of darts. They split the first two games, and the third game is close until the end. Who will win comes down to George's last shot. If he hits a high point region, he wins; if he hits a low point region, Lena wins. George thinks of the difficult time Lena is having, and he really wants to let her win. He aims the dart at the low point region. He sets up his shot and the dart lands in the low point region. After his shot, Lena wins the game and is very happy. Did George hit the low point region intentionally?\\nA:\"\u001b[39m\u001b[38;5;249m,\u001b[39m\n",
      "\u001b[38;5;249m    \u001b[39m\u001b[38;5;168m\"targets\"\u001b[39m\u001b[38;5;249m:\u001b[39m\u001b[38;5;249m \u001b[39m\u001b[38;5;249m[\u001b[39m\n",
      "\u001b[38;5;249m        \u001b[39m\u001b[38;5;108m\"Yes\"\u001b[39m\n",
      "\u001b[38;5;249m    \u001b[39m\u001b[38;5;249m],\u001b[39m\n",
      "\u001b[38;5;249m    \u001b[39m\u001b[38;5;168m\"multiple_choice_targets\"\u001b[39m\u001b[38;5;249m:\u001b[39m\u001b[38;5;249m \u001b[39m\u001b[38;5;249m[\u001b[39m\n",
      "\u001b[38;5;249m        \u001b[39m\u001b[38;5;108m\"Yes\"\u001b[39m\u001b[38;5;249m,\u001b[39m\n",
      "\u001b[38;5;249m        \u001b[39m\u001b[38;5;108m\"No\"\u001b[39m\n",
      "\u001b[38;5;249m    \u001b[39m\u001b[38;5;249m],\u001b[39m\n",
      "\u001b[38;5;249m    \u001b[39m\u001b[38;5;168m\"multiple_choice_scores\"\u001b[39m\u001b[38;5;249m:\u001b[39m\u001b[38;5;249m \u001b[39m\u001b[38;5;249m[\u001b[39m\n",
      "\u001b[38;5;249m        \u001b[39m\u001b[38;5;173m1\u001b[39m\u001b[38;5;249m,\u001b[39m\n",
      "\u001b[38;5;249m        \u001b[39m\u001b[38;5;173m0\u001b[39m\n",
      "\u001b[38;5;249m    \u001b[39m\u001b[38;5;249m]\u001b[39m\n",
      "\u001b[38;5;249m}\u001b[39m\n",
      "\n"
     ]
    }
   ],
   "source": [
    "benchmark.show()"
   ]
  },
  {
   "cell_type": "code",
   "execution_count": null,
   "id": "7aa4de0f-3d69-433e-8115-24b16d65ad51",
   "metadata": {},
   "outputs": [],
   "source": []
  }
 ],
 "metadata": {
  "kernelspec": {
   "display_name": "Python 3 (ipykernel)",
   "language": "python",
   "name": "python3"
  },
  "language_info": {
   "codemirror_mode": {
    "name": "ipython",
    "version": 3
   },
   "file_extension": ".py",
   "mimetype": "text/x-python",
   "name": "python",
   "nbconvert_exporter": "python",
   "pygments_lexer": "ipython3",
   "version": "3.11.5"
  }
 },
 "nbformat": 4,
 "nbformat_minor": 5
}
