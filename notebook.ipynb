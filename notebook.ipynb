{
 "cells": [
  {
   "cell_type": "code",
   "execution_count": 1,
   "id": "82e23c2d-8f83-4472-80b8-de048ce4664d",
   "metadata": {
    "execution": {
     "iopub.execute_input": "2024-09-13T06:21:31.225757Z",
     "iopub.status.busy": "2024-09-13T06:21:31.224957Z",
     "iopub.status.idle": "2024-09-13T06:21:31.246390Z",
     "shell.execute_reply": "2024-09-13T06:21:31.243541Z",
     "shell.execute_reply.started": "2024-09-13T06:21:31.225697Z"
    }
   },
   "outputs": [],
   "source": [
    "from benchmark import HFReader, Config, GithubReader, show"
   ]
  }
 ],
 "metadata": {
  "kernelspec": {
   "display_name": "Python 3 (ipykernel)",
   "language": "python",
   "name": "python3"
  },
  "language_info": {
   "codemirror_mode": {
    "name": "ipython",
    "version": 3
   },
   "file_extension": ".py",
   "mimetype": "text/x-python",
   "name": "python",
   "nbconvert_exporter": "python",
   "pygments_lexer": "ipython3",
   "version": "3.11.5"
  }
 },
 "nbformat": 4,
 "nbformat_minor": 5
}
