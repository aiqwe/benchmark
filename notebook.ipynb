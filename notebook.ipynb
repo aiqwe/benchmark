{
 "cells": [
  {
   "cell_type": "code",
   "execution_count": 1,
   "id": "3c886cd7-c872-467f-b3ef-c36aaae62e5e",
   "metadata": {
    "execution": {
     "iopub.execute_input": "2024-09-07T12:28:19.223639Z",
     "iopub.status.busy": "2024-09-07T12:28:19.223459Z",
     "iopub.status.idle": "2024-09-07T12:28:19.667968Z",
     "shell.execute_reply": "2024-09-07T12:28:19.667620Z",
     "shell.execute_reply.started": "2024-09-07T12:28:19.223617Z"
    },
    "tags": []
   },
   "outputs": [],
   "source": [
    "from benchmark import Benchmark, HFDatasets, show"
   ]
  },
  {
   "cell_type": "code",
   "execution_count": 2,
   "id": "d99e34d9-aa14-491f-b7d9-6d966de3d360",
   "metadata": {
    "execution": {
     "iopub.execute_input": "2024-09-07T12:28:19.668939Z",
     "iopub.status.busy": "2024-09-07T12:28:19.668821Z",
     "iopub.status.idle": "2024-09-07T12:28:19.670910Z",
     "shell.execute_reply": "2024-09-07T12:28:19.670702Z",
     "shell.execute_reply.started": "2024-09-07T12:28:19.668930Z"
    },
    "tags": []
   },
   "outputs": [],
   "source": [
    "hf_conf = HFDatasets()"
   ]
  },
  {
   "cell_type": "code",
   "execution_count": 3,
   "id": "93cf9a3b-1869-4384-a049-f8b370d0d74f",
   "metadata": {
    "execution": {
     "iopub.execute_input": "2024-09-07T12:28:19.671275Z",
     "iopub.status.busy": "2024-09-07T12:28:19.671205Z",
     "iopub.status.idle": "2024-09-07T12:28:19.675281Z",
     "shell.execute_reply": "2024-09-07T12:28:19.675113Z",
     "shell.execute_reply.started": "2024-09-07T12:28:19.671267Z"
    },
    "tags": []
   },
   "outputs": [
    {
     "name": "stderr",
     "output_type": "stream",
     "text": [
      "\u001b[32m2024-09-07 21:28:19.671\u001b[0m | \u001b[1mINFO    \u001b[0m | \u001b[36mbenchmark\u001b[0m:\u001b[36mmake_folder_tree\u001b[0m:\u001b[36m247\u001b[0m - \u001b[1mtasks/mmlu/README.md을 초기화합니다\u001b[0m\n",
      "\u001b[32m2024-09-07 21:28:19.672\u001b[0m | \u001b[1mINFO    \u001b[0m | \u001b[36mbenchmark\u001b[0m:\u001b[36mmake_folder_tree\u001b[0m:\u001b[36m247\u001b[0m - \u001b[1mtasks/mmlu_pro/README.md을 초기화합니다\u001b[0m\n",
      "\u001b[32m2024-09-07 21:28:19.672\u001b[0m | \u001b[1mINFO    \u001b[0m | \u001b[36mbenchmark\u001b[0m:\u001b[36mmake_folder_tree\u001b[0m:\u001b[36m247\u001b[0m - \u001b[1mtasks/agi_eval/README.md을 초기화합니다\u001b[0m\n",
      "\u001b[32m2024-09-07 21:28:19.672\u001b[0m | \u001b[1mINFO    \u001b[0m | \u001b[36mbenchmark\u001b[0m:\u001b[36mmake_folder_tree\u001b[0m:\u001b[36m247\u001b[0m - \u001b[1mtasks/commonsense_qa/README.md을 초기화합니다\u001b[0m\n",
      "\u001b[32m2024-09-07 21:28:19.673\u001b[0m | \u001b[1mINFO    \u001b[0m | \u001b[36mbenchmark\u001b[0m:\u001b[36mmake_folder_tree\u001b[0m:\u001b[36m247\u001b[0m - \u001b[1mtasks/winogrande/README.md을 초기화합니다\u001b[0m\n",
      "\u001b[32m2024-09-07 21:28:19.673\u001b[0m | \u001b[1mINFO    \u001b[0m | \u001b[36mbenchmark\u001b[0m:\u001b[36mmake_folder_tree\u001b[0m:\u001b[36m247\u001b[0m - \u001b[1mtasks/bigbenchhard/README.md을 초기화합니다\u001b[0m\n",
      "\u001b[32m2024-09-07 21:28:19.673\u001b[0m | \u001b[1mINFO    \u001b[0m | \u001b[36mbenchmark\u001b[0m:\u001b[36mmake_folder_tree\u001b[0m:\u001b[36m247\u001b[0m - \u001b[1mtasks/arc/README.md을 초기화합니다\u001b[0m\n",
      "\u001b[32m2024-09-07 21:28:19.674\u001b[0m | \u001b[1mINFO    \u001b[0m | \u001b[36mbenchmark\u001b[0m:\u001b[36mmake_folder_tree\u001b[0m:\u001b[36m247\u001b[0m - \u001b[1mtasks/trivia_qa/README.md을 초기화합니다\u001b[0m\n"
     ]
    }
   ],
   "source": [
    "hf_conf.make_folder_tree(overwrite=True)"
   ]
  },
  {
   "cell_type": "code",
   "execution_count": null,
   "id": "37031e17-78e5-4e97-ab95-307f7eeee6ef",
   "metadata": {},
   "outputs": [],
   "source": []
  }
 ],
 "metadata": {
  "kernelspec": {
   "display_name": "Python 3 (ipykernel)",
   "language": "python",
   "name": "python3"
  },
  "language_info": {
   "codemirror_mode": {
    "name": "ipython",
    "version": 3
   },
   "file_extension": ".py",
   "mimetype": "text/x-python",
   "name": "python",
   "nbconvert_exporter": "python",
   "pygments_lexer": "ipython3",
   "version": "3.10.14"
  }
 },
 "nbformat": 4,
 "nbformat_minor": 5
}
