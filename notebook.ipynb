{
 "cells": [
  {
   "cell_type": "code",
   "execution_count": 1,
   "id": "3c886cd7-c872-467f-b3ef-c36aaae62e5e",
   "metadata": {
    "execution": {
     "iopub.execute_input": "2024-09-08T11:30:09.071300Z",
     "iopub.status.busy": "2024-09-08T11:30:09.071132Z",
     "iopub.status.idle": "2024-09-08T11:30:09.763099Z",
     "shell.execute_reply": "2024-09-08T11:30:09.762822Z",
     "shell.execute_reply.started": "2024-09-08T11:30:09.071279Z"
    },
    "tags": []
   },
   "outputs": [],
   "source": [
    "from benchmark import Benchmark, HFDatasets, show"
   ]
  },
  {
   "cell_type": "code",
   "execution_count": 2,
   "id": "d99e34d9-aa14-491f-b7d9-6d966de3d360",
   "metadata": {
    "execution": {
     "iopub.execute_input": "2024-09-08T11:30:09.764105Z",
     "iopub.status.busy": "2024-09-08T11:30:09.763964Z",
     "iopub.status.idle": "2024-09-08T11:30:09.766393Z",
     "shell.execute_reply": "2024-09-08T11:30:09.766169Z",
     "shell.execute_reply.started": "2024-09-08T11:30:09.764095Z"
    },
    "tags": []
   },
   "outputs": [],
   "source": [
    "hf_conf = HFDatasets()"
   ]
  },
  {
   "cell_type": "code",
   "execution_count": 3,
   "id": "51d7f378-90df-45cb-81f7-fdb684496690",
   "metadata": {
    "execution": {
     "iopub.execute_input": "2024-09-08T11:30:09.840164Z",
     "iopub.status.busy": "2024-09-08T11:30:09.839999Z",
     "iopub.status.idle": "2024-09-08T11:30:09.843825Z",
     "shell.execute_reply": "2024-09-08T11:30:09.843526Z",
     "shell.execute_reply.started": "2024-09-08T11:30:09.840148Z"
    },
    "tags": []
   },
   "outputs": [
    {
     "name": "stderr",
     "output_type": "stream",
     "text": [
      "\u001b[32m2024-09-08 20:30:09.841\u001b[0m | \u001b[1mINFO    \u001b[0m | \u001b[36mbenchmark\u001b[0m:\u001b[36mmake_folder_tree\u001b[0m:\u001b[36m259\u001b[0m - \u001b[1mtasks/squad_v2/README.md을 초기화합니다\u001b[0m\n"
     ]
    }
   ],
   "source": [
    "hf_conf.make_folder_tree()"
   ]
  },
  {
   "cell_type": "code",
   "execution_count": 4,
   "id": "37031e17-78e5-4e97-ab95-307f7eeee6ef",
   "metadata": {
    "execution": {
     "iopub.execute_input": "2024-09-08T11:30:16.362687Z",
     "iopub.status.busy": "2024-09-08T11:30:16.361469Z",
     "iopub.status.idle": "2024-09-08T11:30:16.378296Z",
     "shell.execute_reply": "2024-09-08T11:30:16.377178Z",
     "shell.execute_reply.started": "2024-09-08T11:30:16.362626Z"
    },
    "tags": []
   },
   "outputs": [
    {
     "data": {
      "text/plain": [
       "{'path': 'rajpurkar/squad_v2',\n",
       " 'name': None,\n",
       " 'hf_hf_url': None,\n",
       " 'paper': 'https://arxiv.org/pdf/1806.03822',\n",
       " 'annotation': None,\n",
       " 'hf_url': 'https://huggingface.co/datasets/rajpurkar/squad_v2'}"
      ]
     },
     "execution_count": 4,
     "metadata": {},
     "output_type": "execute_result"
    }
   ],
   "source": [
    "hf_conf.config['squad_v2']"
   ]
  },
  {
   "cell_type": "code",
   "execution_count": 5,
   "id": "8bc01402-5594-432b-ac86-3ff3e0c2164b",
   "metadata": {
    "execution": {
     "iopub.execute_input": "2024-09-08T11:30:23.270299Z",
     "iopub.status.busy": "2024-09-08T11:30:23.269227Z",
     "iopub.status.idle": "2024-09-08T11:30:32.722411Z",
     "shell.execute_reply": "2024-09-08T11:30:32.721719Z",
     "shell.execute_reply.started": "2024-09-08T11:30:23.270240Z"
    },
    "tags": []
   },
   "outputs": [
    {
     "data": {
      "application/vnd.jupyter.widget-view+json": {
       "model_id": "b3c2e22fc9c348e5a7dca577b126b022",
       "version_major": 2,
       "version_minor": 0
      },
      "text/plain": [
       "Downloading readme:   0%|          | 0.00/8.92k [00:00<?, ?B/s]"
      ]
     },
     "metadata": {},
     "output_type": "display_data"
    },
    {
     "name": "stderr",
     "output_type": "stream",
     "text": [
      "\n",
      "Downloading data:   0%|          | 0.00/16.4M [00:00<?, ?B/s]\u001b[A\n",
      "\n",
      "Downloading data:   0%|          | 0.00/1.35M [00:00<?, ?B/s]\u001b[A\u001b[A\n",
      "\n",
      "Downloading data: 100%|██████████| 1.35M/1.35M [00:01<00:00, 1.14MB/s]\u001b[A\u001b[A\n",
      "\n",
      "Downloading data:  64%|██████▍   | 10.5M/16.4M [00:01<00:00, 7.32MB/s]\u001b[A\n",
      "Downloading data: 100%|██████████| 16.4M/16.4M [00:01<00:00, 10.4MB/s]\u001b[A\n",
      "Setting num_proc from 6 back to 1 for the train split to disable multiprocessing as it only contains one shard.\n"
     ]
    },
    {
     "data": {
      "application/vnd.jupyter.widget-view+json": {
       "model_id": "e72fce4f87424c44991cd580c78b76a7",
       "version_major": 2,
       "version_minor": 0
      },
      "text/plain": [
       "Generating train split:   0%|          | 0/130319 [00:00<?, ? examples/s]"
      ]
     },
     "metadata": {},
     "output_type": "display_data"
    },
    {
     "name": "stderr",
     "output_type": "stream",
     "text": [
      "Setting num_proc from 6 back to 1 for the validation split to disable multiprocessing as it only contains one shard.\n"
     ]
    },
    {
     "data": {
      "application/vnd.jupyter.widget-view+json": {
       "model_id": "92278d123e6c4354ba25d97c43efab4c",
       "version_major": 2,
       "version_minor": 0
      },
      "text/plain": [
       "Generating validation split:   0%|          | 0/11873 [00:00<?, ? examples/s]"
      ]
     },
     "metadata": {},
     "output_type": "display_data"
    },
    {
     "name": "stderr",
     "output_type": "stream",
     "text": [
      "\u001b[32m2024-09-08 20:30:32.720\u001b[0m | \u001b[1mINFO    \u001b[0m | \u001b[36mbenchmark\u001b[0m:\u001b[36m__init__\u001b[0m:\u001b[36m75\u001b[0m - \u001b[1m\n",
      "path: rajpurkar/squad_v2\n",
      "name: None\n",
      "total_split: ['train', 'validation']\n",
      "prior_split: train\n",
      "train: 130319\n",
      "validation: 11873\n",
      "\u001b[0m\n"
     ]
    }
   ],
   "source": [
    "benchmark = Benchmark(\"squad_v2\")"
   ]
  },
  {
   "cell_type": "code",
   "execution_count": 7,
   "id": "39178253-0a71-47cf-938f-ff3d788ef386",
   "metadata": {
    "execution": {
     "iopub.execute_input": "2024-09-08T11:31:06.824484Z",
     "iopub.status.busy": "2024-09-08T11:31:06.823619Z",
     "iopub.status.idle": "2024-09-08T11:31:06.838573Z",
     "shell.execute_reply": "2024-09-08T11:31:06.838114Z",
     "shell.execute_reply.started": "2024-09-08T11:31:06.824116Z"
    },
    "tags": []
   },
   "outputs": [
    {
     "data": {
      "text/plain": [
       "\n",
       "path: rajpurkar/squad_v2\n",
       "name: None\n",
       "total_split: ['train', 'validation']\n",
       "prior_split: train\n",
       "train: 130319\n",
       "validation: 11873"
      ]
     },
     "execution_count": 7,
     "metadata": {},
     "output_type": "execute_result"
    }
   ],
   "source": [
    "benchmark"
   ]
  },
  {
   "cell_type": "code",
   "execution_count": 9,
   "id": "7b1f43f5-9f95-4515-bb00-4ac2ff92b0b5",
   "metadata": {
    "execution": {
     "iopub.execute_input": "2024-09-08T11:31:42.419648Z",
     "iopub.status.busy": "2024-09-08T11:31:42.418828Z",
     "iopub.status.idle": "2024-09-08T11:31:42.441233Z",
     "shell.execute_reply": "2024-09-08T11:31:42.440796Z",
     "shell.execute_reply.started": "2024-09-08T11:31:42.419588Z"
    },
    "tags": []
   },
   "outputs": [
    {
     "name": "stderr",
     "output_type": "stream",
     "text": [
      "\u001b[32m2024-09-08 20:31:42.424\u001b[0m | \u001b[1mINFO    \u001b[0m | \u001b[36mbenchmark\u001b[0m:\u001b[36msave\u001b[0m:\u001b[36m132\u001b[0m - \u001b[1m./tasks/squad_v2/squad_v2.json에 저장합니다.\u001b[0m\n",
      "\u001b[32m2024-09-08 20:31:42.438\u001b[0m | \u001b[1mINFO    \u001b[0m | \u001b[36mbenchmark\u001b[0m:\u001b[36msave\u001b[0m:\u001b[36m133\u001b[0m - \u001b[1m20의 샘플이 저장됩니다.\u001b[0m\n"
     ]
    }
   ],
   "source": [
    "benchmark.save()"
   ]
  },
  {
   "cell_type": "code",
   "execution_count": 12,
   "id": "462a28d1-01fd-46a6-b2ea-feb1f4682918",
   "metadata": {
    "execution": {
     "iopub.execute_input": "2024-09-08T11:00:34.077764Z",
     "iopub.status.busy": "2024-09-08T11:00:34.076664Z",
     "iopub.status.idle": "2024-09-08T11:00:34.097212Z",
     "shell.execute_reply": "2024-09-08T11:00:34.096745Z",
     "shell.execute_reply.started": "2024-09-08T11:00:34.077706Z"
    },
    "tags": []
   },
   "outputs": [
    {
     "data": {
      "text/plain": [
       "\"York for US$1.95 billion, making it the world's most expensive hotel ever sold.\""
      ]
     },
     "execution_count": 12,
     "metadata": {},
     "output_type": "execute_result"
    }
   ],
   "source": [
    "\"Manhattan was on track to have an estimated 90,000 hotel rooms at the end of 2014, a 10% increase from 2013. In October 2014, the Anbang Insurance Group, based in China, purchased the Waldorf Astoria New York for US$1.95 billion, making it the world's most expensive hotel ever sold.\"[204:]"
   ]
  },
  {
   "cell_type": "code",
   "execution_count": 1,
   "id": "255af776-b74b-4195-a6d8-e3629132bae7",
   "metadata": {
    "execution": {
     "iopub.execute_input": "2024-09-08T11:51:52.004472Z",
     "iopub.status.busy": "2024-09-08T11:51:52.004282Z",
     "iopub.status.idle": "2024-09-08T11:51:52.265815Z",
     "shell.execute_reply": "2024-09-08T11:51:52.265492Z",
     "shell.execute_reply.started": "2024-09-08T11:51:52.004448Z"
    },
    "tags": []
   },
   "outputs": [],
   "source": [
    "from gpt import chat"
   ]
  },
  {
   "cell_type": "code",
   "execution_count": 5,
   "id": "49ba3a40-f135-46b2-85b0-4c58acf4ecea",
   "metadata": {
    "execution": {
     "iopub.execute_input": "2024-09-08T11:54:53.871377Z",
     "iopub.status.busy": "2024-09-08T11:54:53.871027Z",
     "iopub.status.idle": "2024-09-08T11:54:59.535938Z",
     "shell.execute_reply": "2024-09-08T11:54:59.534518Z",
     "shell.execute_reply.started": "2024-09-08T11:54:53.871349Z"
    },
    "tags": []
   },
   "outputs": [],
   "source": [
    "response = chat(\"\"\"\n",
    "We employed crowdworkers on the Daemo crowdsourcing platform (Gaikwad et al., 2015) to write\n",
    "unanswerable questions. Each task consisted of\n",
    "an entire article from SQuAD 1.1. For each paragraph in the article, workers were asked to pose up\n",
    "to five questions that were impossible to answer\n",
    "based on the paragraph alone, while referencing\n",
    "entities in the paragraph and ensuring that a plausible answer is present. As inspiration, we also\n",
    "showed questions from SQuAD 1.1 for each paragraph; this further encouraged unanswerable questions to look similar to answerable ones. Workers\n",
    "were asked to spend 7 minutes per paragraph, and\n",
    "were paid $10.50 per hour. Screenshots of our interface are shown in Appendix A.1.\n",
    "We removed questions from workers who wrote\n",
    "25 or fewer questions on that article; this filter\n",
    "helped remove noise from workers who had trouble understanding the task, and therefore quit before completing the whole article. We applied this\n",
    "filter to both our new data and the existing answerable questions from SQuAD 1.1. To generate train, development, and test splits, we used the\n",
    "same partition of articles as SQuAD 1.1, and combined the existing data with our new data for each\n",
    "split. For the SQuAD 2.0 development and test\n",
    "sets, we removed articles for which we did not collect unanswerable questions. This resulted in\n",
    "a roughly one-to-one ratio of answerable to unanswerable questions in these splits, whereas the\n",
    "train data has roughly twice as many answerable\n",
    "questions as unanswerable ones. Table 2 summarizes overall statistics of SQuAD 2.0.\n",
    "\"\"\")"
   ]
  },
  {
   "cell_type": "code",
   "execution_count": 8,
   "id": "41ac2239-9ae1-4bf8-aa7f-7584c0eb27f2",
   "metadata": {
    "execution": {
     "iopub.execute_input": "2024-09-08T11:55:24.679951Z",
     "iopub.status.busy": "2024-09-08T11:55:24.679290Z",
     "iopub.status.idle": "2024-09-08T11:55:24.701865Z",
     "shell.execute_reply": "2024-09-08T11:55:24.699670Z",
     "shell.execute_reply.started": "2024-09-08T11:55:24.679902Z"
    },
    "tags": []
   },
   "outputs": [
    {
     "data": {
      "text/markdown": [
       "```markdown\n",
       "우리는 Daemo 크라우드소싱 플랫폼(Gaikwad et al., 2015)에서 크라우드워커를 고용하여 답할 수 없는 질문을 작성하도록 했습니다. 각 작업은 SQuAD 1.1의 전체 기사를 포함했습니다. 기사 내 각 단락에 대해, 작업자들은 단락만으로는 답할 수 없는 질문을 최대 다섯 개까지 제시하도록 요청받았으며, 단락 내의 엔티티를 참조하고 그럴듯한 답변이 존재하도록 했습니다. 영감을 주기 위해, 우리는 각 단락에 대해 SQuAD 1.1의 질문도 보여주었으며, 이는 답할 수 없는 질문이 답할 수 있는 질문과 유사하게 보이도록 더욱 장려했습니다. 작업자들은 단락당 7분을 소비하도록 요청받았으며, 시간당 $10.50의 보수를 받았습니다. 우리의 인터페이스 스크린샷은 부록 A.1에 나와 있습니다.\n",
       "\n",
       "우리는 해당 기사에서 25개 이하의 질문을 작성한 작업자의 질문을 제거했습니다. 이 필터는 작업을 이해하는 데 어려움을 겪고 전체 기사를 완료하기 전에 그만둔 작업자로부터의 노이즈를 제거하는 데 도움이 되었습니다. 우리는 이 필터를 새로운 데이터와 SQuAD 1.1의 기존 답변 가능한 질문 모두에 적용했습니다. 훈련, 개발, 테스트 분할을 생성하기 위해, 우리는 SQuAD 1.1과 동일한 기사 분할을 사용하고 각 분할에 대해 기존 데이터와 새로운 데이터를 결합했습니다. SQuAD 2.0 개발 및 테스트 세트의 경우, 답할 수 없는 질문을 수집하지 않은 기사를 제거했습니다. 이로 인해 이러한 분할에서는 답할 수 있는 질문과 답할 수 없는 질문의 비율이 대략 1:1이 되었으며, 훈련 데이터는 답할 수 있는 질문이 답할 수 없는 질문보다 대략 두 배 많습니다. 표 2는 SQuAD 2.0의 전체 통계를 요약합니다.\n",
       "```"
      ],
      "text/plain": [
       "<IPython.core.display.Markdown object>"
      ]
     },
     "metadata": {},
     "output_type": "display_data"
    }
   ],
   "source": [
    "from IPython.display import Markdown\n",
    "display(Markdown(response))"
   ]
  },
  {
   "cell_type": "code",
   "execution_count": null,
   "id": "b6850517-648a-4be4-b8a3-14c3d9c5087d",
   "metadata": {},
   "outputs": [],
   "source": []
  }
 ],
 "metadata": {
  "kernelspec": {
   "display_name": "Python 3 (ipykernel)",
   "language": "python",
   "name": "python3"
  },
  "language_info": {
   "codemirror_mode": {
    "name": "ipython",
    "version": 3
   },
   "file_extension": ".py",
   "mimetype": "text/x-python",
   "name": "python",
   "nbconvert_exporter": "python",
   "pygments_lexer": "ipython3",
   "version": "3.11.5"
  }
 },
 "nbformat": 4,
 "nbformat_minor": 5
}
