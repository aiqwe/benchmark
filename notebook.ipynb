{
 "cells": [
  {
   "cell_type": "code",
   "execution_count": 1,
   "id": "236fb509-67fe-45da-b20b-59d58d87fbc3",
   "metadata": {
    "execution": {
     "iopub.execute_input": "2024-09-05T11:09:04.092745Z",
     "iopub.status.busy": "2024-09-05T11:09:04.092547Z",
     "iopub.status.idle": "2024-09-05T11:09:04.774498Z",
     "shell.execute_reply": "2024-09-05T11:09:04.774212Z",
     "shell.execute_reply.started": "2024-09-05T11:09:04.092721Z"
    },
    "tags": []
   },
   "outputs": [],
   "source": [
    "from benchmark import Benchmark"
   ]
  }
 ],
 "metadata": {
  "kernelspec": {
   "display_name": "Python 3 (ipykernel)",
   "language": "python",
   "name": "python3"
  },
  "language_info": {
   "codemirror_mode": {
    "name": "ipython",
    "version": 3
   },
   "file_extension": ".py",
   "mimetype": "text/x-python",
   "name": "python",
   "nbconvert_exporter": "python",
   "pygments_lexer": "ipython3",
   "version": "3.11.5"
  }
 },
 "nbformat": 4,
 "nbformat_minor": 5
}
