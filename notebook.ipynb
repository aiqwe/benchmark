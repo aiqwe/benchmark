{
 "cells": [
  {
   "cell_type": "code",
   "execution_count": 1,
   "id": "236fb509-67fe-45da-b20b-59d58d87fbc3",
   "metadata": {
    "execution": {
     "iopub.execute_input": "2024-09-05T18:50:13.160975Z",
     "iopub.status.busy": "2024-09-05T18:50:13.160493Z",
     "iopub.status.idle": "2024-09-05T18:50:13.654467Z",
     "shell.execute_reply": "2024-09-05T18:50:13.654202Z",
     "shell.execute_reply.started": "2024-09-05T18:50:13.160938Z"
    },
    "tags": []
   },
   "outputs": [],
   "source": [
    "from benchmark import HFDatasets, show, Benchmark"
   ]
  },
  {
   "cell_type": "code",
   "execution_count": 5,
   "id": "efa0ccc6-a2fb-46fd-ab10-debeb444c2f7",
   "metadata": {
    "execution": {
     "iopub.execute_input": "2024-09-05T18:50:31.033534Z",
     "iopub.status.busy": "2024-09-05T18:50:31.032956Z",
     "iopub.status.idle": "2024-09-05T18:50:31.039412Z",
     "shell.execute_reply": "2024-09-05T18:50:31.038567Z",
     "shell.execute_reply.started": "2024-09-05T18:50:31.033496Z"
    },
    "tags": []
   },
   "outputs": [],
   "source": [
    "benchmark_name = \"mmlu_pro\"\n",
    "conf = HFDatasets()\n",
    "path = conf.get_benchmark(benchmark_name)['path']\n",
    "name = conf.get_benchmark(benchmark_name)['name']"
   ]
  },
  {
   "cell_type": "code",
   "execution_count": 6,
   "id": "9a832233-9d16-44ad-a83b-9d7d75adbf58",
   "metadata": {
    "execution": {
     "iopub.execute_input": "2024-09-05T18:50:32.786307Z",
     "iopub.status.busy": "2024-09-05T18:50:32.785696Z",
     "iopub.status.idle": "2024-09-05T18:50:40.386564Z",
     "shell.execute_reply": "2024-09-05T18:50:40.386332Z",
     "shell.execute_reply.started": "2024-09-05T18:50:32.786270Z"
    },
    "tags": []
   },
   "outputs": [
    {
     "data": {
      "application/vnd.jupyter.widget-view+json": {
       "model_id": "eb65ce48ca4f4e19913d41edcd57773b",
       "version_major": 2,
       "version_minor": 0
      },
      "text/plain": [
       "Downloading readme:   0%|          | 0.00/10.5k [00:00<?, ?B/s]"
      ]
     },
     "metadata": {},
     "output_type": "display_data"
    },
    {
     "name": "stderr",
     "output_type": "stream",
     "text": [
      "Downloading data: 100%|██████████| 45.3k/45.3k [00:00<00:00, 101kB/s]\n",
      "Downloading data: 100%|██████████| 4.15M/4.15M [00:00<00:00, 5.38MB/s]\n",
      "Setting num_proc from 6 back to 1 for the test split to disable multiprocessing as it only contains one shard.\n"
     ]
    },
    {
     "data": {
      "application/vnd.jupyter.widget-view+json": {
       "model_id": "3bc6c00b498b4f65920275f18f45a9ac",
       "version_major": 2,
       "version_minor": 0
      },
      "text/plain": [
       "Generating test split:   0%|          | 0/12032 [00:00<?, ? examples/s]"
      ]
     },
     "metadata": {},
     "output_type": "display_data"
    },
    {
     "name": "stderr",
     "output_type": "stream",
     "text": [
      "Setting num_proc from 6 back to 1 for the validation split to disable multiprocessing as it only contains one shard.\n"
     ]
    },
    {
     "data": {
      "application/vnd.jupyter.widget-view+json": {
       "model_id": "1e7b0b2bd2b54f0f8cf34013668347c8",
       "version_major": 2,
       "version_minor": 0
      },
      "text/plain": [
       "Generating validation split:   0%|          | 0/70 [00:00<?, ? examples/s]"
      ]
     },
     "metadata": {},
     "output_type": "display_data"
    },
    {
     "name": "stderr",
     "output_type": "stream",
     "text": [
      "\u001b[32m2024-09-06 03:50:40.385\u001b[0m | \u001b[1mINFO    \u001b[0m | \u001b[36mbenchmark\u001b[0m:\u001b[36m__init__\u001b[0m:\u001b[36m44\u001b[0m - \u001b[1m\n",
      "name: TIGER-Lab/MMLU-Pro\n",
      "path: None\n",
      "total_split: ['test', 'validation']\n",
      "prior_split: test\n",
      "test: 12032\n",
      "validation: 70\n",
      "\u001b[0m\n"
     ]
    }
   ],
   "source": [
    "benchmark = Benchmark(path, name)"
   ]
  },
  {
   "cell_type": "code",
   "execution_count": 11,
   "id": "cc6d9d1b-af9f-4502-a0bd-cf5df9e81aad",
   "metadata": {
    "execution": {
     "iopub.execute_input": "2024-09-05T18:52:01.859987Z",
     "iopub.status.busy": "2024-09-05T18:52:01.859489Z",
     "iopub.status.idle": "2024-09-05T18:52:01.865162Z",
     "shell.execute_reply": "2024-09-05T18:52:01.864457Z",
     "shell.execute_reply.started": "2024-09-05T18:52:01.859956Z"
    },
    "tags": []
   },
   "outputs": [
    {
     "name": "stdout",
     "output_type": "stream",
     "text": [
      "{\n",
      "\u001b[38;2;187;187;187m    \u001b[39m\u001b[38;2;0;128;0;01m\"question_id\"\u001b[39;00m:\u001b[38;2;187;187;187m \u001b[39m\u001b[38;2;102;102;102m8035\u001b[39m,\n",
      "\u001b[38;2;187;187;187m    \u001b[39m\u001b[38;2;0;128;0;01m\"question\"\u001b[39;00m:\u001b[38;2;187;187;187m \u001b[39m\u001b[38;2;186;33;33m\"Compute the real integral $I=\\\\int_{-\\\\infty}^{\\\\infty} 1/(x^2 + 1)^2 dx$.\"\u001b[39m,\n",
      "\u001b[38;2;187;187;187m    \u001b[39m\u001b[38;2;0;128;0;01m\"options\"\u001b[39;00m:\u001b[38;2;187;187;187m \u001b[39m[\n",
      "\u001b[38;2;187;187;187m        \u001b[39m\u001b[38;2;186;33;33m\"saying someone should do something because he or she dislikes someone else\"\u001b[39m,\n",
      "\u001b[38;2;187;187;187m        \u001b[39m\u001b[38;2;186;33;33m\"saying someone should do something to be better liked by others\"\u001b[39m,\n",
      "\u001b[38;2;187;187;187m        \u001b[39m\u001b[38;2;186;33;33m\"saying someone should do something because it will make him or her feel good\"\u001b[39m,\n",
      "\u001b[38;2;187;187;187m        \u001b[39m\u001b[38;2;186;33;33m\"saying someone should accept an idea because of the source of the idea\"\u001b[39m\n",
      "\u001b[38;2;187;187;187m    \u001b[39m],\n",
      "\u001b[38;2;187;187;187m    \u001b[39m\u001b[38;2;0;128;0;01m\"answer\"\u001b[39;00m:\u001b[38;2;187;187;187m \u001b[39m\u001b[38;2;186;33;33m\"G\"\u001b[39m,\n",
      "\u001b[38;2;187;187;187m    \u001b[39m\u001b[38;2;0;128;0;01m\"answer_index\"\u001b[39;00m:\u001b[38;2;187;187;187m \u001b[39m\u001b[38;2;102;102;102m9\u001b[39m,\n",
      "\u001b[38;2;187;187;187m    \u001b[39m\u001b[38;2;0;128;0;01m\"cot_content\"\u001b[39;00m:\u001b[38;2;187;187;187m \u001b[39m\u001b[38;2;186;33;33m\"\"\u001b[39m,\n",
      "\u001b[38;2;187;187;187m    \u001b[39m\u001b[38;2;0;128;0;01m\"category\"\u001b[39;00m:\u001b[38;2;187;187;187m \u001b[39m\u001b[38;2;186;33;33m\"chemistry\"\u001b[39m,\n",
      "\u001b[38;2;187;187;187m    \u001b[39m\u001b[38;2;0;128;0;01m\"src\"\u001b[39;00m:\u001b[38;2;187;187;187m \u001b[39m\u001b[38;2;186;33;33m\"ori_mmlu-professional_medicine\"\u001b[39m\n",
      "}\n",
      "\n"
     ]
    }
   ],
   "source": [
    "benchmark.show()"
   ]
  },
  {
   "cell_type": "code",
   "execution_count": null,
   "id": "284a4525-d241-4abf-95c4-bde38bd570f1",
   "metadata": {},
   "outputs": [],
   "source": []
  }
 ],
 "metadata": {
  "kernelspec": {
   "display_name": "Python 3 (ipykernel)",
   "language": "python",
   "name": "python3"
  },
  "language_info": {
   "codemirror_mode": {
    "name": "ipython",
    "version": 3
   },
   "file_extension": ".py",
   "mimetype": "text/x-python",
   "name": "python",
   "nbconvert_exporter": "python",
   "pygments_lexer": "ipython3",
   "version": "3.10.14"
  }
 },
 "nbformat": 4,
 "nbformat_minor": 5
}
