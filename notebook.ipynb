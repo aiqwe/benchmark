{
 "cells": [
  {
   "cell_type": "code",
   "execution_count": 1,
   "id": "236fb509-67fe-45da-b20b-59d58d87fbc3",
   "metadata": {
    "execution": {
     "iopub.execute_input": "2024-09-06T14:53:05.855254Z",
     "iopub.status.busy": "2024-09-06T14:53:05.854526Z",
     "iopub.status.idle": "2024-09-06T14:53:06.299644Z",
     "shell.execute_reply": "2024-09-06T14:53:06.299416Z",
     "shell.execute_reply.started": "2024-09-06T14:53:05.855192Z"
    },
    "tags": []
   },
   "outputs": [],
   "source": [
    "from benchmark import HFDatasets, show, Benchmark"
   ]
  },
  {
   "cell_type": "code",
   "execution_count": 2,
   "id": "bb9226d9-db3d-40c7-8572-de4b1f9988a6",
   "metadata": {
    "execution": {
     "iopub.execute_input": "2024-09-06T14:53:06.300482Z",
     "iopub.status.busy": "2024-09-06T14:53:06.300343Z",
     "iopub.status.idle": "2024-09-06T14:53:06.302447Z",
     "shell.execute_reply": "2024-09-06T14:53:06.302234Z",
     "shell.execute_reply.started": "2024-09-06T14:53:06.300473Z"
    },
    "tags": []
   },
   "outputs": [],
   "source": [
    "hf_conf = HFDatasets()"
   ]
  },
  {
   "cell_type": "code",
   "execution_count": 3,
   "id": "ea9c98e0-f951-4a60-bd77-2f57bb7d3000",
   "metadata": {
    "execution": {
     "iopub.execute_input": "2024-09-06T14:53:06.302872Z",
     "iopub.status.busy": "2024-09-06T14:53:06.302796Z",
     "iopub.status.idle": "2024-09-06T14:53:06.306428Z",
     "shell.execute_reply": "2024-09-06T14:53:06.306226Z",
     "shell.execute_reply.started": "2024-09-06T14:53:06.302863Z"
    },
    "tags": []
   },
   "outputs": [
    {
     "name": "stdout",
     "output_type": "stream",
     "text": [
      "\u001b[38;5;249m{\u001b[39m\n",
      "\u001b[38;5;249m    \u001b[39m\u001b[38;5;168m\"mmlu\"\u001b[39m\u001b[38;5;249m:\u001b[39m\u001b[38;5;249m \u001b[39m\u001b[38;5;249m{\u001b[39m\n",
      "\u001b[38;5;249m        \u001b[39m\u001b[38;5;168m\"path\"\u001b[39m\u001b[38;5;249m:\u001b[39m\u001b[38;5;249m \u001b[39m\u001b[38;5;108m\"cais/mmlu\"\u001b[39m\u001b[38;5;249m,\u001b[39m\n",
      "\u001b[38;5;249m        \u001b[39m\u001b[38;5;168m\"name\"\u001b[39m\u001b[38;5;249m:\u001b[39m\u001b[38;5;249m \u001b[39m\u001b[38;5;108m\"all\"\u001b[39m\u001b[38;5;249m,\u001b[39m\n",
      "\u001b[38;5;249m        \u001b[39m\u001b[38;5;168m\"url\"\u001b[39m\u001b[38;5;249m:\u001b[39m\u001b[38;5;249m \u001b[39m\u001b[38;5;108m\"https://huggingface.co/datasets/cais/mmlu\"\u001b[39m\u001b[38;5;249m,\u001b[39m\n",
      "\u001b[38;5;249m        \u001b[39m\u001b[38;5;168m\"paper\"\u001b[39m\u001b[38;5;249m:\u001b[39m\u001b[38;5;249m \u001b[39m\u001b[38;5;108m\"https://arxiv.org/pdf/2009.03300\"\u001b[39m\u001b[38;5;249m,\u001b[39m\n",
      "\u001b[38;5;249m        \u001b[39m\u001b[38;5;168m\"annotation\"\u001b[39m\u001b[38;5;249m:\u001b[39m\u001b[38;5;249m \u001b[39m\u001b[38;5;180mnull\u001b[39m\n",
      "\u001b[38;5;249m    \u001b[39m\u001b[38;5;249m},\u001b[39m\n",
      "\u001b[38;5;249m    \u001b[39m\u001b[38;5;168m\"mmlu_pro\"\u001b[39m\u001b[38;5;249m:\u001b[39m\u001b[38;5;249m \u001b[39m\u001b[38;5;249m{\u001b[39m\n",
      "\u001b[38;5;249m        \u001b[39m\u001b[38;5;168m\"path\"\u001b[39m\u001b[38;5;249m:\u001b[39m\u001b[38;5;249m \u001b[39m\u001b[38;5;108m\"TIGER-Lab/MMLU-Pro\"\u001b[39m\u001b[38;5;249m,\u001b[39m\n",
      "\u001b[38;5;249m        \u001b[39m\u001b[38;5;168m\"name\"\u001b[39m\u001b[38;5;249m:\u001b[39m\u001b[38;5;249m \u001b[39m\u001b[38;5;180mnull\u001b[39m\u001b[38;5;249m,\u001b[39m\n",
      "\u001b[38;5;249m        \u001b[39m\u001b[38;5;168m\"url\"\u001b[39m\u001b[38;5;249m:\u001b[39m\u001b[38;5;249m \u001b[39m\u001b[38;5;108m\"https://huggingface.co/datasets/TIGER-Lab/MMLU-Pro\"\u001b[39m\u001b[38;5;249m,\u001b[39m\n",
      "\u001b[38;5;249m        \u001b[39m\u001b[38;5;168m\"paper\"\u001b[39m\u001b[38;5;249m:\u001b[39m\u001b[38;5;249m \u001b[39m\u001b[38;5;108m\"https://arxiv.org/pdf/2406.01574\"\u001b[39m\u001b[38;5;249m,\u001b[39m\n",
      "\u001b[38;5;249m        \u001b[39m\u001b[38;5;168m\"annotation\"\u001b[39m\u001b[38;5;249m:\u001b[39m\u001b[38;5;249m \u001b[39m\u001b[38;5;180mnull\u001b[39m\n",
      "\u001b[38;5;249m    \u001b[39m\u001b[38;5;249m},\u001b[39m\n",
      "\u001b[38;5;249m    \u001b[39m\u001b[38;5;168m\"agi_eval\"\u001b[39m\u001b[38;5;249m:\u001b[39m\u001b[38;5;249m \u001b[39m\u001b[38;5;249m{\u001b[39m\n",
      "\u001b[38;5;249m        \u001b[39m\u001b[38;5;168m\"path\"\u001b[39m\u001b[38;5;249m:\u001b[39m\u001b[38;5;249m \u001b[39m\u001b[38;5;249m[\u001b[39m\n",
      "\u001b[38;5;249m            \u001b[39m\u001b[38;5;108m\"hails/agieval-lsat-rc\"\u001b[39m\u001b[38;5;249m,\u001b[39m\n",
      "\u001b[38;5;249m            \u001b[39m\u001b[38;5;108m\"hails/agieval-logiqa-en\"\u001b[39m\u001b[38;5;249m,\u001b[39m\n",
      "\u001b[38;5;249m            \u001b[39m\u001b[38;5;108m\"hails/agieval-gaokao-english\"\u001b[39m\u001b[38;5;249m,\u001b[39m\n",
      "\u001b[38;5;249m            \u001b[39m\u001b[38;5;108m\"hails/agieval-aqua-rat\"\u001b[39m\u001b[38;5;249m,\u001b[39m\n",
      "\u001b[38;5;249m            \u001b[39m\u001b[38;5;108m\"hails/agieval-sat-math\"\u001b[39m\u001b[38;5;249m,\u001b[39m\n",
      "\u001b[38;5;249m            \u001b[39m\u001b[38;5;108m\"hails/agieval-lsat-ar\"\u001b[39m\u001b[38;5;249m,\u001b[39m\n",
      "\u001b[38;5;249m            \u001b[39m\u001b[38;5;108m\"hails/agieval-lsat-lr\"\u001b[39m\u001b[38;5;249m,\u001b[39m\n",
      "\u001b[38;5;249m            \u001b[39m\u001b[38;5;108m\"hails/agieval-sat-en-without-passage\"\u001b[39m\u001b[38;5;249m,\u001b[39m\n",
      "\u001b[38;5;249m            \u001b[39m\u001b[38;5;108m\"hails/agieval-sat-en\"\u001b[39m\u001b[38;5;249m,\u001b[39m\n",
      "\u001b[38;5;249m            \u001b[39m\u001b[38;5;108m\"hails/agieval-math\"\u001b[39m\n",
      "\u001b[38;5;249m        \u001b[39m\u001b[38;5;249m],\u001b[39m\n",
      "\u001b[38;5;249m        \u001b[39m\u001b[38;5;168m\"name\"\u001b[39m\u001b[38;5;249m:\u001b[39m\u001b[38;5;249m \u001b[39m\u001b[38;5;180mnull\u001b[39m\u001b[38;5;249m,\u001b[39m\n",
      "\u001b[38;5;249m        \u001b[39m\u001b[38;5;168m\"url\"\u001b[39m\u001b[38;5;249m:\u001b[39m\u001b[38;5;249m \u001b[39m\u001b[38;5;108m\"https://huggingface.co/hails\"\u001b[39m\u001b[38;5;249m,\u001b[39m\n",
      "\u001b[38;5;249m        \u001b[39m\u001b[38;5;168m\"paper\"\u001b[39m\u001b[38;5;249m:\u001b[39m\u001b[38;5;249m \u001b[39m\u001b[38;5;108m\"https://arxiv.org/pdf/2304.06364\"\u001b[39m\u001b[38;5;249m,\u001b[39m\n",
      "\u001b[38;5;249m        \u001b[39m\u001b[38;5;168m\"annotation\"\u001b[39m\u001b[38;5;249m:\u001b[39m\u001b[38;5;249m \u001b[39m\u001b[38;5;180mnull\u001b[39m\n",
      "\u001b[38;5;249m    \u001b[39m\u001b[38;5;249m},\u001b[39m\n",
      "\u001b[38;5;249m    \u001b[39m\u001b[38;5;168m\"commonsense_qa\"\u001b[39m\u001b[38;5;249m:\u001b[39m\u001b[38;5;249m \u001b[39m\u001b[38;5;249m{\u001b[39m\n",
      "\u001b[38;5;249m        \u001b[39m\u001b[38;5;168m\"path\"\u001b[39m\u001b[38;5;249m:\u001b[39m\u001b[38;5;249m \u001b[39m\u001b[38;5;108m\"tau/commonsense_qa\"\u001b[39m\u001b[38;5;249m,\u001b[39m\n",
      "\u001b[38;5;249m        \u001b[39m\u001b[38;5;168m\"name\"\u001b[39m\u001b[38;5;249m:\u001b[39m\u001b[38;5;249m \u001b[39m\u001b[38;5;180mnull\u001b[39m\u001b[38;5;249m,\u001b[39m\n",
      "\u001b[38;5;249m        \u001b[39m\u001b[38;5;168m\"url\"\u001b[39m\u001b[38;5;249m:\u001b[39m\u001b[38;5;249m \u001b[39m\u001b[38;5;108m\"https://huggingface.co/datasets/tau/commonsense_qa\"\u001b[39m\u001b[38;5;249m,\u001b[39m\n",
      "\u001b[38;5;249m        \u001b[39m\u001b[38;5;168m\"paper\"\u001b[39m\u001b[38;5;249m:\u001b[39m\u001b[38;5;249m \u001b[39m\u001b[38;5;108m\"https://arxiv.org/pdf/1811.00937\"\u001b[39m\u001b[38;5;249m,\u001b[39m\n",
      "\u001b[38;5;249m        \u001b[39m\u001b[38;5;168m\"annotation\"\u001b[39m\u001b[38;5;249m:\u001b[39m\u001b[38;5;249m \u001b[39m\u001b[38;5;180mnull\u001b[39m\n",
      "\u001b[38;5;249m    \u001b[39m\u001b[38;5;249m},\u001b[39m\n",
      "\u001b[38;5;249m    \u001b[39m\u001b[38;5;168m\"winogrande\"\u001b[39m\u001b[38;5;249m:\u001b[39m\u001b[38;5;249m \u001b[39m\u001b[38;5;249m{\u001b[39m\n",
      "\u001b[38;5;249m        \u001b[39m\u001b[38;5;168m\"path\"\u001b[39m\u001b[38;5;249m:\u001b[39m\u001b[38;5;249m \u001b[39m\u001b[38;5;108m\"allenai/winogrande\"\u001b[39m\u001b[38;5;249m,\u001b[39m\n",
      "\u001b[38;5;249m        \u001b[39m\u001b[38;5;168m\"name\"\u001b[39m\u001b[38;5;249m:\u001b[39m\u001b[38;5;249m \u001b[39m\u001b[38;5;249m[\u001b[39m\n",
      "\u001b[38;5;249m            \u001b[39m\u001b[38;5;108m\"winogrande_s\"\u001b[39m\u001b[38;5;249m,\u001b[39m\n",
      "\u001b[38;5;249m            \u001b[39m\u001b[38;5;108m\"winogrande_m\"\u001b[39m\u001b[38;5;249m,\u001b[39m\n",
      "\u001b[38;5;249m            \u001b[39m\u001b[38;5;108m\"winogrande_l\"\u001b[39m\u001b[38;5;249m,\u001b[39m\n",
      "\u001b[38;5;249m            \u001b[39m\u001b[38;5;108m\"winogrande_xl\"\u001b[39m\u001b[38;5;249m,\u001b[39m\n",
      "\u001b[38;5;249m            \u001b[39m\u001b[38;5;108m\"winogrande_debiased\"\u001b[39m\n",
      "\u001b[38;5;249m        \u001b[39m\u001b[38;5;249m],\u001b[39m\n",
      "\u001b[38;5;249m        \u001b[39m\u001b[38;5;168m\"url\"\u001b[39m\u001b[38;5;249m:\u001b[39m\u001b[38;5;249m \u001b[39m\u001b[38;5;108m\"https://huggingface.co/datasets/allenai/winogrande\"\u001b[39m\u001b[38;5;249m,\u001b[39m\n",
      "\u001b[38;5;249m        \u001b[39m\u001b[38;5;168m\"paper\"\u001b[39m\u001b[38;5;249m:\u001b[39m\u001b[38;5;249m \u001b[39m\u001b[38;5;108m\"https://arxiv.org/pdf/1907.10641\"\u001b[39m\u001b[38;5;249m,\u001b[39m\n",
      "\u001b[38;5;249m        \u001b[39m\u001b[38;5;168m\"annotation\"\u001b[39m\u001b[38;5;249m:\u001b[39m\u001b[38;5;249m \u001b[39m\u001b[38;5;180mnull\u001b[39m\n",
      "\u001b[38;5;249m    \u001b[39m\u001b[38;5;249m},\u001b[39m\n",
      "\u001b[38;5;249m    \u001b[39m\u001b[38;5;168m\"bigbenchhard\"\u001b[39m\u001b[38;5;249m:\u001b[39m\u001b[38;5;249m \u001b[39m\u001b[38;5;249m{\u001b[39m\n",
      "\u001b[38;5;249m        \u001b[39m\u001b[38;5;168m\"path\"\u001b[39m\u001b[38;5;249m:\u001b[39m\u001b[38;5;249m \u001b[39m\u001b[38;5;108m\"maveriq/bigbenchhard\"\u001b[39m\u001b[38;5;249m,\u001b[39m\n",
      "\u001b[38;5;249m        \u001b[39m\u001b[38;5;168m\"name\"\u001b[39m\u001b[38;5;249m:\u001b[39m\u001b[38;5;249m \u001b[39m\u001b[38;5;249m[\u001b[39m\n",
      "\u001b[38;5;249m            \u001b[39m\u001b[38;5;108m\"boolean_expressions\"\u001b[39m\u001b[38;5;249m,\u001b[39m\n",
      "\u001b[38;5;249m            \u001b[39m\u001b[38;5;108m\"causal_judgement\"\u001b[39m\u001b[38;5;249m,\u001b[39m\n",
      "\u001b[38;5;249m            \u001b[39m\u001b[38;5;108m\"date_understanding\"\u001b[39m\u001b[38;5;249m,\u001b[39m\n",
      "\u001b[38;5;249m            \u001b[39m\u001b[38;5;108m\"disambiguation_qa\"\u001b[39m\u001b[38;5;249m,\u001b[39m\n",
      "\u001b[38;5;249m            \u001b[39m\u001b[38;5;108m\"dyck_languages\"\u001b[39m\u001b[38;5;249m,\u001b[39m\n",
      "\u001b[38;5;249m            \u001b[39m\u001b[38;5;108m\"formal_fallacies\"\u001b[39m\u001b[38;5;249m,\u001b[39m\n",
      "\u001b[38;5;249m            \u001b[39m\u001b[38;5;108m\"geometric_shapes\"\u001b[39m\u001b[38;5;249m,\u001b[39m\n",
      "\u001b[38;5;249m            \u001b[39m\u001b[38;5;108m\"hyperbaton\"\u001b[39m\u001b[38;5;249m,\u001b[39m\n",
      "\u001b[38;5;249m            \u001b[39m\u001b[38;5;108m\"logical_deduction_five_objects\"\u001b[39m\u001b[38;5;249m,\u001b[39m\n",
      "\u001b[38;5;249m            \u001b[39m\u001b[38;5;108m\"logical_deduction_seven_objects\"\u001b[39m\u001b[38;5;249m,\u001b[39m\n",
      "\u001b[38;5;249m            \u001b[39m\u001b[38;5;108m\"logical_deduction_three_objects\"\u001b[39m\u001b[38;5;249m,\u001b[39m\n",
      "\u001b[38;5;249m            \u001b[39m\u001b[38;5;108m\"movie_recommendation\"\u001b[39m\u001b[38;5;249m,\u001b[39m\n",
      "\u001b[38;5;249m            \u001b[39m\u001b[38;5;108m\"multistep_arithmetic_two\"\u001b[39m\u001b[38;5;249m,\u001b[39m\n",
      "\u001b[38;5;249m            \u001b[39m\u001b[38;5;108m\"navigate\"\u001b[39m\u001b[38;5;249m,\u001b[39m\n",
      "\u001b[38;5;249m            \u001b[39m\u001b[38;5;108m\"object_counting\"\u001b[39m\u001b[38;5;249m,\u001b[39m\n",
      "\u001b[38;5;249m            \u001b[39m\u001b[38;5;108m\"penguins_in_a_table\"\u001b[39m\u001b[38;5;249m,\u001b[39m\n",
      "\u001b[38;5;249m            \u001b[39m\u001b[38;5;108m\"reasoning_about_colored_objects\"\u001b[39m\u001b[38;5;249m,\u001b[39m\n",
      "\u001b[38;5;249m            \u001b[39m\u001b[38;5;108m\"ruin_names\"\u001b[39m\u001b[38;5;249m,\u001b[39m\n",
      "\u001b[38;5;249m            \u001b[39m\u001b[38;5;108m\"salient_translation_error_detection\"\u001b[39m\u001b[38;5;249m,\u001b[39m\n",
      "\u001b[38;5;249m            \u001b[39m\u001b[38;5;108m\"snarks\"\u001b[39m\u001b[38;5;249m,\u001b[39m\n",
      "\u001b[38;5;249m            \u001b[39m\u001b[38;5;108m\"sports_understanding\"\u001b[39m\u001b[38;5;249m,\u001b[39m\n",
      "\u001b[38;5;249m            \u001b[39m\u001b[38;5;108m\"temporal_sequences\"\u001b[39m\u001b[38;5;249m,\u001b[39m\n",
      "\u001b[38;5;249m            \u001b[39m\u001b[38;5;108m\"tracking_shuffled_objects_five_objects\"\u001b[39m\u001b[38;5;249m,\u001b[39m\n",
      "\u001b[38;5;249m            \u001b[39m\u001b[38;5;108m\"tracking_shuffled_objects_seven_objects\"\u001b[39m\u001b[38;5;249m,\u001b[39m\n",
      "\u001b[38;5;249m            \u001b[39m\u001b[38;5;108m\"tracking_shuffled_objects_three_objects\"\u001b[39m\u001b[38;5;249m,\u001b[39m\n",
      "\u001b[38;5;249m            \u001b[39m\u001b[38;5;108m\"web_of_lies\"\u001b[39m\u001b[38;5;249m,\u001b[39m\n",
      "\u001b[38;5;249m            \u001b[39m\u001b[38;5;108m\"word_sorting\"\u001b[39m\n",
      "\u001b[38;5;249m        \u001b[39m\u001b[38;5;249m],\u001b[39m\n",
      "\u001b[38;5;249m        \u001b[39m\u001b[38;5;168m\"url\"\u001b[39m\u001b[38;5;249m:\u001b[39m\u001b[38;5;249m \u001b[39m\u001b[38;5;108m\"https://huggingface.co/datasets/maveriq/bigbenchhard\"\u001b[39m\u001b[38;5;249m,\u001b[39m\n",
      "\u001b[38;5;249m        \u001b[39m\u001b[38;5;168m\"paper\"\u001b[39m\u001b[38;5;249m:\u001b[39m\u001b[38;5;249m \u001b[39m\u001b[38;5;108m\"https://arxiv.org/pdf/2210.09261\"\u001b[39m\u001b[38;5;249m,\u001b[39m\n",
      "\u001b[38;5;249m        \u001b[39m\u001b[38;5;168m\"annotation\"\u001b[39m\u001b[38;5;249m:\u001b[39m\u001b[38;5;249m \u001b[39m\u001b[38;5;180mnull\u001b[39m\n",
      "\u001b[38;5;249m    \u001b[39m\u001b[38;5;249m},\u001b[39m\n",
      "\u001b[38;5;249m    \u001b[39m\u001b[38;5;168m\"arc\"\u001b[39m\u001b[38;5;249m:\u001b[39m\u001b[38;5;249m \u001b[39m\u001b[38;5;249m{\u001b[39m\n",
      "\u001b[38;5;249m        \u001b[39m\u001b[38;5;168m\"path\"\u001b[39m\u001b[38;5;249m:\u001b[39m\u001b[38;5;249m \u001b[39m\u001b[38;5;108m\"allenai/ai2_arc\"\u001b[39m\u001b[38;5;249m,\u001b[39m\n",
      "\u001b[38;5;249m        \u001b[39m\u001b[38;5;168m\"name\"\u001b[39m\u001b[38;5;249m:\u001b[39m\u001b[38;5;249m \u001b[39m\u001b[38;5;249m[\u001b[39m\n",
      "\u001b[38;5;249m            \u001b[39m\u001b[38;5;108m\"ARC-Challenge\"\u001b[39m\u001b[38;5;249m,\u001b[39m\n",
      "\u001b[38;5;249m            \u001b[39m\u001b[38;5;108m\"ARC-Easy\"\u001b[39m\n",
      "\u001b[38;5;249m        \u001b[39m\u001b[38;5;249m],\u001b[39m\n",
      "\u001b[38;5;249m        \u001b[39m\u001b[38;5;168m\"url\"\u001b[39m\u001b[38;5;249m:\u001b[39m\u001b[38;5;249m \u001b[39m\u001b[38;5;108m\"https://huggingface.co/datasets/allenai/ai2_arc\"\u001b[39m\u001b[38;5;249m,\u001b[39m\n",
      "\u001b[38;5;249m        \u001b[39m\u001b[38;5;168m\"paper\"\u001b[39m\u001b[38;5;249m:\u001b[39m\u001b[38;5;249m \u001b[39m\u001b[38;5;108m\"https://arxiv.org/pdf/1803.05457\"\u001b[39m\u001b[38;5;249m,\u001b[39m\n",
      "\u001b[38;5;249m        \u001b[39m\u001b[38;5;168m\"annotation\"\u001b[39m\u001b[38;5;249m:\u001b[39m\u001b[38;5;249m \u001b[39m\u001b[38;5;180mnull\u001b[39m\n",
      "\u001b[38;5;249m    \u001b[39m\u001b[38;5;249m},\u001b[39m\n",
      "\u001b[38;5;249m    \u001b[39m\u001b[38;5;168m\"trivia_qa\"\u001b[39m\u001b[38;5;249m:\u001b[39m\u001b[38;5;249m \u001b[39m\u001b[38;5;249m{\u001b[39m\n",
      "\u001b[38;5;249m        \u001b[39m\u001b[38;5;168m\"path\"\u001b[39m\u001b[38;5;249m:\u001b[39m\u001b[38;5;249m \u001b[39m\u001b[38;5;108m\"mandarjoshi/trivia_qa\"\u001b[39m\u001b[38;5;249m,\u001b[39m\n",
      "\u001b[38;5;249m        \u001b[39m\u001b[38;5;168m\"name\"\u001b[39m\u001b[38;5;249m:\u001b[39m\u001b[38;5;249m \u001b[39m\u001b[38;5;249m[\u001b[39m\n",
      "\u001b[38;5;249m            \u001b[39m\u001b[38;5;108m\"rc\"\u001b[39m\u001b[38;5;249m,\u001b[39m\n",
      "\u001b[38;5;249m            \u001b[39m\u001b[38;5;108m\"rc.nocontext\"\u001b[39m\u001b[38;5;249m,\u001b[39m\n",
      "\u001b[38;5;249m            \u001b[39m\u001b[38;5;108m\"rc.web\"\u001b[39m\u001b[38;5;249m,\u001b[39m\n",
      "\u001b[38;5;249m            \u001b[39m\u001b[38;5;108m\"rc.web.nocontext\"\u001b[39m\u001b[38;5;249m,\u001b[39m\n",
      "\u001b[38;5;249m            \u001b[39m\u001b[38;5;108m\"rc.wikipedia\"\u001b[39m\u001b[38;5;249m,\u001b[39m\n",
      "\u001b[38;5;249m            \u001b[39m\u001b[38;5;108m\"rc.wikipedia.nocontext\"\u001b[39m\u001b[38;5;249m,\u001b[39m\n",
      "\u001b[38;5;249m            \u001b[39m\u001b[38;5;108m\"unfiltered\"\u001b[39m\u001b[38;5;249m,\u001b[39m\n",
      "\u001b[38;5;249m            \u001b[39m\u001b[38;5;108m\"unfiltered.nocontext\"\u001b[39m\n",
      "\u001b[38;5;249m        \u001b[39m\u001b[38;5;249m],\u001b[39m\n",
      "\u001b[38;5;249m        \u001b[39m\u001b[38;5;168m\"url\"\u001b[39m\u001b[38;5;249m:\u001b[39m\u001b[38;5;249m \u001b[39m\u001b[38;5;108m\"https://huggingface.co/datasets/mandarjoshi/trivia_qa\"\u001b[39m\u001b[38;5;249m,\u001b[39m\n",
      "\u001b[38;5;249m        \u001b[39m\u001b[38;5;168m\"paper\"\u001b[39m\u001b[38;5;249m:\u001b[39m\u001b[38;5;249m \u001b[39m\u001b[38;5;108m\"https://arxiv.org/pdf/1705.03551\"\u001b[39m\u001b[38;5;249m,\u001b[39m\n",
      "\u001b[38;5;249m        \u001b[39m\u001b[38;5;168m\"annotation\"\u001b[39m\u001b[38;5;249m:\u001b[39m\u001b[38;5;249m \u001b[39m\u001b[38;5;180mnull\u001b[39m\n",
      "\u001b[38;5;249m    \u001b[39m\u001b[38;5;249m}\u001b[39m\n",
      "\u001b[38;5;249m}\u001b[39m\n",
      "\n"
     ]
    }
   ],
   "source": [
    "show(hf_conf.config)"
   ]
  },
  {
   "cell_type": "code",
   "execution_count": 7,
   "id": "dbec8ffb-ca45-4d16-bbe4-76c0a3408624",
   "metadata": {
    "execution": {
     "iopub.execute_input": "2024-09-06T14:57:36.268130Z",
     "iopub.status.busy": "2024-09-06T14:57:36.267186Z",
     "iopub.status.idle": "2024-09-06T14:57:36.273186Z",
     "shell.execute_reply": "2024-09-06T14:57:36.272111Z",
     "shell.execute_reply.started": "2024-09-06T14:57:36.268089Z"
    },
    "tags": []
   },
   "outputs": [],
   "source": [
    "load_dataset()"
   ]
  },
  {
   "cell_type": "code",
   "execution_count": 13,
   "id": "1d4b00bf-4a19-484e-92ab-f30700a450dc",
   "metadata": {
    "execution": {
     "iopub.execute_input": "2024-09-06T15:05:51.158564Z",
     "iopub.status.busy": "2024-09-06T15:05:51.157903Z",
     "iopub.status.idle": "2024-09-06T15:38:26.140509Z",
     "shell.execute_reply": "2024-09-06T15:38:26.137275Z",
     "shell.execute_reply.started": "2024-09-06T15:05:51.158514Z"
    },
    "tags": []
   },
   "outputs": [
    {
     "data": {
      "application/vnd.jupyter.widget-view+json": {
       "model_id": "93ba3031c1ce4bb19c3cb500c34aa54e",
       "version_major": 2,
       "version_minor": 0
      },
      "text/plain": [
       "Resolving data files:   0%|          | 0/26 [00:00<?, ?it/s]"
      ]
     },
     "metadata": {},
     "output_type": "display_data"
    },
    {
     "data": {
      "application/vnd.jupyter.widget-view+json": {
       "model_id": "f1d23e5911cc41129d2e290284777c75",
       "version_major": 2,
       "version_minor": 0
      },
      "text/plain": [
       "Resolving data files:   0%|          | 0/26 [00:00<?, ?it/s]"
      ]
     },
     "metadata": {},
     "output_type": "display_data"
    },
    {
     "name": "stderr",
     "output_type": "stream",
     "text": [
      "\u001b[32m2024-09-07 00:05:56.895\u001b[0m | \u001b[1mINFO    \u001b[0m | \u001b[36mbenchmark\u001b[0m:\u001b[36m__init__\u001b[0m:\u001b[36m54\u001b[0m - \u001b[1m\n",
      "path: mandarjoshi/trivia_qa\n",
      "name: rc\n",
      "total_split: ['train', 'validation', 'test']\n",
      "prior_split: train\n",
      "train: 138384\n",
      "validation: 17944\n",
      "test: 17210\n",
      "\u001b[0m\n",
      "\u001b[32m2024-09-07 00:05:56.895\u001b[0m | \u001b[1mINFO    \u001b[0m | \u001b[36mbenchmark\u001b[0m:\u001b[36msample\u001b[0m:\u001b[36m132\u001b[0m - \u001b[1m카테고리가 없어서 전체에서 20개를 샘플링합니다\u001b[0m\n",
      "\u001b[32m2024-09-07 00:05:57.155\u001b[0m | \u001b[1mINFO    \u001b[0m | \u001b[36mbenchmark\u001b[0m:\u001b[36msample\u001b[0m:\u001b[36m141\u001b[0m - \u001b[1m총 20개의 샘플이 있습니다.\u001b[0m\n",
      "\u001b[32m2024-09-07 00:05:57.157\u001b[0m | \u001b[1mINFO    \u001b[0m | \u001b[36mbenchmark\u001b[0m:\u001b[36msave\u001b[0m:\u001b[36m98\u001b[0m - \u001b[1m./tasks/trivia_qa/trivia_qa-rc.json에 저장합니다.\u001b[0m\n",
      "\u001b[32m2024-09-07 00:05:57.157\u001b[0m | \u001b[1mINFO    \u001b[0m | \u001b[36mbenchmark\u001b[0m:\u001b[36msave\u001b[0m:\u001b[36m99\u001b[0m - \u001b[1m20의 샘플이 저장됩니다.\u001b[0m\n"
     ]
    },
    {
     "data": {
      "application/vnd.jupyter.widget-view+json": {
       "model_id": "7f42c72c0627493db202cc44f8fab313",
       "version_major": 2,
       "version_minor": 0
      },
      "text/plain": [
       "Resolving data files:   0%|          | 0/26 [00:00<?, ?it/s]"
      ]
     },
     "metadata": {},
     "output_type": "display_data"
    },
    {
     "name": "stderr",
     "output_type": "stream",
     "text": [
      "\u001b[32m2024-09-07 00:06:02.143\u001b[0m | \u001b[1mINFO    \u001b[0m | \u001b[36mbenchmark\u001b[0m:\u001b[36m__init__\u001b[0m:\u001b[36m54\u001b[0m - \u001b[1m\n",
      "path: mandarjoshi/trivia_qa\n",
      "name: rc.nocontext\n",
      "total_split: ['train', 'validation', 'test']\n",
      "prior_split: train\n",
      "train: 138384\n",
      "validation: 17944\n",
      "test: 17210\n",
      "\u001b[0m\n",
      "\u001b[32m2024-09-07 00:06:02.144\u001b[0m | \u001b[1mINFO    \u001b[0m | \u001b[36mbenchmark\u001b[0m:\u001b[36msample\u001b[0m:\u001b[36m132\u001b[0m - \u001b[1m카테고리가 없어서 전체에서 20개를 샘플링합니다\u001b[0m\n",
      "\u001b[32m2024-09-07 00:06:02.258\u001b[0m | \u001b[1mINFO    \u001b[0m | \u001b[36mbenchmark\u001b[0m:\u001b[36msample\u001b[0m:\u001b[36m141\u001b[0m - \u001b[1m총 20개의 샘플이 있습니다.\u001b[0m\n",
      "\u001b[32m2024-09-07 00:06:02.259\u001b[0m | \u001b[1mINFO    \u001b[0m | \u001b[36mbenchmark\u001b[0m:\u001b[36msave\u001b[0m:\u001b[36m98\u001b[0m - \u001b[1m./tasks/trivia_qa/trivia_qa-rc.nocontext.json에 저장합니다.\u001b[0m\n",
      "\u001b[32m2024-09-07 00:06:02.259\u001b[0m | \u001b[1mINFO    \u001b[0m | \u001b[36mbenchmark\u001b[0m:\u001b[36msave\u001b[0m:\u001b[36m99\u001b[0m - \u001b[1m20의 샘플이 저장됩니다.\u001b[0m\n"
     ]
    },
    {
     "data": {
      "application/vnd.jupyter.widget-view+json": {
       "model_id": "08abe631e888477eb27d03ded9d9aea2",
       "version_major": 2,
       "version_minor": 0
      },
      "text/plain": [
       "Resolving data files:   0%|          | 0/26 [00:00<?, ?it/s]"
      ]
     },
     "metadata": {},
     "output_type": "display_data"
    },
    {
     "data": {
      "application/vnd.jupyter.widget-view+json": {
       "model_id": "629f8476ec3f4f87b22bbde4575d039b",
       "version_major": 2,
       "version_minor": 0
      },
      "text/plain": [
       "Resolving data files:   0%|          | 0/19 [00:00<?, ?it/s]"
      ]
     },
     "metadata": {},
     "output_type": "display_data"
    },
    {
     "name": "stderr",
     "output_type": "stream",
     "text": [
      "\u001b[32m2024-09-07 00:06:07.376\u001b[0m | \u001b[1mINFO    \u001b[0m | \u001b[36mbenchmark\u001b[0m:\u001b[36m__init__\u001b[0m:\u001b[36m54\u001b[0m - \u001b[1m\n",
      "path: mandarjoshi/trivia_qa\n",
      "name: rc.web\n",
      "total_split: ['train', 'validation', 'test']\n",
      "prior_split: train\n",
      "train: 76496\n",
      "validation: 9951\n",
      "test: 9509\n",
      "\u001b[0m\n",
      "\u001b[32m2024-09-07 00:06:07.377\u001b[0m | \u001b[1mINFO    \u001b[0m | \u001b[36mbenchmark\u001b[0m:\u001b[36msample\u001b[0m:\u001b[36m132\u001b[0m - \u001b[1m카테고리가 없어서 전체에서 20개를 샘플링합니다\u001b[0m\n",
      "\u001b[32m2024-09-07 00:06:07.627\u001b[0m | \u001b[1mINFO    \u001b[0m | \u001b[36mbenchmark\u001b[0m:\u001b[36msample\u001b[0m:\u001b[36m141\u001b[0m - \u001b[1m총 20개의 샘플이 있습니다.\u001b[0m\n",
      "\u001b[32m2024-09-07 00:06:07.629\u001b[0m | \u001b[1mINFO    \u001b[0m | \u001b[36mbenchmark\u001b[0m:\u001b[36msave\u001b[0m:\u001b[36m98\u001b[0m - \u001b[1m./tasks/trivia_qa/trivia_qa-rc.web.json에 저장합니다.\u001b[0m\n",
      "\u001b[32m2024-09-07 00:06:07.629\u001b[0m | \u001b[1mINFO    \u001b[0m | \u001b[36mbenchmark\u001b[0m:\u001b[36msave\u001b[0m:\u001b[36m99\u001b[0m - \u001b[1m20의 샘플이 저장됩니다.\u001b[0m\n"
     ]
    },
    {
     "data": {
      "application/vnd.jupyter.widget-view+json": {
       "model_id": "6b22ff59058e490ca9cf3255e9f7031f",
       "version_major": 2,
       "version_minor": 0
      },
      "text/plain": [
       "Resolving data files:   0%|          | 0/26 [00:00<?, ?it/s]"
      ]
     },
     "metadata": {},
     "output_type": "display_data"
    },
    {
     "name": "stderr",
     "output_type": "stream",
     "text": [
      "\u001b[32m2024-09-07 00:06:12.444\u001b[0m | \u001b[1mINFO    \u001b[0m | \u001b[36mbenchmark\u001b[0m:\u001b[36m__init__\u001b[0m:\u001b[36m54\u001b[0m - \u001b[1m\n",
      "path: mandarjoshi/trivia_qa\n",
      "name: rc.web.nocontext\n",
      "total_split: ['train', 'validation', 'test']\n",
      "prior_split: train\n",
      "train: 76496\n",
      "validation: 9951\n",
      "test: 9509\n",
      "\u001b[0m\n",
      "\u001b[32m2024-09-07 00:06:12.446\u001b[0m | \u001b[1mINFO    \u001b[0m | \u001b[36mbenchmark\u001b[0m:\u001b[36msample\u001b[0m:\u001b[36m132\u001b[0m - \u001b[1m카테고리가 없어서 전체에서 20개를 샘플링합니다\u001b[0m\n",
      "\u001b[32m2024-09-07 00:06:12.514\u001b[0m | \u001b[1mINFO    \u001b[0m | \u001b[36mbenchmark\u001b[0m:\u001b[36msample\u001b[0m:\u001b[36m141\u001b[0m - \u001b[1m총 20개의 샘플이 있습니다.\u001b[0m\n",
      "\u001b[32m2024-09-07 00:06:12.515\u001b[0m | \u001b[1mINFO    \u001b[0m | \u001b[36mbenchmark\u001b[0m:\u001b[36msave\u001b[0m:\u001b[36m98\u001b[0m - \u001b[1m./tasks/trivia_qa/trivia_qa-rc.web.nocontext.json에 저장합니다.\u001b[0m\n",
      "\u001b[32m2024-09-07 00:06:12.515\u001b[0m | \u001b[1mINFO    \u001b[0m | \u001b[36mbenchmark\u001b[0m:\u001b[36msave\u001b[0m:\u001b[36m99\u001b[0m - \u001b[1m20의 샘플이 저장됩니다.\u001b[0m\n"
     ]
    },
    {
     "data": {
      "application/vnd.jupyter.widget-view+json": {
       "model_id": "278330560ee04634995789e6056acd77",
       "version_major": 2,
       "version_minor": 0
      },
      "text/plain": [
       "Resolving data files:   0%|          | 0/26 [00:00<?, ?it/s]"
      ]
     },
     "metadata": {},
     "output_type": "display_data"
    },
    {
     "name": "stderr",
     "output_type": "stream",
     "text": [
      "Downloading data: 100%|██████████| 266M/266M [00:23<00:00, 11.5MB/s] \n",
      "Downloading data: 100%|██████████| 240M/240M [00:21<00:00, 11.4MB/s] \n",
      "Downloading data: 100%|██████████| 259M/259M [00:22<00:00, 11.3MB/s] \n",
      "Downloading data: 100%|██████████| 253M/253M [00:22<00:00, 11.4MB/s] \n"
     ]
    },
    {
     "data": {
      "application/vnd.jupyter.widget-view+json": {
       "model_id": "d35f3b8b1b0e43c3ac983e5c76ef1ec5",
       "version_major": 2,
       "version_minor": 0
      },
      "text/plain": [
       "Generating train split:   0%|          | 0/61888 [00:00<?, ? examples/s]"
      ]
     },
     "metadata": {},
     "output_type": "display_data"
    },
    {
     "name": "stderr",
     "output_type": "stream",
     "text": [
      "Setting num_proc from 6 back to 1 for the validation split to disable multiprocessing as it only contains one shard.\n"
     ]
    },
    {
     "data": {
      "application/vnd.jupyter.widget-view+json": {
       "model_id": "d65dd21894b748ebabb10c214ae98958",
       "version_major": 2,
       "version_minor": 0
      },
      "text/plain": [
       "Generating validation split:   0%|          | 0/7993 [00:00<?, ? examples/s]"
      ]
     },
     "metadata": {},
     "output_type": "display_data"
    },
    {
     "name": "stderr",
     "output_type": "stream",
     "text": [
      "Setting num_proc from 6 back to 1 for the test split to disable multiprocessing as it only contains one shard.\n"
     ]
    },
    {
     "data": {
      "application/vnd.jupyter.widget-view+json": {
       "model_id": "4ed4f42c82aa48aab12ee1672d5083ce",
       "version_major": 2,
       "version_minor": 0
      },
      "text/plain": [
       "Generating test split:   0%|          | 0/7701 [00:00<?, ? examples/s]"
      ]
     },
     "metadata": {},
     "output_type": "display_data"
    },
    {
     "name": "stderr",
     "output_type": "stream",
     "text": [
      "\u001b[32m2024-09-07 00:07:53.816\u001b[0m | \u001b[1mINFO    \u001b[0m | \u001b[36mbenchmark\u001b[0m:\u001b[36m__init__\u001b[0m:\u001b[36m54\u001b[0m - \u001b[1m\n",
      "path: mandarjoshi/trivia_qa\n",
      "name: rc.wikipedia\n",
      "total_split: ['train', 'validation', 'test']\n",
      "prior_split: train\n",
      "train: 61888\n",
      "validation: 7993\n",
      "test: 7701\n",
      "\u001b[0m\n",
      "\u001b[32m2024-09-07 00:07:53.816\u001b[0m | \u001b[1mINFO    \u001b[0m | \u001b[36mbenchmark\u001b[0m:\u001b[36msample\u001b[0m:\u001b[36m132\u001b[0m - \u001b[1m카테고리가 없어서 전체에서 20개를 샘플링합니다\u001b[0m\n",
      "\u001b[32m2024-09-07 00:07:53.935\u001b[0m | \u001b[1mINFO    \u001b[0m | \u001b[36mbenchmark\u001b[0m:\u001b[36msample\u001b[0m:\u001b[36m141\u001b[0m - \u001b[1m총 20개의 샘플이 있습니다.\u001b[0m\n",
      "\u001b[32m2024-09-07 00:07:53.935\u001b[0m | \u001b[1mINFO    \u001b[0m | \u001b[36mbenchmark\u001b[0m:\u001b[36msave\u001b[0m:\u001b[36m98\u001b[0m - \u001b[1m./tasks/trivia_qa/trivia_qa-rc.wikipedia.json에 저장합니다.\u001b[0m\n",
      "\u001b[32m2024-09-07 00:07:53.936\u001b[0m | \u001b[1mINFO    \u001b[0m | \u001b[36mbenchmark\u001b[0m:\u001b[36msave\u001b[0m:\u001b[36m99\u001b[0m - \u001b[1m20의 샘플이 저장됩니다.\u001b[0m\n"
     ]
    },
    {
     "data": {
      "application/vnd.jupyter.widget-view+json": {
       "model_id": "3dffc18b04ea46f8839ff778f563a371",
       "version_major": 2,
       "version_minor": 0
      },
      "text/plain": [
       "Resolving data files:   0%|          | 0/26 [00:00<?, ?it/s]"
      ]
     },
     "metadata": {},
     "output_type": "display_data"
    },
    {
     "name": "stderr",
     "output_type": "stream",
     "text": [
      "Downloading data: 100%|██████████| 3.31M/3.31M [00:02<00:00, 1.39MB/s]\n",
      "Downloading data: 100%|██████████| 542k/542k [00:02<00:00, 257kB/s]\n",
      "Downloading data: 100%|██████████| 25.0M/25.0M [00:04<00:00, 5.99MB/s]\n",
      "Setting num_proc from 6 back to 1 for the train split to disable multiprocessing as it only contains one shard.\n"
     ]
    },
    {
     "data": {
      "application/vnd.jupyter.widget-view+json": {
       "model_id": "70296692ed794d0fa4bd8ae0f7c94c63",
       "version_major": 2,
       "version_minor": 0
      },
      "text/plain": [
       "Generating train split:   0%|          | 0/61888 [00:00<?, ? examples/s]"
      ]
     },
     "metadata": {},
     "output_type": "display_data"
    },
    {
     "name": "stderr",
     "output_type": "stream",
     "text": [
      "Setting num_proc from 6 back to 1 for the validation split to disable multiprocessing as it only contains one shard.\n"
     ]
    },
    {
     "data": {
      "application/vnd.jupyter.widget-view+json": {
       "model_id": "ee7efdbb2141451a87a58bd9781ac15c",
       "version_major": 2,
       "version_minor": 0
      },
      "text/plain": [
       "Generating validation split:   0%|          | 0/7993 [00:00<?, ? examples/s]"
      ]
     },
     "metadata": {},
     "output_type": "display_data"
    },
    {
     "name": "stderr",
     "output_type": "stream",
     "text": [
      "Setting num_proc from 6 back to 1 for the test split to disable multiprocessing as it only contains one shard.\n"
     ]
    },
    {
     "data": {
      "application/vnd.jupyter.widget-view+json": {
       "model_id": "af9a54d3239d4301a21db605aaaed758",
       "version_major": 2,
       "version_minor": 0
      },
      "text/plain": [
       "Generating test split:   0%|          | 0/7701 [00:00<?, ? examples/s]"
      ]
     },
     "metadata": {},
     "output_type": "display_data"
    },
    {
     "name": "stderr",
     "output_type": "stream",
     "text": [
      "\u001b[32m2024-09-07 00:08:06.190\u001b[0m | \u001b[1mINFO    \u001b[0m | \u001b[36mbenchmark\u001b[0m:\u001b[36m__init__\u001b[0m:\u001b[36m54\u001b[0m - \u001b[1m\n",
      "path: mandarjoshi/trivia_qa\n",
      "name: rc.wikipedia.nocontext\n",
      "total_split: ['train', 'validation', 'test']\n",
      "prior_split: train\n",
      "train: 61888\n",
      "validation: 7993\n",
      "test: 7701\n",
      "\u001b[0m\n",
      "\u001b[32m2024-09-07 00:08:06.191\u001b[0m | \u001b[1mINFO    \u001b[0m | \u001b[36mbenchmark\u001b[0m:\u001b[36msample\u001b[0m:\u001b[36m132\u001b[0m - \u001b[1m카테고리가 없어서 전체에서 20개를 샘플링합니다\u001b[0m\n",
      "\u001b[32m2024-09-07 00:08:06.200\u001b[0m | \u001b[1mINFO    \u001b[0m | \u001b[36mbenchmark\u001b[0m:\u001b[36msample\u001b[0m:\u001b[36m141\u001b[0m - \u001b[1m총 20개의 샘플이 있습니다.\u001b[0m\n",
      "\u001b[32m2024-09-07 00:08:06.200\u001b[0m | \u001b[1mINFO    \u001b[0m | \u001b[36mbenchmark\u001b[0m:\u001b[36msave\u001b[0m:\u001b[36m98\u001b[0m - \u001b[1m./tasks/trivia_qa/trivia_qa-rc.wikipedia.nocontext.json에 저장합니다.\u001b[0m\n",
      "\u001b[32m2024-09-07 00:08:06.200\u001b[0m | \u001b[1mINFO    \u001b[0m | \u001b[36mbenchmark\u001b[0m:\u001b[36msave\u001b[0m:\u001b[36m99\u001b[0m - \u001b[1m20의 샘플이 저장됩니다.\u001b[0m\n"
     ]
    },
    {
     "data": {
      "application/vnd.jupyter.widget-view+json": {
       "model_id": "67d0e6c9469241d38b12686aadfdfb31",
       "version_major": 2,
       "version_minor": 0
      },
      "text/plain": [
       "Resolving data files:   0%|          | 0/26 [00:00<?, ?it/s]"
      ]
     },
     "metadata": {},
     "output_type": "display_data"
    },
    {
     "data": {
      "application/vnd.jupyter.widget-view+json": {
       "model_id": "6ff8c9dd25d04005b9944610b81362d5",
       "version_major": 2,
       "version_minor": 0
      },
      "text/plain": [
       "Resolving data files:   0%|          | 0/47 [00:00<?, ?it/s]"
      ]
     },
     "metadata": {},
     "output_type": "display_data"
    },
    {
     "name": "stderr",
     "output_type": "stream",
     "text": [
      "Downloading data: 100%|██████████| 235M/235M [00:55<00:00, 4.25MB/s] \n",
      "Downloading data: 100%|██████████| 212M/212M [00:55<00:00, 3.81MB/s]\n",
      "Downloading data: 100%|██████████| 215M/215M [00:58<00:00, 3.66MB/s]\n",
      "Downloading data: 100%|██████████| 265M/265M [01:04<00:00, 4.12MB/s] \n",
      "Downloading data: 100%|██████████| 279M/279M [01:16<00:00, 3.65MB/s]]\n",
      "Downloading data: 100%|██████████| 316M/316M [01:32<00:00, 3.42MB/s]]\n",
      "Downloading data: 100%|██████████| 308M/308M [01:09<00:00, 4.45MB/s] \n",
      "Downloading data: 100%|██████████| 250M/250M [01:03<00:00, 3.94MB/s]]\n",
      "Downloading data: 100%|██████████| 300M/300M [01:18<00:00, 3.83MB/s]]\n",
      "Downloading data: 100%|██████████| 226M/226M [00:50<00:00, 4.47MB/s]]\n",
      "Downloading data: 100%|██████████| 243M/243M [01:11<00:00, 3.39MB/s] \n",
      "Downloading data: 100%|██████████| 234M/234M [00:50<00:00, 4.58MB/s]]\n",
      "Downloading data: 100%|██████████| 266M/266M [01:07<00:00, 3.96MB/s]]\n",
      "Downloading data: 100%|██████████| 224M/224M [00:52<00:00, 4.28MB/s]]\n",
      "Downloading data: 100%|██████████| 259M/259M [01:07<00:00, 3.83MB/s] \n",
      "Downloading data: 100%|██████████| 295M/295M [01:21<00:00, 3.60MB/s]]\n",
      "Downloading data: 100%|██████████| 231M/231M [01:05<00:00, 3.53MB/s]]\n",
      "Downloading data: 100%|██████████| 229M/229M [00:54<00:00, 4.21MB/s] \n",
      "Downloading data: 100%|██████████| 251M/251M [00:57<00:00, 4.38MB/s]\n",
      "Downloading data: 100%|██████████| 247M/247M [00:45<00:00, 5.45MB/s]\n",
      "Downloading data: 100%|██████████| 245M/245M [00:33<00:00, 7.37MB/s] \n",
      "Downloading data: 100%|██████████| 244M/244M [00:23<00:00, 10.6MB/s] \n",
      "Downloading data: 100%|██████████| 244M/244M [00:31<00:00, 7.74MB/s] \n",
      "Downloading data: 100%|██████████| 410M/410M [00:37<00:00, 10.9MB/s] \n",
      "Downloading data: 100%|██████████| 386M/386M [00:35<00:00, 10.9MB/s] \n",
      "Downloading data: 100%|██████████| 367M/367M [00:33<00:00, 10.9MB/s] \n",
      "Downloading data: 100%|██████████| 350M/350M [00:32<00:00, 10.8MB/s] \n",
      "Downloading data: 100%|██████████| 310M/310M [00:36<00:00, 8.40MB/s] \n",
      "Downloading data: 100%|██████████| 336M/336M [00:30<00:00, 10.8MB/s] \n",
      "Downloading data: 100%|██████████| 397M/397M [02:50<00:00, 2.33MB/s] \n",
      "Downloading data: 100%|██████████| 372M/372M [00:47<00:00, 7.81MB/s] \n",
      "Downloading data: 100%|██████████| 320M/320M [00:29<00:00, 10.8MB/s] \n",
      "Downloading data: 100%|██████████| 351M/351M [00:39<00:00, 8.98MB/s] \n",
      "Downloading data: 100%|██████████| 314M/314M [00:32<00:00, 9.77MB/s] \n",
      "Downloading data: 100%|██████████| 270M/270M [00:25<00:00, 10.7MB/s] \n",
      "Downloading data: 100%|██████████| 201M/201M [00:29<00:00, 6.82MB/s] \n",
      "Downloading data: 100%|██████████| 244M/244M [00:33<00:00, 7.34MB/s] \n",
      "Downloading data: 100%|██████████| 271M/271M [00:25<00:00, 10.7MB/s] \n",
      "Downloading data: 100%|██████████| 252M/252M [00:24<00:00, 10.5MB/s] \n",
      "Downloading data: 100%|██████████| 278M/278M [00:26<00:00, 10.6MB/s] \n",
      "Downloading data: 100%|██████████| 258M/258M [00:24<00:00, 10.5MB/s] \n",
      "Downloading data: 100%|██████████| 252M/252M [00:31<00:00, 7.92MB/s] \n",
      "Downloading data: 100%|██████████| 261M/261M [00:24<00:00, 10.7MB/s] \n",
      "Downloading data: 100%|██████████| 273M/273M [00:25<00:00, 10.6MB/s] \n",
      "Downloading data: 100%|██████████| 264M/264M [00:24<00:00, 10.6MB/s] \n",
      "Downloading data: 100%|██████████| 268M/268M [00:25<00:00, 10.5MB/s] \n",
      "Downloading data: 100%|██████████| 269M/269M [00:25<00:00, 10.6MB/s] \n",
      "Downloading data: 100%|██████████| 338M/338M [00:31<00:00, 10.8MB/s] \n",
      "Downloading data: 100%|██████████| 350M/350M [00:32<00:00, 10.8MB/s] \n",
      "Downloading data: 100%|██████████| 284M/284M [00:36<00:00, 7.74MB/s] \n",
      "Downloading data: 100%|██████████| 268M/268M [00:25<00:00, 10.6MB/s] \n",
      "Downloading data: 100%|██████████| 271M/271M [00:25<00:00, 10.6MB/s] \n",
      "Downloading data: 100%|██████████| 257M/257M [00:24<00:00, 10.6MB/s] \n",
      "Downloading data: 100%|██████████| 284M/284M [00:26<00:00, 10.6MB/s] \n",
      "Downloading data: 100%|██████████| 251M/251M [00:23<00:00, 10.6MB/s] \n",
      "Downloading data: 100%|██████████| 196M/196M [00:19<00:00, 10.3MB/s] \n",
      "Downloading data: 100%|██████████| 198M/198M [00:29<00:00, 6.75MB/s] \n",
      "Downloading data: 100%|██████████| 198M/198M [00:19<00:00, 10.2MB/s] \n",
      "Downloading data: 100%|██████████| 349M/349M [00:32<00:00, 10.8MB/s] \n",
      "Downloading data: 100%|██████████| 361M/361M [00:33<00:00, 10.8MB/s] \n"
     ]
    },
    {
     "data": {
      "application/vnd.jupyter.widget-view+json": {
       "model_id": "4b2e90b4a57349ddae6e216b7e542423",
       "version_major": 2,
       "version_minor": 0
      },
      "text/plain": [
       "Generating train split:   0%|          | 0/87622 [00:00<?, ? examples/s]"
      ]
     },
     "metadata": {},
     "output_type": "display_data"
    },
    {
     "data": {
      "application/vnd.jupyter.widget-view+json": {
       "model_id": "8445178696664072ab4c2a4596e6bc26",
       "version_major": 2,
       "version_minor": 0
      },
      "text/plain": [
       "Generating validation split:   0%|          | 0/11313 [00:00<?, ? examples/s]"
      ]
     },
     "metadata": {},
     "output_type": "display_data"
    },
    {
     "data": {
      "application/vnd.jupyter.widget-view+json": {
       "model_id": "f2cdd4dbcc0349feb79bc24b71c233d8",
       "version_major": 2,
       "version_minor": 0
      },
      "text/plain": [
       "Generating test split:   0%|          | 0/10832 [00:00<?, ? examples/s]"
      ]
     },
     "metadata": {},
     "output_type": "display_data"
    },
    {
     "name": "stderr",
     "output_type": "stream",
     "text": [
      "\u001b[32m2024-09-07 00:38:16.021\u001b[0m | \u001b[1mINFO    \u001b[0m | \u001b[36mbenchmark\u001b[0m:\u001b[36m__init__\u001b[0m:\u001b[36m54\u001b[0m - \u001b[1m\n",
      "path: mandarjoshi/trivia_qa\n",
      "name: unfiltered\n",
      "total_split: ['train', 'validation', 'test']\n",
      "prior_split: train\n",
      "train: 87622\n",
      "validation: 11313\n",
      "test: 10832\n",
      "\u001b[0m\n",
      "\u001b[32m2024-09-07 00:38:16.022\u001b[0m | \u001b[1mINFO    \u001b[0m | \u001b[36mbenchmark\u001b[0m:\u001b[36msample\u001b[0m:\u001b[36m132\u001b[0m - \u001b[1m카테고리가 없어서 전체에서 20개를 샘플링합니다\u001b[0m\n",
      "\u001b[32m2024-09-07 00:38:16.308\u001b[0m | \u001b[1mINFO    \u001b[0m | \u001b[36mbenchmark\u001b[0m:\u001b[36msample\u001b[0m:\u001b[36m141\u001b[0m - \u001b[1m총 20개의 샘플이 있습니다.\u001b[0m\n",
      "\u001b[32m2024-09-07 00:38:16.309\u001b[0m | \u001b[1mINFO    \u001b[0m | \u001b[36mbenchmark\u001b[0m:\u001b[36msave\u001b[0m:\u001b[36m98\u001b[0m - \u001b[1m./tasks/trivia_qa/trivia_qa-unfiltered.json에 저장합니다.\u001b[0m\n",
      "\u001b[32m2024-09-07 00:38:16.309\u001b[0m | \u001b[1mINFO    \u001b[0m | \u001b[36mbenchmark\u001b[0m:\u001b[36msave\u001b[0m:\u001b[36m99\u001b[0m - \u001b[1m20의 샘플이 저장됩니다.\u001b[0m\n"
     ]
    },
    {
     "data": {
      "application/vnd.jupyter.widget-view+json": {
       "model_id": "54ffb26b666d438295b94904d295ddc3",
       "version_major": 2,
       "version_minor": 0
      },
      "text/plain": [
       "Resolving data files:   0%|          | 0/26 [00:00<?, ?it/s]"
      ]
     },
     "metadata": {},
     "output_type": "display_data"
    },
    {
     "name": "stderr",
     "output_type": "stream",
     "text": [
      "Downloading data: 100%|██████████| 762k/762k [00:01<00:00, 383kB/s]\n",
      "Process SpawnPoolWorker-35:\n",
      "Process SpawnPoolWorker-34:\n",
      "Process SpawnPoolWorker-36:\n"
     ]
    },
    {
     "ename": "KeyboardInterrupt",
     "evalue": "",
     "output_type": "error",
     "traceback": [
      "\u001b[0;31m---------------------------------------------------------------------------\u001b[0m",
      "\u001b[0;31mKeyboardInterrupt\u001b[0m                         Traceback (most recent call last)",
      "Cell \u001b[0;32mIn[13], line 4\u001b[0m\n\u001b[1;32m      2\u001b[0m tgt \u001b[38;5;241m=\u001b[39m hf_conf\u001b[38;5;241m.\u001b[39mconfig[name]\n\u001b[1;32m      3\u001b[0m \u001b[38;5;28;01mfor\u001b[39;00m p \u001b[38;5;129;01min\u001b[39;00m tgt[\u001b[38;5;124m'\u001b[39m\u001b[38;5;124mname\u001b[39m\u001b[38;5;124m'\u001b[39m]:\n\u001b[0;32m----> 4\u001b[0m     benchmark \u001b[38;5;241m=\u001b[39m \u001b[41mBenchmark\u001b[49m\u001b[41m(\u001b[49m\u001b[41mbenchmark_name\u001b[49m\u001b[38;5;241;41m=\u001b[39;49m\u001b[41mname\u001b[49m\u001b[41m,\u001b[49m\u001b[41m \u001b[49m\u001b[41mname\u001b[49m\u001b[38;5;241;41m=\u001b[39;49m\u001b[41mp\u001b[49m\u001b[41m)\u001b[49m\n\u001b[1;32m      5\u001b[0m     benchmark\u001b[38;5;241m.\u001b[39msave()\n",
      "File \u001b[0;32m~/Desktop/study/benchmark/benchmark.py:43\u001b[0m, in \u001b[0;36mBenchmark.__init__\u001b[0;34m(self, benchmark_name, path, name, num_proc, dataset_option)\u001b[0m\n\u001b[1;32m     41\u001b[0m     \u001b[38;5;28mself\u001b[39m\u001b[38;5;241m.\u001b[39mdatasetdict \u001b[38;5;241m=\u001b[39m load_dataset(\u001b[38;5;28mself\u001b[39m\u001b[38;5;241m.\u001b[39mpath, num_proc\u001b[38;5;241m=\u001b[39mnum_proc, \u001b[38;5;241m*\u001b[39m\u001b[38;5;241m*\u001b[39m\u001b[38;5;28mself\u001b[39m\u001b[38;5;241m.\u001b[39mdataset_option)\n\u001b[1;32m     42\u001b[0m \u001b[38;5;28;01melse\u001b[39;00m:\n\u001b[0;32m---> 43\u001b[0m     \u001b[38;5;28mself\u001b[39m\u001b[38;5;241m.\u001b[39mdatasetdict \u001b[38;5;241m=\u001b[39m \u001b[41mload_dataset\u001b[49m\u001b[41m(\u001b[49m\u001b[38;5;28;41mself\u001b[39;49m\u001b[38;5;241;41m.\u001b[39;49m\u001b[41mpath\u001b[49m\u001b[41m,\u001b[49m\u001b[41m \u001b[49m\u001b[38;5;28;41mself\u001b[39;49m\u001b[38;5;241;41m.\u001b[39;49m\u001b[41mname\u001b[49m\u001b[41m,\u001b[49m\u001b[41m \u001b[49m\u001b[41mnum_proc\u001b[49m\u001b[38;5;241;41m=\u001b[39;49m\u001b[41mnum_proc\u001b[49m\u001b[41m,\u001b[49m\u001b[41m \u001b[49m\u001b[38;5;241;41m*\u001b[39;49m\u001b[38;5;241;41m*\u001b[39;49m\u001b[38;5;28;41mself\u001b[39;49m\u001b[38;5;241;41m.\u001b[39;49m\u001b[41mdataset_option\u001b[49m\u001b[41m)\u001b[49m\n\u001b[1;32m     44\u001b[0m \u001b[38;5;28mself\u001b[39m\u001b[38;5;241m.\u001b[39msplit \u001b[38;5;241m=\u001b[39m \u001b[38;5;28mlist\u001b[39m(\u001b[38;5;28mself\u001b[39m\u001b[38;5;241m.\u001b[39mdatasetdict\u001b[38;5;241m.\u001b[39mkeys())\n\u001b[1;32m     45\u001b[0m \u001b[38;5;28mself\u001b[39m\u001b[38;5;241m.\u001b[39mprior_split \u001b[38;5;241m=\u001b[39m \u001b[38;5;124m\"\u001b[39m\u001b[38;5;124mtrain\u001b[39m\u001b[38;5;124m\"\u001b[39m \u001b[38;5;28;01mif\u001b[39;00m \u001b[38;5;124m\"\u001b[39m\u001b[38;5;124mtrain\u001b[39m\u001b[38;5;124m\"\u001b[39m \u001b[38;5;129;01min\u001b[39;00m \u001b[38;5;28mself\u001b[39m\u001b[38;5;241m.\u001b[39msplit \u001b[38;5;28;01melse\u001b[39;00m \u001b[38;5;28mself\u001b[39m\u001b[38;5;241m.\u001b[39msplit[\u001b[38;5;241m0\u001b[39m]\n",
      "File \u001b[0;32m~/python_env/.base/lib/python3.10/site-packages/datasets/load.py:2549\u001b[0m, in \u001b[0;36mload_dataset\u001b[0;34m(path, name, data_dir, data_files, split, cache_dir, features, download_config, download_mode, verification_mode, ignore_verifications, keep_in_memory, save_infos, revision, token, use_auth_token, task, streaming, num_proc, storage_options, trust_remote_code, **config_kwargs)\u001b[0m\n\u001b[1;32m   2546\u001b[0m try_from_hf_gcs \u001b[38;5;241m=\u001b[39m path \u001b[38;5;129;01mnot\u001b[39;00m \u001b[38;5;129;01min\u001b[39;00m _PACKAGED_DATASETS_MODULES\n\u001b[1;32m   2548\u001b[0m \u001b[38;5;66;03m# Download and prepare data\u001b[39;00m\n\u001b[0;32m-> 2549\u001b[0m \u001b[41mbuilder_instance\u001b[49m\u001b[38;5;241;41m.\u001b[39;49m\u001b[41mdownload_and_prepare\u001b[49m\u001b[41m(\u001b[49m\n\u001b[1;32m   2550\u001b[0m \u001b[41m    \u001b[49m\u001b[41mdownload_config\u001b[49m\u001b[38;5;241;41m=\u001b[39;49m\u001b[41mdownload_config\u001b[49m\u001b[41m,\u001b[49m\n\u001b[1;32m   2551\u001b[0m \u001b[41m    \u001b[49m\u001b[41mdownload_mode\u001b[49m\u001b[38;5;241;41m=\u001b[39;49m\u001b[41mdownload_mode\u001b[49m\u001b[41m,\u001b[49m\n\u001b[1;32m   2552\u001b[0m \u001b[41m    \u001b[49m\u001b[41mverification_mode\u001b[49m\u001b[38;5;241;41m=\u001b[39;49m\u001b[41mverification_mode\u001b[49m\u001b[41m,\u001b[49m\n\u001b[1;32m   2553\u001b[0m \u001b[41m    \u001b[49m\u001b[41mtry_from_hf_gcs\u001b[49m\u001b[38;5;241;41m=\u001b[39;49m\u001b[41mtry_from_hf_gcs\u001b[49m\u001b[41m,\u001b[49m\n\u001b[1;32m   2554\u001b[0m \u001b[41m    \u001b[49m\u001b[41mnum_proc\u001b[49m\u001b[38;5;241;41m=\u001b[39;49m\u001b[41mnum_proc\u001b[49m\u001b[41m,\u001b[49m\n\u001b[1;32m   2555\u001b[0m \u001b[41m    \u001b[49m\u001b[41mstorage_options\u001b[49m\u001b[38;5;241;41m=\u001b[39;49m\u001b[41mstorage_options\u001b[49m\u001b[41m,\u001b[49m\n\u001b[1;32m   2556\u001b[0m \u001b[41m\u001b[49m\u001b[41m)\u001b[49m\n\u001b[1;32m   2558\u001b[0m \u001b[38;5;66;03m# Build dataset for splits\u001b[39;00m\n\u001b[1;32m   2559\u001b[0m keep_in_memory \u001b[38;5;241m=\u001b[39m (\n\u001b[1;32m   2560\u001b[0m     keep_in_memory \u001b[38;5;28;01mif\u001b[39;00m keep_in_memory \u001b[38;5;129;01mis\u001b[39;00m \u001b[38;5;129;01mnot\u001b[39;00m \u001b[38;5;28;01mNone\u001b[39;00m \u001b[38;5;28;01melse\u001b[39;00m is_small_dataset(builder_instance\u001b[38;5;241m.\u001b[39minfo\u001b[38;5;241m.\u001b[39mdataset_size)\n\u001b[1;32m   2561\u001b[0m )\n",
      "File \u001b[0;32m~/python_env/.base/lib/python3.10/site-packages/datasets/builder.py:1005\u001b[0m, in \u001b[0;36mDatasetBuilder.download_and_prepare\u001b[0;34m(self, output_dir, download_config, download_mode, verification_mode, ignore_verifications, try_from_hf_gcs, dl_manager, base_path, use_auth_token, file_format, max_shard_size, num_proc, storage_options, **download_and_prepare_kwargs)\u001b[0m\n\u001b[1;32m   1003\u001b[0m     \u001b[38;5;28;01mif\u001b[39;00m num_proc \u001b[38;5;129;01mis\u001b[39;00m \u001b[38;5;129;01mnot\u001b[39;00m \u001b[38;5;28;01mNone\u001b[39;00m:\n\u001b[1;32m   1004\u001b[0m         prepare_split_kwargs[\u001b[38;5;124m\"\u001b[39m\u001b[38;5;124mnum_proc\u001b[39m\u001b[38;5;124m\"\u001b[39m] \u001b[38;5;241m=\u001b[39m num_proc\n\u001b[0;32m-> 1005\u001b[0m     \u001b[38;5;28;41mself\u001b[39;49m\u001b[38;5;241;41m.\u001b[39;49m\u001b[41m_download_and_prepare\u001b[49m\u001b[41m(\u001b[49m\n\u001b[1;32m   1006\u001b[0m \u001b[41m        \u001b[49m\u001b[41mdl_manager\u001b[49m\u001b[38;5;241;41m=\u001b[39;49m\u001b[41mdl_manager\u001b[49m\u001b[41m,\u001b[49m\n\u001b[1;32m   1007\u001b[0m \u001b[41m        \u001b[49m\u001b[41mverification_mode\u001b[49m\u001b[38;5;241;41m=\u001b[39;49m\u001b[41mverification_mode\u001b[49m\u001b[41m,\u001b[49m\n\u001b[1;32m   1008\u001b[0m \u001b[41m        \u001b[49m\u001b[38;5;241;41m*\u001b[39;49m\u001b[38;5;241;41m*\u001b[39;49m\u001b[41mprepare_split_kwargs\u001b[49m\u001b[41m,\u001b[49m\n\u001b[1;32m   1009\u001b[0m \u001b[41m        \u001b[49m\u001b[38;5;241;41m*\u001b[39;49m\u001b[38;5;241;41m*\u001b[39;49m\u001b[41mdownload_and_prepare_kwargs\u001b[49m\u001b[41m,\u001b[49m\n\u001b[1;32m   1010\u001b[0m \u001b[41m    \u001b[49m\u001b[41m)\u001b[49m\n\u001b[1;32m   1011\u001b[0m \u001b[38;5;66;03m# Sync info\u001b[39;00m\n\u001b[1;32m   1012\u001b[0m \u001b[38;5;28mself\u001b[39m\u001b[38;5;241m.\u001b[39minfo\u001b[38;5;241m.\u001b[39mdataset_size \u001b[38;5;241m=\u001b[39m \u001b[38;5;28msum\u001b[39m(split\u001b[38;5;241m.\u001b[39mnum_bytes \u001b[38;5;28;01mfor\u001b[39;00m split \u001b[38;5;129;01min\u001b[39;00m \u001b[38;5;28mself\u001b[39m\u001b[38;5;241m.\u001b[39minfo\u001b[38;5;241m.\u001b[39msplits\u001b[38;5;241m.\u001b[39mvalues())\n",
      "File \u001b[0;32m~/python_env/.base/lib/python3.10/site-packages/datasets/builder.py:1078\u001b[0m, in \u001b[0;36mDatasetBuilder._download_and_prepare\u001b[0;34m(self, dl_manager, verification_mode, **prepare_split_kwargs)\u001b[0m\n\u001b[1;32m   1076\u001b[0m split_dict \u001b[38;5;241m=\u001b[39m SplitDict(dataset_name\u001b[38;5;241m=\u001b[39m\u001b[38;5;28mself\u001b[39m\u001b[38;5;241m.\u001b[39mdataset_name)\n\u001b[1;32m   1077\u001b[0m split_generators_kwargs \u001b[38;5;241m=\u001b[39m \u001b[38;5;28mself\u001b[39m\u001b[38;5;241m.\u001b[39m_make_split_generators_kwargs(prepare_split_kwargs)\n\u001b[0;32m-> 1078\u001b[0m split_generators \u001b[38;5;241m=\u001b[39m \u001b[38;5;28;41mself\u001b[39;49m\u001b[38;5;241;41m.\u001b[39;49m\u001b[41m_split_generators\u001b[49m\u001b[41m(\u001b[49m\u001b[41mdl_manager\u001b[49m\u001b[41m,\u001b[49m\u001b[41m \u001b[49m\u001b[38;5;241;41m*\u001b[39;49m\u001b[38;5;241;41m*\u001b[39;49m\u001b[41msplit_generators_kwargs\u001b[49m\u001b[41m)\u001b[49m\n\u001b[1;32m   1080\u001b[0m \u001b[38;5;66;03m# Checksums verification\u001b[39;00m\n\u001b[1;32m   1081\u001b[0m \u001b[38;5;28;01mif\u001b[39;00m verification_mode \u001b[38;5;241m==\u001b[39m VerificationMode\u001b[38;5;241m.\u001b[39mALL_CHECKS \u001b[38;5;129;01mand\u001b[39;00m dl_manager\u001b[38;5;241m.\u001b[39mrecord_checksums:\n",
      "File \u001b[0;32m~/python_env/.base/lib/python3.10/site-packages/datasets/packaged_modules/parquet/parquet.py:43\u001b[0m, in \u001b[0;36mParquet._split_generators\u001b[0;34m(self, dl_manager)\u001b[0m\n\u001b[1;32m     41\u001b[0m \u001b[38;5;28;01mif\u001b[39;00m \u001b[38;5;129;01mnot\u001b[39;00m \u001b[38;5;28mself\u001b[39m\u001b[38;5;241m.\u001b[39mconfig\u001b[38;5;241m.\u001b[39mdata_files:\n\u001b[1;32m     42\u001b[0m     \u001b[38;5;28;01mraise\u001b[39;00m \u001b[38;5;167;01mValueError\u001b[39;00m(\u001b[38;5;124mf\u001b[39m\u001b[38;5;124m\"\u001b[39m\u001b[38;5;124mAt least one data file must be specified, but got data_files=\u001b[39m\u001b[38;5;132;01m{\u001b[39;00m\u001b[38;5;28mself\u001b[39m\u001b[38;5;241m.\u001b[39mconfig\u001b[38;5;241m.\u001b[39mdata_files\u001b[38;5;132;01m}\u001b[39;00m\u001b[38;5;124m\"\u001b[39m)\n\u001b[0;32m---> 43\u001b[0m data_files \u001b[38;5;241m=\u001b[39m \u001b[41mdl_manager\u001b[49m\u001b[38;5;241;41m.\u001b[39;49m\u001b[41mdownload_and_extract\u001b[49m\u001b[41m(\u001b[49m\u001b[38;5;28;41mself\u001b[39;49m\u001b[38;5;241;41m.\u001b[39;49m\u001b[41mconfig\u001b[49m\u001b[38;5;241;41m.\u001b[39;49m\u001b[41mdata_files\u001b[49m\u001b[41m)\u001b[49m\n\u001b[1;32m     44\u001b[0m \u001b[38;5;28;01mif\u001b[39;00m \u001b[38;5;28misinstance\u001b[39m(data_files, (\u001b[38;5;28mstr\u001b[39m, \u001b[38;5;28mlist\u001b[39m, \u001b[38;5;28mtuple\u001b[39m)):\n\u001b[1;32m     45\u001b[0m     files \u001b[38;5;241m=\u001b[39m data_files\n",
      "File \u001b[0;32m~/python_env/.base/lib/python3.10/site-packages/datasets/download/download_manager.py:562\u001b[0m, in \u001b[0;36mDownloadManager.download_and_extract\u001b[0;34m(self, url_or_urls)\u001b[0m\n\u001b[1;32m    546\u001b[0m \u001b[38;5;28;01mdef\u001b[39;00m \u001b[38;5;21mdownload_and_extract\u001b[39m(\u001b[38;5;28mself\u001b[39m, url_or_urls):\n\u001b[1;32m    547\u001b[0m \u001b[38;5;250m    \u001b[39m\u001b[38;5;124;03m\"\"\"Download and extract given `url_or_urls`.\u001b[39;00m\n\u001b[1;32m    548\u001b[0m \n\u001b[1;32m    549\u001b[0m \u001b[38;5;124;03m    Is roughly equivalent to:\u001b[39;00m\n\u001b[0;32m   (...)\u001b[0m\n\u001b[1;32m    560\u001b[0m \u001b[38;5;124;03m        extracted_path(s): `str`, extracted paths of given URL(s).\u001b[39;00m\n\u001b[1;32m    561\u001b[0m \u001b[38;5;124;03m    \"\"\"\u001b[39;00m\n\u001b[0;32m--> 562\u001b[0m     \u001b[38;5;28;01mreturn\u001b[39;00m \u001b[38;5;28mself\u001b[39m\u001b[38;5;241m.\u001b[39mextract(\u001b[38;5;28;41mself\u001b[39;49m\u001b[38;5;241;41m.\u001b[39;49m\u001b[41mdownload\u001b[49m\u001b[41m(\u001b[49m\u001b[41murl_or_urls\u001b[49m\u001b[41m)\u001b[49m)\n",
      "File \u001b[0;32m~/python_env/.base/lib/python3.10/site-packages/datasets/download/download_manager.py:426\u001b[0m, in \u001b[0;36mDownloadManager.download\u001b[0;34m(self, url_or_urls)\u001b[0m\n\u001b[1;32m    423\u001b[0m download_func \u001b[38;5;241m=\u001b[39m partial(\u001b[38;5;28mself\u001b[39m\u001b[38;5;241m.\u001b[39m_download, download_config\u001b[38;5;241m=\u001b[39mdownload_config)\n\u001b[1;32m    425\u001b[0m start_time \u001b[38;5;241m=\u001b[39m datetime\u001b[38;5;241m.\u001b[39mnow()\n\u001b[0;32m--> 426\u001b[0m downloaded_path_or_paths \u001b[38;5;241m=\u001b[39m \u001b[41mmap_nested\u001b[49m\u001b[41m(\u001b[49m\n\u001b[1;32m    427\u001b[0m \u001b[41m    \u001b[49m\u001b[41mdownload_func\u001b[49m\u001b[41m,\u001b[49m\n\u001b[1;32m    428\u001b[0m \u001b[41m    \u001b[49m\u001b[41murl_or_urls\u001b[49m\u001b[41m,\u001b[49m\n\u001b[1;32m    429\u001b[0m \u001b[41m    \u001b[49m\u001b[41mmap_tuple\u001b[49m\u001b[38;5;241;41m=\u001b[39;49m\u001b[38;5;28;41;01mTrue\u001b[39;49;00m\u001b[41m,\u001b[49m\n\u001b[1;32m    430\u001b[0m \u001b[41m    \u001b[49m\u001b[41mnum_proc\u001b[49m\u001b[38;5;241;41m=\u001b[39;49m\u001b[41mdownload_config\u001b[49m\u001b[38;5;241;41m.\u001b[39;49m\u001b[41mnum_proc\u001b[49m\u001b[41m,\u001b[49m\n\u001b[1;32m    431\u001b[0m \u001b[41m    \u001b[49m\u001b[41mdesc\u001b[49m\u001b[38;5;241;41m=\u001b[39;49m\u001b[38;5;124;41m\"\u001b[39;49m\u001b[38;5;124;41mDownloading data files\u001b[39;49m\u001b[38;5;124;41m\"\u001b[39;49m\u001b[41m,\u001b[49m\n\u001b[1;32m    432\u001b[0m \u001b[41m\u001b[49m\u001b[41m)\u001b[49m\n\u001b[1;32m    433\u001b[0m duration \u001b[38;5;241m=\u001b[39m datetime\u001b[38;5;241m.\u001b[39mnow() \u001b[38;5;241m-\u001b[39m start_time\n\u001b[1;32m    434\u001b[0m logger\u001b[38;5;241m.\u001b[39minfo(\u001b[38;5;124mf\u001b[39m\u001b[38;5;124m\"\u001b[39m\u001b[38;5;124mDownloading took \u001b[39m\u001b[38;5;132;01m{\u001b[39;00mduration\u001b[38;5;241m.\u001b[39mtotal_seconds()\u001b[38;5;250m \u001b[39m\u001b[38;5;241m/\u001b[39m\u001b[38;5;241m/\u001b[39m\u001b[38;5;250m \u001b[39m\u001b[38;5;241m60\u001b[39m\u001b[38;5;132;01m}\u001b[39;00m\u001b[38;5;124m min\u001b[39m\u001b[38;5;124m\"\u001b[39m)\n",
      "File \u001b[0;32m~/python_env/.base/lib/python3.10/site-packages/datasets/utils/py_utils.py:477\u001b[0m, in \u001b[0;36mmap_nested\u001b[0;34m(function, data_struct, dict_only, map_list, map_tuple, map_numpy, num_proc, parallel_min_length, types, disable_tqdm, desc)\u001b[0m\n\u001b[1;32m    471\u001b[0m     \u001b[38;5;28;01mwith\u001b[39;00m warnings\u001b[38;5;241m.\u001b[39mcatch_warnings():\n\u001b[1;32m    472\u001b[0m         warnings\u001b[38;5;241m.\u001b[39mfilterwarnings(\n\u001b[1;32m    473\u001b[0m             \u001b[38;5;124m\"\u001b[39m\u001b[38;5;124mignore\u001b[39m\u001b[38;5;124m\"\u001b[39m,\n\u001b[1;32m    474\u001b[0m             message\u001b[38;5;241m=\u001b[39m\u001b[38;5;124m\"\u001b[39m\u001b[38;5;124m.* is experimental and might be subject to breaking changes in the future\u001b[39m\u001b[38;5;130;01m\\\\\u001b[39;00m\u001b[38;5;124m.$\u001b[39m\u001b[38;5;124m\"\u001b[39m,\n\u001b[1;32m    475\u001b[0m             category\u001b[38;5;241m=\u001b[39m\u001b[38;5;167;01mUserWarning\u001b[39;00m,\n\u001b[1;32m    476\u001b[0m         )\n\u001b[0;32m--> 477\u001b[0m         mapped \u001b[38;5;241m=\u001b[39m \u001b[41mparallel_map\u001b[49m\u001b[41m(\u001b[49m\u001b[41mfunction\u001b[49m\u001b[41m,\u001b[49m\u001b[41m \u001b[49m\u001b[41miterable\u001b[49m\u001b[41m,\u001b[49m\u001b[41m \u001b[49m\u001b[41mnum_proc\u001b[49m\u001b[41m,\u001b[49m\u001b[41m \u001b[49m\u001b[41mtypes\u001b[49m\u001b[41m,\u001b[49m\u001b[41m \u001b[49m\u001b[41mdisable_tqdm\u001b[49m\u001b[41m,\u001b[49m\u001b[41m \u001b[49m\u001b[41mdesc\u001b[49m\u001b[41m,\u001b[49m\u001b[41m \u001b[49m\u001b[41m_single_map_nested\u001b[49m\u001b[41m)\u001b[49m\n\u001b[1;32m    479\u001b[0m \u001b[38;5;28;01mif\u001b[39;00m \u001b[38;5;28misinstance\u001b[39m(data_struct, \u001b[38;5;28mdict\u001b[39m):\n\u001b[1;32m    480\u001b[0m     \u001b[38;5;28;01mreturn\u001b[39;00m \u001b[38;5;28mdict\u001b[39m(\u001b[38;5;28mzip\u001b[39m(data_struct\u001b[38;5;241m.\u001b[39mkeys(), mapped))\n",
      "File \u001b[0;32m~/python_env/.base/lib/python3.10/site-packages/datasets/utils/experimental.py:40\u001b[0m, in \u001b[0;36mexperimental.<locals>._inner_fn\u001b[0;34m(*args, **kwargs)\u001b[0m\n\u001b[1;32m     34\u001b[0m \u001b[38;5;129m@wraps\u001b[39m(fn)\n\u001b[1;32m     35\u001b[0m \u001b[38;5;28;01mdef\u001b[39;00m \u001b[38;5;21m_inner_fn\u001b[39m(\u001b[38;5;241m*\u001b[39margs, \u001b[38;5;241m*\u001b[39m\u001b[38;5;241m*\u001b[39mkwargs):\n\u001b[1;32m     36\u001b[0m     warnings\u001b[38;5;241m.\u001b[39mwarn(\n\u001b[1;32m     37\u001b[0m         (\u001b[38;5;124mf\u001b[39m\u001b[38;5;124m\"\u001b[39m\u001b[38;5;124m'\u001b[39m\u001b[38;5;132;01m{\u001b[39;00mfn\u001b[38;5;241m.\u001b[39m\u001b[38;5;18m__name__\u001b[39m\u001b[38;5;132;01m}\u001b[39;00m\u001b[38;5;124m'\u001b[39m\u001b[38;5;124m is experimental and might be subject to breaking changes in the future.\u001b[39m\u001b[38;5;124m\"\u001b[39m),\n\u001b[1;32m     38\u001b[0m         \u001b[38;5;167;01mUserWarning\u001b[39;00m,\n\u001b[1;32m     39\u001b[0m     )\n\u001b[0;32m---> 40\u001b[0m     \u001b[38;5;28;01mreturn\u001b[39;00m \u001b[41mfn\u001b[49m\u001b[41m(\u001b[49m\u001b[38;5;241;41m*\u001b[39;49m\u001b[41margs\u001b[49m\u001b[41m,\u001b[49m\u001b[41m \u001b[49m\u001b[38;5;241;41m*\u001b[39;49m\u001b[38;5;241;41m*\u001b[39;49m\u001b[41mkwargs\u001b[49m\u001b[41m)\u001b[49m\n",
      "File \u001b[0;32m~/python_env/.base/lib/python3.10/site-packages/datasets/parallel/parallel.py:34\u001b[0m, in \u001b[0;36mparallel_map\u001b[0;34m(function, iterable, num_proc, types, disable_tqdm, desc, single_map_nested_func)\u001b[0m\n\u001b[1;32m     18\u001b[0m \u001b[38;5;250m\u001b[39m\u001b[38;5;124;03m\"\"\"\u001b[39;00m\n\u001b[1;32m     19\u001b[0m \u001b[38;5;124;03m**Experimental.** Apply a function to iterable elements in parallel, where the implementation uses either\u001b[39;00m\n\u001b[1;32m     20\u001b[0m \u001b[38;5;124;03mmultiprocessing.Pool or joblib for parallelization.\u001b[39;00m\n\u001b[0;32m   (...)\u001b[0m\n\u001b[1;32m     31\u001b[0m \u001b[38;5;124;03m        element of `iterable`, and `rank` is used for progress bar.\u001b[39;00m\n\u001b[1;32m     32\u001b[0m \u001b[38;5;124;03m\"\"\"\u001b[39;00m\n\u001b[1;32m     33\u001b[0m \u001b[38;5;28;01mif\u001b[39;00m ParallelBackendConfig\u001b[38;5;241m.\u001b[39mbackend_name \u001b[38;5;129;01mis\u001b[39;00m \u001b[38;5;28;01mNone\u001b[39;00m:\n\u001b[0;32m---> 34\u001b[0m     \u001b[38;5;28;01mreturn\u001b[39;00m \u001b[41m_map_with_multiprocessing_pool\u001b[49m\u001b[41m(\u001b[49m\n\u001b[1;32m     35\u001b[0m \u001b[41m        \u001b[49m\u001b[41mfunction\u001b[49m\u001b[41m,\u001b[49m\u001b[41m \u001b[49m\u001b[41miterable\u001b[49m\u001b[41m,\u001b[49m\u001b[41m \u001b[49m\u001b[41mnum_proc\u001b[49m\u001b[41m,\u001b[49m\u001b[41m \u001b[49m\u001b[41mtypes\u001b[49m\u001b[41m,\u001b[49m\u001b[41m \u001b[49m\u001b[41mdisable_tqdm\u001b[49m\u001b[41m,\u001b[49m\u001b[41m \u001b[49m\u001b[41mdesc\u001b[49m\u001b[41m,\u001b[49m\u001b[41m \u001b[49m\u001b[41msingle_map_nested_func\u001b[49m\n\u001b[1;32m     36\u001b[0m \u001b[41m    \u001b[49m\u001b[41m)\u001b[49m\n\u001b[1;32m     38\u001b[0m \u001b[38;5;28;01mreturn\u001b[39;00m _map_with_joblib(function, iterable, num_proc, types, disable_tqdm, desc, single_map_nested_func)\n",
      "File \u001b[0;32m~/python_env/.base/lib/python3.10/site-packages/datasets/parallel/parallel.py:65\u001b[0m, in \u001b[0;36m_map_with_multiprocessing_pool\u001b[0;34m(function, iterable, num_proc, types, disable_tqdm, desc, single_map_nested_func)\u001b[0m\n\u001b[1;32m     63\u001b[0m     initargs, initializer \u001b[38;5;241m=\u001b[39m (RLock(),), tqdm\u001b[38;5;241m.\u001b[39mset_lock\n\u001b[1;32m     64\u001b[0m \u001b[38;5;28;01mwith\u001b[39;00m Pool(num_proc, initargs\u001b[38;5;241m=\u001b[39minitargs, initializer\u001b[38;5;241m=\u001b[39minitializer) \u001b[38;5;28;01mas\u001b[39;00m pool:\n\u001b[0;32m---> 65\u001b[0m     mapped \u001b[38;5;241m=\u001b[39m \u001b[41mpool\u001b[49m\u001b[38;5;241;41m.\u001b[39;49m\u001b[41mmap\u001b[49m\u001b[41m(\u001b[49m\u001b[41msingle_map_nested_func\u001b[49m\u001b[41m,\u001b[49m\u001b[41m \u001b[49m\u001b[41msplit_kwds\u001b[49m\u001b[41m)\u001b[49m\n\u001b[1;32m     66\u001b[0m logger\u001b[38;5;241m.\u001b[39minfo(\u001b[38;5;124mf\u001b[39m\u001b[38;5;124m\"\u001b[39m\u001b[38;5;124mFinished \u001b[39m\u001b[38;5;132;01m{\u001b[39;00mnum_proc\u001b[38;5;132;01m}\u001b[39;00m\u001b[38;5;124m processes\u001b[39m\u001b[38;5;124m\"\u001b[39m)\n\u001b[1;32m     67\u001b[0m mapped \u001b[38;5;241m=\u001b[39m [obj \u001b[38;5;28;01mfor\u001b[39;00m proc_res \u001b[38;5;129;01min\u001b[39;00m mapped \u001b[38;5;28;01mfor\u001b[39;00m obj \u001b[38;5;129;01min\u001b[39;00m proc_res]\n",
      "File \u001b[0;32m/opt/homebrew/Cellar/python@3.10/3.10.14/Frameworks/Python.framework/Versions/3.10/lib/python3.10/multiprocessing/pool.py:367\u001b[0m, in \u001b[0;36mPool.map\u001b[0;34m(self, func, iterable, chunksize)\u001b[0m\n\u001b[1;32m    362\u001b[0m \u001b[38;5;28;01mdef\u001b[39;00m \u001b[38;5;21mmap\u001b[39m(\u001b[38;5;28mself\u001b[39m, func, iterable, chunksize\u001b[38;5;241m=\u001b[39m\u001b[38;5;28;01mNone\u001b[39;00m):\n\u001b[1;32m    363\u001b[0m \u001b[38;5;250m    \u001b[39m\u001b[38;5;124;03m'''\u001b[39;00m\n\u001b[1;32m    364\u001b[0m \u001b[38;5;124;03m    Apply `func` to each element in `iterable`, collecting the results\u001b[39;00m\n\u001b[1;32m    365\u001b[0m \u001b[38;5;124;03m    in a list that is returned.\u001b[39;00m\n\u001b[1;32m    366\u001b[0m \u001b[38;5;124;03m    '''\u001b[39;00m\n\u001b[0;32m--> 367\u001b[0m     \u001b[38;5;28;01mreturn\u001b[39;00m \u001b[38;5;28;41mself\u001b[39;49m\u001b[38;5;241;41m.\u001b[39;49m\u001b[41m_map_async\u001b[49m\u001b[41m(\u001b[49m\u001b[41mfunc\u001b[49m\u001b[41m,\u001b[49m\u001b[41m \u001b[49m\u001b[41miterable\u001b[49m\u001b[41m,\u001b[49m\u001b[41m \u001b[49m\u001b[41mmapstar\u001b[49m\u001b[41m,\u001b[49m\u001b[41m \u001b[49m\u001b[41mchunksize\u001b[49m\u001b[41m)\u001b[49m\u001b[38;5;241;41m.\u001b[39;49m\u001b[41mget\u001b[49m\u001b[41m(\u001b[49m\u001b[41m)\u001b[49m\n",
      "File \u001b[0;32m/opt/homebrew/Cellar/python@3.10/3.10.14/Frameworks/Python.framework/Versions/3.10/lib/python3.10/multiprocessing/pool.py:768\u001b[0m, in \u001b[0;36mApplyResult.get\u001b[0;34m(self, timeout)\u001b[0m\n\u001b[1;32m    767\u001b[0m \u001b[38;5;28;01mdef\u001b[39;00m \u001b[38;5;21mget\u001b[39m(\u001b[38;5;28mself\u001b[39m, timeout\u001b[38;5;241m=\u001b[39m\u001b[38;5;28;01mNone\u001b[39;00m):\n\u001b[0;32m--> 768\u001b[0m     \u001b[38;5;28;41mself\u001b[39;49m\u001b[38;5;241;41m.\u001b[39;49m\u001b[41mwait\u001b[49m\u001b[41m(\u001b[49m\u001b[41mtimeout\u001b[49m\u001b[41m)\u001b[49m\n\u001b[1;32m    769\u001b[0m     \u001b[38;5;28;01mif\u001b[39;00m \u001b[38;5;129;01mnot\u001b[39;00m \u001b[38;5;28mself\u001b[39m\u001b[38;5;241m.\u001b[39mready():\n\u001b[1;32m    770\u001b[0m         \u001b[38;5;28;01mraise\u001b[39;00m \u001b[38;5;167;01mTimeoutError\u001b[39;00m\n",
      "File \u001b[0;32m/opt/homebrew/Cellar/python@3.10/3.10.14/Frameworks/Python.framework/Versions/3.10/lib/python3.10/multiprocessing/pool.py:765\u001b[0m, in \u001b[0;36mApplyResult.wait\u001b[0;34m(self, timeout)\u001b[0m\n\u001b[1;32m    764\u001b[0m \u001b[38;5;28;01mdef\u001b[39;00m \u001b[38;5;21mwait\u001b[39m(\u001b[38;5;28mself\u001b[39m, timeout\u001b[38;5;241m=\u001b[39m\u001b[38;5;28;01mNone\u001b[39;00m):\n\u001b[0;32m--> 765\u001b[0m     \u001b[38;5;28;41mself\u001b[39;49m\u001b[38;5;241;41m.\u001b[39;49m\u001b[41m_event\u001b[49m\u001b[38;5;241;41m.\u001b[39;49m\u001b[41mwait\u001b[49m\u001b[41m(\u001b[49m\u001b[41mtimeout\u001b[49m\u001b[41m)\u001b[49m\n",
      "File \u001b[0;32m/opt/homebrew/Cellar/python@3.10/3.10.14/Frameworks/Python.framework/Versions/3.10/lib/python3.10/threading.py:607\u001b[0m, in \u001b[0;36mEvent.wait\u001b[0;34m(self, timeout)\u001b[0m\n\u001b[1;32m    605\u001b[0m signaled \u001b[38;5;241m=\u001b[39m \u001b[38;5;28mself\u001b[39m\u001b[38;5;241m.\u001b[39m_flag\n\u001b[1;32m    606\u001b[0m \u001b[38;5;28;01mif\u001b[39;00m \u001b[38;5;129;01mnot\u001b[39;00m signaled:\n\u001b[0;32m--> 607\u001b[0m     signaled \u001b[38;5;241m=\u001b[39m \u001b[38;5;28;41mself\u001b[39;49m\u001b[38;5;241;41m.\u001b[39;49m\u001b[41m_cond\u001b[49m\u001b[38;5;241;41m.\u001b[39;49m\u001b[41mwait\u001b[49m\u001b[41m(\u001b[49m\u001b[41mtimeout\u001b[49m\u001b[41m)\u001b[49m\n\u001b[1;32m    608\u001b[0m \u001b[38;5;28;01mreturn\u001b[39;00m signaled\n",
      "File \u001b[0;32m/opt/homebrew/Cellar/python@3.10/3.10.14/Frameworks/Python.framework/Versions/3.10/lib/python3.10/threading.py:320\u001b[0m, in \u001b[0;36mCondition.wait\u001b[0;34m(self, timeout)\u001b[0m\n\u001b[1;32m    318\u001b[0m \u001b[38;5;28;01mtry\u001b[39;00m:    \u001b[38;5;66;03m# restore state no matter what (e.g., KeyboardInterrupt)\u001b[39;00m\n\u001b[1;32m    319\u001b[0m     \u001b[38;5;28;01mif\u001b[39;00m timeout \u001b[38;5;129;01mis\u001b[39;00m \u001b[38;5;28;01mNone\u001b[39;00m:\n\u001b[0;32m--> 320\u001b[0m         \u001b[41mwaiter\u001b[49m\u001b[38;5;241;41m.\u001b[39;49m\u001b[41macquire\u001b[49m\u001b[41m(\u001b[49m\u001b[41m)\u001b[49m\n\u001b[1;32m    321\u001b[0m         gotit \u001b[38;5;241m=\u001b[39m \u001b[38;5;28;01mTrue\u001b[39;00m\n\u001b[1;32m    322\u001b[0m     \u001b[38;5;28;01melse\u001b[39;00m:\n",
      "\u001b[0;31mKeyboardInterrupt\u001b[0m: "
     ]
    }
   ],
   "source": [
    "name = 'trivia_qa'\n",
    "tgt = hf_conf.config[name]\n",
    "for p in tgt['name']:\n",
    "    benchmark = Benchmark(benchmark_name=name, name=p)\n",
    "    benchmark.save()"
   ]
  },
  {
   "cell_type": "code",
   "execution_count": 15,
   "id": "bb8373e0-d145-46b2-a8dd-72281ac19766",
   "metadata": {
    "execution": {
     "iopub.execute_input": "2024-09-06T15:38:44.168246Z",
     "iopub.status.busy": "2024-09-06T15:38:44.167637Z",
     "iopub.status.idle": "2024-09-06T15:40:36.120141Z",
     "shell.execute_reply": "2024-09-06T15:40:36.119750Z",
     "shell.execute_reply.started": "2024-09-06T15:38:44.168205Z"
    },
    "tags": []
   },
   "outputs": [
    {
     "data": {
      "application/vnd.jupyter.widget-view+json": {
       "model_id": "bf2cbba415ca42028dbda03cc28f8632",
       "version_major": 2,
       "version_minor": 0
      },
      "text/plain": [
       "Downloading data:   0%|          | 0.00/4.70k [00:00<?, ?B/s]"
      ]
     },
     "metadata": {},
     "output_type": "display_data"
    },
    {
     "name": "stderr",
     "output_type": "stream",
     "text": [
      "Setting num_proc from 6 back to 1 for the train split to disable multiprocessing as it only contains one shard.\n"
     ]
    },
    {
     "data": {
      "application/vnd.jupyter.widget-view+json": {
       "model_id": "bf0c47287426404aa9cbc43e19d49106",
       "version_major": 2,
       "version_minor": 0
      },
      "text/plain": [
       "Generating train split:   0%|          | 0/250 [00:00<?, ? examples/s]"
      ]
     },
     "metadata": {},
     "output_type": "display_data"
    },
    {
     "name": "stderr",
     "output_type": "stream",
     "text": [
      "\u001b[32m2024-09-07 00:38:49.131\u001b[0m | \u001b[1mINFO    \u001b[0m | \u001b[36mbenchmark\u001b[0m:\u001b[36m__init__\u001b[0m:\u001b[36m54\u001b[0m - \u001b[1m\n",
      "path: maveriq/bigbenchhard\n",
      "name: boolean_expressions\n",
      "total_split: ['train']\n",
      "prior_split: train\n",
      "train: 250\n",
      "\u001b[0m\n",
      "\u001b[32m2024-09-07 00:38:49.131\u001b[0m | \u001b[1mINFO    \u001b[0m | \u001b[36mbenchmark\u001b[0m:\u001b[36msample\u001b[0m:\u001b[36m132\u001b[0m - \u001b[1m카테고리가 없어서 전체에서 20개를 샘플링합니다\u001b[0m\n",
      "\u001b[32m2024-09-07 00:38:49.133\u001b[0m | \u001b[1mINFO    \u001b[0m | \u001b[36mbenchmark\u001b[0m:\u001b[36msample\u001b[0m:\u001b[36m141\u001b[0m - \u001b[1m총 20개의 샘플이 있습니다.\u001b[0m\n",
      "\u001b[32m2024-09-07 00:38:49.134\u001b[0m | \u001b[1mINFO    \u001b[0m | \u001b[36mbenchmark\u001b[0m:\u001b[36msave\u001b[0m:\u001b[36m98\u001b[0m - \u001b[1m./tasks/bigbenchhard/bigbenchhard-boolean_expressions.json에 저장합니다.\u001b[0m\n",
      "\u001b[32m2024-09-07 00:38:49.134\u001b[0m | \u001b[1mINFO    \u001b[0m | \u001b[36mbenchmark\u001b[0m:\u001b[36msave\u001b[0m:\u001b[36m99\u001b[0m - \u001b[1m20의 샘플이 저장됩니다.\u001b[0m\n"
     ]
    },
    {
     "data": {
      "application/vnd.jupyter.widget-view+json": {
       "model_id": "ad7c1e2c084e41f49ea9938ad92d2fd1",
       "version_major": 2,
       "version_minor": 0
      },
      "text/plain": [
       "Downloading data:   0%|          | 0.00/69.5k [00:00<?, ?B/s]"
      ]
     },
     "metadata": {},
     "output_type": "display_data"
    },
    {
     "name": "stderr",
     "output_type": "stream",
     "text": [
      "Setting num_proc from 6 back to 1 for the train split to disable multiprocessing as it only contains one shard.\n"
     ]
    },
    {
     "data": {
      "application/vnd.jupyter.widget-view+json": {
       "model_id": "9ee547839415472695cb86993afd2703",
       "version_major": 2,
       "version_minor": 0
      },
      "text/plain": [
       "Generating train split:   0%|          | 0/187 [00:00<?, ? examples/s]"
      ]
     },
     "metadata": {},
     "output_type": "display_data"
    },
    {
     "name": "stderr",
     "output_type": "stream",
     "text": [
      "\u001b[32m2024-09-07 00:38:53.261\u001b[0m | \u001b[1mINFO    \u001b[0m | \u001b[36mbenchmark\u001b[0m:\u001b[36m__init__\u001b[0m:\u001b[36m54\u001b[0m - \u001b[1m\n",
      "path: maveriq/bigbenchhard\n",
      "name: causal_judgement\n",
      "total_split: ['train']\n",
      "prior_split: train\n",
      "train: 187\n",
      "\u001b[0m\n",
      "\u001b[32m2024-09-07 00:38:53.261\u001b[0m | \u001b[1mINFO    \u001b[0m | \u001b[36mbenchmark\u001b[0m:\u001b[36msample\u001b[0m:\u001b[36m132\u001b[0m - \u001b[1m카테고리가 없어서 전체에서 20개를 샘플링합니다\u001b[0m\n",
      "\u001b[32m2024-09-07 00:38:53.263\u001b[0m | \u001b[1mINFO    \u001b[0m | \u001b[36mbenchmark\u001b[0m:\u001b[36msample\u001b[0m:\u001b[36m141\u001b[0m - \u001b[1m총 20개의 샘플이 있습니다.\u001b[0m\n",
      "\u001b[32m2024-09-07 00:38:53.264\u001b[0m | \u001b[1mINFO    \u001b[0m | \u001b[36mbenchmark\u001b[0m:\u001b[36msave\u001b[0m:\u001b[36m98\u001b[0m - \u001b[1m./tasks/bigbenchhard/bigbenchhard-causal_judgement.json에 저장합니다.\u001b[0m\n",
      "\u001b[32m2024-09-07 00:38:53.264\u001b[0m | \u001b[1mINFO    \u001b[0m | \u001b[36mbenchmark\u001b[0m:\u001b[36msave\u001b[0m:\u001b[36m99\u001b[0m - \u001b[1m20의 샘플이 저장됩니다.\u001b[0m\n"
     ]
    },
    {
     "data": {
      "application/vnd.jupyter.widget-view+json": {
       "model_id": "f1eed2f52b2244799c03620637b9599b",
       "version_major": 2,
       "version_minor": 0
      },
      "text/plain": [
       "Downloading data:   0%|          | 0.00/18.0k [00:00<?, ?B/s]"
      ]
     },
     "metadata": {},
     "output_type": "display_data"
    },
    {
     "name": "stderr",
     "output_type": "stream",
     "text": [
      "Setting num_proc from 6 back to 1 for the train split to disable multiprocessing as it only contains one shard.\n"
     ]
    },
    {
     "data": {
      "application/vnd.jupyter.widget-view+json": {
       "model_id": "af6f61e04f7541c4b84444d6f3904d77",
       "version_major": 2,
       "version_minor": 0
      },
      "text/plain": [
       "Generating train split:   0%|          | 0/250 [00:00<?, ? examples/s]"
      ]
     },
     "metadata": {},
     "output_type": "display_data"
    },
    {
     "name": "stderr",
     "output_type": "stream",
     "text": [
      "\u001b[32m2024-09-07 00:38:57.137\u001b[0m | \u001b[1mINFO    \u001b[0m | \u001b[36mbenchmark\u001b[0m:\u001b[36m__init__\u001b[0m:\u001b[36m54\u001b[0m - \u001b[1m\n",
      "path: maveriq/bigbenchhard\n",
      "name: date_understanding\n",
      "total_split: ['train']\n",
      "prior_split: train\n",
      "train: 250\n",
      "\u001b[0m\n",
      "\u001b[32m2024-09-07 00:38:57.137\u001b[0m | \u001b[1mINFO    \u001b[0m | \u001b[36mbenchmark\u001b[0m:\u001b[36msample\u001b[0m:\u001b[36m132\u001b[0m - \u001b[1m카테고리가 없어서 전체에서 20개를 샘플링합니다\u001b[0m\n",
      "\u001b[32m2024-09-07 00:38:57.139\u001b[0m | \u001b[1mINFO    \u001b[0m | \u001b[36mbenchmark\u001b[0m:\u001b[36msample\u001b[0m:\u001b[36m141\u001b[0m - \u001b[1m총 20개의 샘플이 있습니다.\u001b[0m\n",
      "\u001b[32m2024-09-07 00:38:57.140\u001b[0m | \u001b[1mINFO    \u001b[0m | \u001b[36mbenchmark\u001b[0m:\u001b[36msave\u001b[0m:\u001b[36m98\u001b[0m - \u001b[1m./tasks/bigbenchhard/bigbenchhard-date_understanding.json에 저장합니다.\u001b[0m\n",
      "\u001b[32m2024-09-07 00:38:57.140\u001b[0m | \u001b[1mINFO    \u001b[0m | \u001b[36mbenchmark\u001b[0m:\u001b[36msave\u001b[0m:\u001b[36m99\u001b[0m - \u001b[1m20의 샘플이 저장됩니다.\u001b[0m\n"
     ]
    },
    {
     "data": {
      "application/vnd.jupyter.widget-view+json": {
       "model_id": "ef5d5142fbd74501997250393d2b3d9f",
       "version_major": 2,
       "version_minor": 0
      },
      "text/plain": [
       "Downloading data:   0%|          | 0.00/16.7k [00:00<?, ?B/s]"
      ]
     },
     "metadata": {},
     "output_type": "display_data"
    },
    {
     "name": "stderr",
     "output_type": "stream",
     "text": [
      "Setting num_proc from 6 back to 1 for the train split to disable multiprocessing as it only contains one shard.\n"
     ]
    },
    {
     "data": {
      "application/vnd.jupyter.widget-view+json": {
       "model_id": "ebb1665435e942419b9f62f706e4443f",
       "version_major": 2,
       "version_minor": 0
      },
      "text/plain": [
       "Generating train split:   0%|          | 0/250 [00:00<?, ? examples/s]"
      ]
     },
     "metadata": {},
     "output_type": "display_data"
    },
    {
     "name": "stderr",
     "output_type": "stream",
     "text": [
      "\u001b[32m2024-09-07 00:39:01.673\u001b[0m | \u001b[1mINFO    \u001b[0m | \u001b[36mbenchmark\u001b[0m:\u001b[36m__init__\u001b[0m:\u001b[36m54\u001b[0m - \u001b[1m\n",
      "path: maveriq/bigbenchhard\n",
      "name: disambiguation_qa\n",
      "total_split: ['train']\n",
      "prior_split: train\n",
      "train: 250\n",
      "\u001b[0m\n",
      "\u001b[32m2024-09-07 00:39:01.673\u001b[0m | \u001b[1mINFO    \u001b[0m | \u001b[36mbenchmark\u001b[0m:\u001b[36msample\u001b[0m:\u001b[36m132\u001b[0m - \u001b[1m카테고리가 없어서 전체에서 20개를 샘플링합니다\u001b[0m\n",
      "\u001b[32m2024-09-07 00:39:01.676\u001b[0m | \u001b[1mINFO    \u001b[0m | \u001b[36mbenchmark\u001b[0m:\u001b[36msample\u001b[0m:\u001b[36m141\u001b[0m - \u001b[1m총 20개의 샘플이 있습니다.\u001b[0m\n",
      "\u001b[32m2024-09-07 00:39:01.676\u001b[0m | \u001b[1mINFO    \u001b[0m | \u001b[36mbenchmark\u001b[0m:\u001b[36msave\u001b[0m:\u001b[36m98\u001b[0m - \u001b[1m./tasks/bigbenchhard/bigbenchhard-disambiguation_qa.json에 저장합니다.\u001b[0m\n",
      "\u001b[32m2024-09-07 00:39:01.677\u001b[0m | \u001b[1mINFO    \u001b[0m | \u001b[36mbenchmark\u001b[0m:\u001b[36msave\u001b[0m:\u001b[36m99\u001b[0m - \u001b[1m20의 샘플이 저장됩니다.\u001b[0m\n"
     ]
    },
    {
     "data": {
      "application/vnd.jupyter.widget-view+json": {
       "model_id": "2bf4dd423f6f4f9291b84cd5d436b80c",
       "version_major": 2,
       "version_minor": 0
      },
      "text/plain": [
       "Downloading data:   0%|          | 0.00/10.0k [00:00<?, ?B/s]"
      ]
     },
     "metadata": {},
     "output_type": "display_data"
    },
    {
     "name": "stderr",
     "output_type": "stream",
     "text": [
      "Setting num_proc from 6 back to 1 for the train split to disable multiprocessing as it only contains one shard.\n"
     ]
    },
    {
     "data": {
      "application/vnd.jupyter.widget-view+json": {
       "model_id": "a555642a7632443e9bf07758e5af967e",
       "version_major": 2,
       "version_minor": 0
      },
      "text/plain": [
       "Generating train split:   0%|          | 0/250 [00:00<?, ? examples/s]"
      ]
     },
     "metadata": {},
     "output_type": "display_data"
    },
    {
     "name": "stderr",
     "output_type": "stream",
     "text": [
      "\u001b[32m2024-09-07 00:39:05.424\u001b[0m | \u001b[1mINFO    \u001b[0m | \u001b[36mbenchmark\u001b[0m:\u001b[36m__init__\u001b[0m:\u001b[36m54\u001b[0m - \u001b[1m\n",
      "path: maveriq/bigbenchhard\n",
      "name: dyck_languages\n",
      "total_split: ['train']\n",
      "prior_split: train\n",
      "train: 250\n",
      "\u001b[0m\n",
      "\u001b[32m2024-09-07 00:39:05.424\u001b[0m | \u001b[1mINFO    \u001b[0m | \u001b[36mbenchmark\u001b[0m:\u001b[36msample\u001b[0m:\u001b[36m132\u001b[0m - \u001b[1m카테고리가 없어서 전체에서 20개를 샘플링합니다\u001b[0m\n",
      "\u001b[32m2024-09-07 00:39:05.426\u001b[0m | \u001b[1mINFO    \u001b[0m | \u001b[36mbenchmark\u001b[0m:\u001b[36msample\u001b[0m:\u001b[36m141\u001b[0m - \u001b[1m총 20개의 샘플이 있습니다.\u001b[0m\n",
      "\u001b[32m2024-09-07 00:39:05.427\u001b[0m | \u001b[1mINFO    \u001b[0m | \u001b[36mbenchmark\u001b[0m:\u001b[36msave\u001b[0m:\u001b[36m98\u001b[0m - \u001b[1m./tasks/bigbenchhard/bigbenchhard-dyck_languages.json에 저장합니다.\u001b[0m\n",
      "\u001b[32m2024-09-07 00:39:05.427\u001b[0m | \u001b[1mINFO    \u001b[0m | \u001b[36mbenchmark\u001b[0m:\u001b[36msave\u001b[0m:\u001b[36m99\u001b[0m - \u001b[1m20의 샘플이 저장됩니다.\u001b[0m\n"
     ]
    },
    {
     "data": {
      "application/vnd.jupyter.widget-view+json": {
       "model_id": "e845cf7b18af436dad5b58fb68bb5245",
       "version_major": 2,
       "version_minor": 0
      },
      "text/plain": [
       "Downloading data:   0%|          | 0.00/35.8k [00:00<?, ?B/s]"
      ]
     },
     "metadata": {},
     "output_type": "display_data"
    },
    {
     "name": "stderr",
     "output_type": "stream",
     "text": [
      "Setting num_proc from 6 back to 1 for the train split to disable multiprocessing as it only contains one shard.\n"
     ]
    },
    {
     "data": {
      "application/vnd.jupyter.widget-view+json": {
       "model_id": "3a15ea0125e942779b2933e6784547bf",
       "version_major": 2,
       "version_minor": 0
      },
      "text/plain": [
       "Generating train split:   0%|          | 0/250 [00:00<?, ? examples/s]"
      ]
     },
     "metadata": {},
     "output_type": "display_data"
    },
    {
     "name": "stderr",
     "output_type": "stream",
     "text": [
      "\u001b[32m2024-09-07 00:39:09.643\u001b[0m | \u001b[1mINFO    \u001b[0m | \u001b[36mbenchmark\u001b[0m:\u001b[36m__init__\u001b[0m:\u001b[36m54\u001b[0m - \u001b[1m\n",
      "path: maveriq/bigbenchhard\n",
      "name: formal_fallacies\n",
      "total_split: ['train']\n",
      "prior_split: train\n",
      "train: 250\n",
      "\u001b[0m\n",
      "\u001b[32m2024-09-07 00:39:09.643\u001b[0m | \u001b[1mINFO    \u001b[0m | \u001b[36mbenchmark\u001b[0m:\u001b[36msample\u001b[0m:\u001b[36m132\u001b[0m - \u001b[1m카테고리가 없어서 전체에서 20개를 샘플링합니다\u001b[0m\n",
      "\u001b[32m2024-09-07 00:39:09.645\u001b[0m | \u001b[1mINFO    \u001b[0m | \u001b[36mbenchmark\u001b[0m:\u001b[36msample\u001b[0m:\u001b[36m141\u001b[0m - \u001b[1m총 20개의 샘플이 있습니다.\u001b[0m\n",
      "\u001b[32m2024-09-07 00:39:09.646\u001b[0m | \u001b[1mINFO    \u001b[0m | \u001b[36mbenchmark\u001b[0m:\u001b[36msave\u001b[0m:\u001b[36m98\u001b[0m - \u001b[1m./tasks/bigbenchhard/bigbenchhard-formal_fallacies.json에 저장합니다.\u001b[0m\n",
      "\u001b[32m2024-09-07 00:39:09.646\u001b[0m | \u001b[1mINFO    \u001b[0m | \u001b[36mbenchmark\u001b[0m:\u001b[36msave\u001b[0m:\u001b[36m99\u001b[0m - \u001b[1m20의 샘플이 저장됩니다.\u001b[0m\n"
     ]
    },
    {
     "data": {
      "application/vnd.jupyter.widget-view+json": {
       "model_id": "8a5c2b4140a3493e9c36a85ea13fbf84",
       "version_major": 2,
       "version_minor": 0
      },
      "text/plain": [
       "Downloading data:   0%|          | 0.00/20.2k [00:00<?, ?B/s]"
      ]
     },
     "metadata": {},
     "output_type": "display_data"
    },
    {
     "name": "stderr",
     "output_type": "stream",
     "text": [
      "Setting num_proc from 6 back to 1 for the train split to disable multiprocessing as it only contains one shard.\n"
     ]
    },
    {
     "data": {
      "application/vnd.jupyter.widget-view+json": {
       "model_id": "f4ced9daa27e4276a6cb9e6c90b1ee4f",
       "version_major": 2,
       "version_minor": 0
      },
      "text/plain": [
       "Generating train split:   0%|          | 0/250 [00:00<?, ? examples/s]"
      ]
     },
     "metadata": {},
     "output_type": "display_data"
    },
    {
     "name": "stderr",
     "output_type": "stream",
     "text": [
      "\u001b[32m2024-09-07 00:39:14.383\u001b[0m | \u001b[1mINFO    \u001b[0m | \u001b[36mbenchmark\u001b[0m:\u001b[36m__init__\u001b[0m:\u001b[36m54\u001b[0m - \u001b[1m\n",
      "path: maveriq/bigbenchhard\n",
      "name: geometric_shapes\n",
      "total_split: ['train']\n",
      "prior_split: train\n",
      "train: 250\n",
      "\u001b[0m\n",
      "\u001b[32m2024-09-07 00:39:14.384\u001b[0m | \u001b[1mINFO    \u001b[0m | \u001b[36mbenchmark\u001b[0m:\u001b[36msample\u001b[0m:\u001b[36m132\u001b[0m - \u001b[1m카테고리가 없어서 전체에서 20개를 샘플링합니다\u001b[0m\n",
      "\u001b[32m2024-09-07 00:39:14.386\u001b[0m | \u001b[1mINFO    \u001b[0m | \u001b[36mbenchmark\u001b[0m:\u001b[36msample\u001b[0m:\u001b[36m141\u001b[0m - \u001b[1m총 20개의 샘플이 있습니다.\u001b[0m\n",
      "\u001b[32m2024-09-07 00:39:14.386\u001b[0m | \u001b[1mINFO    \u001b[0m | \u001b[36mbenchmark\u001b[0m:\u001b[36msave\u001b[0m:\u001b[36m98\u001b[0m - \u001b[1m./tasks/bigbenchhard/bigbenchhard-geometric_shapes.json에 저장합니다.\u001b[0m\n",
      "\u001b[32m2024-09-07 00:39:14.387\u001b[0m | \u001b[1mINFO    \u001b[0m | \u001b[36mbenchmark\u001b[0m:\u001b[36msave\u001b[0m:\u001b[36m99\u001b[0m - \u001b[1m20의 샘플이 저장됩니다.\u001b[0m\n"
     ]
    },
    {
     "data": {
      "application/vnd.jupyter.widget-view+json": {
       "model_id": "8b347d28d00f49e78bd84bc344ac129c",
       "version_major": 2,
       "version_minor": 0
      },
      "text/plain": [
       "Downloading data:   0%|          | 0.00/10.4k [00:00<?, ?B/s]"
      ]
     },
     "metadata": {},
     "output_type": "display_data"
    },
    {
     "name": "stderr",
     "output_type": "stream",
     "text": [
      "Setting num_proc from 6 back to 1 for the train split to disable multiprocessing as it only contains one shard.\n"
     ]
    },
    {
     "data": {
      "application/vnd.jupyter.widget-view+json": {
       "model_id": "6666e7dc914543d28db13e058e65c560",
       "version_major": 2,
       "version_minor": 0
      },
      "text/plain": [
       "Generating train split:   0%|          | 0/250 [00:00<?, ? examples/s]"
      ]
     },
     "metadata": {},
     "output_type": "display_data"
    },
    {
     "name": "stderr",
     "output_type": "stream",
     "text": [
      "\u001b[32m2024-09-07 00:39:18.378\u001b[0m | \u001b[1mINFO    \u001b[0m | \u001b[36mbenchmark\u001b[0m:\u001b[36m__init__\u001b[0m:\u001b[36m54\u001b[0m - \u001b[1m\n",
      "path: maveriq/bigbenchhard\n",
      "name: hyperbaton\n",
      "total_split: ['train']\n",
      "prior_split: train\n",
      "train: 250\n",
      "\u001b[0m\n",
      "\u001b[32m2024-09-07 00:39:18.379\u001b[0m | \u001b[1mINFO    \u001b[0m | \u001b[36mbenchmark\u001b[0m:\u001b[36msample\u001b[0m:\u001b[36m132\u001b[0m - \u001b[1m카테고리가 없어서 전체에서 20개를 샘플링합니다\u001b[0m\n",
      "\u001b[32m2024-09-07 00:39:18.381\u001b[0m | \u001b[1mINFO    \u001b[0m | \u001b[36mbenchmark\u001b[0m:\u001b[36msample\u001b[0m:\u001b[36m141\u001b[0m - \u001b[1m총 20개의 샘플이 있습니다.\u001b[0m\n",
      "\u001b[32m2024-09-07 00:39:18.382\u001b[0m | \u001b[1mINFO    \u001b[0m | \u001b[36mbenchmark\u001b[0m:\u001b[36msave\u001b[0m:\u001b[36m98\u001b[0m - \u001b[1m./tasks/bigbenchhard/bigbenchhard-hyperbaton.json에 저장합니다.\u001b[0m\n",
      "\u001b[32m2024-09-07 00:39:18.382\u001b[0m | \u001b[1mINFO    \u001b[0m | \u001b[36mbenchmark\u001b[0m:\u001b[36msave\u001b[0m:\u001b[36m99\u001b[0m - \u001b[1m20의 샘플이 저장됩니다.\u001b[0m\n"
     ]
    },
    {
     "data": {
      "application/vnd.jupyter.widget-view+json": {
       "model_id": "5fe9c350bc954b359e1ae7df34c14036",
       "version_major": 2,
       "version_minor": 0
      },
      "text/plain": [
       "Downloading data:   0%|          | 0.00/33.5k [00:00<?, ?B/s]"
      ]
     },
     "metadata": {},
     "output_type": "display_data"
    },
    {
     "name": "stderr",
     "output_type": "stream",
     "text": [
      "Setting num_proc from 6 back to 1 for the train split to disable multiprocessing as it only contains one shard.\n"
     ]
    },
    {
     "data": {
      "application/vnd.jupyter.widget-view+json": {
       "model_id": "88240672bda64047a19116f388231aa4",
       "version_major": 2,
       "version_minor": 0
      },
      "text/plain": [
       "Generating train split:   0%|          | 0/250 [00:00<?, ? examples/s]"
      ]
     },
     "metadata": {},
     "output_type": "display_data"
    },
    {
     "name": "stderr",
     "output_type": "stream",
     "text": [
      "\u001b[32m2024-09-07 00:39:22.669\u001b[0m | \u001b[1mINFO    \u001b[0m | \u001b[36mbenchmark\u001b[0m:\u001b[36m__init__\u001b[0m:\u001b[36m54\u001b[0m - \u001b[1m\n",
      "path: maveriq/bigbenchhard\n",
      "name: logical_deduction_five_objects\n",
      "total_split: ['train']\n",
      "prior_split: train\n",
      "train: 250\n",
      "\u001b[0m\n",
      "\u001b[32m2024-09-07 00:39:22.669\u001b[0m | \u001b[1mINFO    \u001b[0m | \u001b[36mbenchmark\u001b[0m:\u001b[36msample\u001b[0m:\u001b[36m132\u001b[0m - \u001b[1m카테고리가 없어서 전체에서 20개를 샘플링합니다\u001b[0m\n",
      "\u001b[32m2024-09-07 00:39:22.672\u001b[0m | \u001b[1mINFO    \u001b[0m | \u001b[36mbenchmark\u001b[0m:\u001b[36msample\u001b[0m:\u001b[36m141\u001b[0m - \u001b[1m총 20개의 샘플이 있습니다.\u001b[0m\n",
      "\u001b[32m2024-09-07 00:39:22.672\u001b[0m | \u001b[1mINFO    \u001b[0m | \u001b[36mbenchmark\u001b[0m:\u001b[36msave\u001b[0m:\u001b[36m98\u001b[0m - \u001b[1m./tasks/bigbenchhard/bigbenchhard-logical_deduction_five_objects.json에 저장합니다.\u001b[0m\n",
      "\u001b[32m2024-09-07 00:39:22.673\u001b[0m | \u001b[1mINFO    \u001b[0m | \u001b[36mbenchmark\u001b[0m:\u001b[36msave\u001b[0m:\u001b[36m99\u001b[0m - \u001b[1m20의 샘플이 저장됩니다.\u001b[0m\n"
     ]
    },
    {
     "data": {
      "application/vnd.jupyter.widget-view+json": {
       "model_id": "fbd17e1a3f714a80b61059f55d01840f",
       "version_major": 2,
       "version_minor": 0
      },
      "text/plain": [
       "Downloading data:   0%|          | 0.00/44.0k [00:00<?, ?B/s]"
      ]
     },
     "metadata": {},
     "output_type": "display_data"
    },
    {
     "name": "stderr",
     "output_type": "stream",
     "text": [
      "Setting num_proc from 6 back to 1 for the train split to disable multiprocessing as it only contains one shard.\n"
     ]
    },
    {
     "data": {
      "application/vnd.jupyter.widget-view+json": {
       "model_id": "afd06135f7dc46e7a5af363fd50ddfd8",
       "version_major": 2,
       "version_minor": 0
      },
      "text/plain": [
       "Generating train split:   0%|          | 0/250 [00:00<?, ? examples/s]"
      ]
     },
     "metadata": {},
     "output_type": "display_data"
    },
    {
     "name": "stderr",
     "output_type": "stream",
     "text": [
      "\u001b[32m2024-09-07 00:39:26.674\u001b[0m | \u001b[1mINFO    \u001b[0m | \u001b[36mbenchmark\u001b[0m:\u001b[36m__init__\u001b[0m:\u001b[36m54\u001b[0m - \u001b[1m\n",
      "path: maveriq/bigbenchhard\n",
      "name: logical_deduction_seven_objects\n",
      "total_split: ['train']\n",
      "prior_split: train\n",
      "train: 250\n",
      "\u001b[0m\n",
      "\u001b[32m2024-09-07 00:39:26.675\u001b[0m | \u001b[1mINFO    \u001b[0m | \u001b[36mbenchmark\u001b[0m:\u001b[36msample\u001b[0m:\u001b[36m132\u001b[0m - \u001b[1m카테고리가 없어서 전체에서 20개를 샘플링합니다\u001b[0m\n",
      "\u001b[32m2024-09-07 00:39:26.677\u001b[0m | \u001b[1mINFO    \u001b[0m | \u001b[36mbenchmark\u001b[0m:\u001b[36msample\u001b[0m:\u001b[36m141\u001b[0m - \u001b[1m총 20개의 샘플이 있습니다.\u001b[0m\n",
      "\u001b[32m2024-09-07 00:39:26.677\u001b[0m | \u001b[1mINFO    \u001b[0m | \u001b[36mbenchmark\u001b[0m:\u001b[36msave\u001b[0m:\u001b[36m98\u001b[0m - \u001b[1m./tasks/bigbenchhard/bigbenchhard-logical_deduction_seven_objects.json에 저장합니다.\u001b[0m\n",
      "\u001b[32m2024-09-07 00:39:26.678\u001b[0m | \u001b[1mINFO    \u001b[0m | \u001b[36mbenchmark\u001b[0m:\u001b[36msave\u001b[0m:\u001b[36m99\u001b[0m - \u001b[1m20의 샘플이 저장됩니다.\u001b[0m\n"
     ]
    },
    {
     "data": {
      "application/vnd.jupyter.widget-view+json": {
       "model_id": "5742547eb89744d28aa1fd96a8ce0e2b",
       "version_major": 2,
       "version_minor": 0
      },
      "text/plain": [
       "Downloading data:   0%|          | 0.00/21.6k [00:00<?, ?B/s]"
      ]
     },
     "metadata": {},
     "output_type": "display_data"
    },
    {
     "name": "stderr",
     "output_type": "stream",
     "text": [
      "Setting num_proc from 6 back to 1 for the train split to disable multiprocessing as it only contains one shard.\n"
     ]
    },
    {
     "data": {
      "application/vnd.jupyter.widget-view+json": {
       "model_id": "a814f083f6004c90b61e7fbab70bed78",
       "version_major": 2,
       "version_minor": 0
      },
      "text/plain": [
       "Generating train split:   0%|          | 0/250 [00:00<?, ? examples/s]"
      ]
     },
     "metadata": {},
     "output_type": "display_data"
    },
    {
     "name": "stderr",
     "output_type": "stream",
     "text": [
      "\u001b[32m2024-09-07 00:39:30.788\u001b[0m | \u001b[1mINFO    \u001b[0m | \u001b[36mbenchmark\u001b[0m:\u001b[36m__init__\u001b[0m:\u001b[36m54\u001b[0m - \u001b[1m\n",
      "path: maveriq/bigbenchhard\n",
      "name: logical_deduction_three_objects\n",
      "total_split: ['train']\n",
      "prior_split: train\n",
      "train: 250\n",
      "\u001b[0m\n",
      "\u001b[32m2024-09-07 00:39:30.788\u001b[0m | \u001b[1mINFO    \u001b[0m | \u001b[36mbenchmark\u001b[0m:\u001b[36msample\u001b[0m:\u001b[36m132\u001b[0m - \u001b[1m카테고리가 없어서 전체에서 20개를 샘플링합니다\u001b[0m\n",
      "\u001b[32m2024-09-07 00:39:30.790\u001b[0m | \u001b[1mINFO    \u001b[0m | \u001b[36mbenchmark\u001b[0m:\u001b[36msample\u001b[0m:\u001b[36m141\u001b[0m - \u001b[1m총 20개의 샘플이 있습니다.\u001b[0m\n",
      "\u001b[32m2024-09-07 00:39:30.791\u001b[0m | \u001b[1mINFO    \u001b[0m | \u001b[36mbenchmark\u001b[0m:\u001b[36msave\u001b[0m:\u001b[36m98\u001b[0m - \u001b[1m./tasks/bigbenchhard/bigbenchhard-logical_deduction_three_objects.json에 저장합니다.\u001b[0m\n",
      "\u001b[32m2024-09-07 00:39:30.791\u001b[0m | \u001b[1mINFO    \u001b[0m | \u001b[36mbenchmark\u001b[0m:\u001b[36msave\u001b[0m:\u001b[36m99\u001b[0m - \u001b[1m20의 샘플이 저장됩니다.\u001b[0m\n"
     ]
    },
    {
     "data": {
      "application/vnd.jupyter.widget-view+json": {
       "model_id": "a287823a76e64ba18507ac1c104746f3",
       "version_major": 2,
       "version_minor": 0
      },
      "text/plain": [
       "Downloading data:   0%|          | 0.00/21.7k [00:00<?, ?B/s]"
      ]
     },
     "metadata": {},
     "output_type": "display_data"
    },
    {
     "name": "stderr",
     "output_type": "stream",
     "text": [
      "Setting num_proc from 6 back to 1 for the train split to disable multiprocessing as it only contains one shard.\n"
     ]
    },
    {
     "data": {
      "application/vnd.jupyter.widget-view+json": {
       "model_id": "069aeb4b4ccb413f840e577b6fecb4b4",
       "version_major": 2,
       "version_minor": 0
      },
      "text/plain": [
       "Generating train split:   0%|          | 0/250 [00:00<?, ? examples/s]"
      ]
     },
     "metadata": {},
     "output_type": "display_data"
    },
    {
     "name": "stderr",
     "output_type": "stream",
     "text": [
      "\u001b[32m2024-09-07 00:39:34.877\u001b[0m | \u001b[1mINFO    \u001b[0m | \u001b[36mbenchmark\u001b[0m:\u001b[36m__init__\u001b[0m:\u001b[36m54\u001b[0m - \u001b[1m\n",
      "path: maveriq/bigbenchhard\n",
      "name: movie_recommendation\n",
      "total_split: ['train']\n",
      "prior_split: train\n",
      "train: 250\n",
      "\u001b[0m\n",
      "\u001b[32m2024-09-07 00:39:34.878\u001b[0m | \u001b[1mINFO    \u001b[0m | \u001b[36mbenchmark\u001b[0m:\u001b[36msample\u001b[0m:\u001b[36m132\u001b[0m - \u001b[1m카테고리가 없어서 전체에서 20개를 샘플링합니다\u001b[0m\n",
      "\u001b[32m2024-09-07 00:39:34.880\u001b[0m | \u001b[1mINFO    \u001b[0m | \u001b[36mbenchmark\u001b[0m:\u001b[36msample\u001b[0m:\u001b[36m141\u001b[0m - \u001b[1m총 20개의 샘플이 있습니다.\u001b[0m\n",
      "\u001b[32m2024-09-07 00:39:34.880\u001b[0m | \u001b[1mINFO    \u001b[0m | \u001b[36mbenchmark\u001b[0m:\u001b[36msave\u001b[0m:\u001b[36m98\u001b[0m - \u001b[1m./tasks/bigbenchhard/bigbenchhard-movie_recommendation.json에 저장합니다.\u001b[0m\n",
      "\u001b[32m2024-09-07 00:39:34.881\u001b[0m | \u001b[1mINFO    \u001b[0m | \u001b[36mbenchmark\u001b[0m:\u001b[36msave\u001b[0m:\u001b[36m99\u001b[0m - \u001b[1m20의 샘플이 저장됩니다.\u001b[0m\n"
     ]
    },
    {
     "data": {
      "application/vnd.jupyter.widget-view+json": {
       "model_id": "e9cc0eaf55b54851aadf405c4ea252c2",
       "version_major": 2,
       "version_minor": 0
      },
      "text/plain": [
       "Downloading data:   0%|          | 0.00/7.55k [00:00<?, ?B/s]"
      ]
     },
     "metadata": {},
     "output_type": "display_data"
    },
    {
     "name": "stderr",
     "output_type": "stream",
     "text": [
      "Setting num_proc from 6 back to 1 for the train split to disable multiprocessing as it only contains one shard.\n"
     ]
    },
    {
     "data": {
      "application/vnd.jupyter.widget-view+json": {
       "model_id": "b6e3bfebc7104410a249c0f28c1ecc54",
       "version_major": 2,
       "version_minor": 0
      },
      "text/plain": [
       "Generating train split:   0%|          | 0/250 [00:00<?, ? examples/s]"
      ]
     },
     "metadata": {},
     "output_type": "display_data"
    },
    {
     "name": "stderr",
     "output_type": "stream",
     "text": [
      "\u001b[32m2024-09-07 00:39:38.717\u001b[0m | \u001b[1mINFO    \u001b[0m | \u001b[36mbenchmark\u001b[0m:\u001b[36m__init__\u001b[0m:\u001b[36m54\u001b[0m - \u001b[1m\n",
      "path: maveriq/bigbenchhard\n",
      "name: multistep_arithmetic_two\n",
      "total_split: ['train']\n",
      "prior_split: train\n",
      "train: 250\n",
      "\u001b[0m\n",
      "\u001b[32m2024-09-07 00:39:38.717\u001b[0m | \u001b[1mINFO    \u001b[0m | \u001b[36mbenchmark\u001b[0m:\u001b[36msample\u001b[0m:\u001b[36m132\u001b[0m - \u001b[1m카테고리가 없어서 전체에서 20개를 샘플링합니다\u001b[0m\n",
      "\u001b[32m2024-09-07 00:39:38.719\u001b[0m | \u001b[1mINFO    \u001b[0m | \u001b[36mbenchmark\u001b[0m:\u001b[36msample\u001b[0m:\u001b[36m141\u001b[0m - \u001b[1m총 20개의 샘플이 있습니다.\u001b[0m\n",
      "\u001b[32m2024-09-07 00:39:38.720\u001b[0m | \u001b[1mINFO    \u001b[0m | \u001b[36mbenchmark\u001b[0m:\u001b[36msave\u001b[0m:\u001b[36m98\u001b[0m - \u001b[1m./tasks/bigbenchhard/bigbenchhard-multistep_arithmetic_two.json에 저장합니다.\u001b[0m\n",
      "\u001b[32m2024-09-07 00:39:38.720\u001b[0m | \u001b[1mINFO    \u001b[0m | \u001b[36mbenchmark\u001b[0m:\u001b[36msave\u001b[0m:\u001b[36m99\u001b[0m - \u001b[1m20의 샘플이 저장됩니다.\u001b[0m\n"
     ]
    },
    {
     "data": {
      "application/vnd.jupyter.widget-view+json": {
       "model_id": "046e3f88fc694b08ae29e794ee5bdc60",
       "version_major": 2,
       "version_minor": 0
      },
      "text/plain": [
       "Downloading data:   0%|          | 0.00/10.0k [00:00<?, ?B/s]"
      ]
     },
     "metadata": {},
     "output_type": "display_data"
    },
    {
     "name": "stderr",
     "output_type": "stream",
     "text": [
      "Setting num_proc from 6 back to 1 for the train split to disable multiprocessing as it only contains one shard.\n"
     ]
    },
    {
     "data": {
      "application/vnd.jupyter.widget-view+json": {
       "model_id": "b5f09169353b4e1f995cacdf82215732",
       "version_major": 2,
       "version_minor": 0
      },
      "text/plain": [
       "Generating train split:   0%|          | 0/250 [00:00<?, ? examples/s]"
      ]
     },
     "metadata": {},
     "output_type": "display_data"
    },
    {
     "name": "stderr",
     "output_type": "stream",
     "text": [
      "\u001b[32m2024-09-07 00:39:42.470\u001b[0m | \u001b[1mINFO    \u001b[0m | \u001b[36mbenchmark\u001b[0m:\u001b[36m__init__\u001b[0m:\u001b[36m54\u001b[0m - \u001b[1m\n",
      "path: maveriq/bigbenchhard\n",
      "name: navigate\n",
      "total_split: ['train']\n",
      "prior_split: train\n",
      "train: 250\n",
      "\u001b[0m\n",
      "\u001b[32m2024-09-07 00:39:42.470\u001b[0m | \u001b[1mINFO    \u001b[0m | \u001b[36mbenchmark\u001b[0m:\u001b[36msample\u001b[0m:\u001b[36m132\u001b[0m - \u001b[1m카테고리가 없어서 전체에서 20개를 샘플링합니다\u001b[0m\n",
      "\u001b[32m2024-09-07 00:39:42.473\u001b[0m | \u001b[1mINFO    \u001b[0m | \u001b[36mbenchmark\u001b[0m:\u001b[36msample\u001b[0m:\u001b[36m141\u001b[0m - \u001b[1m총 20개의 샘플이 있습니다.\u001b[0m\n",
      "\u001b[32m2024-09-07 00:39:42.473\u001b[0m | \u001b[1mINFO    \u001b[0m | \u001b[36mbenchmark\u001b[0m:\u001b[36msave\u001b[0m:\u001b[36m98\u001b[0m - \u001b[1m./tasks/bigbenchhard/bigbenchhard-navigate.json에 저장합니다.\u001b[0m\n",
      "\u001b[32m2024-09-07 00:39:42.474\u001b[0m | \u001b[1mINFO    \u001b[0m | \u001b[36mbenchmark\u001b[0m:\u001b[36msave\u001b[0m:\u001b[36m99\u001b[0m - \u001b[1m20의 샘플이 저장됩니다.\u001b[0m\n"
     ]
    },
    {
     "data": {
      "application/vnd.jupyter.widget-view+json": {
       "model_id": "fdb23a4375c443cdbc8164b9ad587bfa",
       "version_major": 2,
       "version_minor": 0
      },
      "text/plain": [
       "Downloading data:   0%|          | 0.00/10.6k [00:00<?, ?B/s]"
      ]
     },
     "metadata": {},
     "output_type": "display_data"
    },
    {
     "name": "stderr",
     "output_type": "stream",
     "text": [
      "Setting num_proc from 6 back to 1 for the train split to disable multiprocessing as it only contains one shard.\n"
     ]
    },
    {
     "data": {
      "application/vnd.jupyter.widget-view+json": {
       "model_id": "8c16188c22e0487eaa51433960c53dea",
       "version_major": 2,
       "version_minor": 0
      },
      "text/plain": [
       "Generating train split:   0%|          | 0/250 [00:00<?, ? examples/s]"
      ]
     },
     "metadata": {},
     "output_type": "display_data"
    },
    {
     "name": "stderr",
     "output_type": "stream",
     "text": [
      "\u001b[32m2024-09-07 00:39:46.418\u001b[0m | \u001b[1mINFO    \u001b[0m | \u001b[36mbenchmark\u001b[0m:\u001b[36m__init__\u001b[0m:\u001b[36m54\u001b[0m - \u001b[1m\n",
      "path: maveriq/bigbenchhard\n",
      "name: object_counting\n",
      "total_split: ['train']\n",
      "prior_split: train\n",
      "train: 250\n",
      "\u001b[0m\n",
      "\u001b[32m2024-09-07 00:39:46.418\u001b[0m | \u001b[1mINFO    \u001b[0m | \u001b[36mbenchmark\u001b[0m:\u001b[36msample\u001b[0m:\u001b[36m132\u001b[0m - \u001b[1m카테고리가 없어서 전체에서 20개를 샘플링합니다\u001b[0m\n",
      "\u001b[32m2024-09-07 00:39:46.421\u001b[0m | \u001b[1mINFO    \u001b[0m | \u001b[36mbenchmark\u001b[0m:\u001b[36msample\u001b[0m:\u001b[36m141\u001b[0m - \u001b[1m총 20개의 샘플이 있습니다.\u001b[0m\n",
      "\u001b[32m2024-09-07 00:39:46.421\u001b[0m | \u001b[1mINFO    \u001b[0m | \u001b[36mbenchmark\u001b[0m:\u001b[36msave\u001b[0m:\u001b[36m98\u001b[0m - \u001b[1m./tasks/bigbenchhard/bigbenchhard-object_counting.json에 저장합니다.\u001b[0m\n",
      "\u001b[32m2024-09-07 00:39:46.422\u001b[0m | \u001b[1mINFO    \u001b[0m | \u001b[36mbenchmark\u001b[0m:\u001b[36msave\u001b[0m:\u001b[36m99\u001b[0m - \u001b[1m20의 샘플이 저장됩니다.\u001b[0m\n"
     ]
    },
    {
     "data": {
      "application/vnd.jupyter.widget-view+json": {
       "model_id": "38d13511a3854295ab49561b0798c5f8",
       "version_major": 2,
       "version_minor": 0
      },
      "text/plain": [
       "Downloading data:   0%|          | 0.00/10.7k [00:00<?, ?B/s]"
      ]
     },
     "metadata": {},
     "output_type": "display_data"
    },
    {
     "name": "stderr",
     "output_type": "stream",
     "text": [
      "Setting num_proc from 6 back to 1 for the train split to disable multiprocessing as it only contains one shard.\n"
     ]
    },
    {
     "data": {
      "application/vnd.jupyter.widget-view+json": {
       "model_id": "71b752f5dc2e4d9a819de29956ef026c",
       "version_major": 2,
       "version_minor": 0
      },
      "text/plain": [
       "Generating train split:   0%|          | 0/146 [00:00<?, ? examples/s]"
      ]
     },
     "metadata": {},
     "output_type": "display_data"
    },
    {
     "name": "stderr",
     "output_type": "stream",
     "text": [
      "\u001b[32m2024-09-07 00:39:50.758\u001b[0m | \u001b[1mINFO    \u001b[0m | \u001b[36mbenchmark\u001b[0m:\u001b[36m__init__\u001b[0m:\u001b[36m54\u001b[0m - \u001b[1m\n",
      "path: maveriq/bigbenchhard\n",
      "name: penguins_in_a_table\n",
      "total_split: ['train']\n",
      "prior_split: train\n",
      "train: 146\n",
      "\u001b[0m\n",
      "\u001b[32m2024-09-07 00:39:50.758\u001b[0m | \u001b[1mINFO    \u001b[0m | \u001b[36mbenchmark\u001b[0m:\u001b[36msample\u001b[0m:\u001b[36m132\u001b[0m - \u001b[1m카테고리가 없어서 전체에서 20개를 샘플링합니다\u001b[0m\n",
      "\u001b[32m2024-09-07 00:39:50.761\u001b[0m | \u001b[1mINFO    \u001b[0m | \u001b[36mbenchmark\u001b[0m:\u001b[36msample\u001b[0m:\u001b[36m141\u001b[0m - \u001b[1m총 20개의 샘플이 있습니다.\u001b[0m\n",
      "\u001b[32m2024-09-07 00:39:50.761\u001b[0m | \u001b[1mINFO    \u001b[0m | \u001b[36mbenchmark\u001b[0m:\u001b[36msave\u001b[0m:\u001b[36m98\u001b[0m - \u001b[1m./tasks/bigbenchhard/bigbenchhard-penguins_in_a_table.json에 저장합니다.\u001b[0m\n",
      "\u001b[32m2024-09-07 00:39:50.762\u001b[0m | \u001b[1mINFO    \u001b[0m | \u001b[36mbenchmark\u001b[0m:\u001b[36msave\u001b[0m:\u001b[36m99\u001b[0m - \u001b[1m20의 샘플이 저장됩니다.\u001b[0m\n"
     ]
    },
    {
     "data": {
      "application/vnd.jupyter.widget-view+json": {
       "model_id": "018e298465a7432aad6ae906c64678bd",
       "version_major": 2,
       "version_minor": 0
      },
      "text/plain": [
       "Downloading data:   0%|          | 0.00/20.4k [00:00<?, ?B/s]"
      ]
     },
     "metadata": {},
     "output_type": "display_data"
    },
    {
     "name": "stderr",
     "output_type": "stream",
     "text": [
      "Setting num_proc from 6 back to 1 for the train split to disable multiprocessing as it only contains one shard.\n"
     ]
    },
    {
     "data": {
      "application/vnd.jupyter.widget-view+json": {
       "model_id": "29efc847155d40f68de42d42daeebc44",
       "version_major": 2,
       "version_minor": 0
      },
      "text/plain": [
       "Generating train split:   0%|          | 0/250 [00:00<?, ? examples/s]"
      ]
     },
     "metadata": {},
     "output_type": "display_data"
    },
    {
     "name": "stderr",
     "output_type": "stream",
     "text": [
      "\u001b[32m2024-09-07 00:39:54.959\u001b[0m | \u001b[1mINFO    \u001b[0m | \u001b[36mbenchmark\u001b[0m:\u001b[36m__init__\u001b[0m:\u001b[36m54\u001b[0m - \u001b[1m\n",
      "path: maveriq/bigbenchhard\n",
      "name: reasoning_about_colored_objects\n",
      "total_split: ['train']\n",
      "prior_split: train\n",
      "train: 250\n",
      "\u001b[0m\n",
      "\u001b[32m2024-09-07 00:39:54.959\u001b[0m | \u001b[1mINFO    \u001b[0m | \u001b[36mbenchmark\u001b[0m:\u001b[36msample\u001b[0m:\u001b[36m132\u001b[0m - \u001b[1m카테고리가 없어서 전체에서 20개를 샘플링합니다\u001b[0m\n",
      "\u001b[32m2024-09-07 00:39:54.962\u001b[0m | \u001b[1mINFO    \u001b[0m | \u001b[36mbenchmark\u001b[0m:\u001b[36msample\u001b[0m:\u001b[36m141\u001b[0m - \u001b[1m총 20개의 샘플이 있습니다.\u001b[0m\n",
      "\u001b[32m2024-09-07 00:39:54.963\u001b[0m | \u001b[1mINFO    \u001b[0m | \u001b[36mbenchmark\u001b[0m:\u001b[36msave\u001b[0m:\u001b[36m98\u001b[0m - \u001b[1m./tasks/bigbenchhard/bigbenchhard-reasoning_about_colored_objects.json에 저장합니다.\u001b[0m\n",
      "\u001b[32m2024-09-07 00:39:54.963\u001b[0m | \u001b[1mINFO    \u001b[0m | \u001b[36mbenchmark\u001b[0m:\u001b[36msave\u001b[0m:\u001b[36m99\u001b[0m - \u001b[1m20의 샘플이 저장됩니다.\u001b[0m\n"
     ]
    },
    {
     "data": {
      "application/vnd.jupyter.widget-view+json": {
       "model_id": "823bbfa1cda74f06ab3a2a00196c9606",
       "version_major": 2,
       "version_minor": 0
      },
      "text/plain": [
       "Downloading data:   0%|          | 0.00/15.6k [00:00<?, ?B/s]"
      ]
     },
     "metadata": {},
     "output_type": "display_data"
    },
    {
     "name": "stderr",
     "output_type": "stream",
     "text": [
      "Setting num_proc from 6 back to 1 for the train split to disable multiprocessing as it only contains one shard.\n"
     ]
    },
    {
     "data": {
      "application/vnd.jupyter.widget-view+json": {
       "model_id": "9f380b02d4cf4ff09fc0979f025f3f29",
       "version_major": 2,
       "version_minor": 0
      },
      "text/plain": [
       "Generating train split:   0%|          | 0/250 [00:00<?, ? examples/s]"
      ]
     },
     "metadata": {},
     "output_type": "display_data"
    },
    {
     "name": "stderr",
     "output_type": "stream",
     "text": [
      "\u001b[32m2024-09-07 00:39:59.332\u001b[0m | \u001b[1mINFO    \u001b[0m | \u001b[36mbenchmark\u001b[0m:\u001b[36m__init__\u001b[0m:\u001b[36m54\u001b[0m - \u001b[1m\n",
      "path: maveriq/bigbenchhard\n",
      "name: ruin_names\n",
      "total_split: ['train']\n",
      "prior_split: train\n",
      "train: 250\n",
      "\u001b[0m\n",
      "\u001b[32m2024-09-07 00:39:59.333\u001b[0m | \u001b[1mINFO    \u001b[0m | \u001b[36mbenchmark\u001b[0m:\u001b[36msample\u001b[0m:\u001b[36m132\u001b[0m - \u001b[1m카테고리가 없어서 전체에서 20개를 샘플링합니다\u001b[0m\n",
      "\u001b[32m2024-09-07 00:39:59.335\u001b[0m | \u001b[1mINFO    \u001b[0m | \u001b[36mbenchmark\u001b[0m:\u001b[36msample\u001b[0m:\u001b[36m141\u001b[0m - \u001b[1m총 20개의 샘플이 있습니다.\u001b[0m\n",
      "\u001b[32m2024-09-07 00:39:59.336\u001b[0m | \u001b[1mINFO    \u001b[0m | \u001b[36mbenchmark\u001b[0m:\u001b[36msave\u001b[0m:\u001b[36m98\u001b[0m - \u001b[1m./tasks/bigbenchhard/bigbenchhard-ruin_names.json에 저장합니다.\u001b[0m\n",
      "\u001b[32m2024-09-07 00:39:59.336\u001b[0m | \u001b[1mINFO    \u001b[0m | \u001b[36mbenchmark\u001b[0m:\u001b[36msave\u001b[0m:\u001b[36m99\u001b[0m - \u001b[1m20의 샘플이 저장됩니다.\u001b[0m\n"
     ]
    },
    {
     "data": {
      "application/vnd.jupyter.widget-view+json": {
       "model_id": "f528f69bf748491e9c2e1e727112eed5",
       "version_major": 2,
       "version_minor": 0
      },
      "text/plain": [
       "Downloading data:   0%|          | 0.00/56.9k [00:00<?, ?B/s]"
      ]
     },
     "metadata": {},
     "output_type": "display_data"
    },
    {
     "name": "stderr",
     "output_type": "stream",
     "text": [
      "Setting num_proc from 6 back to 1 for the train split to disable multiprocessing as it only contains one shard.\n"
     ]
    },
    {
     "data": {
      "application/vnd.jupyter.widget-view+json": {
       "model_id": "30e6ee7ff4014073828dbf88d2e8cb3b",
       "version_major": 2,
       "version_minor": 0
      },
      "text/plain": [
       "Generating train split:   0%|          | 0/250 [00:00<?, ? examples/s]"
      ]
     },
     "metadata": {},
     "output_type": "display_data"
    },
    {
     "name": "stderr",
     "output_type": "stream",
     "text": [
      "\u001b[32m2024-09-07 00:40:03.702\u001b[0m | \u001b[1mINFO    \u001b[0m | \u001b[36mbenchmark\u001b[0m:\u001b[36m__init__\u001b[0m:\u001b[36m54\u001b[0m - \u001b[1m\n",
      "path: maveriq/bigbenchhard\n",
      "name: salient_translation_error_detection\n",
      "total_split: ['train']\n",
      "prior_split: train\n",
      "train: 250\n",
      "\u001b[0m\n",
      "\u001b[32m2024-09-07 00:40:03.702\u001b[0m | \u001b[1mINFO    \u001b[0m | \u001b[36mbenchmark\u001b[0m:\u001b[36msample\u001b[0m:\u001b[36m132\u001b[0m - \u001b[1m카테고리가 없어서 전체에서 20개를 샘플링합니다\u001b[0m\n",
      "\u001b[32m2024-09-07 00:40:03.704\u001b[0m | \u001b[1mINFO    \u001b[0m | \u001b[36mbenchmark\u001b[0m:\u001b[36msample\u001b[0m:\u001b[36m141\u001b[0m - \u001b[1m총 20개의 샘플이 있습니다.\u001b[0m\n",
      "\u001b[32m2024-09-07 00:40:03.705\u001b[0m | \u001b[1mINFO    \u001b[0m | \u001b[36mbenchmark\u001b[0m:\u001b[36msave\u001b[0m:\u001b[36m98\u001b[0m - \u001b[1m./tasks/bigbenchhard/bigbenchhard-salient_translation_error_detection.json에 저장합니다.\u001b[0m\n",
      "\u001b[32m2024-09-07 00:40:03.705\u001b[0m | \u001b[1mINFO    \u001b[0m | \u001b[36mbenchmark\u001b[0m:\u001b[36msave\u001b[0m:\u001b[36m99\u001b[0m - \u001b[1m20의 샘플이 저장됩니다.\u001b[0m\n"
     ]
    },
    {
     "data": {
      "application/vnd.jupyter.widget-view+json": {
       "model_id": "f7cdd40f84814951ae91903dff7c4a25",
       "version_major": 2,
       "version_minor": 0
      },
      "text/plain": [
       "Downloading data:   0%|          | 0.00/16.4k [00:00<?, ?B/s]"
      ]
     },
     "metadata": {},
     "output_type": "display_data"
    },
    {
     "name": "stderr",
     "output_type": "stream",
     "text": [
      "Setting num_proc from 6 back to 1 for the train split to disable multiprocessing as it only contains one shard.\n"
     ]
    },
    {
     "data": {
      "application/vnd.jupyter.widget-view+json": {
       "model_id": "b96980db5c5f4c86be5553988e4b6b91",
       "version_major": 2,
       "version_minor": 0
      },
      "text/plain": [
       "Generating train split:   0%|          | 0/178 [00:00<?, ? examples/s]"
      ]
     },
     "metadata": {},
     "output_type": "display_data"
    },
    {
     "name": "stderr",
     "output_type": "stream",
     "text": [
      "\u001b[32m2024-09-07 00:40:07.525\u001b[0m | \u001b[1mINFO    \u001b[0m | \u001b[36mbenchmark\u001b[0m:\u001b[36m__init__\u001b[0m:\u001b[36m54\u001b[0m - \u001b[1m\n",
      "path: maveriq/bigbenchhard\n",
      "name: snarks\n",
      "total_split: ['train']\n",
      "prior_split: train\n",
      "train: 178\n",
      "\u001b[0m\n",
      "\u001b[32m2024-09-07 00:40:07.525\u001b[0m | \u001b[1mINFO    \u001b[0m | \u001b[36mbenchmark\u001b[0m:\u001b[36msample\u001b[0m:\u001b[36m132\u001b[0m - \u001b[1m카테고리가 없어서 전체에서 20개를 샘플링합니다\u001b[0m\n",
      "\u001b[32m2024-09-07 00:40:07.528\u001b[0m | \u001b[1mINFO    \u001b[0m | \u001b[36mbenchmark\u001b[0m:\u001b[36msample\u001b[0m:\u001b[36m141\u001b[0m - \u001b[1m총 20개의 샘플이 있습니다.\u001b[0m\n",
      "\u001b[32m2024-09-07 00:40:07.528\u001b[0m | \u001b[1mINFO    \u001b[0m | \u001b[36mbenchmark\u001b[0m:\u001b[36msave\u001b[0m:\u001b[36m98\u001b[0m - \u001b[1m./tasks/bigbenchhard/bigbenchhard-snarks.json에 저장합니다.\u001b[0m\n",
      "\u001b[32m2024-09-07 00:40:07.529\u001b[0m | \u001b[1mINFO    \u001b[0m | \u001b[36mbenchmark\u001b[0m:\u001b[36msave\u001b[0m:\u001b[36m99\u001b[0m - \u001b[1m20의 샘플이 저장됩니다.\u001b[0m\n"
     ]
    },
    {
     "data": {
      "application/vnd.jupyter.widget-view+json": {
       "model_id": "098ba4afeab34e5bbcbddba4633322a9",
       "version_major": 2,
       "version_minor": 0
      },
      "text/plain": [
       "Downloading data:   0%|          | 0.00/8.16k [00:00<?, ?B/s]"
      ]
     },
     "metadata": {},
     "output_type": "display_data"
    },
    {
     "name": "stderr",
     "output_type": "stream",
     "text": [
      "Setting num_proc from 6 back to 1 for the train split to disable multiprocessing as it only contains one shard.\n"
     ]
    },
    {
     "data": {
      "application/vnd.jupyter.widget-view+json": {
       "model_id": "4a760ae1e4c549969093e1b1151402ec",
       "version_major": 2,
       "version_minor": 0
      },
      "text/plain": [
       "Generating train split:   0%|          | 0/250 [00:00<?, ? examples/s]"
      ]
     },
     "metadata": {},
     "output_type": "display_data"
    },
    {
     "name": "stderr",
     "output_type": "stream",
     "text": [
      "\u001b[32m2024-09-07 00:40:11.798\u001b[0m | \u001b[1mINFO    \u001b[0m | \u001b[36mbenchmark\u001b[0m:\u001b[36m__init__\u001b[0m:\u001b[36m54\u001b[0m - \u001b[1m\n",
      "path: maveriq/bigbenchhard\n",
      "name: sports_understanding\n",
      "total_split: ['train']\n",
      "prior_split: train\n",
      "train: 250\n",
      "\u001b[0m\n",
      "\u001b[32m2024-09-07 00:40:11.798\u001b[0m | \u001b[1mINFO    \u001b[0m | \u001b[36mbenchmark\u001b[0m:\u001b[36msample\u001b[0m:\u001b[36m132\u001b[0m - \u001b[1m카테고리가 없어서 전체에서 20개를 샘플링합니다\u001b[0m\n",
      "\u001b[32m2024-09-07 00:40:11.801\u001b[0m | \u001b[1mINFO    \u001b[0m | \u001b[36mbenchmark\u001b[0m:\u001b[36msample\u001b[0m:\u001b[36m141\u001b[0m - \u001b[1m총 20개의 샘플이 있습니다.\u001b[0m\n",
      "\u001b[32m2024-09-07 00:40:11.801\u001b[0m | \u001b[1mINFO    \u001b[0m | \u001b[36mbenchmark\u001b[0m:\u001b[36msave\u001b[0m:\u001b[36m98\u001b[0m - \u001b[1m./tasks/bigbenchhard/bigbenchhard-sports_understanding.json에 저장합니다.\u001b[0m\n",
      "\u001b[32m2024-09-07 00:40:11.802\u001b[0m | \u001b[1mINFO    \u001b[0m | \u001b[36mbenchmark\u001b[0m:\u001b[36msave\u001b[0m:\u001b[36m99\u001b[0m - \u001b[1m20의 샘플이 저장됩니다.\u001b[0m\n"
     ]
    },
    {
     "data": {
      "application/vnd.jupyter.widget-view+json": {
       "model_id": "d9e05ed0cfbf483aa8548bc6fd5445da",
       "version_major": 2,
       "version_minor": 0
      },
      "text/plain": [
       "Downloading data:   0%|          | 0.00/35.6k [00:00<?, ?B/s]"
      ]
     },
     "metadata": {},
     "output_type": "display_data"
    },
    {
     "name": "stderr",
     "output_type": "stream",
     "text": [
      "Setting num_proc from 6 back to 1 for the train split to disable multiprocessing as it only contains one shard.\n"
     ]
    },
    {
     "data": {
      "application/vnd.jupyter.widget-view+json": {
       "model_id": "86b389b1878149cba23af73d31f1c0e8",
       "version_major": 2,
       "version_minor": 0
      },
      "text/plain": [
       "Generating train split:   0%|          | 0/250 [00:00<?, ? examples/s]"
      ]
     },
     "metadata": {},
     "output_type": "display_data"
    },
    {
     "name": "stderr",
     "output_type": "stream",
     "text": [
      "\u001b[32m2024-09-07 00:40:15.871\u001b[0m | \u001b[1mINFO    \u001b[0m | \u001b[36mbenchmark\u001b[0m:\u001b[36m__init__\u001b[0m:\u001b[36m54\u001b[0m - \u001b[1m\n",
      "path: maveriq/bigbenchhard\n",
      "name: temporal_sequences\n",
      "total_split: ['train']\n",
      "prior_split: train\n",
      "train: 250\n",
      "\u001b[0m\n",
      "\u001b[32m2024-09-07 00:40:15.871\u001b[0m | \u001b[1mINFO    \u001b[0m | \u001b[36mbenchmark\u001b[0m:\u001b[36msample\u001b[0m:\u001b[36m132\u001b[0m - \u001b[1m카테고리가 없어서 전체에서 20개를 샘플링합니다\u001b[0m\n",
      "\u001b[32m2024-09-07 00:40:15.873\u001b[0m | \u001b[1mINFO    \u001b[0m | \u001b[36mbenchmark\u001b[0m:\u001b[36msample\u001b[0m:\u001b[36m141\u001b[0m - \u001b[1m총 20개의 샘플이 있습니다.\u001b[0m\n",
      "\u001b[32m2024-09-07 00:40:15.874\u001b[0m | \u001b[1mINFO    \u001b[0m | \u001b[36mbenchmark\u001b[0m:\u001b[36msave\u001b[0m:\u001b[36m98\u001b[0m - \u001b[1m./tasks/bigbenchhard/bigbenchhard-temporal_sequences.json에 저장합니다.\u001b[0m\n",
      "\u001b[32m2024-09-07 00:40:15.874\u001b[0m | \u001b[1mINFO    \u001b[0m | \u001b[36mbenchmark\u001b[0m:\u001b[36msave\u001b[0m:\u001b[36m99\u001b[0m - \u001b[1m20의 샘플이 저장됩니다.\u001b[0m\n"
     ]
    },
    {
     "data": {
      "application/vnd.jupyter.widget-view+json": {
       "model_id": "96829cd49bec4f578f1d7c1486c5e4a1",
       "version_major": 2,
       "version_minor": 0
      },
      "text/plain": [
       "Downloading data:   0%|          | 0.00/37.1k [00:00<?, ?B/s]"
      ]
     },
     "metadata": {},
     "output_type": "display_data"
    },
    {
     "name": "stderr",
     "output_type": "stream",
     "text": [
      "Setting num_proc from 6 back to 1 for the train split to disable multiprocessing as it only contains one shard.\n"
     ]
    },
    {
     "data": {
      "application/vnd.jupyter.widget-view+json": {
       "model_id": "a6bc1b8f40c64a7cb10dc45bf74ac038",
       "version_major": 2,
       "version_minor": 0
      },
      "text/plain": [
       "Generating train split:   0%|          | 0/250 [00:00<?, ? examples/s]"
      ]
     },
     "metadata": {},
     "output_type": "display_data"
    },
    {
     "name": "stderr",
     "output_type": "stream",
     "text": [
      "\u001b[32m2024-09-07 00:40:19.792\u001b[0m | \u001b[1mINFO    \u001b[0m | \u001b[36mbenchmark\u001b[0m:\u001b[36m__init__\u001b[0m:\u001b[36m54\u001b[0m - \u001b[1m\n",
      "path: maveriq/bigbenchhard\n",
      "name: tracking_shuffled_objects_five_objects\n",
      "total_split: ['train']\n",
      "prior_split: train\n",
      "train: 250\n",
      "\u001b[0m\n",
      "\u001b[32m2024-09-07 00:40:19.793\u001b[0m | \u001b[1mINFO    \u001b[0m | \u001b[36mbenchmark\u001b[0m:\u001b[36msample\u001b[0m:\u001b[36m132\u001b[0m - \u001b[1m카테고리가 없어서 전체에서 20개를 샘플링합니다\u001b[0m\n",
      "\u001b[32m2024-09-07 00:40:19.795\u001b[0m | \u001b[1mINFO    \u001b[0m | \u001b[36mbenchmark\u001b[0m:\u001b[36msample\u001b[0m:\u001b[36m141\u001b[0m - \u001b[1m총 20개의 샘플이 있습니다.\u001b[0m\n",
      "\u001b[32m2024-09-07 00:40:19.796\u001b[0m | \u001b[1mINFO    \u001b[0m | \u001b[36mbenchmark\u001b[0m:\u001b[36msave\u001b[0m:\u001b[36m98\u001b[0m - \u001b[1m./tasks/bigbenchhard/bigbenchhard-tracking_shuffled_objects_five_objects.json에 저장합니다.\u001b[0m\n",
      "\u001b[32m2024-09-07 00:40:19.796\u001b[0m | \u001b[1mINFO    \u001b[0m | \u001b[36mbenchmark\u001b[0m:\u001b[36msave\u001b[0m:\u001b[36m99\u001b[0m - \u001b[1m20의 샘플이 저장됩니다.\u001b[0m\n"
     ]
    },
    {
     "data": {
      "application/vnd.jupyter.widget-view+json": {
       "model_id": "06785a01f61a4c1ba300162b2493f95f",
       "version_major": 2,
       "version_minor": 0
      },
      "text/plain": [
       "Downloading data:   0%|          | 0.00/49.1k [00:00<?, ?B/s]"
      ]
     },
     "metadata": {},
     "output_type": "display_data"
    },
    {
     "name": "stderr",
     "output_type": "stream",
     "text": [
      "Setting num_proc from 6 back to 1 for the train split to disable multiprocessing as it only contains one shard.\n"
     ]
    },
    {
     "data": {
      "application/vnd.jupyter.widget-view+json": {
       "model_id": "3cacf1d8a0634a248925569e5b91e460",
       "version_major": 2,
       "version_minor": 0
      },
      "text/plain": [
       "Generating train split:   0%|          | 0/250 [00:00<?, ? examples/s]"
      ]
     },
     "metadata": {},
     "output_type": "display_data"
    },
    {
     "name": "stderr",
     "output_type": "stream",
     "text": [
      "\u001b[32m2024-09-07 00:40:23.677\u001b[0m | \u001b[1mINFO    \u001b[0m | \u001b[36mbenchmark\u001b[0m:\u001b[36m__init__\u001b[0m:\u001b[36m54\u001b[0m - \u001b[1m\n",
      "path: maveriq/bigbenchhard\n",
      "name: tracking_shuffled_objects_seven_objects\n",
      "total_split: ['train']\n",
      "prior_split: train\n",
      "train: 250\n",
      "\u001b[0m\n",
      "\u001b[32m2024-09-07 00:40:23.677\u001b[0m | \u001b[1mINFO    \u001b[0m | \u001b[36mbenchmark\u001b[0m:\u001b[36msample\u001b[0m:\u001b[36m132\u001b[0m - \u001b[1m카테고리가 없어서 전체에서 20개를 샘플링합니다\u001b[0m\n",
      "\u001b[32m2024-09-07 00:40:23.680\u001b[0m | \u001b[1mINFO    \u001b[0m | \u001b[36mbenchmark\u001b[0m:\u001b[36msample\u001b[0m:\u001b[36m141\u001b[0m - \u001b[1m총 20개의 샘플이 있습니다.\u001b[0m\n",
      "\u001b[32m2024-09-07 00:40:23.680\u001b[0m | \u001b[1mINFO    \u001b[0m | \u001b[36mbenchmark\u001b[0m:\u001b[36msave\u001b[0m:\u001b[36m98\u001b[0m - \u001b[1m./tasks/bigbenchhard/bigbenchhard-tracking_shuffled_objects_seven_objects.json에 저장합니다.\u001b[0m\n",
      "\u001b[32m2024-09-07 00:40:23.680\u001b[0m | \u001b[1mINFO    \u001b[0m | \u001b[36mbenchmark\u001b[0m:\u001b[36msave\u001b[0m:\u001b[36m99\u001b[0m - \u001b[1m20의 샘플이 저장됩니다.\u001b[0m\n"
     ]
    },
    {
     "data": {
      "application/vnd.jupyter.widget-view+json": {
       "model_id": "d10217f7b5c5431293fe7c6d117bbbe2",
       "version_major": 2,
       "version_minor": 0
      },
      "text/plain": [
       "Downloading data:   0%|          | 0.00/25.1k [00:00<?, ?B/s]"
      ]
     },
     "metadata": {},
     "output_type": "display_data"
    },
    {
     "name": "stderr",
     "output_type": "stream",
     "text": [
      "Setting num_proc from 6 back to 1 for the train split to disable multiprocessing as it only contains one shard.\n"
     ]
    },
    {
     "data": {
      "application/vnd.jupyter.widget-view+json": {
       "model_id": "d146a1e8dc284f5b97e8aa155d91cd01",
       "version_major": 2,
       "version_minor": 0
      },
      "text/plain": [
       "Generating train split:   0%|          | 0/250 [00:00<?, ? examples/s]"
      ]
     },
     "metadata": {},
     "output_type": "display_data"
    },
    {
     "name": "stderr",
     "output_type": "stream",
     "text": [
      "\u001b[32m2024-09-07 00:40:28.283\u001b[0m | \u001b[1mINFO    \u001b[0m | \u001b[36mbenchmark\u001b[0m:\u001b[36m__init__\u001b[0m:\u001b[36m54\u001b[0m - \u001b[1m\n",
      "path: maveriq/bigbenchhard\n",
      "name: tracking_shuffled_objects_three_objects\n",
      "total_split: ['train']\n",
      "prior_split: train\n",
      "train: 250\n",
      "\u001b[0m\n",
      "\u001b[32m2024-09-07 00:40:28.283\u001b[0m | \u001b[1mINFO    \u001b[0m | \u001b[36mbenchmark\u001b[0m:\u001b[36msample\u001b[0m:\u001b[36m132\u001b[0m - \u001b[1m카테고리가 없어서 전체에서 20개를 샘플링합니다\u001b[0m\n",
      "\u001b[32m2024-09-07 00:40:28.285\u001b[0m | \u001b[1mINFO    \u001b[0m | \u001b[36mbenchmark\u001b[0m:\u001b[36msample\u001b[0m:\u001b[36m141\u001b[0m - \u001b[1m총 20개의 샘플이 있습니다.\u001b[0m\n",
      "\u001b[32m2024-09-07 00:40:28.285\u001b[0m | \u001b[1mINFO    \u001b[0m | \u001b[36mbenchmark\u001b[0m:\u001b[36msave\u001b[0m:\u001b[36m98\u001b[0m - \u001b[1m./tasks/bigbenchhard/bigbenchhard-tracking_shuffled_objects_three_objects.json에 저장합니다.\u001b[0m\n",
      "\u001b[32m2024-09-07 00:40:28.286\u001b[0m | \u001b[1mINFO    \u001b[0m | \u001b[36mbenchmark\u001b[0m:\u001b[36msave\u001b[0m:\u001b[36m99\u001b[0m - \u001b[1m20의 샘플이 저장됩니다.\u001b[0m\n"
     ]
    },
    {
     "data": {
      "application/vnd.jupyter.widget-view+json": {
       "model_id": "3ab8670d6b5047a5ae922ea04c390bbc",
       "version_major": 2,
       "version_minor": 0
      },
      "text/plain": [
       "Downloading data:   0%|          | 0.00/15.6k [00:00<?, ?B/s]"
      ]
     },
     "metadata": {},
     "output_type": "display_data"
    },
    {
     "name": "stderr",
     "output_type": "stream",
     "text": [
      "Setting num_proc from 6 back to 1 for the train split to disable multiprocessing as it only contains one shard.\n"
     ]
    },
    {
     "data": {
      "application/vnd.jupyter.widget-view+json": {
       "model_id": "1cc37bb4046e4a258813ac61fa3d2cae",
       "version_major": 2,
       "version_minor": 0
      },
      "text/plain": [
       "Generating train split:   0%|          | 0/250 [00:00<?, ? examples/s]"
      ]
     },
     "metadata": {},
     "output_type": "display_data"
    },
    {
     "name": "stderr",
     "output_type": "stream",
     "text": [
      "\u001b[32m2024-09-07 00:40:32.131\u001b[0m | \u001b[1mINFO    \u001b[0m | \u001b[36mbenchmark\u001b[0m:\u001b[36m__init__\u001b[0m:\u001b[36m54\u001b[0m - \u001b[1m\n",
      "path: maveriq/bigbenchhard\n",
      "name: web_of_lies\n",
      "total_split: ['train']\n",
      "prior_split: train\n",
      "train: 250\n",
      "\u001b[0m\n",
      "\u001b[32m2024-09-07 00:40:32.132\u001b[0m | \u001b[1mINFO    \u001b[0m | \u001b[36mbenchmark\u001b[0m:\u001b[36msample\u001b[0m:\u001b[36m132\u001b[0m - \u001b[1m카테고리가 없어서 전체에서 20개를 샘플링합니다\u001b[0m\n",
      "\u001b[32m2024-09-07 00:40:32.134\u001b[0m | \u001b[1mINFO    \u001b[0m | \u001b[36mbenchmark\u001b[0m:\u001b[36msample\u001b[0m:\u001b[36m141\u001b[0m - \u001b[1m총 20개의 샘플이 있습니다.\u001b[0m\n",
      "\u001b[32m2024-09-07 00:40:32.135\u001b[0m | \u001b[1mINFO    \u001b[0m | \u001b[36mbenchmark\u001b[0m:\u001b[36msave\u001b[0m:\u001b[36m98\u001b[0m - \u001b[1m./tasks/bigbenchhard/bigbenchhard-web_of_lies.json에 저장합니다.\u001b[0m\n",
      "\u001b[32m2024-09-07 00:40:32.135\u001b[0m | \u001b[1mINFO    \u001b[0m | \u001b[36mbenchmark\u001b[0m:\u001b[36msave\u001b[0m:\u001b[36m99\u001b[0m - \u001b[1m20의 샘플이 저장됩니다.\u001b[0m\n"
     ]
    },
    {
     "data": {
      "application/vnd.jupyter.widget-view+json": {
       "model_id": "e93a8dc3afbd4c3cb3e4b59d3995d78c",
       "version_major": 2,
       "version_minor": 0
      },
      "text/plain": [
       "Downloading data:   0%|          | 0.00/44.6k [00:00<?, ?B/s]"
      ]
     },
     "metadata": {},
     "output_type": "display_data"
    },
    {
     "name": "stderr",
     "output_type": "stream",
     "text": [
      "Setting num_proc from 6 back to 1 for the train split to disable multiprocessing as it only contains one shard.\n"
     ]
    },
    {
     "data": {
      "application/vnd.jupyter.widget-view+json": {
       "model_id": "06d46967817449b8a9853a43bbcbc790",
       "version_major": 2,
       "version_minor": 0
      },
      "text/plain": [
       "Generating train split:   0%|          | 0/250 [00:00<?, ? examples/s]"
      ]
     },
     "metadata": {},
     "output_type": "display_data"
    },
    {
     "name": "stderr",
     "output_type": "stream",
     "text": [
      "\u001b[32m2024-09-07 00:40:36.114\u001b[0m | \u001b[1mINFO    \u001b[0m | \u001b[36mbenchmark\u001b[0m:\u001b[36m__init__\u001b[0m:\u001b[36m54\u001b[0m - \u001b[1m\n",
      "path: maveriq/bigbenchhard\n",
      "name: word_sorting\n",
      "total_split: ['train']\n",
      "prior_split: train\n",
      "train: 250\n",
      "\u001b[0m\n",
      "\u001b[32m2024-09-07 00:40:36.114\u001b[0m | \u001b[1mINFO    \u001b[0m | \u001b[36mbenchmark\u001b[0m:\u001b[36msample\u001b[0m:\u001b[36m132\u001b[0m - \u001b[1m카테고리가 없어서 전체에서 20개를 샘플링합니다\u001b[0m\n",
      "\u001b[32m2024-09-07 00:40:36.117\u001b[0m | \u001b[1mINFO    \u001b[0m | \u001b[36mbenchmark\u001b[0m:\u001b[36msample\u001b[0m:\u001b[36m141\u001b[0m - \u001b[1m총 20개의 샘플이 있습니다.\u001b[0m\n",
      "\u001b[32m2024-09-07 00:40:36.117\u001b[0m | \u001b[1mINFO    \u001b[0m | \u001b[36mbenchmark\u001b[0m:\u001b[36msave\u001b[0m:\u001b[36m98\u001b[0m - \u001b[1m./tasks/bigbenchhard/bigbenchhard-word_sorting.json에 저장합니다.\u001b[0m\n",
      "\u001b[32m2024-09-07 00:40:36.117\u001b[0m | \u001b[1mINFO    \u001b[0m | \u001b[36mbenchmark\u001b[0m:\u001b[36msave\u001b[0m:\u001b[36m99\u001b[0m - \u001b[1m20의 샘플이 저장됩니다.\u001b[0m\n"
     ]
    }
   ],
   "source": [
    "name = 'bigbenchhard'\n",
    "tgt = hf_conf.config[name]\n",
    "for p in tgt['name']:\n",
    "    benchmark = Benchmark(benchmark_name=name, name=p)\n",
    "    benchmark.save()"
   ]
  },
  {
   "cell_type": "code",
   "execution_count": 16,
   "id": "caae0bb5-459c-4324-84ff-59f4a1d452b0",
   "metadata": {
    "execution": {
     "iopub.execute_input": "2024-09-06T16:01:15.437643Z",
     "iopub.status.busy": "2024-09-06T16:01:15.436522Z",
     "iopub.status.idle": "2024-09-06T16:01:15.443465Z",
     "shell.execute_reply": "2024-09-06T16:01:15.443039Z",
     "shell.execute_reply.started": "2024-09-06T16:01:15.437593Z"
    },
    "tags": []
   },
   "outputs": [
    {
     "data": {
      "text/plain": [
       "2"
      ]
     },
     "execution_count": 16,
     "metadata": {},
     "output_type": "execute_result"
    }
   ],
   "source": [
    "1+1"
   ]
  },
  {
   "cell_type": "code",
   "execution_count": null,
   "id": "9af094c0-4264-4668-a282-5a45c6223728",
   "metadata": {},
   "outputs": [],
   "source": []
  }
 ],
 "metadata": {
  "kernelspec": {
   "display_name": "Python 3 (ipykernel)",
   "language": "python",
   "name": "python3"
  },
  "language_info": {
   "codemirror_mode": {
    "name": "ipython",
    "version": 3
   },
   "file_extension": ".py",
   "mimetype": "text/x-python",
   "name": "python",
   "nbconvert_exporter": "python",
   "pygments_lexer": "ipython3",
   "version": "3.10.14"
  }
 },
 "nbformat": 4,
 "nbformat_minor": 5
}
