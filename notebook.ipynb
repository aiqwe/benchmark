{
 "cells": [
  {
   "cell_type": "code",
   "execution_count": 9,
   "id": "236fb509-67fe-45da-b20b-59d58d87fbc3",
   "metadata": {
    "execution": {
     "iopub.execute_input": "2024-09-04T12:35:19.264129Z",
     "iopub.status.busy": "2024-09-04T12:35:19.262814Z",
     "iopub.status.idle": "2024-09-04T12:35:19.279137Z",
     "shell.execute_reply": "2024-09-04T12:35:19.275849Z",
     "shell.execute_reply.started": "2024-09-04T12:35:19.264067Z"
    },
    "tags": []
   },
   "outputs": [],
   "source": [
    "from datasets import load_dataset\n",
    "from setting import show, sample, save"
   ]
  },
  {
   "cell_type": "code",
   "execution_count": 59,
   "id": "37b0bd2b-b4f7-43c5-b7c5-45e552f3f58f",
   "metadata": {
    "execution": {
     "iopub.execute_input": "2024-09-04T12:44:30.597092Z",
     "iopub.status.busy": "2024-09-04T12:44:30.596327Z",
     "iopub.status.idle": "2024-09-04T12:44:33.509337Z",
     "shell.execute_reply": "2024-09-04T12:44:33.508280Z",
     "shell.execute_reply.started": "2024-09-04T12:44:30.597035Z"
    },
    "tags": []
   },
   "outputs": [],
   "source": [
    "agieval = load_dataset(\"hails/agieval-sat-en\", num_proc=6)"
   ]
  },
  {
   "cell_type": "code",
   "execution_count": 60,
   "id": "5ebc2296-3ad0-4988-8e48-9c2248915a3e",
   "metadata": {
    "execution": {
     "iopub.execute_input": "2024-09-04T12:44:33.521912Z",
     "iopub.status.busy": "2024-09-04T12:44:33.521448Z",
     "iopub.status.idle": "2024-09-04T12:44:33.526065Z",
     "shell.execute_reply": "2024-09-04T12:44:33.525132Z",
     "shell.execute_reply.started": "2024-09-04T12:44:33.521868Z"
    },
    "tags": []
   },
   "outputs": [],
   "source": [
    "agieval = agieval['test']"
   ]
  },
  {
   "cell_type": "code",
   "execution_count": 61,
   "id": "127afd9e-dd58-430f-9257-b84e361eb0bc",
   "metadata": {
    "execution": {
     "iopub.execute_input": "2024-09-04T12:44:33.527145Z",
     "iopub.status.busy": "2024-09-04T12:44:33.526964Z",
     "iopub.status.idle": "2024-09-04T12:44:33.531583Z",
     "shell.execute_reply": "2024-09-04T12:44:33.531054Z",
     "shell.execute_reply.started": "2024-09-04T12:44:33.527126Z"
    },
    "tags": []
   },
   "outputs": [
    {
     "data": {
      "text/plain": [
       "Dataset({\n",
       "    features: ['query', 'choices', 'gold'],\n",
       "    num_rows: 206\n",
       "})"
      ]
     },
     "execution_count": 61,
     "metadata": {},
     "output_type": "execute_result"
    }
   ],
   "source": [
    "agieval"
   ]
  },
  {
   "cell_type": "code",
   "execution_count": 29,
   "id": "93756dc1-2dfc-4824-af1a-1f97555a5b4a",
   "metadata": {
    "execution": {
     "iopub.execute_input": "2024-09-04T12:37:15.771008Z",
     "iopub.status.busy": "2024-09-04T12:37:15.770845Z",
     "iopub.status.idle": "2024-09-04T12:37:15.775851Z",
     "shell.execute_reply": "2024-09-04T12:37:15.775338Z",
     "shell.execute_reply.started": "2024-09-04T12:37:15.770991Z"
    },
    "tags": []
   },
   "outputs": [],
   "source": [
    "samples = sample(agieval)"
   ]
  },
  {
   "cell_type": "code",
   "execution_count": 30,
   "id": "49c4d5f4-94d0-43e0-a7a9-87cd4e1d98ff",
   "metadata": {
    "execution": {
     "iopub.execute_input": "2024-09-04T12:37:21.506055Z",
     "iopub.status.busy": "2024-09-04T12:37:21.505251Z",
     "iopub.status.idle": "2024-09-04T12:37:21.524040Z",
     "shell.execute_reply": "2024-09-04T12:37:21.523441Z",
     "shell.execute_reply.started": "2024-09-04T12:37:21.505998Z"
    },
    "tags": []
   },
   "outputs": [],
   "source": [
    "save(samples,\"./samples/agieval-math.json\")"
   ]
  }
 ],
 "metadata": {
  "kernelspec": {
   "display_name": "Python 3 (ipykernel)",
   "language": "python",
   "name": "python3"
  },
  "language_info": {
   "codemirror_mode": {
    "name": "ipython",
    "version": 3
   },
   "file_extension": ".py",
   "mimetype": "text/x-python",
   "name": "python",
   "nbconvert_exporter": "python",
   "pygments_lexer": "ipython3",
   "version": "3.11.5"
  }
 },
 "nbformat": 4,
 "nbformat_minor": 5
}
