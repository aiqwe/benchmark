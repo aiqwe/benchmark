{
 "cells": [
  {
   "cell_type": "code",
   "execution_count": 1,
   "id": "82e23c2d-8f83-4472-80b8-de048ce4664d",
   "metadata": {
    "execution": {
     "iopub.execute_input": "2024-09-13T16:09:20.743242Z",
     "iopub.status.busy": "2024-09-13T16:09:20.743073Z",
     "iopub.status.idle": "2024-09-13T16:09:21.010200Z",
     "shell.execute_reply": "2024-09-13T16:09:21.009939Z",
     "shell.execute_reply.started": "2024-09-13T16:09:20.743220Z"
    },
    "tags": []
   },
   "outputs": [],
   "source": [
    "from gpt import chat"
   ]
  },
  {
   "cell_type": "code",
   "execution_count": 2,
   "id": "c3c84c8c-d961-4e51-b786-87eba3ce9331",
   "metadata": {
    "execution": {
     "iopub.execute_input": "2024-09-13T16:09:21.011170Z",
     "iopub.status.busy": "2024-09-13T16:09:21.011057Z",
     "iopub.status.idle": "2024-09-13T16:09:58.867123Z",
     "shell.execute_reply": "2024-09-13T16:09:58.865208Z",
     "shell.execute_reply.started": "2024-09-13T16:09:21.011161Z"
    },
    "tags": []
   },
   "outputs": [],
   "source": [
    "response = chat(\"\"\"\n",
    "These filtering criteria result in 78 clean multiple-choice or exact-match tasks. Of these 78 tasks, the best\n",
    "reported model outperforms the average human-rater score on 42 of them, while no previous model surpasses the\n",
    "average human-rater score for the remaining 36. Based on manual inspection of 36 these tasks, we divide them\n",
    "into two categories. First, 13 tasks are extremely difficult for authors of this paper; they require domain-specific\n",
    "knowledge or are not practically solvable within twenty minutes. For example, Checkmate in One is not doable\n",
    "for non-chess players and requires tracking the state of the board across a long sequence of moves; Real or Fake\n",
    "Text is too challenging due to extremely long inputs; Moral Permissibility has an ambiguous task formulation\n",
    "(and we did not want to delegate agency to models about moral judgement scenarios (Talat et al., 2022)). We do\n",
    "not think these tasks can be attempted with CoT prompting, and we leave them as future work for more powerful\n",
    "models or prompting methods (refer to Appendix D for the exact list).\n",
    "We use the remaining 23 tasks as our curated benchmark that we refer to as BIG-Bench Hard (BBH). Two\n",
    "tasks in this benchmark (namely, Logical Deduction and Tracking Shuffled Objects) have three subtasks each.\n",
    "For all but three tasks in BBH, we take a random subset of 250 evaluation examples.2 Hence, there are 6,511\n",
    "evaluation examples in the benchmark in total. Assuming an average prompt length of 1.5K (this would depend\n",
    "on the length of the prompts), we find that evaluating BBH on text-davinci-002 would cost $195.33 USD at the\n",
    "current OpenAI API price of $0.02 USD per 1K tokens.\n",
    "\"\"\")"
   ]
  },
  {
   "cell_type": "code",
   "execution_count": 3,
   "id": "c12dc99e-e7af-428f-a871-b0385f62ad1a",
   "metadata": {
    "execution": {
     "iopub.execute_input": "2024-09-13T16:09:58.869973Z",
     "iopub.status.busy": "2024-09-13T16:09:58.869469Z",
     "iopub.status.idle": "2024-09-13T16:09:58.882049Z",
     "shell.execute_reply": "2024-09-13T16:09:58.881439Z",
     "shell.execute_reply.started": "2024-09-13T16:09:58.869935Z"
    },
    "tags": []
   },
   "outputs": [
    {
     "data": {
      "text/markdown": [
       "이러한 필터링 기준은 78개의 깨끗한 객관식 또는 정확히 일치하는 과제를 생성합니다.\\n  \n",
       "이 78개의 과제 중에서, 보고된 최고의 모델은 그중 42개의 과제에서 평균 인간 평가자 점수보다 뛰어난 성능을 보였으며, 나머지 36개의 과제에서는 이전의 어떤 모델도 평균 인간 평가자 점수를 넘지 못했습니다.\\n  \n",
       "이 36개의 과제에 대한 수동 검사를 바탕으로, 우리는 그것들을 두 가지 범주로 나눕니다.\\n  \n",
       "첫째, 13개의 과제는 이 논문의 저자들에게도 매우 어렵습니다; 이들은 도메인 특화된 지식을 요구하거나 20분 내에 실제로 해결할 수 없습니다.\\n  \n",
       "예를 들어, **한 수로 체크메이트 하기**는 체스 플레이어가 아닌 사람들에게는 불가능하며, 긴 수순의 움직임을 통해 보드의 상태를 추적해야 합니다;\\n  \n",
       "**실제 또는 가짜 텍스트**는 매우 긴 입력으로 인해 너무 어렵습니다;\\n  \n",
       "**도덕적 허용성**은 모호한 과제 형태를 가지고 있습니다(그리고 우리는 도덕적 판단 시나리오에 대해 모델에게 권한을 위임하고 싶지 않았습니다(Talat 외, 2022)).\\n  \n",
       "우리는 이러한 과제들이 CoT 프롬프트로 시도될 수 있다고 생각하지 않으며, 보다 강력한 모델이나 프롬프트 방법에 대한 향후 연구로 남겨둡니다(정확한 목록은 부록 D를 참조하십시오).\\n  \n",
       "\n",
       "우리는 남은 23개의 과제를 우리의 선별된 벤치마크인 **BIG-Bench Hard**(BBH)로 사용합니다.\\n  \n",
       "이 벤치마크의 두 가지 과제(즉, **논리적 추론**과 **셔플된 객체 추적**)는 각각 세 개의 하위 과제를 가지고 있습니다.\\n  \n",
       "BBH의 세 가지 과제를 제외한 모든 과제에 대해, 우리는 250개의 평가 예제를 무작위로 선택합니다.\\n  \n",
       "따라서, 이 벤치마크에는 총 6,511개의 평가 예제가 있습니다.\\n  \n",
       "평균 프롬프트 길이를 1.5K로 가정하면(이는 프롬프트의 길이에 따라 달라집니다), 우리는 **text-davinci-002**에서 BBH를 평가하는 데 현재 OpenAI API 가격인 1K 토큰당 $0.02 USD로 $195.33 USD의 비용이 들 것임을 발견했습니다.\\n"
      ],
      "text/plain": [
       "<IPython.core.display.Markdown object>"
      ]
     },
     "metadata": {},
     "output_type": "display_data"
    }
   ],
   "source": [
    "from IPython.display import Markdown\n",
    "\n",
    "display(Markdown(response))"
   ]
  }
 ],
 "metadata": {
  "kernelspec": {
   "display_name": "Python 3 (ipykernel)",
   "language": "python",
   "name": "python3"
  },
  "language_info": {
   "codemirror_mode": {
    "name": "ipython",
    "version": 3
   },
   "file_extension": ".py",
   "mimetype": "text/x-python",
   "name": "python",
   "nbconvert_exporter": "python",
   "pygments_lexer": "ipython3",
   "version": "3.10.14"
  }
 },
 "nbformat": 4,
 "nbformat_minor": 5
}
