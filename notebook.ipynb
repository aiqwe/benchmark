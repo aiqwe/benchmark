{
 "cells": [
  {
   "cell_type": "code",
   "execution_count": 3,
   "id": "3c886cd7-c872-467f-b3ef-c36aaae62e5e",
   "metadata": {
    "execution": {
     "iopub.execute_input": "2024-09-09T10:31:59.098925Z",
     "iopub.status.busy": "2024-09-09T10:31:59.096665Z",
     "iopub.status.idle": "2024-09-09T10:31:59.990226Z",
     "shell.execute_reply": "2024-09-09T10:31:59.989950Z",
     "shell.execute_reply.started": "2024-09-09T10:31:59.098856Z"
    },
    "tags": []
   },
   "outputs": [],
   "source": [
    "from benchmark import Benchmark, HFDatasets, show"
   ]
  },
  {
   "cell_type": "code",
   "execution_count": 4,
   "id": "d99e34d9-aa14-491f-b7d9-6d966de3d360",
   "metadata": {
    "execution": {
     "iopub.execute_input": "2024-09-09T10:31:59.991047Z",
     "iopub.status.busy": "2024-09-09T10:31:59.990885Z",
     "iopub.status.idle": "2024-09-09T10:31:59.993486Z",
     "shell.execute_reply": "2024-09-09T10:31:59.993226Z",
     "shell.execute_reply.started": "2024-09-09T10:31:59.991036Z"
    },
    "tags": []
   },
   "outputs": [],
   "source": [
    "hf_conf = HFDatasets()"
   ]
  },
  {
   "cell_type": "code",
   "execution_count": 5,
   "id": "51d7f378-90df-45cb-81f7-fdb684496690",
   "metadata": {
    "execution": {
     "iopub.execute_input": "2024-09-09T10:32:00.742157Z",
     "iopub.status.busy": "2024-09-09T10:32:00.741622Z",
     "iopub.status.idle": "2024-09-09T10:32:00.753383Z",
     "shell.execute_reply": "2024-09-09T10:32:00.752596Z",
     "shell.execute_reply.started": "2024-09-09T10:32:00.742121Z"
    },
    "tags": []
   },
   "outputs": [],
   "source": [
    "hf_conf.make_folder_tree()"
   ]
  },
  {
   "cell_type": "code",
   "execution_count": 13,
   "id": "37031e17-78e5-4e97-ab95-307f7eeee6ef",
   "metadata": {
    "execution": {
     "iopub.execute_input": "2024-09-08T12:09:11.384986Z",
     "iopub.status.busy": "2024-09-08T12:09:11.384408Z",
     "iopub.status.idle": "2024-09-08T12:09:11.397996Z",
     "shell.execute_reply": "2024-09-08T12:09:11.397310Z",
     "shell.execute_reply.started": "2024-09-08T12:09:11.384915Z"
    },
    "tags": []
   },
   "outputs": [
    {
     "data": {
      "text/plain": [
       "{'path': 'rajpurkar/squad_v2',\n",
       " 'name': None,\n",
       " 'hf_hf_url': None,\n",
       " 'paper': 'https://arxiv.org/pdf/1806.03822',\n",
       " 'annotation': None,\n",
       " 'hf_url': 'https://huggingface.co/datasets/rajpurkar/squad_v2'}"
      ]
     },
     "execution_count": 13,
     "metadata": {},
     "output_type": "execute_result"
    }
   ],
   "source": [
    "hf_conf.config['squad_v2']"
   ]
  },
  {
   "cell_type": "code",
   "execution_count": 6,
   "id": "8bc01402-5594-432b-ac86-3ff3e0c2164b",
   "metadata": {
    "execution": {
     "iopub.execute_input": "2024-09-09T10:32:06.560776Z",
     "iopub.status.busy": "2024-09-09T10:32:06.559699Z",
     "iopub.status.idle": "2024-09-09T10:32:10.903464Z",
     "shell.execute_reply": "2024-09-09T10:32:10.903166Z",
     "shell.execute_reply.started": "2024-09-09T10:32:06.560741Z"
    },
    "tags": []
   },
   "outputs": [
    {
     "name": "stderr",
     "output_type": "stream",
     "text": [
      "/Users/kakao/.base/lib/python3.11/site-packages/datasets/load.py:1486: FutureWarning: The repository for allenai/quac contains custom code which must be executed to correctly load the dataset. You can inspect the repository content at https://hf.co/datasets/allenai/quac\n",
      "You can avoid this message in future by passing the argument `trust_remote_code=True`.\n",
      "Passing `trust_remote_code=True` will be mandatory to load this dataset from the next major release of `datasets`.\n",
      "  warnings.warn(\n",
      "\u001b[32m2024-09-09 19:32:10.901\u001b[0m | \u001b[1mINFO    \u001b[0m | \u001b[36mbenchmark\u001b[0m:\u001b[36m__init__\u001b[0m:\u001b[36m75\u001b[0m - \u001b[1mpath: allenai/quac\n",
      "name: None\n",
      "total_split: ['train', 'validation']\n",
      "prior_split: train\n",
      "train: 11567\n",
      "validation: 1000\n",
      "\u001b[0m\n"
     ]
    }
   ],
   "source": [
    "benchmark = Benchmark(\"quac\")"
   ]
  },
  {
   "cell_type": "code",
   "execution_count": 7,
   "id": "39178253-0a71-47cf-938f-ff3d788ef386",
   "metadata": {
    "execution": {
     "iopub.execute_input": "2024-09-09T10:32:10.904378Z",
     "iopub.status.busy": "2024-09-09T10:32:10.904209Z",
     "iopub.status.idle": "2024-09-09T10:32:11.031371Z",
     "shell.execute_reply": "2024-09-09T10:32:11.031077Z",
     "shell.execute_reply.started": "2024-09-09T10:32:10.904363Z"
    },
    "tags": []
   },
   "outputs": [
    {
     "name": "stderr",
     "output_type": "stream",
     "text": [
      "\u001b[32m2024-09-09 19:32:10.904\u001b[0m | \u001b[1mINFO    \u001b[0m | \u001b[36mbenchmark\u001b[0m:\u001b[36msample\u001b[0m:\u001b[36m168\u001b[0m - \u001b[1m카테고리가 없어서 전체에서 20개를 샘플링합니다\u001b[0m\n",
      "\u001b[32m2024-09-09 19:32:11.026\u001b[0m | \u001b[1mINFO    \u001b[0m | \u001b[36mbenchmark\u001b[0m:\u001b[36msample\u001b[0m:\u001b[36m177\u001b[0m - \u001b[1m총 20개의 샘플이 있습니다.\u001b[0m\n"
     ]
    },
    {
     "name": "stdout",
     "output_type": "stream",
     "text": [
      "\u001b[38;5;249m{\u001b[39m\n",
      "\u001b[38;5;249m    \u001b[39m\u001b[38;5;168m\"dialogue_id\"\u001b[39m\u001b[38;5;249m:\u001b[39m\u001b[38;5;249m \u001b[39m\u001b[38;5;108m\"C_0b8ef2e5ae544fe5b79ec8d518dc13af_1\"\u001b[39m\u001b[38;5;249m,\u001b[39m\n",
      "\u001b[38;5;249m    \u001b[39m\u001b[38;5;168m\"wikipedia_page_title\"\u001b[39m\u001b[38;5;249m:\u001b[39m\u001b[38;5;249m \u001b[39m\u001b[38;5;108m\"Frankie Goes to Hollywood\"\u001b[39m\u001b[38;5;249m,\u001b[39m\n",
      "\u001b[38;5;249m    \u001b[39m\u001b[38;5;168m\"background\"\u001b[39m\u001b[38;5;249m:\u001b[39m\u001b[38;5;249m \u001b[39m\u001b[38;5;108m\"Diosdado Macapagal was born on September 28, 1910, in Lubao, Pampanga, the third of five children in a poor family. His father, Urbano Macapagal y Romero (c. 1883 - 1946), was a poet who wrote in the local Pampangan language, and his mother, Romana Pangan Macapagal, daughter of Atanacio Miguel Pangan, a former cabeza de barangay of Gutad, Floridablanca, Pampanga and Lorenza Suing Antiveros. Urbano's mother, Escolastica Romero Macapagal is a midwife and schoolteacher who taught catechism. He is a distant descendant of Don Juan Macapagal, a prince of Tondo, who was a great-grandson of the last reigning Lakan of the Kingdom of Tondo, Lakan Dula.\"\u001b[39m\u001b[38;5;249m,\u001b[39m\n",
      "\u001b[38;5;249m    \u001b[39m\u001b[38;5;168m\"section_title\"\u001b[39m\u001b[38;5;249m:\u001b[39m\u001b[38;5;249m \u001b[39m\u001b[38;5;108m\"Personal life and education\"\u001b[39m\u001b[38;5;249m,\u001b[39m\n",
      "\u001b[38;5;249m    \u001b[39m\u001b[38;5;168m\"context\"\u001b[39m\u001b[38;5;249m:\u001b[39m\u001b[38;5;249m \u001b[39m\u001b[38;5;108m\"Despite their short career, Joy Division have exerted a wide-reaching influence. John Bush of AllMusic argues that Joy Division \\\"became the first band in the post-punk movement by [...] emphasizing not anger and energy but mood and expression, pointing ahead to the rise of melancholy alternative music in the '80s.\\\"  Joy Division have influenced bands as diverse as contemporaries U2 and the Cure to artists such as Radiohead, Nine Inch Nails, Neurosis, Interpol, Bloc Party, the Editors and rap artists. Rapper Danny Brown is known to have named one of his albums after the Joy Division song \\\"Atrocity Exhibition\\\", whose title was partially inspired by the 1970 J. G. Ballard collection of condensed novels of the same name. In 2005, both New Order and Joy Division were inducted into the UK Music Hall of Fame.  The band's dark sound, which Martin Hannett described in 1979 as \\\"dancing music with Gothic overtones\\\", presaged the gothic rock genre. While the term \\\"gothic\\\" originally described a \\\"doomy atmosphere\\\" in music of the late 1970s, the term was soon applied to specific bands like Bauhaus that followed in the wake of Joy Division and Siouxsie and the Banshees. Standard musical fixtures of early gothic rock bands included \\\"high-pitched post-Joy Division basslines usurp[ing] the melodic role\\\" and \\\"vocals that were either near operatic and Teutonic or deep, droning alloys of Jim Morrison and Ian Curtis.\\\"  Joy Division have been dramatised in two biopics. 24 Hour Party People (2002) is a fictionalised account of the rise and fall of Factory Records in which members of the band served as supporting characters. Tony Wilson said of the film, \\\"It's all true, it's all not true. It's not a fucking documentary\\\", and that he favoured the \\\"myth\\\" over the truth. The 2007 film Control, directed by Anton Corbijn, is a biography of Ian Curtis (portrayed by Sam Riley) that uses Deborah Curtis's biography of her late husband, Touching from a Distance (1995), as its basis. Control had its international premiere on the opening night of Director's Fortnight at the 2007 Cannes Film Festival, where it was critically well received. That year Grant Gee directed the band documentary Joy Division. CANNOTANSWER\"\u001b[39m\u001b[38;5;249m,\u001b[39m\n",
      "\u001b[38;5;249m    \u001b[39m\u001b[38;5;168m\"turn_ids\"\u001b[39m\u001b[38;5;249m:\u001b[39m\u001b[38;5;249m \u001b[39m\u001b[38;5;249m[\u001b[39m\n",
      "\u001b[38;5;249m        \u001b[39m\u001b[38;5;108m\"C_4ae264bb519742a6a69d937366655fe4_1_q#0\"\u001b[39m\u001b[38;5;249m,\u001b[39m\n",
      "\u001b[38;5;249m        \u001b[39m\u001b[38;5;108m\"C_4ae264bb519742a6a69d937366655fe4_1_q#1\"\u001b[39m\u001b[38;5;249m,\u001b[39m\n",
      "\u001b[38;5;249m        \u001b[39m\u001b[38;5;108m\"C_4ae264bb519742a6a69d937366655fe4_1_q#2\"\u001b[39m\u001b[38;5;249m,\u001b[39m\n",
      "\u001b[38;5;249m        \u001b[39m\u001b[38;5;108m\"C_4ae264bb519742a6a69d937366655fe4_1_q#3\"\u001b[39m\u001b[38;5;249m,\u001b[39m\n",
      "\u001b[38;5;249m        \u001b[39m\u001b[38;5;108m\"C_4ae264bb519742a6a69d937366655fe4_1_q#4\"\u001b[39m\u001b[38;5;249m,\u001b[39m\n",
      "\u001b[38;5;249m        \u001b[39m\u001b[38;5;108m\"C_4ae264bb519742a6a69d937366655fe4_1_q#5\"\u001b[39m\u001b[38;5;249m,\u001b[39m\n",
      "\u001b[38;5;249m        \u001b[39m\u001b[38;5;108m\"C_4ae264bb519742a6a69d937366655fe4_1_q#6\"\u001b[39m\u001b[38;5;249m,\u001b[39m\n",
      "\u001b[38;5;249m        \u001b[39m\u001b[38;5;108m\"C_4ae264bb519742a6a69d937366655fe4_1_q#7\"\u001b[39m\n",
      "\u001b[38;5;249m    \u001b[39m\u001b[38;5;249m],\u001b[39m\n",
      "\u001b[38;5;249m    \u001b[39m\u001b[38;5;168m\"questions\"\u001b[39m\u001b[38;5;249m:\u001b[39m\u001b[38;5;249m \u001b[39m\u001b[38;5;249m[\u001b[39m\n",
      "\u001b[38;5;249m        \u001b[39m\u001b[38;5;108m\"Where did Glenn Beck live in his early life?\"\u001b[39m\u001b[38;5;249m,\u001b[39m\n",
      "\u001b[38;5;249m        \u001b[39m\u001b[38;5;108m\"Who were Glenn Beck's parents?\"\u001b[39m\u001b[38;5;249m,\u001b[39m\n",
      "\u001b[38;5;249m        \u001b[39m\u001b[38;5;108m\"Where did Glenn Beck go to school?\"\u001b[39m\u001b[38;5;249m,\u001b[39m\n",
      "\u001b[38;5;249m        \u001b[39m\u001b[38;5;108m\"Did Beck attend College?\"\u001b[39m\u001b[38;5;249m,\u001b[39m\n",
      "\u001b[38;5;249m        \u001b[39m\u001b[38;5;108m\"What type of relationship did Beck have with his family?\"\u001b[39m\u001b[38;5;249m,\u001b[39m\n",
      "\u001b[38;5;249m        \u001b[39m\u001b[38;5;108m\"Where did they live before his mother's death?\"\u001b[39m\u001b[38;5;249m,\u001b[39m\n",
      "\u001b[38;5;249m        \u001b[39m\u001b[38;5;108m\"When did Glenn Beck's mother die?\"\u001b[39m\u001b[38;5;249m,\u001b[39m\n",
      "\u001b[38;5;249m        \u001b[39m\u001b[38;5;108m\"What was Beck's sister's name?\"\u001b[39m\u001b[38;5;249m,\u001b[39m\n",
      "\u001b[38;5;249m        \u001b[39m\u001b[38;5;108m\"Are there any other interesting facts?\"\u001b[39m\n",
      "\u001b[38;5;249m    \u001b[39m\u001b[38;5;249m],\u001b[39m\n",
      "\u001b[38;5;249m    \u001b[39m\u001b[38;5;168m\"followups\"\u001b[39m\u001b[38;5;249m:\u001b[39m\u001b[38;5;249m \u001b[39m\u001b[38;5;249m[\u001b[39m\n",
      "\u001b[38;5;249m        \u001b[39m\u001b[38;5;173m0\u001b[39m\u001b[38;5;249m,\u001b[39m\n",
      "\u001b[38;5;249m        \u001b[39m\u001b[38;5;173m0\u001b[39m\u001b[38;5;249m,\u001b[39m\n",
      "\u001b[38;5;249m        \u001b[39m\u001b[38;5;173m0\u001b[39m\u001b[38;5;249m,\u001b[39m\n",
      "\u001b[38;5;249m        \u001b[39m\u001b[38;5;173m1\u001b[39m\n",
      "\u001b[38;5;249m    \u001b[39m\u001b[38;5;249m],\u001b[39m\n",
      "\u001b[38;5;249m    \u001b[39m\u001b[38;5;168m\"yesnos\"\u001b[39m\u001b[38;5;249m:\u001b[39m\u001b[38;5;249m \u001b[39m\u001b[38;5;249m[\u001b[39m\n",
      "\u001b[38;5;249m        \u001b[39m\u001b[38;5;173m2\u001b[39m\u001b[38;5;249m,\u001b[39m\n",
      "\u001b[38;5;249m        \u001b[39m\u001b[38;5;173m2\u001b[39m\u001b[38;5;249m,\u001b[39m\n",
      "\u001b[38;5;249m        \u001b[39m\u001b[38;5;173m1\u001b[39m\u001b[38;5;249m,\u001b[39m\n",
      "\u001b[38;5;249m        \u001b[39m\u001b[38;5;173m2\u001b[39m\u001b[38;5;249m,\u001b[39m\n",
      "\u001b[38;5;249m        \u001b[39m\u001b[38;5;173m2\u001b[39m\u001b[38;5;249m,\u001b[39m\n",
      "\u001b[38;5;249m        \u001b[39m\u001b[38;5;173m2\u001b[39m\u001b[38;5;249m,\u001b[39m\n",
      "\u001b[38;5;249m        \u001b[39m\u001b[38;5;173m2\u001b[39m\u001b[38;5;249m,\u001b[39m\n",
      "\u001b[38;5;249m        \u001b[39m\u001b[38;5;173m2\u001b[39m\n",
      "\u001b[38;5;249m    \u001b[39m\u001b[38;5;249m],\u001b[39m\n",
      "\u001b[38;5;249m    \u001b[39m\u001b[38;5;168m\"answers\"\u001b[39m\u001b[38;5;249m:\u001b[39m\u001b[38;5;249m \u001b[39m\u001b[38;5;249m{\u001b[39m\n",
      "\u001b[38;5;249m        \u001b[39m\u001b[38;5;168m\"texts\"\u001b[39m\u001b[38;5;249m:\u001b[39m\u001b[38;5;249m \u001b[39m\u001b[38;5;249m[\u001b[39m\n",
      "\u001b[38;5;249m            \u001b[39m\u001b[38;5;249m[\u001b[39m\n",
      "\u001b[38;5;249m                \u001b[39m\u001b[38;5;108m\"Hiatt finally came into success in 1987, when he released his first big hit,\"\u001b[39m\n",
      "\u001b[38;5;249m            \u001b[39m\u001b[38;5;249m],\u001b[39m\n",
      "\u001b[38;5;249m            \u001b[39m\u001b[38;5;249m[\u001b[39m\n",
      "\u001b[38;5;249m                \u001b[39m\u001b[38;5;108m\"Bring the Family.\"\u001b[39m\n",
      "\u001b[38;5;249m            \u001b[39m\u001b[38;5;249m],\u001b[39m\n",
      "\u001b[38;5;249m            \u001b[39m\u001b[38;5;249m[\u001b[39m\n",
      "\u001b[38;5;249m                \u001b[39m\u001b[38;5;108m\"Bring the Family. For the album, Hiatt had a backing band\"\u001b[39m\n",
      "\u001b[38;5;249m            \u001b[39m\u001b[38;5;249m],\u001b[39m\n",
      "\u001b[38;5;249m            \u001b[39m\u001b[38;5;249m[\u001b[39m\n",
      "\u001b[38;5;249m                \u001b[39m\u001b[38;5;108m\"CANNOTANSWER\"\u001b[39m\n",
      "\u001b[38;5;249m            \u001b[39m\u001b[38;5;249m],\u001b[39m\n",
      "\u001b[38;5;249m            \u001b[39m\u001b[38;5;249m[\u001b[39m\n",
      "\u001b[38;5;249m                \u001b[39m\u001b[38;5;108m\"In 1988, he returned to the studio to record Slow Turning,\"\u001b[39m\n",
      "\u001b[38;5;249m            \u001b[39m\u001b[38;5;249m],\u001b[39m\n",
      "\u001b[38;5;249m            \u001b[39m\u001b[38;5;249m[\u001b[39m\n",
      "\u001b[38;5;249m                \u001b[39m\u001b[38;5;108m\"Tennessee Plates\\\",\"\u001b[39m\n",
      "\u001b[38;5;249m            \u001b[39m\u001b[38;5;249m],\u001b[39m\n",
      "\u001b[38;5;249m            \u001b[39m\u001b[38;5;249m[\u001b[39m\n",
      "\u001b[38;5;249m                \u001b[39m\u001b[38;5;108m\"was used in the soundtrack of the Ridley Scott directed and Academy Award winning film Thelma and Louise in 1991.\"\u001b[39m\n",
      "\u001b[38;5;249m            \u001b[39m\u001b[38;5;249m]\u001b[39m\n",
      "\u001b[38;5;249m        \u001b[39m\u001b[38;5;249m],\u001b[39m\n",
      "\u001b[38;5;249m        \u001b[39m\u001b[38;5;168m\"answer_starts\"\u001b[39m\u001b[38;5;249m:\u001b[39m\u001b[38;5;249m \u001b[39m\u001b[38;5;249m[\u001b[39m\n",
      "\u001b[38;5;249m            \u001b[39m\u001b[38;5;249m[\u001b[39m\n",
      "\u001b[38;5;249m                \u001b[39m\u001b[38;5;173m0\u001b[39m\n",
      "\u001b[38;5;249m            \u001b[39m\u001b[38;5;249m],\u001b[39m\n",
      "\u001b[38;5;249m            \u001b[39m\u001b[38;5;249m[\u001b[39m\n",
      "\u001b[38;5;249m                \u001b[39m\u001b[38;5;173m77\u001b[39m\n",
      "\u001b[38;5;249m            \u001b[39m\u001b[38;5;249m],\u001b[39m\n",
      "\u001b[38;5;249m            \u001b[39m\u001b[38;5;249m[\u001b[39m\n",
      "\u001b[38;5;249m                \u001b[39m\u001b[38;5;173m77\u001b[39m\n",
      "\u001b[38;5;249m            \u001b[39m\u001b[38;5;249m],\u001b[39m\n",
      "\u001b[38;5;249m            \u001b[39m\u001b[38;5;249m[\u001b[39m\n",
      "\u001b[38;5;249m                \u001b[39m\u001b[38;5;173m1581\u001b[39m\n",
      "\u001b[38;5;249m            \u001b[39m\u001b[38;5;249m],\u001b[39m\n",
      "\u001b[38;5;249m            \u001b[39m\u001b[38;5;249m[\u001b[39m\n",
      "\u001b[38;5;249m                \u001b[39m\u001b[38;5;173m1061\u001b[39m\n",
      "\u001b[38;5;249m            \u001b[39m\u001b[38;5;249m],\u001b[39m\n",
      "\u001b[38;5;249m            \u001b[39m\u001b[38;5;249m[\u001b[39m\n",
      "\u001b[38;5;249m                \u001b[39m\u001b[38;5;173m1318\u001b[39m\n",
      "\u001b[38;5;249m            \u001b[39m\u001b[38;5;249m],\u001b[39m\n",
      "\u001b[38;5;249m            \u001b[39m\u001b[38;5;249m[\u001b[39m\n",
      "\u001b[38;5;249m                \u001b[39m\u001b[38;5;173m1343\u001b[39m\n",
      "\u001b[38;5;249m            \u001b[39m\u001b[38;5;249m]\u001b[39m\n",
      "\u001b[38;5;249m        \u001b[39m\u001b[38;5;249m]\u001b[39m\n",
      "\u001b[38;5;249m    \u001b[39m\u001b[38;5;249m},\u001b[39m\n",
      "\u001b[38;5;249m    \u001b[39m\u001b[38;5;168m\"orig_answers\"\u001b[39m\u001b[38;5;249m:\u001b[39m\u001b[38;5;249m \u001b[39m\u001b[38;5;249m{\u001b[39m\n",
      "\u001b[38;5;249m        \u001b[39m\u001b[38;5;168m\"texts\"\u001b[39m\u001b[38;5;249m:\u001b[39m\u001b[38;5;249m \u001b[39m\u001b[38;5;249m[\u001b[39m\n",
      "\u001b[38;5;249m            \u001b[39m\u001b[38;5;108m\"This was a campaign of murder which terrorised the population of a large part of Yorkshire for several years.\"\u001b[39m\u001b[38;5;249m,\u001b[39m\n",
      "\u001b[38;5;249m            \u001b[39m\u001b[38;5;108m\"obsession. Apart from a terrorist outrage, it is difficult to conceive of circumstances in which one man could account for so many victims.\"\u001b[39m\u001b[38;5;249m,\u001b[39m\n",
      "\u001b[38;5;249m            \u001b[39m\u001b[38;5;108m\"offering the possibility of parole after that date if it is thought safe to release him, was heard by the High Court of Justice on 16 July 2010.\"\u001b[39m\u001b[38;5;249m,\u001b[39m\n",
      "\u001b[38;5;249m            \u001b[39m\u001b[38;5;108m\"It was rejected on 14 January 2011. On 9 March 2011, the Court of Appeal rejected Sutcliffe's application for leave to appeal to the Supreme Court.\"\u001b[39m\u001b[38;5;249m,\u001b[39m\n",
      "\u001b[38;5;249m            \u001b[39m\u001b[38;5;108m\"Psychological reports describing his mental state were taken into consideration, as was the severity of his crimes.\"\u001b[39m\u001b[38;5;249m,\u001b[39m\n",
      "\u001b[38;5;249m            \u001b[39m\u001b[38;5;108m\"Sutcliffe is reported to have been transferred from Broadmoor to Frankland Prison in Durham in August 2016.\"\u001b[39m\u001b[38;5;249m,\u001b[39m\n",
      "\u001b[38;5;249m            \u001b[39m\u001b[38;5;108m\"CANNOTANSWER\"\u001b[39m\n",
      "\u001b[38;5;249m        \u001b[39m\u001b[38;5;249m],\u001b[39m\n",
      "\u001b[38;5;249m        \u001b[39m\u001b[38;5;168m\"answer_starts\"\u001b[39m\u001b[38;5;249m:\u001b[39m\u001b[38;5;249m \u001b[39m\u001b[38;5;249m[\u001b[39m\n",
      "\u001b[38;5;249m            \u001b[39m\u001b[38;5;173m293\u001b[39m\u001b[38;5;249m,\u001b[39m\n",
      "\u001b[38;5;249m            \u001b[39m\u001b[38;5;173m477\u001b[39m\u001b[38;5;249m,\u001b[39m\n",
      "\u001b[38;5;249m            \u001b[39m\u001b[38;5;173m58\u001b[39m\u001b[38;5;249m,\u001b[39m\n",
      "\u001b[38;5;249m            \u001b[39m\u001b[38;5;173m1090\u001b[39m\u001b[38;5;249m,\u001b[39m\n",
      "\u001b[38;5;249m            \u001b[39m\u001b[38;5;173m618\u001b[39m\u001b[38;5;249m,\u001b[39m\n",
      "\u001b[38;5;249m            \u001b[39m\u001b[38;5;173m1460\u001b[39m\u001b[38;5;249m,\u001b[39m\n",
      "\u001b[38;5;249m            \u001b[39m\u001b[38;5;173m1568\u001b[39m\n",
      "\u001b[38;5;249m        \u001b[39m\u001b[38;5;249m]\u001b[39m\n",
      "\u001b[38;5;249m    \u001b[39m\u001b[38;5;249m}\u001b[39m\n",
      "\u001b[38;5;249m}\u001b[39m\n",
      "\n"
     ]
    }
   ],
   "source": [
    "benchmark.show()"
   ]
  },
  {
   "cell_type": "code",
   "execution_count": 12,
   "id": "7b1f43f5-9f95-4515-bb00-4ac2ff92b0b5",
   "metadata": {
    "execution": {
     "iopub.execute_input": "2024-09-08T12:20:56.251324Z",
     "iopub.status.busy": "2024-09-08T12:20:56.251216Z",
     "iopub.status.idle": "2024-09-08T12:20:56.254430Z",
     "shell.execute_reply": "2024-09-08T12:20:56.254096Z",
     "shell.execute_reply.started": "2024-09-08T12:20:56.251314Z"
    },
    "tags": []
   },
   "outputs": [
    {
     "name": "stderr",
     "output_type": "stream",
     "text": [
      "\u001b[32m2024-09-08 21:20:56.252\u001b[0m | \u001b[1mINFO    \u001b[0m | \u001b[36mbenchmark\u001b[0m:\u001b[36msave\u001b[0m:\u001b[36m132\u001b[0m - \u001b[1m./tasks/boolq/boolq.json에 저장합니다.\u001b[0m\n",
      "\u001b[32m2024-09-08 21:20:56.252\u001b[0m | \u001b[1mINFO    \u001b[0m | \u001b[36mbenchmark\u001b[0m:\u001b[36msave\u001b[0m:\u001b[36m133\u001b[0m - \u001b[1m20의 샘플이 저장됩니다.\u001b[0m\n"
     ]
    }
   ],
   "source": [
    "benchmark.save()"
   ]
  },
  {
   "cell_type": "code",
   "execution_count": 12,
   "id": "462a28d1-01fd-46a6-b2ea-feb1f4682918",
   "metadata": {
    "execution": {
     "iopub.execute_input": "2024-09-08T11:00:34.077764Z",
     "iopub.status.busy": "2024-09-08T11:00:34.076664Z",
     "iopub.status.idle": "2024-09-08T11:00:34.097212Z",
     "shell.execute_reply": "2024-09-08T11:00:34.096745Z",
     "shell.execute_reply.started": "2024-09-08T11:00:34.077706Z"
    },
    "tags": []
   },
   "outputs": [
    {
     "data": {
      "text/plain": [
       "\"York for US$1.95 billion, making it the world's most expensive hotel ever sold.\""
      ]
     },
     "execution_count": 12,
     "metadata": {},
     "output_type": "execute_result"
    }
   ],
   "source": [
    "\"Manhattan was on track to have an estimated 90,000 hotel rooms at the end of 2014, a 10% increase from 2013. In October 2014, the Anbang Insurance Group, based in China, purchased the Waldorf Astoria New York for US$1.95 billion, making it the world's most expensive hotel ever sold.\"[204:]"
   ]
  },
  {
   "cell_type": "code",
   "execution_count": 1,
   "id": "255af776-b74b-4195-a6d8-e3629132bae7",
   "metadata": {
    "execution": {
     "iopub.execute_input": "2024-09-09T11:46:42.043135Z",
     "iopub.status.busy": "2024-09-09T11:46:42.042956Z",
     "iopub.status.idle": "2024-09-09T11:46:42.360345Z",
     "shell.execute_reply": "2024-09-09T11:46:42.360071Z",
     "shell.execute_reply.started": "2024-09-09T11:46:42.043111Z"
    },
    "tags": []
   },
   "outputs": [],
   "source": [
    "from gpt import chat"
   ]
  },
  {
   "cell_type": "code",
   "execution_count": 28,
   "id": "49ba3a40-f135-46b2-85b0-4c58acf4ecea",
   "metadata": {
    "execution": {
     "iopub.execute_input": "2024-09-09T12:17:07.521560Z",
     "iopub.status.busy": "2024-09-09T12:17:07.520815Z",
     "iopub.status.idle": "2024-09-09T12:17:12.974917Z",
     "shell.execute_reply": "2024-09-09T12:17:12.973242Z",
     "shell.execute_reply.started": "2024-09-09T12:17:07.521506Z"
    },
    "tags": []
   },
   "outputs": [],
   "source": [
    "response = chat(\"\"\"\n",
    "Why do natural yes/no questions require inference\n",
    "so often? We hypothesize that there are several\n",
    "factors. First, we notice factoid questions that ask\n",
    "about simple properties of entities, such as “Was\n",
    "Obama born in 1962?”, are rare. We suspect this\n",
    "is because people will almost always prefer to phrase such questions as short-answer questions\n",
    "(e.g., “When was Obama born?”). Thus, there\n",
    "is a natural filtering effect where people tend to\n",
    "use yes/no questions exactly when they want more\n",
    "complex kinds of information.\n",
    "Second, both the passages and questions rarely\n",
    "include negation. As a result, detecting a “no” answer typically requires understanding that a positive assertion in the text excludes, or makes unlikely, a positive assertion in the question. This\n",
    "requires reasoning that goes beyond paraphrasing (see the “Other-Inference” or “Implicit” examples).\n",
    "We also think it was important that annotators\n",
    "only had to answer questions, rather than generate\n",
    "them. For example, imagine trying to construct\n",
    "questions that fall into the categories of “Missing\n",
    "Mention” or “Implicit”. While possible, it would\n",
    "require a great deal of thought and creativity. On\n",
    "the other hand, detecting when a yes/no question can be answered using these strategies seems\n",
    "much easier and more intuitive. Thus, having annotators answer pre-existing questions opens the\n",
    "door to building datasets that contain more inference and have higher quality labels. \n",
    "\"\"\")"
   ]
  },
  {
   "cell_type": "code",
   "execution_count": 29,
   "id": "41ac2239-9ae1-4bf8-aa7f-7584c0eb27f2",
   "metadata": {
    "execution": {
     "iopub.execute_input": "2024-09-09T12:17:12.986236Z",
     "iopub.status.busy": "2024-09-09T12:17:12.985633Z",
     "iopub.status.idle": "2024-09-09T12:17:13.000235Z",
     "shell.execute_reply": "2024-09-09T12:17:12.999312Z",
     "shell.execute_reply.started": "2024-09-09T12:17:12.986202Z"
    },
    "tags": []
   },
   "outputs": [
    {
     "data": {
      "text/markdown": [
       "자연스러운 예/아니오 질문이 왜 그렇게 자주 추론을 필요로 할까요? 우리는 여러 요인이 있다고 가정합니다. 첫째, 우리는 \"오바마는 1962년에 태어났나요?\"와 같은 간단한 속성을 묻는 사실 질문이 드물다는 것을 알게 되었습니다. 우리는 사람들이 이러한 질문을 거의 항상 단답형 질문으로 표현하는 것을 선호하기 때문이라고 의심합니다 (예: \"오바마는 언제 태어났나요?\"). 따라서 사람들은 더 복잡한 종류의 정보를 원할 때 정확히 예/아니오 질문을 사용하는 경향이 있는 자연스러운 필터링 효과가 있습니다.  \n",
       "둘째, 본문과 질문 모두 부정을 거의 포함하지 않습니다. 결과적으로, \"아니오\"라는 답을 감지하려면 텍스트의 긍정적인 주장이 질문의 긍정적인 주장을 배제하거나 가능성을 낮춘다는 것을 이해해야 합니다. 이는 단순한 패러프레이징을 넘어서는 추론을 필요로 합니다 (\"다른 추론\" 또는 \"암시적\" 예시 참조).  \n",
       "또한 주석자가 질문을 생성하는 것이 아니라 질문에만 답해야 했다는 점이 중요하다고 생각합니다. 예를 들어, \"언급 누락\" 또는 \"암시적\" 범주에 속하는 질문을 구성하려고 상상해 보십시오. 가능하긴 하지만, 많은 생각과 창의력이 필요할 것입니다. 반면에, 이러한 전략을 사용하여 예/아니오 질문에 답할 수 있는지를 감지하는 것은 훨씬 더 쉽고 직관적입니다. 따라서 주석자가 기존 질문에 답하게 함으로써 더 많은 추론을 포함하고 더 높은 품질의 레이블을 가진 데이터셋을 구축할 수 있는 문이 열립니다.  \n"
      ],
      "text/plain": [
       "<IPython.core.display.Markdown object>"
      ]
     },
     "metadata": {},
     "output_type": "display_data"
    }
   ],
   "source": [
    "from IPython.display import Markdown\n",
    "display(Markdown(response))"
   ]
  },
  {
   "cell_type": "code",
   "execution_count": null,
   "id": "81116618-3a72-4827-9c60-12d535a9cefa",
   "metadata": {},
   "outputs": [],
   "source": []
  }
 ],
 "metadata": {
  "kernelspec": {
   "display_name": "Python 3 (ipykernel)",
   "language": "python",
   "name": "python3"
  },
  "language_info": {
   "codemirror_mode": {
    "name": "ipython",
    "version": 3
   },
   "file_extension": ".py",
   "mimetype": "text/x-python",
   "name": "python",
   "nbconvert_exporter": "python",
   "pygments_lexer": "ipython3",
   "version": "3.11.5"
  }
 },
 "nbformat": 4,
 "nbformat_minor": 5
}
